{
 "cells": [
  {
   "cell_type": "code",
   "execution_count": null,
   "metadata": {},
   "outputs": [],
   "source": [
    "import io\n",
    "from pathlib import Path\n",
    "import select\n",
    "from shutil import rmtree\n",
    "import subprocess as sp\n",
    "import sys\n",
    "from typing import Dict, Tuple, Optional, IO"
   ]
  },
  {
   "cell_type": "code",
   "execution_count": 1,
   "metadata": {},
   "outputs": [],
   "source": [
    "# Customize the following options!\n",
    "\n",
    "# available options: htdemucs: first version of Hybrid Transformer Demucs. Trained on MusDB + 800 songs. Default model.\n",
    "# htdemucs_ft: fine-tuned version of htdemucs, separation will take 4 times more time but might be a bit better. Same training set as htdemucs.\n",
    "# htdemucs_6s: 6 sources version of htdemucs, with piano and guitar being added as sources. Note that the piano source is not working great at the moment.\n",
    "# hdemucs_mmi: Hybrid Demucs v3, retrained on MusDB + 800 songs.\n",
    "# mdx: trained only on MusDB HQ, winning model on track A at the MDX challenge.\n",
    "# mdx_extra: trained with extra training data (including MusDB test set), ranked 2nd on the track B of the MDX challenge.\n",
    "# mdx_q, mdx_extra_q: quantized version of the previous models. Smaller download and storage but quality can be slightly worse.\n",
    "# SIG: where SIG is a single model from the model zoo.\n",
    "model = \"htdemucs\" \n",
    "\n",
    "extensions = [\"mp3\", \"wav\", \"ogg\", \"flac\"]  # we will look for all those file types.\n",
    "# two_stems = None   # only separate one stems from the rest, for instance\n",
    "two_stems = \"vocals\"\n",
    "\n",
    "# Options for the output audio.\n",
    "mp3 = True\n",
    "mp3_rate = 320\n",
    "float32 = False  # output as float 32 wavs, unsused if 'mp3' is True.\n",
    "int24 = False    # output as int24 wavs, unused if 'mp3' is True.\n",
    "# You cannot set both `float32 = True` and `int24 = True` !!\n",
    "\n",
    "in_path = 'demucs_preprocessed_input/quoc_master_1st_1000_preprocessed/' # Change to folder containing input songs files\n",
    "out_path = 'demucs_output/' # Change to folder location containing output songs files"
   ]
  },
  {
   "cell_type": "code",
   "execution_count": 2,
   "metadata": {},
   "outputs": [],
   "source": [
    "# Utility functions\n",
    "\n",
    "def find_files(in_path, out_path) -> list:\n",
    "    '''\n",
    "    Finds the difference in audio files between input and output directory.\n",
    "    Selects only the files only found in input folder. \n",
    "    '''\n",
    "    input = []\n",
    "    for file in Path(in_path).iterdir():\n",
    "        if file.suffix.lower().lstrip(\".\") in extensions:\n",
    "            input.append(file)\n",
    "    done = []\n",
    "    out_path = out_path + f'/{model}/'\n",
    "    for file in Path(out_path).iterdir():\n",
    "            done.append(file.name)\n",
    "    final = []\n",
    "    for file in input:\n",
    "        if file.stem not in done:\n",
    "            final.append(file)\n",
    "    return final\n",
    "\n",
    "def copy_process_streams(process: sp.Popen):\n",
    "    def raw(stream: Optional[IO[bytes]]) -> IO[bytes]:\n",
    "        assert stream is not None\n",
    "        if isinstance(stream, io.BufferedIOBase):\n",
    "            stream = stream.raw\n",
    "        return stream\n",
    "\n",
    "    p_stdout, p_stderr = raw(process.stdout), raw(process.stderr)\n",
    "    stream_by_fd: Dict[int, Tuple[IO[bytes], io.StringIO, IO[str]]] = {\n",
    "        p_stdout.fileno(): (p_stdout, sys.stdout),\n",
    "        p_stderr.fileno(): (p_stderr, sys.stderr),\n",
    "    }\n",
    "    fds = list(stream_by_fd.keys())\n",
    "\n",
    "    while fds:\n",
    "        # `select` syscall will wait until one of the file descriptors has content.\n",
    "        ready, _, _ = select.select(fds, [], [])\n",
    "        for fd in ready:\n",
    "            p_stream, std = stream_by_fd[fd]\n",
    "            raw_buf = p_stream.read(2 ** 16)\n",
    "            if not raw_buf:\n",
    "                fds.remove(fd)\n",
    "                continue\n",
    "            buf = raw_buf.decode()\n",
    "            std.write(buf)\n",
    "            std.flush()\n",
    "\n",
    "def separate(inp=None, outp=None):\n",
    "    inp = inp or in_path\n",
    "    outp = outp or out_path\n",
    "    cmd = [\"python3\", \"-m\", \"demucs.separate\", \"-o\", str(outp), \"-n\", model]\n",
    "    if mp3:\n",
    "        cmd += [\"--mp3\", f\"--mp3-bitrate={mp3_rate}\"]\n",
    "    if float32:\n",
    "        cmd += [\"--float32\"]\n",
    "    if int24:\n",
    "        cmd += [\"--int24\"]\n",
    "    if two_stems is not None:\n",
    "        cmd += [f\"--two-stems={two_stems}\"]\n",
    "    files = [str(f) for f in find_files(inp, outp)]\n",
    "    if not files:\n",
    "        print(f\"No valid audio files in {in_path}\")\n",
    "        return\n",
    "    print(\"Going to separate the files:\")\n",
    "    print('\\n'.join(files))\n",
    "    print(\"With command: \", \" \".join(cmd))\n",
    "    p = sp.Popen(cmd + files, stdout=sp.PIPE, stderr=sp.PIPE)\n",
    "    copy_process_streams(p)\n",
    "    p.wait()\n",
    "    if p.returncode != 0:\n",
    "        print(\"Command failed, something went wrong.\")\n",
    "\n",
    "\n",
    "# def from_upload():\n",
    "#     out_path = Path('separated')\n",
    "#     in_path = Path('tmp_in')\n",
    "\n",
    "#     if in_path.exists():\n",
    "#         rmtree(in_path)\n",
    "#     in_path.mkdir()\n",
    "\n",
    "#     if out_path.exists():\n",
    "#         rmtree(out_path)\n",
    "#     out_path.mkdir()\n",
    "\n",
    "#     uploaded = files.upload()\n",
    "#     for name, content in uploaded.items():\n",
    "#         (in_path / name).write_bytes(content)\n",
    "#     separate(in_path, out_path)"
   ]
  },
  {
   "cell_type": "code",
   "execution_count": 3,
   "metadata": {},
   "outputs": [
    {
     "name": "stdout",
     "output_type": "stream",
     "text": [
      "Going to separate the files:\n",
      "demucs_preprocessed_input/quoc_master_1st_1000_preprocessed/Tuyết Rơi Mùa Hè.mp3\n",
      "demucs_preprocessed_input/quoc_master_1st_1000_preprocessed/Ăn Năn Muộn Màng.mp3\n",
      "demucs_preprocessed_input/quoc_master_1st_1000_preprocessed/Có Chó Nó Yêu Mày.mp3\n",
      "demucs_preprocessed_input/quoc_master_1st_1000_preprocessed/Vợ Tương Lai.mp3\n",
      "demucs_preprocessed_input/quoc_master_1st_1000_preprocessed/Lời Hẹn Mùa Xuân.mp3\n",
      "demucs_preprocessed_input/quoc_master_1st_1000_preprocessed/Mẹ Của Tôi.mp3\n",
      "demucs_preprocessed_input/quoc_master_1st_1000_preprocessed/Ai Mang Em Trở Lại.mp3\n",
      "demucs_preprocessed_input/quoc_master_1st_1000_preprocessed/Ân Tình Chia Đôi.mp3\n",
      "demucs_preprocessed_input/quoc_master_1st_1000_preprocessed/Tình Nhớ.mp3\n",
      "demucs_preprocessed_input/quoc_master_1st_1000_preprocessed/Chim Vành Khuyên.mp3\n",
      "demucs_preprocessed_input/quoc_master_1st_1000_preprocessed/Cướp Vợ.mp3\n",
      "demucs_preprocessed_input/quoc_master_1st_1000_preprocessed/Tà áo tím.mp3\n",
      "demucs_preprocessed_input/quoc_master_1st_1000_preprocessed/Tình Đầu Phôi Pha.mp3\n",
      "demucs_preprocessed_input/quoc_master_1st_1000_preprocessed/Một Thoáng Suy Tư.mp3\n",
      "demucs_preprocessed_input/quoc_master_1st_1000_preprocessed/Mong Tình Yêu Trở Lại.mp3\n",
      "demucs_preprocessed_input/quoc_master_1st_1000_preprocessed/Cứ Ngỡ Là Em.mp3\n",
      "demucs_preprocessed_input/quoc_master_1st_1000_preprocessed/Bước Vào Tim Tôi Hút Hồn Tôi.mp3\n",
      "demucs_preprocessed_input/quoc_master_1st_1000_preprocessed/Con Đường Này Vắng Em.mp3\n",
      "demucs_preprocessed_input/quoc_master_1st_1000_preprocessed/Vì Anh Là Soái Ca.mp3\n",
      "demucs_preprocessed_input/quoc_master_1st_1000_preprocessed/Tình Cuối Xót Xa.mp3\n",
      "demucs_preprocessed_input/quoc_master_1st_1000_preprocessed/Chỉ Cần Có Nhau.mp3\n",
      "demucs_preprocessed_input/quoc_master_1st_1000_preprocessed/Bây Giờ Và Mãi Mãi.mp3\n",
      "demucs_preprocessed_input/quoc_master_1st_1000_preprocessed/2000 câu hỏi vì sao.mp3\n",
      "demucs_preprocessed_input/quoc_master_1st_1000_preprocessed/Mảnh Tơ Lòng.mp3\n",
      "demucs_preprocessed_input/quoc_master_1st_1000_preprocessed/Anh Đây Đừng Khóc.mp3\n",
      "demucs_preprocessed_input/quoc_master_1st_1000_preprocessed/Như Chiếc Lá Bay Vèo.mp3\n",
      "demucs_preprocessed_input/quoc_master_1st_1000_preprocessed/Không Gì Quan Trọng Hơn Có Em (Beat).mp3\n",
      "demucs_preprocessed_input/quoc_master_1st_1000_preprocessed/Hãy làm điều đó nếu em vui.mp3\n",
      "demucs_preprocessed_input/quoc_master_1st_1000_preprocessed/Baby Em Nhớ Anh.mp3\n",
      "demucs_preprocessed_input/quoc_master_1st_1000_preprocessed/Những Điều Hạnh Phúc.mp3\n",
      "demucs_preprocessed_input/quoc_master_1st_1000_preprocessed/Chỉ Là Thoáng Qua.mp3\n",
      "demucs_preprocessed_input/quoc_master_1st_1000_preprocessed/Anh Xin Em Đừng.mp3\n",
      "demucs_preprocessed_input/quoc_master_1st_1000_preprocessed/Khói Sương.mp3\n",
      "demucs_preprocessed_input/quoc_master_1st_1000_preprocessed/Dĩ Vãng Không Thể Quên.mp3\n",
      "demucs_preprocessed_input/quoc_master_1st_1000_preprocessed/Điều Ước Tình Yêu.mp3\n",
      "demucs_preprocessed_input/quoc_master_1st_1000_preprocessed/Nhắm Mắt Cho Qua.mp3\n",
      "demucs_preprocessed_input/quoc_master_1st_1000_preprocessed/Ngày Mình Hạnh Phúc.mp3\n",
      "demucs_preprocessed_input/quoc_master_1st_1000_preprocessed/Hãy Sống Cùng Tình Yêu (slow version).mp3\n",
      "demucs_preprocessed_input/quoc_master_1st_1000_preprocessed/RA GIÊNG ANH CƯỚI EM (Lofi Mix).mp3\n",
      "demucs_preprocessed_input/quoc_master_1st_1000_preprocessed/Tình Yêu Rất Lạ.mp3\n",
      "demucs_preprocessed_input/quoc_master_1st_1000_preprocessed/Anh Sẽ Đến Bên Em.mp3\n",
      "demucs_preprocessed_input/quoc_master_1st_1000_preprocessed/Đau Lắm (Remix).mp3\n",
      "demucs_preprocessed_input/quoc_master_1st_1000_preprocessed/Bỉ Ngạn.mp3\n",
      "demucs_preprocessed_input/quoc_master_1st_1000_preprocessed/Miền Thùy Dương Dấu Yêu.mp3\n",
      "demucs_preprocessed_input/quoc_master_1st_1000_preprocessed/Vậy Là Em Sai.mp3\n",
      "demucs_preprocessed_input/quoc_master_1st_1000_preprocessed/Đến Gần Em.mp3\n",
      "demucs_preprocessed_input/quoc_master_1st_1000_preprocessed/Em Quá Vô Tâm.mp3\n",
      "demucs_preprocessed_input/quoc_master_1st_1000_preprocessed/Em Nhớ Anh Nhiều.mp3\n",
      "demucs_preprocessed_input/quoc_master_1st_1000_preprocessed/Hãy Một Lần Yêu.mp3\n",
      "demucs_preprocessed_input/quoc_master_1st_1000_preprocessed/Em Về Trong Mơ.mp3\n",
      "demucs_preprocessed_input/quoc_master_1st_1000_preprocessed/Xuân Của Công Nhân.mp3\n",
      "demucs_preprocessed_input/quoc_master_1st_1000_preprocessed/Cuộc Đời Phía Trước.mp3\n",
      "demucs_preprocessed_input/quoc_master_1st_1000_preprocessed/Cánh Hoa Pansse.mp3\n",
      "demucs_preprocessed_input/quoc_master_1st_1000_preprocessed/Mỉm Cười Khi Anh Ra Đi.mp3\n",
      "demucs_preprocessed_input/quoc_master_1st_1000_preprocessed/Cảm Ơn Đời Cảm Ơn Em.mp3\n",
      "demucs_preprocessed_input/quoc_master_1st_1000_preprocessed/Bé Mèo Của Bố Mẹ.mp3\n",
      "demucs_preprocessed_input/quoc_master_1st_1000_preprocessed/Bờm Có Quạt Mo.mp3\n",
      "demucs_preprocessed_input/quoc_master_1st_1000_preprocessed/Như Vẫn Còn Yêu.mp3\n",
      "demucs_preprocessed_input/quoc_master_1st_1000_preprocessed/Em về tinh khôi.mp3\n",
      "demucs_preprocessed_input/quoc_master_1st_1000_preprocessed/Cả Một Đời Người Xin Mượn Một Đoạn Đường.mp3\n",
      "demucs_preprocessed_input/quoc_master_1st_1000_preprocessed/Ràng Buộc.mp3\n",
      "demucs_preprocessed_input/quoc_master_1st_1000_preprocessed/Là Bao Xa.mp3\n",
      "demucs_preprocessed_input/quoc_master_1st_1000_preprocessed/Vui Trong Ngày Cưới.mp3\n",
      "demucs_preprocessed_input/quoc_master_1st_1000_preprocessed/Không Nói Nên Lời.mp3\n",
      "demucs_preprocessed_input/quoc_master_1st_1000_preprocessed/Bé Đi Học.mp3\n",
      "demucs_preprocessed_input/quoc_master_1st_1000_preprocessed/Đang Yên Đang Lành.mp3\n",
      "demucs_preprocessed_input/quoc_master_1st_1000_preprocessed/Bài Ca Cô Thợ Dệt.mp3\n",
      "demucs_preprocessed_input/quoc_master_1st_1000_preprocessed/Hoa Cài Mái Tóc (DJ Remix).mp3\n",
      "demucs_preprocessed_input/quoc_master_1st_1000_preprocessed/Đô Thị (The Remix 2017).mp3\n",
      "demucs_preprocessed_input/quoc_master_1st_1000_preprocessed/Vai Áo Phù Sa (Orinn Remix).mp3\n",
      "demucs_preprocessed_input/quoc_master_1st_1000_preprocessed/Hôm Nay Anh Đang Làm Gì？ (Beat).mp3\n",
      "demucs_preprocessed_input/quoc_master_1st_1000_preprocessed/Chỉ Sợ Em Thành Núi Biếc.mp3\n",
      "demucs_preprocessed_input/quoc_master_1st_1000_preprocessed/Cảm Xúc Em Qua Chưa.mp3\n",
      "demucs_preprocessed_input/quoc_master_1st_1000_preprocessed/Hãy Nói Anh Nghe.mp3\n",
      "demucs_preprocessed_input/quoc_master_1st_1000_preprocessed/Bài Tình Ca Giê-Su.mp3\n",
      "demucs_preprocessed_input/quoc_master_1st_1000_preprocessed/Có Một Người Để Yêu (Beat).mp3\n",
      "demucs_preprocessed_input/quoc_master_1st_1000_preprocessed/Bông Hồng Gai (Beat).mp3\n",
      "demucs_preprocessed_input/quoc_master_1st_1000_preprocessed/Gọi Tôi Hà Nội.mp3\n",
      "demucs_preprocessed_input/quoc_master_1st_1000_preprocessed/Trở Lại Huế Xưa.mp3\n",
      "demucs_preprocessed_input/quoc_master_1st_1000_preprocessed/Cháu Xin Lỗi Chú.mp3\n",
      "demucs_preprocessed_input/quoc_master_1st_1000_preprocessed/Cưới Em Thôi.mp3\n",
      "demucs_preprocessed_input/quoc_master_1st_1000_preprocessed/Chưa Kịp Nói Lời Yêu (Remix).mp3\n",
      "demucs_preprocessed_input/quoc_master_1st_1000_preprocessed/Lặng Lẽ Ra Đi.mp3\n",
      "demucs_preprocessed_input/quoc_master_1st_1000_preprocessed/Đêm Chia Xa.mp3\n",
      "demucs_preprocessed_input/quoc_master_1st_1000_preprocessed/Anh Em Thua Một Người Dưng.mp3\n",
      "demucs_preprocessed_input/quoc_master_1st_1000_preprocessed/Có Ai Khi Yêu.mp3\n",
      "demucs_preprocessed_input/quoc_master_1st_1000_preprocessed/Yêu Là Phải Chờ Đợi (Beat).mp3\n",
      "demucs_preprocessed_input/quoc_master_1st_1000_preprocessed/Khóc Cho Yêu Thương.mp3\n",
      "demucs_preprocessed_input/quoc_master_1st_1000_preprocessed/Đà Lạt Thật Buồn Khi Không Anh.mp3\n",
      "demucs_preprocessed_input/quoc_master_1st_1000_preprocessed/Tơ Hồng Tình Đã Se Duyên.mp3\n",
      "demucs_preprocessed_input/quoc_master_1st_1000_preprocessed/Tâm Sự Cùng Người Lạ (Beat).mp3\n",
      "demucs_preprocessed_input/quoc_master_1st_1000_preprocessed/Bên Đời Lẻ Loi.mp3\n",
      "demucs_preprocessed_input/quoc_master_1st_1000_preprocessed/Chén Rượu Đêm Xuân.mp3\n",
      "demucs_preprocessed_input/quoc_master_1st_1000_preprocessed/Giáng Sinh Để Nói.mp3\n",
      "demucs_preprocessed_input/quoc_master_1st_1000_preprocessed/Kẻ Theo Đuổi Ánh Sáng (Lofi).mp3\n",
      "demucs_preprocessed_input/quoc_master_1st_1000_preprocessed/Ít Nhưng Dài Lâu (Nam Con Remix).mp3\n",
      "demucs_preprocessed_input/quoc_master_1st_1000_preprocessed/Chuyện Tình Yêu.mp3\n",
      "demucs_preprocessed_input/quoc_master_1st_1000_preprocessed/Kết Thúc Ngơ Ngác (Piano Version).mp3\n",
      "demucs_preprocessed_input/quoc_master_1st_1000_preprocessed/Đánh Rơi Tình Yêu.mp3\n",
      "demucs_preprocessed_input/quoc_master_1st_1000_preprocessed/Điều Muộn Màng Chưa Nói.mp3\n",
      "demucs_preprocessed_input/quoc_master_1st_1000_preprocessed/Cuộc Tình Trong Mơ.mp3\n",
      "demucs_preprocessed_input/quoc_master_1st_1000_preprocessed/Dịu Dàng Mùa Xuân.mp3\n",
      "demucs_preprocessed_input/quoc_master_1st_1000_preprocessed/Tuổi Mộng Mơ.mp3\n",
      "demucs_preprocessed_input/quoc_master_1st_1000_preprocessed/Con Đường Tình Ta Đi & Trả Lại Em Yêu.mp3\n",
      "demucs_preprocessed_input/quoc_master_1st_1000_preprocessed/Em Hãy Cứ Đi Đi.mp3\n",
      "demucs_preprocessed_input/quoc_master_1st_1000_preprocessed/Ảo Ảnh (BLUE REMIX).mp3\n",
      "demucs_preprocessed_input/quoc_master_1st_1000_preprocessed/Em Là Người Thứ Mấy.mp3\n",
      "demucs_preprocessed_input/quoc_master_1st_1000_preprocessed/Chuyện Tình Núi Đôi.mp3\n",
      "demucs_preprocessed_input/quoc_master_1st_1000_preprocessed/Chia Tay Em Nhé.mp3\n",
      "demucs_preprocessed_input/quoc_master_1st_1000_preprocessed/Ma Lực Đồng Tiền.mp3\n",
      "demucs_preprocessed_input/quoc_master_1st_1000_preprocessed/Chỉ Có Thể Là Em (Remix).mp3\n",
      "demucs_preprocessed_input/quoc_master_1st_1000_preprocessed/Ai Lên Sứ Hoa Đào.mp3\n",
      "demucs_preprocessed_input/quoc_master_1st_1000_preprocessed/Tiễn Anh Về Nơi Xa.mp3\n",
      "demucs_preprocessed_input/quoc_master_1st_1000_preprocessed/Chạm Vào Hơi Thở.mp3\n",
      "demucs_preprocessed_input/quoc_master_1st_1000_preprocessed/Câu Tre Lắt Lẻo.mp3\n",
      "demucs_preprocessed_input/quoc_master_1st_1000_preprocessed/Ngôi Sao Cảm.mp3\n",
      "demucs_preprocessed_input/quoc_master_1st_1000_preprocessed/Tình Đã Hao Gầy.mp3\n",
      "demucs_preprocessed_input/quoc_master_1st_1000_preprocessed/Mất Em Thật Rồi (Remix) (Beat).mp3\n",
      "demucs_preprocessed_input/quoc_master_1st_1000_preprocessed/Anh Có Về Đây Với Em (Remix).mp3\n",
      "demucs_preprocessed_input/quoc_master_1st_1000_preprocessed/Đi Qua Những Mùa Mưa Bay.mp3\n",
      "demucs_preprocessed_input/quoc_master_1st_1000_preprocessed/Twist Tình Yêu.mp3\n",
      "demucs_preprocessed_input/quoc_master_1st_1000_preprocessed/Tình Lỡ.mp3\n",
      "demucs_preprocessed_input/quoc_master_1st_1000_preprocessed/Cho Anh Xin Em Một Cơ Hội.mp3\n",
      "demucs_preprocessed_input/quoc_master_1st_1000_preprocessed/Không Thể Giữ Được Em (Khách Mời).mp3\n",
      "demucs_preprocessed_input/quoc_master_1st_1000_preprocessed/Yêu Vì Yêu.mp3\n",
      "demucs_preprocessed_input/quoc_master_1st_1000_preprocessed/Giây Phút Chia Xa (Nhạc Sống Hà Tây).mp3\n",
      "demucs_preprocessed_input/quoc_master_1st_1000_preprocessed/Bước Vu Quy.mp3\n",
      "demucs_preprocessed_input/quoc_master_1st_1000_preprocessed/Mùa Xuân Em Hát.mp3\n",
      "demucs_preprocessed_input/quoc_master_1st_1000_preprocessed/Đêm Lang Thang.mp3\n",
      "demucs_preprocessed_input/quoc_master_1st_1000_preprocessed/Công Dã Tràng.mp3\n",
      "demucs_preprocessed_input/quoc_master_1st_1000_preprocessed/Nếu Như Ngày Xưa.mp3\n",
      "demucs_preprocessed_input/quoc_master_1st_1000_preprocessed/Vẫn Nồng Nàn Tình Quê.mp3\n",
      "demucs_preprocessed_input/quoc_master_1st_1000_preprocessed/Anh Chẳng Thể.mp3\n",
      "demucs_preprocessed_input/quoc_master_1st_1000_preprocessed/Đâu Phải Chỉ Vì Nhớ.mp3\n",
      "demucs_preprocessed_input/quoc_master_1st_1000_preprocessed/Tôi Tin Anh.mp3\n",
      "demucs_preprocessed_input/quoc_master_1st_1000_preprocessed/Hãy Nói Lời Yêu Em.mp3\n",
      "demucs_preprocessed_input/quoc_master_1st_1000_preprocessed/Cái Giá Của Sự Trưởng Thành.mp3\n",
      "demucs_preprocessed_input/quoc_master_1st_1000_preprocessed/Mùa Nhớ Em.mp3\n",
      "demucs_preprocessed_input/quoc_master_1st_1000_preprocessed/Anh Chờ Em.mp3\n",
      "demucs_preprocessed_input/quoc_master_1st_1000_preprocessed/Mưa Đừng Rơi Nữa.mp3\n",
      "demucs_preprocessed_input/quoc_master_1st_1000_preprocessed/Bao Giờ Em Thôi Nói Yêu Anh.mp3\n",
      "demucs_preprocessed_input/quoc_master_1st_1000_preprocessed/Chiều Tà.mp3\n",
      "demucs_preprocessed_input/quoc_master_1st_1000_preprocessed/Người Gian Dối Em Không Cần.mp3\n",
      "demucs_preprocessed_input/quoc_master_1st_1000_preprocessed/Bạc Lòng.mp3\n",
      "demucs_preprocessed_input/quoc_master_1st_1000_preprocessed/Bồ Tát Quan Thế Âm.mp3\n",
      "demucs_preprocessed_input/quoc_master_1st_1000_preprocessed/Mãi Có Anh (Only You).mp3\n",
      "demucs_preprocessed_input/quoc_master_1st_1000_preprocessed/Muốn Làm Lại Người Tốt.mp3\n",
      "demucs_preprocessed_input/quoc_master_1st_1000_preprocessed/Ly Rượu Mừng (2024 Version).mp3\n",
      "demucs_preprocessed_input/quoc_master_1st_1000_preprocessed/Giấc Mơ Bên Người.mp3\n",
      "demucs_preprocessed_input/quoc_master_1st_1000_preprocessed/Không Yêu Thì Thôi.mp3\n",
      "demucs_preprocessed_input/quoc_master_1st_1000_preprocessed/Buồn Như Kiếp Tằm.mp3\n",
      "demucs_preprocessed_input/quoc_master_1st_1000_preprocessed/Cung Đàn Buồn.mp3\n",
      "demucs_preprocessed_input/quoc_master_1st_1000_preprocessed/LK Bến Thượng Hải (Liveshow).mp3\n",
      "demucs_preprocessed_input/quoc_master_1st_1000_preprocessed/Chuyện Tình Không Mang Tên.mp3\n",
      "demucs_preprocessed_input/quoc_master_1st_1000_preprocessed/Kí Ức Trong Tôi.mp3\n",
      "demucs_preprocessed_input/quoc_master_1st_1000_preprocessed/Mới Biết Yêu.mp3\n",
      "demucs_preprocessed_input/quoc_master_1st_1000_preprocessed/Biết Nói Sao Người Hỡi.mp3\n",
      "demucs_preprocessed_input/quoc_master_1st_1000_preprocessed/Con Bướm Xuân (Beat).mp3\n",
      "demucs_preprocessed_input/quoc_master_1st_1000_preprocessed/Vượt Lên Chính Mình.mp3\n",
      "demucs_preprocessed_input/quoc_master_1st_1000_preprocessed/Cuối Ngày.mp3\n",
      "demucs_preprocessed_input/quoc_master_1st_1000_preprocessed/Đồng Tiền Rẽ Lối (Parody).mp3\n",
      "demucs_preprocessed_input/quoc_master_1st_1000_preprocessed/Ước Mơ Của Mẹ.mp3\n",
      "demucs_preprocessed_input/quoc_master_1st_1000_preprocessed/Giấc Mộng Vàng.mp3\n",
      "demucs_preprocessed_input/quoc_master_1st_1000_preprocessed/Đau Nhất Là Yêu Nhiều Hơn.mp3\n",
      "demucs_preprocessed_input/quoc_master_1st_1000_preprocessed/Bé Về Đâu Bé Ơi.mp3\n",
      "demucs_preprocessed_input/quoc_master_1st_1000_preprocessed/Tình Hồng Phai.mp3\n",
      "demucs_preprocessed_input/quoc_master_1st_1000_preprocessed/Liên Khúc Bolero.mp3\n",
      "demucs_preprocessed_input/quoc_master_1st_1000_preprocessed/Chờ Anh Nói Một Lời.mp3\n",
      "demucs_preprocessed_input/quoc_master_1st_1000_preprocessed/Bông Hồng Thủy Tinh.mp3\n",
      "demucs_preprocessed_input/quoc_master_1st_1000_preprocessed/Em Quá Đáng Lắm Luôn Á.mp3\n",
      "demucs_preprocessed_input/quoc_master_1st_1000_preprocessed/Mẹ Ơi Con Là Ai.mp3\n",
      "demucs_preprocessed_input/quoc_master_1st_1000_preprocessed/Mượn Đôi Tay Ấm.mp3\n",
      "demucs_preprocessed_input/quoc_master_1st_1000_preprocessed/Đêm Sầu Đời.mp3\n",
      "demucs_preprocessed_input/quoc_master_1st_1000_preprocessed/Xem Như Anh Chẳng May - Ngọt Ngào Đến Mấy Cũng Tan Thành Mây (Remix).mp3\n",
      "demucs_preprocessed_input/quoc_master_1st_1000_preprocessed/E Là Không Thể.mp3\n",
      "demucs_preprocessed_input/quoc_master_1st_1000_preprocessed/Mưa Đêm.mp3\n",
      "demucs_preprocessed_input/quoc_master_1st_1000_preprocessed/Bạn Là Thế Nhé.mp3\n",
      "demucs_preprocessed_input/quoc_master_1st_1000_preprocessed/Còn Yêu Hãy Về Với Nhau (T-Bag Remix).mp3\n",
      "demucs_preprocessed_input/quoc_master_1st_1000_preprocessed/Cần Một Hơi Ấm.mp3\n",
      "demucs_preprocessed_input/quoc_master_1st_1000_preprocessed/Cho Đến Khi Trời Đất Sụp Đổ.mp3\n",
      "demucs_preprocessed_input/quoc_master_1st_1000_preprocessed/Tập Yêu Đi.mp3\n",
      "demucs_preprocessed_input/quoc_master_1st_1000_preprocessed/Chuyện Tình Anh Bán Chiếu.mp3\n",
      "demucs_preprocessed_input/quoc_master_1st_1000_preprocessed/Anh Không Cần Là Người Đầu Tiên.mp3\n",
      "demucs_preprocessed_input/quoc_master_1st_1000_preprocessed/Hạ Trắng.mp3\n",
      "demucs_preprocessed_input/quoc_master_1st_1000_preprocessed/4 Phút 20 Giây (Về Nhà Với Anh Đi).mp3\n",
      "demucs_preprocessed_input/quoc_master_1st_1000_preprocessed/Nếu Mình Yêu Nhau.mp3\n",
      "demucs_preprocessed_input/quoc_master_1st_1000_preprocessed/Ghép Môi.mp3\n",
      "demucs_preprocessed_input/quoc_master_1st_1000_preprocessed/Chiếc Khăn Tang.mp3\n",
      "demucs_preprocessed_input/quoc_master_1st_1000_preprocessed/Bốn Mươi Mùa Thu Qua.mp3\n",
      "demucs_preprocessed_input/quoc_master_1st_1000_preprocessed/Khúc Tâm Tình Người Hà Tĩnh.mp3\n",
      "demucs_preprocessed_input/quoc_master_1st_1000_preprocessed/Xuân Bên Anh.mp3\n",
      "demucs_preprocessed_input/quoc_master_1st_1000_preprocessed/Mùi Hương.mp3\n",
      "demucs_preprocessed_input/quoc_master_1st_1000_preprocessed/Mất Nhau Rồi Có Nhau.mp3\n",
      "demucs_preprocessed_input/quoc_master_1st_1000_preprocessed/Lk Phải Lòng Con Gái Bến Tre Áo Mới Cà Mau.mp3\n",
      "demucs_preprocessed_input/quoc_master_1st_1000_preprocessed/Anh Biết Anh Sai Em Ơi.mp3\n",
      "demucs_preprocessed_input/quoc_master_1st_1000_preprocessed/Cảm Ơn Anh.mp3\n",
      "demucs_preprocessed_input/quoc_master_1st_1000_preprocessed/Sao Em Vô Tình.mp3\n",
      "demucs_preprocessed_input/quoc_master_1st_1000_preprocessed/Bài Ca Tết Cho Em (2024 Version).mp3\n",
      "demucs_preprocessed_input/quoc_master_1st_1000_preprocessed/Cú Sốc.mp3\n",
      "demucs_preprocessed_input/quoc_master_1st_1000_preprocessed/Tôi Xa Người Yêu.mp3\n",
      "demucs_preprocessed_input/quoc_master_1st_1000_preprocessed/Ngày Mai Người Ta Lấy Chồng (Remix).mp3\n",
      "demucs_preprocessed_input/quoc_master_1st_1000_preprocessed/Cố Giữ Hay Phải Quên Đi.mp3\n",
      "demucs_preprocessed_input/quoc_master_1st_1000_preprocessed/Để Em Sống.mp3\n",
      "demucs_preprocessed_input/quoc_master_1st_1000_preprocessed/Tặng Em Bài Ca Niệm Phật.mp3\n",
      "demucs_preprocessed_input/quoc_master_1st_1000_preprocessed/Chiếc Gối Ôm.mp3\n",
      "demucs_preprocessed_input/quoc_master_1st_1000_preprocessed/Kỷ Nguyên Kiếm Sĩ.mp3\n",
      "demucs_preprocessed_input/quoc_master_1st_1000_preprocessed/Cả Đời Thương Em (WRC REMIX).mp3\n",
      "demucs_preprocessed_input/quoc_master_1st_1000_preprocessed/Em LÀ Ánh Dương.mp3\n",
      "demucs_preprocessed_input/quoc_master_1st_1000_preprocessed/Hoài Niệm Chôn Sâu.mp3\n",
      "demucs_preprocessed_input/quoc_master_1st_1000_preprocessed/Tự Hào Thành Phố Mang Tên Người.mp3\n",
      "demucs_preprocessed_input/quoc_master_1st_1000_preprocessed/Đành Để Em Đi.mp3\n",
      "demucs_preprocessed_input/quoc_master_1st_1000_preprocessed/Điều Anh Sợ.mp3\n",
      "demucs_preprocessed_input/quoc_master_1st_1000_preprocessed/Tiến Lên Việt Nam Ơi.mp3\n",
      "demucs_preprocessed_input/quoc_master_1st_1000_preprocessed/Xuân Là Để Yêu.mp3\n",
      "demucs_preprocessed_input/quoc_master_1st_1000_preprocessed/Ngựa Ô Thương Nhớ.mp3\n",
      "demucs_preprocessed_input/quoc_master_1st_1000_preprocessed/Con Đường Mây Trắng.mp3\n",
      "demucs_preprocessed_input/quoc_master_1st_1000_preprocessed/Hoài Cổ.mp3\n",
      "demucs_preprocessed_input/quoc_master_1st_1000_preprocessed/Tình Yêu Không Thể Từ Một Phía.mp3\n",
      "demucs_preprocessed_input/quoc_master_1st_1000_preprocessed/Bước Tiến Bước.mp3\n",
      "demucs_preprocessed_input/quoc_master_1st_1000_preprocessed/Sống Buồn.mp3\n",
      "demucs_preprocessed_input/quoc_master_1st_1000_preprocessed/Lá Diêu Bông.mp3\n",
      "demucs_preprocessed_input/quoc_master_1st_1000_preprocessed/Chào Cô Bé.mp3\n",
      "demucs_preprocessed_input/quoc_master_1st_1000_preprocessed/Một Thưở Hè Qua.mp3\n",
      "demucs_preprocessed_input/quoc_master_1st_1000_preprocessed/Tôi Khóc Cho Em Ai Khóc Cho Tôi Remix.mp3\n",
      "demucs_preprocessed_input/quoc_master_1st_1000_preprocessed/Thiên Đường Cho Em.mp3\n",
      "demucs_preprocessed_input/quoc_master_1st_1000_preprocessed/Tron Kiep La Anh Em.mp3\n",
      "demucs_preprocessed_input/quoc_master_1st_1000_preprocessed/Giấc Mơ Tuyết Trắng (Acoustic Version).mp3\n",
      "demucs_preprocessed_input/quoc_master_1st_1000_preprocessed/Chơi Vơi Giữa Trời (Remix).mp3\n",
      "demucs_preprocessed_input/quoc_master_1st_1000_preprocessed/Hà Nội Huế Sài Gòn.mp3\n",
      "demucs_preprocessed_input/quoc_master_1st_1000_preprocessed/AY DA.mp3\n",
      "demucs_preprocessed_input/quoc_master_1st_1000_preprocessed/Khúc Tương Tư.mp3\n",
      "demucs_preprocessed_input/quoc_master_1st_1000_preprocessed/Mong Gặp Lại Em.mp3\n",
      "demucs_preprocessed_input/quoc_master_1st_1000_preprocessed/Tình Đắng Lý Cây Bần.mp3\n",
      "demucs_preprocessed_input/quoc_master_1st_1000_preprocessed/Giọt Chiều.mp3\n",
      "demucs_preprocessed_input/quoc_master_1st_1000_preprocessed/Tâm Hồn Là Vĩnh Cửu.mp3\n",
      "demucs_preprocessed_input/quoc_master_1st_1000_preprocessed/Sống Với Ước Mơ.mp3\n",
      "demucs_preprocessed_input/quoc_master_1st_1000_preprocessed/Yêu Mãi Xuân Ơi.mp3\n",
      "demucs_preprocessed_input/quoc_master_1st_1000_preprocessed/Một Lần Về Với Biển.mp3\n",
      "demucs_preprocessed_input/quoc_master_1st_1000_preprocessed/Người Không Cần Yêu.mp3\n",
      "demucs_preprocessed_input/quoc_master_1st_1000_preprocessed/Như Giọt Mưa Rơi.mp3\n",
      "demucs_preprocessed_input/quoc_master_1st_1000_preprocessed/Chờ Ai Đêm Giáng Sinh.mp3\n",
      "demucs_preprocessed_input/quoc_master_1st_1000_preprocessed/Có Bao Giờ Em Sợ Mất Anh.mp3\n",
      "demucs_preprocessed_input/quoc_master_1st_1000_preprocessed/Lồng Đèn Ngôi Sao.mp3\n",
      "demucs_preprocessed_input/quoc_master_1st_1000_preprocessed/Đời Thế Mà.mp3\n",
      "demucs_preprocessed_input/quoc_master_1st_1000_preprocessed/Trong Gió Có Đám Mây Làm Từ Mưa.mp3\n",
      "demucs_preprocessed_input/quoc_master_1st_1000_preprocessed/Người Đó Không Phải Anh.mp3\n",
      "demucs_preprocessed_input/quoc_master_1st_1000_preprocessed/Ba Đứa Bạn Nghèo.mp3\n",
      "demucs_preprocessed_input/quoc_master_1st_1000_preprocessed/Cả Một Đời Để Quên (Meme Lofi).mp3\n",
      "demucs_preprocessed_input/quoc_master_1st_1000_preprocessed/Xin Em Đừng Khóc.mp3\n",
      "demucs_preprocessed_input/quoc_master_1st_1000_preprocessed/Xin Đừng Bỏ Mặc Em.mp3\n",
      "demucs_preprocessed_input/quoc_master_1st_1000_preprocessed/Goodbye Tình Anh.mp3\n",
      "demucs_preprocessed_input/quoc_master_1st_1000_preprocessed/Vẫn Còn Yêu.mp3\n",
      "demucs_preprocessed_input/quoc_master_1st_1000_preprocessed/Chúc mừng năm mới.mp3\n",
      "demucs_preprocessed_input/quoc_master_1st_1000_preprocessed/Lk Send Me An Angel, So Sad, Một Mai Em Rời Xa.mp3\n",
      "demucs_preprocessed_input/quoc_master_1st_1000_preprocessed/Cẩm Phả Quê Tôi (Remix).mp3\n",
      "demucs_preprocessed_input/quoc_master_1st_1000_preprocessed/Chung Tay Quét Sạch Corona.mp3\n",
      "demucs_preprocessed_input/quoc_master_1st_1000_preprocessed/Mưa Riêng Anh.mp3\n",
      "demucs_preprocessed_input/quoc_master_1st_1000_preprocessed/Đứng Sau Một Cuộc Tình.mp3\n",
      "demucs_preprocessed_input/quoc_master_1st_1000_preprocessed/Kẻ Đa Tình.mp3\n",
      "demucs_preprocessed_input/quoc_master_1st_1000_preprocessed/Anh Đứng Đây Từ Giờ Tới Mai.mp3\n",
      "demucs_preprocessed_input/quoc_master_1st_1000_preprocessed/Liên Khúc： Nụ Hôn Mùa Xuân.mp3\n",
      "demucs_preprocessed_input/quoc_master_1st_1000_preprocessed/Nụ Hôn Trở Lại.mp3\n",
      "demucs_preprocessed_input/quoc_master_1st_1000_preprocessed/Buồn Mà Chi Em.mp3\n",
      "demucs_preprocessed_input/quoc_master_1st_1000_preprocessed/In Sâu Trong Đáy Tim.mp3\n",
      "demucs_preprocessed_input/quoc_master_1st_1000_preprocessed/Vọng Kim Lang & Bậu Ði Theo Người.mp3\n",
      "demucs_preprocessed_input/quoc_master_1st_1000_preprocessed/Lỗi Ở Nơi Anh.mp3\n",
      "demucs_preprocessed_input/quoc_master_1st_1000_preprocessed/Hạnh Phúc Quanh Đây.mp3\n",
      "demucs_preprocessed_input/quoc_master_1st_1000_preprocessed/Yêu Cần Phải Cưới.mp3\n",
      "demucs_preprocessed_input/quoc_master_1st_1000_preprocessed/Giấc Mơ Bên Anh.mp3\n",
      "demucs_preprocessed_input/quoc_master_1st_1000_preprocessed/Liên Khúc Đón Xuân.mp3\n",
      "demucs_preprocessed_input/quoc_master_1st_1000_preprocessed/Rồi Mình Sẽ Hạnh Phúc (Qinn Remix).mp3\n",
      "demucs_preprocessed_input/quoc_master_1st_1000_preprocessed/Khi Tình Yêu Bay Xa.mp3\n",
      "demucs_preprocessed_input/quoc_master_1st_1000_preprocessed/Chiếc Lá Cuối Cùng.mp3\n",
      "demucs_preprocessed_input/quoc_master_1st_1000_preprocessed/Anh Sai Không Phải Do Em Part2.mp3\n",
      "demucs_preprocessed_input/quoc_master_1st_1000_preprocessed/Tình Cờ Gặp Lại.mp3\n",
      "demucs_preprocessed_input/quoc_master_1st_1000_preprocessed/Em Là ánh Sao Băng.mp3\n",
      "demucs_preprocessed_input/quoc_master_1st_1000_preprocessed/Một Đôi Cánh.mp3\n",
      "demucs_preprocessed_input/quoc_master_1st_1000_preprocessed/Mưa Trên Cuộc Tình.mp3\n",
      "demucs_preprocessed_input/quoc_master_1st_1000_preprocessed/Liên Khúc Daddy Cool.mp3\n",
      "demucs_preprocessed_input/quoc_master_1st_1000_preprocessed/Chuyện Tình Sầu Riêng Anh.mp3\n",
      "demucs_preprocessed_input/quoc_master_1st_1000_preprocessed/Hoang Vu.mp3\n",
      "demucs_preprocessed_input/quoc_master_1st_1000_preprocessed/Cảm Giác Khi Bên Em.mp3\n",
      "demucs_preprocessed_input/quoc_master_1st_1000_preprocessed/Đừng trách em tội nghiệp.mp3\n",
      "demucs_preprocessed_input/quoc_master_1st_1000_preprocessed/Bờm Ơi.mp3\n",
      "demucs_preprocessed_input/quoc_master_1st_1000_preprocessed/Anh Ghét Mình Vì Còn Nhớ Em.mp3\n",
      "demucs_preprocessed_input/quoc_master_1st_1000_preprocessed/Tình Online Không Có Ngày Mai.mp3\n",
      "demucs_preprocessed_input/quoc_master_1st_1000_preprocessed/Chỉ Khi Mất Đi.mp3\n",
      "demucs_preprocessed_input/quoc_master_1st_1000_preprocessed/Làm Sao Để Giữ Yêu Thương.mp3\n",
      "demucs_preprocessed_input/quoc_master_1st_1000_preprocessed/Liên Khúc Hào Khí Việt Nam.mp3\n",
      "demucs_preprocessed_input/quoc_master_1st_1000_preprocessed/Nếu Yêu Nhau Cả Hai Đều Có Lỗi.mp3\n",
      "demucs_preprocessed_input/quoc_master_1st_1000_preprocessed/Kỷ Niệm Tuổi Thơ.mp3\n",
      "demucs_preprocessed_input/quoc_master_1st_1000_preprocessed/Và như thế em chờ (Solo version).mp3\n",
      "demucs_preprocessed_input/quoc_master_1st_1000_preprocessed/Trái Tim Tan Nát.mp3\n",
      "demucs_preprocessed_input/quoc_master_1st_1000_preprocessed/Người Đẹp.mp3\n",
      "demucs_preprocessed_input/quoc_master_1st_1000_preprocessed/Giấc Mơ Trở Về.mp3\n",
      "demucs_preprocessed_input/quoc_master_1st_1000_preprocessed/Mộng Tình Quê.mp3\n",
      "demucs_preprocessed_input/quoc_master_1st_1000_preprocessed/Hạnh Phúc.mp3\n",
      "demucs_preprocessed_input/quoc_master_1st_1000_preprocessed/Yêu Thầm.mp3\n",
      "demucs_preprocessed_input/quoc_master_1st_1000_preprocessed/Chủ Tịch Và Nữ Thư Ký.mp3\n",
      "demucs_preprocessed_input/quoc_master_1st_1000_preprocessed/Đường Nào Em Đi.mp3\n",
      "demucs_preprocessed_input/quoc_master_1st_1000_preprocessed/Anh Đã Có Người Yêu.mp3\n",
      "demucs_preprocessed_input/quoc_master_1st_1000_preprocessed/Đoạn Cuối Tình Yêu.mp3\n",
      "demucs_preprocessed_input/quoc_master_1st_1000_preprocessed/Chúng Con Canh Giấc Ngủ Của Người.mp3\n",
      "demucs_preprocessed_input/quoc_master_1st_1000_preprocessed/Anh Chẳng Sao Mà (Remix).mp3\n",
      "demucs_preprocessed_input/quoc_master_1st_1000_preprocessed/Khói Thuốc Đợi Chờ.mp3\n",
      "demucs_preprocessed_input/quoc_master_1st_1000_preprocessed/Gửi Em Chiếc Nón Bài Thơ.mp3\n",
      "demucs_preprocessed_input/quoc_master_1st_1000_preprocessed/Dấu Yêu Xa Tầm Tay.mp3\n",
      "demucs_preprocessed_input/quoc_master_1st_1000_preprocessed/Thành Phố Không Có Tuyết Rơi.mp3\n",
      "demucs_preprocessed_input/quoc_master_1st_1000_preprocessed/Bất Nhiễm (Cover).mp3\n",
      "demucs_preprocessed_input/quoc_master_1st_1000_preprocessed/Mashup Út Ơi 12345 (Chips Lofi).mp3\n",
      "demucs_preprocessed_input/quoc_master_1st_1000_preprocessed/Chôn Dấu Niềm Đau.mp3\n",
      "demucs_preprocessed_input/quoc_master_1st_1000_preprocessed/Tại Em Mà Tôi Như Thế.mp3\n",
      "demucs_preprocessed_input/quoc_master_1st_1000_preprocessed/Hay Là Anh Đã Quên Em.mp3\n",
      "demucs_preprocessed_input/quoc_master_1st_1000_preprocessed/Tân Cổ： Yêu Dấu Hà Tiên.mp3\n",
      "demucs_preprocessed_input/quoc_master_1st_1000_preprocessed/Anh Sẽ Thôi Khờ Dại (Beat).mp3\n",
      "demucs_preprocessed_input/quoc_master_1st_1000_preprocessed/Em Là Hot Girl？.mp3\n",
      "demucs_preprocessed_input/quoc_master_1st_1000_preprocessed/Giai Điệu Dành Cho Em.mp3\n",
      "demucs_preprocessed_input/quoc_master_1st_1000_preprocessed/Buồn.mp3\n",
      "demucs_preprocessed_input/quoc_master_1st_1000_preprocessed/Sự Thật.mp3\n",
      "demucs_preprocessed_input/quoc_master_1st_1000_preprocessed/Ngày Cuối Cùng Quan Tâm.mp3\n",
      "demucs_preprocessed_input/quoc_master_1st_1000_preprocessed/Em Nói Em Thương.mp3\n",
      "demucs_preprocessed_input/quoc_master_1st_1000_preprocessed/Chẳng Ai Khác Ngoài Em.mp3\n",
      "demucs_preprocessed_input/quoc_master_1st_1000_preprocessed/Cám Ơn Em Đã Yêu Anh.mp3\n",
      "demucs_preprocessed_input/quoc_master_1st_1000_preprocessed/Chúng Ta Chỉ Là Từng Yêu 2.mp3\n",
      "demucs_preprocessed_input/quoc_master_1st_1000_preprocessed/Dạ Khúc.mp3\n",
      "demucs_preprocessed_input/quoc_master_1st_1000_preprocessed/Đa Tạ.mp3\n",
      "demucs_preprocessed_input/quoc_master_1st_1000_preprocessed/Kiếp Xa Quê.mp3\n",
      "demucs_preprocessed_input/quoc_master_1st_1000_preprocessed/Em Hãy Tỏ Tình Với Anh Đê.mp3\n",
      "demucs_preprocessed_input/quoc_master_1st_1000_preprocessed/Ước Muốn Xa Xôi.mp3\n",
      "demucs_preprocessed_input/quoc_master_1st_1000_preprocessed/Bắt Đầu Khi Kết Thúc.mp3\n",
      "demucs_preprocessed_input/quoc_master_1st_1000_preprocessed/Chú Chuột Nhắt.mp3\n",
      "demucs_preprocessed_input/quoc_master_1st_1000_preprocessed/Bạn Tình Ơi.mp3\n",
      "demucs_preprocessed_input/quoc_master_1st_1000_preprocessed/Badaboo Của Anh (Orinn Remix).mp3\n",
      "demucs_preprocessed_input/quoc_master_1st_1000_preprocessed/Chuyện Tình La Lan (Remix).mp3\n",
      "demucs_preprocessed_input/quoc_master_1st_1000_preprocessed/Anh Vẫn Mơ Về Em.mp3\n",
      "demucs_preprocessed_input/quoc_master_1st_1000_preprocessed/Ly Cafe.mp3\n",
      "demucs_preprocessed_input/quoc_master_1st_1000_preprocessed/Hoa Sứ Nhà Nàng (Liveshow Thương Quá Việt Nam).mp3\n",
      "demucs_preprocessed_input/quoc_master_1st_1000_preprocessed/Bài Tango Cuối Cùng.mp3\n",
      "demucs_preprocessed_input/quoc_master_1st_1000_preprocessed/Cánh Diều Đỏ Thắm.mp3\n",
      "demucs_preprocessed_input/quoc_master_1st_1000_preprocessed/7 Ngày Đợi Mong.mp3\n",
      "demucs_preprocessed_input/quoc_master_1st_1000_preprocessed/Ngày Ấy, Tháng Ấy, Năm Ấy.mp3\n",
      "demucs_preprocessed_input/quoc_master_1st_1000_preprocessed/Tình Yêu Trong Anh.mp3\n",
      "demucs_preprocessed_input/quoc_master_1st_1000_preprocessed/Mãi Mãi Bên Em.mp3\n",
      "demucs_preprocessed_input/quoc_master_1st_1000_preprocessed/Thà Làm Áng Mây Trôi.mp3\n",
      "demucs_preprocessed_input/quoc_master_1st_1000_preprocessed/Vì Em Là Của Anh.mp3\n",
      "demucs_preprocessed_input/quoc_master_1st_1000_preprocessed/Giết Người Trong Mộng.mp3\n",
      "demucs_preprocessed_input/quoc_master_1st_1000_preprocessed/Đêm Sông Cầu.mp3\n",
      "demucs_preprocessed_input/quoc_master_1st_1000_preprocessed/Đáng Thương.mp3\n",
      "demucs_preprocessed_input/quoc_master_1st_1000_preprocessed/Khúc Biệt Ly.mp3\n",
      "demucs_preprocessed_input/quoc_master_1st_1000_preprocessed/Kiểu Gì Chả Mất.mp3\n",
      "demucs_preprocessed_input/quoc_master_1st_1000_preprocessed/Lời Mẹ.mp3\n",
      "demucs_preprocessed_input/quoc_master_1st_1000_preprocessed/Chỉ Sợ Nhớ Nhà.mp3\n",
      "demucs_preprocessed_input/quoc_master_1st_1000_preprocessed/Chuyện Tình Gió.mp3\n",
      "demucs_preprocessed_input/quoc_master_1st_1000_preprocessed/Anh Biết Không Anh.mp3\n",
      "demucs_preprocessed_input/quoc_master_1st_1000_preprocessed/Cho Một Lần Cuối.mp3\n",
      "demucs_preprocessed_input/quoc_master_1st_1000_preprocessed/Em Về Kẻo Trời Mưa.mp3\n",
      "demucs_preprocessed_input/quoc_master_1st_1000_preprocessed/Hãy Quen.mp3\n",
      "demucs_preprocessed_input/quoc_master_1st_1000_preprocessed/Tỉnh Mộng.mp3\n",
      "demucs_preprocessed_input/quoc_master_1st_1000_preprocessed/Hãy Trở Về.mp3\n",
      "demucs_preprocessed_input/quoc_master_1st_1000_preprocessed/Nhìn Vào Nỗi Nhớ.mp3\n",
      "demucs_preprocessed_input/quoc_master_1st_1000_preprocessed/Anh Yêu Em (Beat).mp3\n",
      "demucs_preprocessed_input/quoc_master_1st_1000_preprocessed/Những Đóm Mắt Thảo Châu.mp3\n",
      "demucs_preprocessed_input/quoc_master_1st_1000_preprocessed/Lặng Lẽ Buông.mp3\n",
      "demucs_preprocessed_input/quoc_master_1st_1000_preprocessed/Từ Nay Không Phiền Anh Nữa (Remix).mp3\n",
      "demucs_preprocessed_input/quoc_master_1st_1000_preprocessed/Em Vẫn Nhớ.mp3\n",
      "demucs_preprocessed_input/quoc_master_1st_1000_preprocessed/Không Thích Thì Đi.mp3\n",
      "demucs_preprocessed_input/quoc_master_1st_1000_preprocessed/Đến Sau Một Người.mp3\n",
      "demucs_preprocessed_input/quoc_master_1st_1000_preprocessed/Đi Trong Hà Nội.mp3\n",
      "demucs_preprocessed_input/quoc_master_1st_1000_preprocessed/Khổ Vì Yêu.mp3\n",
      "demucs_preprocessed_input/quoc_master_1st_1000_preprocessed/Em Sẽ Quay Về.mp3\n",
      "demucs_preprocessed_input/quoc_master_1st_1000_preprocessed/Giá Băng Như Mặt Trăng.mp3\n",
      "demucs_preprocessed_input/quoc_master_1st_1000_preprocessed/Hai Quê Một Nỗi Niềm.mp3\n",
      "demucs_preprocessed_input/quoc_master_1st_1000_preprocessed/Tỏ Tình.mp3\n",
      "demucs_preprocessed_input/quoc_master_1st_1000_preprocessed/Tân Cổ Sân Ga Chỉ Có Một Người.mp3\n",
      "demucs_preprocessed_input/quoc_master_1st_1000_preprocessed/Ơn Nghĩa Thầy Cô.mp3\n",
      "demucs_preprocessed_input/quoc_master_1st_1000_preprocessed/Bước Cùng Cô Đơn.mp3\n",
      "demucs_preprocessed_input/quoc_master_1st_1000_preprocessed/Mashup Trái Tim Của Gió, TDP (Nam Duck Remix).mp3\n",
      "demucs_preprocessed_input/quoc_master_1st_1000_preprocessed/Có Phải Anh Là (Beat).mp3\n",
      "demucs_preprocessed_input/quoc_master_1st_1000_preprocessed/Em Mang Tình Mình Trao Ai.mp3\n",
      "demucs_preprocessed_input/quoc_master_1st_1000_preprocessed/Chờ Đợi Trong Nước Mắt.mp3\n",
      "demucs_preprocessed_input/quoc_master_1st_1000_preprocessed/Mẹ Ơi 2.mp3\n",
      "demucs_preprocessed_input/quoc_master_1st_1000_preprocessed/Anh Em Tương Phùng (Remix).mp3\n",
      "demucs_preprocessed_input/quoc_master_1st_1000_preprocessed/Tiếng Hát Chim Đa Đa.mp3\n",
      "demucs_preprocessed_input/quoc_master_1st_1000_preprocessed/Để Anh Được Yêu.mp3\n",
      "demucs_preprocessed_input/quoc_master_1st_1000_preprocessed/Nhẫn Cỏ Cho Em.mp3\n",
      "demucs_preprocessed_input/quoc_master_1st_1000_preprocessed/Em Thuộc Về Ai.mp3\n",
      "demucs_preprocessed_input/quoc_master_1st_1000_preprocessed/Người Từng Làm Anh Đau.mp3\n",
      "demucs_preprocessed_input/quoc_master_1st_1000_preprocessed/Em Rất Cô Đơn.mp3\n",
      "demucs_preprocessed_input/quoc_master_1st_1000_preprocessed/Bóng Mẹ Bên Đời.mp3\n",
      "demucs_preprocessed_input/quoc_master_1st_1000_preprocessed/Anh Chẳng Sao Mà (Beat).mp3\n",
      "demucs_preprocessed_input/quoc_master_1st_1000_preprocessed/Cha Ơi.mp3\n",
      "demucs_preprocessed_input/quoc_master_1st_1000_preprocessed/Ánh Sáng Nơi Cuối Đường (Remix).mp3\n",
      "demucs_preprocessed_input/quoc_master_1st_1000_preprocessed/LK Yêu Người Yêu Đời.mp3\n",
      "demucs_preprocessed_input/quoc_master_1st_1000_preprocessed/Cảm Tạ Ơn Chúa.mp3\n",
      "demucs_preprocessed_input/quoc_master_1st_1000_preprocessed/Nếu Như Ai Còn Mẹ.mp3\n",
      "demucs_preprocessed_input/quoc_master_1st_1000_preprocessed/Chỉ Cần Có Em.mp3\n",
      "demucs_preprocessed_input/quoc_master_1st_1000_preprocessed/Khúc Thu Ca.mp3\n",
      "demucs_preprocessed_input/quoc_master_1st_1000_preprocessed/Khoảnh Khắc Cuối Nghẹn Ngào.mp3\n",
      "demucs_preprocessed_input/quoc_master_1st_1000_preprocessed/Chỉ Còn Lại Nỗi Nhớ.mp3\n",
      "demucs_preprocessed_input/quoc_master_1st_1000_preprocessed/Điều Cha Muốn Nói.mp3\n",
      "demucs_preprocessed_input/quoc_master_1st_1000_preprocessed/Cô Bé Mắt Nai.mp3\n",
      "demucs_preprocessed_input/quoc_master_1st_1000_preprocessed/Dối Lòng.mp3\n",
      "demucs_preprocessed_input/quoc_master_1st_1000_preprocessed/Xuân Bên Em.mp3\n",
      "demucs_preprocessed_input/quoc_master_1st_1000_preprocessed/Bài Ca Người Săn Máy Bay.mp3\n",
      "demucs_preprocessed_input/quoc_master_1st_1000_preprocessed/Búp bê bị hư.mp3\n",
      "demucs_preprocessed_input/quoc_master_1st_1000_preprocessed/Đúng Lúc Gặp Người (Remix).mp3\n",
      "demucs_preprocessed_input/quoc_master_1st_1000_preprocessed/Hai Mùa Mưa.mp3\n",
      "demucs_preprocessed_input/quoc_master_1st_1000_preprocessed/Hôm Nay Mẹ Trực Đêm.mp3\n",
      "demucs_preprocessed_input/quoc_master_1st_1000_preprocessed/Nhắm Mắt Vẫn Thấy Em.mp3\n",
      "demucs_preprocessed_input/quoc_master_1st_1000_preprocessed/Từng Ngày Con Nhớ Phật.mp3\n",
      "demucs_preprocessed_input/quoc_master_1st_1000_preprocessed/Yêu Dấu Tan Theo.mp3\n",
      "demucs_preprocessed_input/quoc_master_1st_1000_preprocessed/Sài Gòn Chiều Ngoại Ô.mp3\n",
      "demucs_preprocessed_input/quoc_master_1st_1000_preprocessed/Nhạt Nhòa Ký Ức.mp3\n",
      "demucs_preprocessed_input/quoc_master_1st_1000_preprocessed/Anh Nợ Em (Remix).mp3\n",
      "demucs_preprocessed_input/quoc_master_1st_1000_preprocessed/Lúa Mùa Duyên Thắm.mp3\n",
      "demucs_preprocessed_input/quoc_master_1st_1000_preprocessed/Corona Ghét Lắm Nha.mp3\n",
      "demucs_preprocessed_input/quoc_master_1st_1000_preprocessed/Em Có Đợi Anh Không.mp3\n",
      "demucs_preprocessed_input/quoc_master_1st_1000_preprocessed/Hết Rồi Thì Thôi.mp3\n",
      "demucs_preprocessed_input/quoc_master_1st_1000_preprocessed/Nhớ Quê.mp3\n",
      "demucs_preprocessed_input/quoc_master_1st_1000_preprocessed/Mưa Xuân.mp3\n",
      "demucs_preprocessed_input/quoc_master_1st_1000_preprocessed/Chuyện Sim Tím.mp3\n",
      "demucs_preprocessed_input/quoc_master_1st_1000_preprocessed/Chỉ Vì Vật Chất.mp3\n",
      "demucs_preprocessed_input/quoc_master_1st_1000_preprocessed/Liên Khúc Dìu Người Tôi Yêu.mp3\n",
      "demucs_preprocessed_input/quoc_master_1st_1000_preprocessed/Liên Khúc Người Tình Không Đến - Chiều Cuối Tuần.mp3\n",
      "demucs_preprocessed_input/quoc_master_1st_1000_preprocessed/Ngày Xưa Biển Hát.mp3\n",
      "demucs_preprocessed_input/quoc_master_1st_1000_preprocessed/Đêm Nhớ Quê Nhà.mp3\n",
      "demucs_preprocessed_input/quoc_master_1st_1000_preprocessed/Ba Ba Tiếng Con Gọi.mp3\n",
      "demucs_preprocessed_input/quoc_master_1st_1000_preprocessed/Nếu Còn Gặp Nhau.mp3\n",
      "demucs_preprocessed_input/quoc_master_1st_1000_preprocessed/Dù Một Mai.mp3\n",
      "demucs_preprocessed_input/quoc_master_1st_1000_preprocessed/Tấm Lòng Em Trong Sáng.mp3\n",
      "demucs_preprocessed_input/quoc_master_1st_1000_preprocessed/ABCDEFA!.mp3\n",
      "demucs_preprocessed_input/quoc_master_1st_1000_preprocessed/Em Không Muốn Khóc Nữa.mp3\n",
      "demucs_preprocessed_input/quoc_master_1st_1000_preprocessed/Hẹn Một Ngày Xuân Mới.mp3\n",
      "demucs_preprocessed_input/quoc_master_1st_1000_preprocessed/Tình cờ gặp nhau.mp3\n",
      "demucs_preprocessed_input/quoc_master_1st_1000_preprocessed/Đắng Tình Anh Em (Beat).mp3\n",
      "demucs_preprocessed_input/quoc_master_1st_1000_preprocessed/Xuân Ơi Xuân Đã Về Remix (Dance Version).mp3\n",
      "demucs_preprocessed_input/quoc_master_1st_1000_preprocessed/Một Thuở Yêu Nhau.mp3\n",
      "demucs_preprocessed_input/quoc_master_1st_1000_preprocessed/Một Thủa Đam Mê.mp3\n",
      "demucs_preprocessed_input/quoc_master_1st_1000_preprocessed/Hận Mình Tay Trắng (Yang Remix).mp3\n",
      "demucs_preprocessed_input/quoc_master_1st_1000_preprocessed/Ăn Là Ăn Tết.mp3\n",
      "demucs_preprocessed_input/quoc_master_1st_1000_preprocessed/LK Thương Nhau Ngày Mưa, Bước Tình Hồng (Live).mp3\n",
      "demucs_preprocessed_input/quoc_master_1st_1000_preprocessed/Người Đàn Ông Bản Lĩnh.mp3\n",
      "demucs_preprocessed_input/quoc_master_1st_1000_preprocessed/Liên Khúc 13 Tỉnh Thành.mp3\n",
      "demucs_preprocessed_input/quoc_master_1st_1000_preprocessed/Vẫn Rơi.mp3\n",
      "demucs_preprocessed_input/quoc_master_1st_1000_preprocessed/Em Ngày Gặp Lại (Ciray Remix).mp3\n",
      "demucs_preprocessed_input/quoc_master_1st_1000_preprocessed/Cô Nương Bên Cầu.mp3\n",
      "demucs_preprocessed_input/quoc_master_1st_1000_preprocessed/Lạc Vào Cô Đơn.mp3\n",
      "demucs_preprocessed_input/quoc_master_1st_1000_preprocessed/Quảng Ngãi Chiều Sông Quê.mp3\n",
      "demucs_preprocessed_input/quoc_master_1st_1000_preprocessed/Xuân Quê Hương 1.mp3\n",
      "demucs_preprocessed_input/quoc_master_1st_1000_preprocessed/Người Thương Em Cả Đời Em Xua Đuổi.mp3\n",
      "demucs_preprocessed_input/quoc_master_1st_1000_preprocessed/Anh Sẽ Mãi Bên Em.mp3\n",
      "demucs_preprocessed_input/quoc_master_1st_1000_preprocessed/Ta Nợ Cuộc Đời.mp3\n",
      "demucs_preprocessed_input/quoc_master_1st_1000_preprocessed/Hoàng Hôn Nắng Tắt.mp3\n",
      "demucs_preprocessed_input/quoc_master_1st_1000_preprocessed/Cho Anh Quay Lại Nơi Bắt Đầu.mp3\n",
      "demucs_preprocessed_input/quoc_master_1st_1000_preprocessed/Anh Không May Mắn.mp3\n",
      "demucs_preprocessed_input/quoc_master_1st_1000_preprocessed/Hãy Tạo Cơ Hội Cho Nhau.mp3\n",
      "demucs_preprocessed_input/quoc_master_1st_1000_preprocessed/Đời Mà Ai Không Dẫm Gai.mp3\n",
      "demucs_preprocessed_input/quoc_master_1st_1000_preprocessed/Cho Anh Một Điều Ước.mp3\n",
      "demucs_preprocessed_input/quoc_master_1st_1000_preprocessed/Liên Khúc Mong Em Còn Ngày Mai (Remix).mp3\n",
      "demucs_preprocessed_input/quoc_master_1st_1000_preprocessed/Đâu Dám Trèo Cao.mp3\n",
      "demucs_preprocessed_input/quoc_master_1st_1000_preprocessed/Để Trả Lời Một Câu Hỏi.mp3\n",
      "demucs_preprocessed_input/quoc_master_1st_1000_preprocessed/Gửi Người Tôi Thương.mp3\n",
      "demucs_preprocessed_input/quoc_master_1st_1000_preprocessed/LK Thương Nhớ Người Dưng.mp3\n",
      "demucs_preprocessed_input/quoc_master_1st_1000_preprocessed/Tổ Quốc Nhìn Từ Biển.mp3\n",
      "demucs_preprocessed_input/quoc_master_1st_1000_preprocessed/Cõng Mặt Trăng.mp3\n",
      "demucs_preprocessed_input/quoc_master_1st_1000_preprocessed/Làm Sao Quên Được.mp3\n",
      "demucs_preprocessed_input/quoc_master_1st_1000_preprocessed/Anh Không Tin.mp3\n",
      "demucs_preprocessed_input/quoc_master_1st_1000_preprocessed/Dấu Vết Nghiệt Ngã.mp3\n",
      "demucs_preprocessed_input/quoc_master_1st_1000_preprocessed/Mưa Trong Lòng.mp3\n",
      "demucs_preprocessed_input/quoc_master_1st_1000_preprocessed/Anh Không Thể Ngừng Yêu Em.mp3\n",
      "demucs_preprocessed_input/quoc_master_1st_1000_preprocessed/Lớn Rồi Còn Ham Lì Xì.mp3\n",
      "demucs_preprocessed_input/quoc_master_1st_1000_preprocessed/Người Phu Kéo Mo Cau.mp3\n",
      "demucs_preprocessed_input/quoc_master_1st_1000_preprocessed/Tôi Vẫn Là Tôi.mp3\n",
      "demucs_preprocessed_input/quoc_master_1st_1000_preprocessed/Loài Hoa Không Tên.mp3\n",
      "demucs_preprocessed_input/quoc_master_1st_1000_preprocessed/Bước Chân Con Trở Về.mp3\n",
      "demucs_preprocessed_input/quoc_master_1st_1000_preprocessed/Sóng Vô Tình.mp3\n",
      "demucs_preprocessed_input/quoc_master_1st_1000_preprocessed/Dừng Lại Em Nhé.mp3\n",
      "demucs_preprocessed_input/quoc_master_1st_1000_preprocessed/Còn Lại Lời Ru.mp3\n",
      "demucs_preprocessed_input/quoc_master_1st_1000_preprocessed/Chết Trong Em.mp3\n",
      "demucs_preprocessed_input/quoc_master_1st_1000_preprocessed/Hỏi Ai.mp3\n",
      "demucs_preprocessed_input/quoc_master_1st_1000_preprocessed/Cảm Giác Em Là Sao (Remix).mp3\n",
      "demucs_preprocessed_input/quoc_master_1st_1000_preprocessed/Quá Khứ Của Anh.mp3\n",
      "demucs_preprocessed_input/quoc_master_1st_1000_preprocessed/Cỏ Ba Lá.mp3\n",
      "demucs_preprocessed_input/quoc_master_1st_1000_preprocessed/Đà Lạt Ơi! Mai Thành Nỗi Nhớ.mp3\n",
      "demucs_preprocessed_input/quoc_master_1st_1000_preprocessed/Trách Hạnh Phúc Không Quay Trở Lại.mp3\n",
      "demucs_preprocessed_input/quoc_master_1st_1000_preprocessed/Việt Nam Trong Tim Ta.mp3\n",
      "demucs_preprocessed_input/quoc_master_1st_1000_preprocessed/Tình Vội Đi Xa.mp3\n",
      "demucs_preprocessed_input/quoc_master_1st_1000_preprocessed/Gió Xa Khơi.mp3\n",
      "demucs_preprocessed_input/quoc_master_1st_1000_preprocessed/Đừng Vội Vàng Đổi Thay.mp3\n",
      "demucs_preprocessed_input/quoc_master_1st_1000_preprocessed/Em Vẫn Đợi Anh Về.mp3\n",
      "demucs_preprocessed_input/quoc_master_1st_1000_preprocessed/Kí Ức Chợt Về.mp3\n",
      "demucs_preprocessed_input/quoc_master_1st_1000_preprocessed/Còn Một Mình Với Yêu Thương.mp3\n",
      "demucs_preprocessed_input/quoc_master_1st_1000_preprocessed/Điệu Buồn Phương Nam.mp3\n",
      "demucs_preprocessed_input/quoc_master_1st_1000_preprocessed/Tàu Về Quê Hương.mp3\n",
      "demucs_preprocessed_input/quoc_master_1st_1000_preprocessed/Cánh Diều Tàn Phai.mp3\n",
      "demucs_preprocessed_input/quoc_master_1st_1000_preprocessed/Chúc Phúc Tài Lộc.mp3\n",
      "demucs_preprocessed_input/quoc_master_1st_1000_preprocessed/Mong Em Vui Và Hạnh Phúc.mp3\n",
      "demucs_preprocessed_input/quoc_master_1st_1000_preprocessed/Nước Mắt Pha Lê.mp3\n",
      "demucs_preprocessed_input/quoc_master_1st_1000_preprocessed/Ai Nói Với Em.mp3\n",
      "demucs_preprocessed_input/quoc_master_1st_1000_preprocessed/Đã Từng Hạnh Phúc.mp3\n",
      "demucs_preprocessed_input/quoc_master_1st_1000_preprocessed/Khóc Cho Một Cuộc Tình.mp3\n",
      "demucs_preprocessed_input/quoc_master_1st_1000_preprocessed/Hà Nội.Hanoi.mp3\n",
      "demucs_preprocessed_input/quoc_master_1st_1000_preprocessed/Giá Như Chưa Một Lần Xa Cách.mp3\n",
      "demucs_preprocessed_input/quoc_master_1st_1000_preprocessed/Xin Người Lãng Quên Dùm Tôi.mp3\n",
      "demucs_preprocessed_input/quoc_master_1st_1000_preprocessed/Cần Một Lý Do (WRC Remix).mp3\n",
      "demucs_preprocessed_input/quoc_master_1st_1000_preprocessed/Tìm Đâu Tình Yêu Cuối Cùng.mp3\n",
      "demucs_preprocessed_input/quoc_master_1st_1000_preprocessed/Ảo Mộng Tình Đời.mp3\n",
      "demucs_preprocessed_input/quoc_master_1st_1000_preprocessed/Anh Van Cu Lo.mp3\n",
      "demucs_preprocessed_input/quoc_master_1st_1000_preprocessed/Cuộc Đời Như Vòng Xoay (From ＂The Lion King＂⧸Soundtrack Version).mp3\n",
      "demucs_preprocessed_input/quoc_master_1st_1000_preprocessed/Chỉ Vì Giàu Sang.mp3\n",
      "demucs_preprocessed_input/quoc_master_1st_1000_preprocessed/Tim Em Xa Lắm (Remix).mp3\n",
      "demucs_preprocessed_input/quoc_master_1st_1000_preprocessed/Nói Với Anh Đôi Lời.mp3\n",
      "demucs_preprocessed_input/quoc_master_1st_1000_preprocessed/Biết Trái Tim Còn Tha Thiết - Con Tim Thật Thà.mp3\n",
      "demucs_preprocessed_input/quoc_master_1st_1000_preprocessed/Như Chưa Từng Cách Xa.mp3\n",
      "demucs_preprocessed_input/quoc_master_1st_1000_preprocessed/Giết Người Anh Yêu.mp3\n",
      "demucs_preprocessed_input/quoc_master_1st_1000_preprocessed/Anh Có Em.mp3\n",
      "demucs_preprocessed_input/quoc_master_1st_1000_preprocessed/Cuộc Sống Xa Nhà.mp3\n",
      "demucs_preprocessed_input/quoc_master_1st_1000_preprocessed/Miền Tây Xuân Tình.mp3\n",
      "demucs_preprocessed_input/quoc_master_1st_1000_preprocessed/Anh Về Trong Giấc Mơ.mp3\n",
      "demucs_preprocessed_input/quoc_master_1st_1000_preprocessed/Liên Khúc 60 Năm Cuộc Đời.mp3\n",
      "demucs_preprocessed_input/quoc_master_1st_1000_preprocessed/Con Rắn.mp3\n",
      "demucs_preprocessed_input/quoc_master_1st_1000_preprocessed/Bêlem Quạnh Hiu.mp3\n",
      "demucs_preprocessed_input/quoc_master_1st_1000_preprocessed/Ngẫu Hứng Bolero.mp3\n",
      "demucs_preprocessed_input/quoc_master_1st_1000_preprocessed/Mỹ Nhân (Cover).mp3\n",
      "demucs_preprocessed_input/quoc_master_1st_1000_preprocessed/Có Những Chiều (Cover).mp3\n",
      "demucs_preprocessed_input/quoc_master_1st_1000_preprocessed/Duyên Kiếp Lỡ Làng.mp3\n",
      "demucs_preprocessed_input/quoc_master_1st_1000_preprocessed/Cần Thơ Trong Nỗi Nhớ.mp3\n",
      "demucs_preprocessed_input/quoc_master_1st_1000_preprocessed/Có Em Anh Có Cả Thế Giới.mp3\n",
      "demucs_preprocessed_input/quoc_master_1st_1000_preprocessed/Ảo Mộng Đơn Phương (Bước Cùng Nỗi Đau 2).mp3\n",
      "demucs_preprocessed_input/quoc_master_1st_1000_preprocessed/Ca Khúc Yêu Đời.mp3\n",
      "demucs_preprocessed_input/quoc_master_1st_1000_preprocessed/Cao Cung Lên.mp3\n",
      "demucs_preprocessed_input/quoc_master_1st_1000_preprocessed/Quay Lưng Đi.mp3\n",
      "demucs_preprocessed_input/quoc_master_1st_1000_preprocessed/LK Tết Là Tết.mp3\n",
      "demucs_preprocessed_input/quoc_master_1st_1000_preprocessed/Bánh Trung Thu.mp3\n",
      "demucs_preprocessed_input/quoc_master_1st_1000_preprocessed/Chuyện Nắng Mưa (Remix Version).mp3\n",
      "demucs_preprocessed_input/quoc_master_1st_1000_preprocessed/Đùa Chi Tình Yêu.mp3\n",
      "demucs_preprocessed_input/quoc_master_1st_1000_preprocessed/Chỉ Cần Có Anh.mp3\n",
      "demucs_preprocessed_input/quoc_master_1st_1000_preprocessed/Như Vậy Đi.mp3\n",
      "demucs_preprocessed_input/quoc_master_1st_1000_preprocessed/Quên Mối Duyên Nghèo.mp3\n",
      "demucs_preprocessed_input/quoc_master_1st_1000_preprocessed/Cho Niềm Đau Thêm Dài.mp3\n",
      "demucs_preprocessed_input/quoc_master_1st_1000_preprocessed/Cô Gái Sầm Nưa.mp3\n",
      "demucs_preprocessed_input/quoc_master_1st_1000_preprocessed/Biết Nói Thế Nào.mp3\n",
      "demucs_preprocessed_input/quoc_master_1st_1000_preprocessed/Cao Bằng Khát Vọng Vươn Xa.mp3\n",
      "demucs_preprocessed_input/quoc_master_1st_1000_preprocessed/Bước Chân Không Trở Lại.mp3\n",
      "demucs_preprocessed_input/quoc_master_1st_1000_preprocessed/Mẹ Hiền.mp3\n",
      "demucs_preprocessed_input/quoc_master_1st_1000_preprocessed/Anh Không Ngờ.mp3\n",
      "demucs_preprocessed_input/quoc_master_1st_1000_preprocessed/Đánh Mất Niềm Vui.mp3\n",
      "demucs_preprocessed_input/quoc_master_1st_1000_preprocessed/Lại Gần Anh Chút Thôi.mp3\n",
      "demucs_preprocessed_input/quoc_master_1st_1000_preprocessed/Kinh Cầu Tình Yêu.mp3\n",
      "demucs_preprocessed_input/quoc_master_1st_1000_preprocessed/Số Phận Anh Và Em.mp3\n",
      "demucs_preprocessed_input/quoc_master_1st_1000_preprocessed/Em Là Cô Gái Vùng Cao.mp3\n",
      "demucs_preprocessed_input/quoc_master_1st_1000_preprocessed/Áo Dài Việt Nam.mp3\n",
      "demucs_preprocessed_input/quoc_master_1st_1000_preprocessed/Ba Kể Con Nghe (Acoustic Cover).mp3\n",
      "demucs_preprocessed_input/quoc_master_1st_1000_preprocessed/Ai Đã Từng.mp3\n",
      "demucs_preprocessed_input/quoc_master_1st_1000_preprocessed/Mẹ Yêu (Cover).mp3\n",
      "demucs_preprocessed_input/quoc_master_1st_1000_preprocessed/Giữ Lại Hạnh Phúc.mp3\n",
      "demucs_preprocessed_input/quoc_master_1st_1000_preprocessed/Ai Nỡ.mp3\n",
      "demucs_preprocessed_input/quoc_master_1st_1000_preprocessed/Tình Yêu Nơi Thiên Chúa Dành Cho Tôi.mp3\n",
      "demucs_preprocessed_input/quoc_master_1st_1000_preprocessed/Anh Mới Chính Là Người Em Yêu (TD Remix) [Short Version 2].mp3\n",
      "demucs_preprocessed_input/quoc_master_1st_1000_preprocessed/LK Tình Lúa Duyên Trăng.mp3\n",
      "demucs_preprocessed_input/quoc_master_1st_1000_preprocessed/Tết Nghèo Mà Dzui.mp3\n",
      "demucs_preprocessed_input/quoc_master_1st_1000_preprocessed/Hãy Cứ Vui Như Mọi Ngày.mp3\n",
      "demucs_preprocessed_input/quoc_master_1st_1000_preprocessed/ĐỪNG LO.mp3\n",
      "demucs_preprocessed_input/quoc_master_1st_1000_preprocessed/Quyến Rũ.mp3\n",
      "demucs_preprocessed_input/quoc_master_1st_1000_preprocessed/Thư Cho Em (Live Version).mp3\n",
      "demucs_preprocessed_input/quoc_master_1st_1000_preprocessed/Liệu Rằng.mp3\n",
      "demucs_preprocessed_input/quoc_master_1st_1000_preprocessed/Bến Sông Xưa.mp3\n",
      "demucs_preprocessed_input/quoc_master_1st_1000_preprocessed/Cần Một Lời Quan Tâm.mp3\n",
      "demucs_preprocessed_input/quoc_master_1st_1000_preprocessed/Từ Đầu Đã Dối Gian.mp3\n",
      "demucs_preprocessed_input/quoc_master_1st_1000_preprocessed/Tìm Người Nhà.mp3\n",
      "demucs_preprocessed_input/quoc_master_1st_1000_preprocessed/Tình Yêu.mp3\n",
      "demucs_preprocessed_input/quoc_master_1st_1000_preprocessed/Đã Từng.mp3\n",
      "demucs_preprocessed_input/quoc_master_1st_1000_preprocessed/Đẹp Mối Duyên Quê.mp3\n",
      "demucs_preprocessed_input/quoc_master_1st_1000_preprocessed/Dâng Chúa Lời Suy Tôn.mp3\n",
      "demucs_preprocessed_input/quoc_master_1st_1000_preprocessed/Ngọc Ngà Và Lâu La.mp3\n",
      "demucs_preprocessed_input/quoc_master_1st_1000_preprocessed/Cám Ơn Thầy.mp3\n",
      "demucs_preprocessed_input/quoc_master_1st_1000_preprocessed/Yêu Người Phương Xa.mp3\n",
      "demucs_preprocessed_input/quoc_master_1st_1000_preprocessed/Huyến Thoại Rượu.mp3\n",
      "demucs_preprocessed_input/quoc_master_1st_1000_preprocessed/Cứ Mặc Anh Đau (Beat).mp3\n",
      "demucs_preprocessed_input/quoc_master_1st_1000_preprocessed/Cha Yêu Mẹ Yêu.mp3\n",
      "demucs_preprocessed_input/quoc_master_1st_1000_preprocessed/Bảy Ơn Chúa Thánh Thần.mp3\n",
      "demucs_preprocessed_input/quoc_master_1st_1000_preprocessed/Anh Nghĩ Về Em.mp3\n",
      "demucs_preprocessed_input/quoc_master_1st_1000_preprocessed/Buốt Trong Tim.mp3\n",
      "demucs_preprocessed_input/quoc_master_1st_1000_preprocessed/Khóc Theo Mưa.mp3\n",
      "demucs_preprocessed_input/quoc_master_1st_1000_preprocessed/Có Em Rong Chơi.mp3\n",
      "demucs_preprocessed_input/quoc_master_1st_1000_preprocessed/Mãi Ngàn Năm.mp3\n",
      "demucs_preprocessed_input/quoc_master_1st_1000_preprocessed/Dạ Khúc Đêm Trăng.mp3\n",
      "demucs_preprocessed_input/quoc_master_1st_1000_preprocessed/Cưới Nhau Mùa Tết.mp3\n",
      "demucs_preprocessed_input/quoc_master_1st_1000_preprocessed/Vết Mực Vô Tình.mp3\n",
      "demucs_preprocessed_input/quoc_master_1st_1000_preprocessed/Anh Không Thể Quay Về.mp3\n",
      "demucs_preprocessed_input/quoc_master_1st_1000_preprocessed/Yêu Em Anh Hát Tình Ca.mp3\n",
      "demucs_preprocessed_input/quoc_master_1st_1000_preprocessed/Có Một Người Luôn Cười Khi Anh Đến.mp3\n",
      "demucs_preprocessed_input/quoc_master_1st_1000_preprocessed/Đừng Trách Sáo Sang Sông.mp3\n",
      "demucs_preprocessed_input/quoc_master_1st_1000_preprocessed/Về Với Ngài.mp3\n",
      "demucs_preprocessed_input/quoc_master_1st_1000_preprocessed/Mất Rồi Mới Thấy Tiếc.mp3\n",
      "demucs_preprocessed_input/quoc_master_1st_1000_preprocessed/Anh Đau Em Không Đành Lòng.mp3\n",
      "demucs_preprocessed_input/quoc_master_1st_1000_preprocessed/Bối Rối (Cover).mp3\n",
      "demucs_preprocessed_input/quoc_master_1st_1000_preprocessed/Mẹ Hiểu Con Không.mp3\n",
      "demucs_preprocessed_input/quoc_master_1st_1000_preprocessed/Tình Em Mãi Mãi.mp3\n",
      "demucs_preprocessed_input/quoc_master_1st_1000_preprocessed/Mưa Nước Mắt.mp3\n",
      "demucs_preprocessed_input/quoc_master_1st_1000_preprocessed/Trốn Tránh.mp3\n",
      "demucs_preprocessed_input/quoc_master_1st_1000_preprocessed/Nàng Tiên Xấu Xa.mp3\n",
      "demucs_preprocessed_input/quoc_master_1st_1000_preprocessed/Chờ Đợi Có Đáng Sợ (Piano Verison).mp3\n",
      "demucs_preprocessed_input/quoc_master_1st_1000_preprocessed/Khi Người Con Gái Cô Đơn.mp3\n",
      "demucs_preprocessed_input/quoc_master_1st_1000_preprocessed/Ai Rồi Cũng Khác.mp3\n",
      "demucs_preprocessed_input/quoc_master_1st_1000_preprocessed/Để Yêu Nhau Hơn.mp3\n",
      "demucs_preprocessed_input/quoc_master_1st_1000_preprocessed/Nhớ Mùa Thu Hà Nội.mp3\n",
      "demucs_preprocessed_input/quoc_master_1st_1000_preprocessed/Con Gái Bây Giờ.mp3\n",
      "demucs_preprocessed_input/quoc_master_1st_1000_preprocessed/Cho Em Lời Cuối.mp3\n",
      "demucs_preprocessed_input/quoc_master_1st_1000_preprocessed/Chờ Ngày Cưới Em.mp3\n",
      "demucs_preprocessed_input/quoc_master_1st_1000_preprocessed/Mẹ Miền Tây.mp3\n",
      "demucs_preprocessed_input/quoc_master_1st_1000_preprocessed/Xin Lỗi Ta Yêu Người (Yuki No Hana).mp3\n",
      "demucs_preprocessed_input/quoc_master_1st_1000_preprocessed/Tự Hào Tình Nguyện Viên Hành Trình Xanh.mp3\n",
      "demucs_preprocessed_input/quoc_master_1st_1000_preprocessed/Không Thể Quên Em.mp3\n",
      "demucs_preprocessed_input/quoc_master_1st_1000_preprocessed/Đường Xưa Em Đi.mp3\n",
      "demucs_preprocessed_input/quoc_master_1st_1000_preprocessed/Đã Đến Lúc Phải Xa Nhau.mp3\n",
      "demucs_preprocessed_input/quoc_master_1st_1000_preprocessed/Nói Đi Em.mp3\n",
      "demucs_preprocessed_input/quoc_master_1st_1000_preprocessed/Chỉ Mong Em Bình An.mp3\n",
      "demucs_preprocessed_input/quoc_master_1st_1000_preprocessed/Đời Hoa Trắng.mp3\n",
      "demucs_preprocessed_input/quoc_master_1st_1000_preprocessed/Hóa Thân Mẹ.mp3\n",
      "demucs_preprocessed_input/quoc_master_1st_1000_preprocessed/Theo Em Về Quê.mp3\n",
      "demucs_preprocessed_input/quoc_master_1st_1000_preprocessed/Anh Đã Nhận Ra.mp3\n",
      "demucs_preprocessed_input/quoc_master_1st_1000_preprocessed/Ánh Sao Tình Nhân.mp3\n",
      "demucs_preprocessed_input/quoc_master_1st_1000_preprocessed/Gọi Tên Tôi Nhé Bạn Thân Hỡi.mp3\n",
      "demucs_preprocessed_input/quoc_master_1st_1000_preprocessed/Bạn Và Tôi Đều Giống Nhau.mp3\n",
      "demucs_preprocessed_input/quoc_master_1st_1000_preprocessed/Hãy Nói Với Em Lời Chia Tay.mp3\n",
      "demucs_preprocessed_input/quoc_master_1st_1000_preprocessed/Không Một Ai (Remix Version).mp3\n",
      "demucs_preprocessed_input/quoc_master_1st_1000_preprocessed/Bạn Hay Bè.mp3\n",
      "demucs_preprocessed_input/quoc_master_1st_1000_preprocessed/Gửi Đôi Mắt Nai.mp3\n",
      "demucs_preprocessed_input/quoc_master_1st_1000_preprocessed/Đêm Hội Hoa Hồng.mp3\n",
      "demucs_preprocessed_input/quoc_master_1st_1000_preprocessed/Cuốn Sách Mẹ Tôi Thường Nói.mp3\n",
      "demucs_preprocessed_input/quoc_master_1st_1000_preprocessed/Trả Lại Em Nụ Cười.mp3\n",
      "demucs_preprocessed_input/quoc_master_1st_1000_preprocessed/Anh Phải Quên Em.mp3\n",
      "demucs_preprocessed_input/quoc_master_1st_1000_preprocessed/Liên Khúc Khung Trời Ngày Xưa.mp3\n",
      "demucs_preprocessed_input/quoc_master_1st_1000_preprocessed/Cắt Ruột Lòng Đau.mp3\n",
      "demucs_preprocessed_input/quoc_master_1st_1000_preprocessed/Ba Mẹ Đi Xa.mp3\n",
      "demucs_preprocessed_input/quoc_master_1st_1000_preprocessed/Ước Mơ Nào Cho Em.mp3\n",
      "demucs_preprocessed_input/quoc_master_1st_1000_preprocessed/Dế Welcome.mp3\n",
      "demucs_preprocessed_input/quoc_master_1st_1000_preprocessed/Hát Cho Người Xa Nhà.mp3\n",
      "demucs_preprocessed_input/quoc_master_1st_1000_preprocessed/Hạnh Phúc Trong Anh.mp3\n",
      "demucs_preprocessed_input/quoc_master_1st_1000_preprocessed/Hoa Tàn.mp3\n",
      "demucs_preprocessed_input/quoc_master_1st_1000_preprocessed/Hỷ Nộ Ái Ố Kiếp Người.mp3\n",
      "demucs_preprocessed_input/quoc_master_1st_1000_preprocessed/Đâu Ai Vì Nhau.mp3\n",
      "demucs_preprocessed_input/quoc_master_1st_1000_preprocessed/Trái Tim Bụi Đường.mp3\n",
      "demucs_preprocessed_input/quoc_master_1st_1000_preprocessed/Thương Em Miền Nước Lũ.mp3\n",
      "demucs_preprocessed_input/quoc_master_1st_1000_preprocessed/Bỏ Anh Thì Đừng Hối Hận.mp3\n",
      "demucs_preprocessed_input/quoc_master_1st_1000_preprocessed/Mùa Đông Trắng.mp3\n",
      "demucs_preprocessed_input/quoc_master_1st_1000_preprocessed/AI KHÓC CHO EM ？.mp3\n",
      "demucs_preprocessed_input/quoc_master_1st_1000_preprocessed/Nữ Vương Địa Phận Vinh.mp3\n",
      "demucs_preprocessed_input/quoc_master_1st_1000_preprocessed/Đừng Nhìn Lên Em Ơi.mp3\n",
      "demucs_preprocessed_input/quoc_master_1st_1000_preprocessed/Cảm Ơn Honey.mp3\n",
      "demucs_preprocessed_input/quoc_master_1st_1000_preprocessed/Anh Chắc Phải Quên Em Rồi.mp3\n",
      "demucs_preprocessed_input/quoc_master_1st_1000_preprocessed/Bao Lâu Rồi.mp3\n",
      "demucs_preprocessed_input/quoc_master_1st_1000_preprocessed/Xin Mẹ Cha An Lòng.mp3\n",
      "demucs_preprocessed_input/quoc_master_1st_1000_preprocessed/Sài Gòn Buồn Quá Em Ơi (Jazzhop).mp3\n",
      "demucs_preprocessed_input/quoc_master_1st_1000_preprocessed/Anh Không Năn Nỉ Em Đâu.mp3\n",
      "demucs_preprocessed_input/quoc_master_1st_1000_preprocessed/Liêm Sỉ Gì Tầm Này Em Ơi (Beat).mp3\n",
      "demucs_preprocessed_input/quoc_master_1st_1000_preprocessed/Mưa Đêm Tỉnh Lẻ.mp3\n",
      "demucs_preprocessed_input/quoc_master_1st_1000_preprocessed/Anh Giờ Đâu.mp3\n",
      "demucs_preprocessed_input/quoc_master_1st_1000_preprocessed/Hạnh Phúc Là Hy Sinh.mp3\n",
      "demucs_preprocessed_input/quoc_master_1st_1000_preprocessed/Về Quê Ngoại (EDM Version).mp3\n",
      "demucs_preprocessed_input/quoc_master_1st_1000_preprocessed/Phút Giây Kỷ Niệm.mp3\n",
      "demucs_preprocessed_input/quoc_master_1st_1000_preprocessed/Mùa Đông Tuyệt Vọng.mp3\n",
      "demucs_preprocessed_input/quoc_master_1st_1000_preprocessed/Biển Mộng.mp3\n",
      "demucs_preprocessed_input/quoc_master_1st_1000_preprocessed/Xin Ru Muộn Màng.mp3\n",
      "demucs_preprocessed_input/quoc_master_1st_1000_preprocessed/Ánh Đèn Phố.mp3\n",
      "demucs_preprocessed_input/quoc_master_1st_1000_preprocessed/Cuốn Mãi Trôi Xa Tan Đi.mp3\n",
      "demucs_preprocessed_input/quoc_master_1st_1000_preprocessed/Tình Ơi! Có Buồn Không.mp3\n",
      "demucs_preprocessed_input/quoc_master_1st_1000_preprocessed/Cắm Sừng Ai Đừng Cắm Sừng Em.mp3\n",
      "demucs_preprocessed_input/quoc_master_1st_1000_preprocessed/Xin Em Thôi Làm Ngơ.mp3\n",
      "demucs_preprocessed_input/quoc_master_1st_1000_preprocessed/Dân Ca DJ 2.mp3\n",
      "demucs_preprocessed_input/quoc_master_1st_1000_preprocessed/Cô Thắm Không Về.mp3\n",
      "demucs_preprocessed_input/quoc_master_1st_1000_preprocessed/Chuyện Tình Không Dĩ Vãng (Album Đôi Mắt Người Xưa).mp3\n",
      "demucs_preprocessed_input/quoc_master_1st_1000_preprocessed/Áo Anh Si Nhưng Lòng Anh Thật.mp3\n",
      "demucs_preprocessed_input/quoc_master_1st_1000_preprocessed/Lời Tình Buồn.mp3\n",
      "demucs_preprocessed_input/quoc_master_1st_1000_preprocessed/Người Hãy Nói Đi Người Ơi.mp3\n",
      "demucs_preprocessed_input/quoc_master_1st_1000_preprocessed/Bên Nhau Để Ta Bớt Đau.mp3\n",
      "demucs_preprocessed_input/quoc_master_1st_1000_preprocessed/Chúng Ta Không Thể Yêu Thêm Lần Nữa (Prod. Vic).mp3\n",
      "demucs_preprocessed_input/quoc_master_1st_1000_preprocessed/Anh Biết Tin Ai.mp3\n",
      "demucs_preprocessed_input/quoc_master_1st_1000_preprocessed/Chuỗi Ngày Vắng Em.mp3\n",
      "demucs_preprocessed_input/quoc_master_1st_1000_preprocessed/Chúc Xuân Phát Tài.mp3\n",
      "demucs_preprocessed_input/quoc_master_1st_1000_preprocessed/Muốn Nói Lời Yêu Em.mp3\n",
      "demucs_preprocessed_input/quoc_master_1st_1000_preprocessed/Màu Hoa Kỷ Niệm.mp3\n",
      "demucs_preprocessed_input/quoc_master_1st_1000_preprocessed/Rap Về Doraemon.mp3\n",
      "demucs_preprocessed_input/quoc_master_1st_1000_preprocessed/Càng Quên Càng Nhớ.mp3\n",
      "demucs_preprocessed_input/quoc_master_1st_1000_preprocessed/Lạc Trong Hồi Kết Buồn.mp3\n",
      "demucs_preprocessed_input/quoc_master_1st_1000_preprocessed/Liên Khúc Ngày Tết Quê Em – Chúc Tết.mp3\n",
      "demucs_preprocessed_input/quoc_master_1st_1000_preprocessed/Tình Yêu Đến.mp3\n",
      "demucs_preprocessed_input/quoc_master_1st_1000_preprocessed/Con Số Không Của Tình Yêu.mp3\n",
      "demucs_preprocessed_input/quoc_master_1st_1000_preprocessed/50% khi yêu 2.mp3\n",
      "demucs_preprocessed_input/quoc_master_1st_1000_preprocessed/Giây Phút Giao Thừa.mp3\n",
      "demucs_preprocessed_input/quoc_master_1st_1000_preprocessed/Anh Muốn.mp3\n",
      "demucs_preprocessed_input/quoc_master_1st_1000_preprocessed/Chắc Sẽ Quên Được Người.mp3\n",
      "demucs_preprocessed_input/quoc_master_1st_1000_preprocessed/Em Hạnh Phúc Là Anh An Lòng.mp3\n",
      "demucs_preprocessed_input/quoc_master_1st_1000_preprocessed/Vì Em Chưa Hiểu Ra.mp3\n",
      "demucs_preprocessed_input/quoc_master_1st_1000_preprocessed/Vầng Trăng Cô Đơn.mp3\n",
      "demucs_preprocessed_input/quoc_master_1st_1000_preprocessed/Giấc Mơ Thức Tỉnh.mp3\n",
      "demucs_preprocessed_input/quoc_master_1st_1000_preprocessed/Chợt Nhớ & Tình Trái Ngang.mp3\n",
      "demucs_preprocessed_input/quoc_master_1st_1000_preprocessed/Vắng Cha.mp3\n",
      "demucs_preprocessed_input/quoc_master_1st_1000_preprocessed/Đời Tôi Cô Đơn (Remix).mp3\n",
      "demucs_preprocessed_input/quoc_master_1st_1000_preprocessed/Cơn Mưa Xóa Nhòa.mp3\n",
      "demucs_preprocessed_input/quoc_master_1st_1000_preprocessed/Quê Mẹ.mp3\n",
      "demucs_preprocessed_input/quoc_master_1st_1000_preprocessed/Thái Bình Mồ Hôi Rơi.mp3\n",
      "demucs_preprocessed_input/quoc_master_1st_1000_preprocessed/Tơ Hồng.mp3\n",
      "demucs_preprocessed_input/quoc_master_1st_1000_preprocessed/Chờ Đông.mp3\n",
      "demucs_preprocessed_input/quoc_master_1st_1000_preprocessed/Đừng Dễ Dãi Hôn Môi Người Khác.mp3\n",
      "demucs_preprocessed_input/quoc_master_1st_1000_preprocessed/Đón Giáng Sinh Về.mp3\n",
      "demucs_preprocessed_input/quoc_master_1st_1000_preprocessed/Chiều Đồng Quê.mp3\n",
      "demucs_preprocessed_input/quoc_master_1st_1000_preprocessed/Như Lần Đầu.mp3\n",
      "demucs_preprocessed_input/quoc_master_1st_1000_preprocessed/Âm Dương Xa Cách.mp3\n",
      "demucs_preprocessed_input/quoc_master_1st_1000_preprocessed/Thanh Xuân Là Để Nhớ.mp3\n",
      "demucs_preprocessed_input/quoc_master_1st_1000_preprocessed/Tình Ảo.mp3\n",
      "demucs_preprocessed_input/quoc_master_1st_1000_preprocessed/Em Làm Bạn Gái Anh Được Không.mp3\n",
      "demucs_preprocessed_input/quoc_master_1st_1000_preprocessed/Đời Người.mp3\n",
      "demucs_preprocessed_input/quoc_master_1st_1000_preprocessed/Là Vì Ai (Another Version).mp3\n",
      "demucs_preprocessed_input/quoc_master_1st_1000_preprocessed/Từ Nay Về Sau.mp3\n",
      "demucs_preprocessed_input/quoc_master_1st_1000_preprocessed/Anh Không Làm Được.mp3\n",
      "demucs_preprocessed_input/quoc_master_1st_1000_preprocessed/Căn Nhà Vắng Đôi Tình Nhân.mp3\n",
      "demucs_preprocessed_input/quoc_master_1st_1000_preprocessed/MAX CÔ ĐƠN (OST Đại Ca Đi Học).mp3\n",
      "demucs_preprocessed_input/quoc_master_1st_1000_preprocessed/Rời Xa Để Trưởng Thành.mp3\n",
      "demucs_preprocessed_input/quoc_master_1st_1000_preprocessed/Bước Chân Em Về.mp3\n",
      "demucs_preprocessed_input/quoc_master_1st_1000_preprocessed/Khi Ta Đôi Mươi.mp3\n",
      "demucs_preprocessed_input/quoc_master_1st_1000_preprocessed/Tình Quay Gót.mp3\n",
      "demucs_preprocessed_input/quoc_master_1st_1000_preprocessed/Cố Níu Tay Anh.mp3\n",
      "demucs_preprocessed_input/quoc_master_1st_1000_preprocessed/Anh Đừng Vội.mp3\n",
      "demucs_preprocessed_input/quoc_master_1st_1000_preprocessed/Yêu Nhau Sẽ Trở Về.mp3\n",
      "demucs_preprocessed_input/quoc_master_1st_1000_preprocessed/Nỗi Nhớ Thiêu Đốt.mp3\n",
      "demucs_preprocessed_input/quoc_master_1st_1000_preprocessed/Không Thể Cùng Nhau Suốt Kiếp.mp3\n",
      "demucs_preprocessed_input/quoc_master_1st_1000_preprocessed/Kết Thúc Như Vậy Sao.mp3\n",
      "demucs_preprocessed_input/quoc_master_1st_1000_preprocessed/Cha Chồng Nàng Dâu.mp3\n",
      "demucs_preprocessed_input/quoc_master_1st_1000_preprocessed/Tâm Sự Người Xa Xứ.mp3\n",
      "demucs_preprocessed_input/quoc_master_1st_1000_preprocessed/Lễ Vu Lan.mp3\n",
      "demucs_preprocessed_input/quoc_master_1st_1000_preprocessed/Có Những Mảnh Đời.mp3\n",
      "demucs_preprocessed_input/quoc_master_1st_1000_preprocessed/Xin Lỗi Vì Tất Cả.mp3\n",
      "demucs_preprocessed_input/quoc_master_1st_1000_preprocessed/Áo Anh Sứt Chỉ.mp3\n",
      "demucs_preprocessed_input/quoc_master_1st_1000_preprocessed/Nếu Anh Thấy Lòng Mình Yếu Đuối.mp3\n",
      "demucs_preprocessed_input/quoc_master_1st_1000_preprocessed/Em Là Ngọc Nữ Thần Tiên.mp3\n",
      "demucs_preprocessed_input/quoc_master_1st_1000_preprocessed/Hãy Quên Đi Buồn Đau.mp3\n",
      "demucs_preprocessed_input/quoc_master_1st_1000_preprocessed/Chúng Ta Là Tri Kỉ.mp3\n",
      "demucs_preprocessed_input/quoc_master_1st_1000_preprocessed/Em Mong Chờ Anh.mp3\n",
      "demucs_preprocessed_input/quoc_master_1st_1000_preprocessed/Chất Độc.mp3\n",
      "demucs_preprocessed_input/quoc_master_1st_1000_preprocessed/Không Còn Nước Mắt.mp3\n",
      "demucs_preprocessed_input/quoc_master_1st_1000_preprocessed/Dĩ Vãng Nhạt Nhòa (Cover).mp3\n",
      "demucs_preprocessed_input/quoc_master_1st_1000_preprocessed/Khoảng Cách Cho Nhau.mp3\n",
      "demucs_preprocessed_input/quoc_master_1st_1000_preprocessed/Giấc Mơ Tuổi Thơ.mp3\n",
      "demucs_preprocessed_input/quoc_master_1st_1000_preprocessed/Cô Em Gì Ơi.mp3\n",
      "demucs_preprocessed_input/quoc_master_1st_1000_preprocessed/Yêu Anh Nhưng Đã Muộn.mp3\n",
      "demucs_preprocessed_input/quoc_master_1st_1000_preprocessed/Hạnh Phúc Khi Bên Nhau.mp3\n",
      "demucs_preprocessed_input/quoc_master_1st_1000_preprocessed/Dù Anh Không Đến.mp3\n",
      "demucs_preprocessed_input/quoc_master_1st_1000_preprocessed/Hạnh Phúc Không Dành Cho Tình Nhân.mp3\n",
      "demucs_preprocessed_input/quoc_master_1st_1000_preprocessed/Mùa Đông Vắng.mp3\n",
      "demucs_preprocessed_input/quoc_master_1st_1000_preprocessed/Anh Nói Yêu Em Được Không (Awriix Remix).mp3\n",
      "demucs_preprocessed_input/quoc_master_1st_1000_preprocessed/chạy theo cơn mưa.mp3\n",
      "demucs_preprocessed_input/quoc_master_1st_1000_preprocessed/Phụ Tình.mp3\n",
      "demucs_preprocessed_input/quoc_master_1st_1000_preprocessed/Đêm Trôi Về Giấc Mơ.mp3\n",
      "demucs_preprocessed_input/quoc_master_1st_1000_preprocessed/Gửi Về Nơi Cuối Đất.mp3\n",
      "demucs_preprocessed_input/quoc_master_1st_1000_preprocessed/Cơn Mơ Tình Ái.mp3\n",
      "demucs_preprocessed_input/quoc_master_1st_1000_preprocessed/Mật Đắng.mp3\n",
      "demucs_preprocessed_input/quoc_master_1st_1000_preprocessed/Trách Ai Vô Tình.mp3\n",
      "demucs_preprocessed_input/quoc_master_1st_1000_preprocessed/Người Ta Nói Tôi Dối Gian.mp3\n",
      "demucs_preprocessed_input/quoc_master_1st_1000_preprocessed/Nghèo.mp3\n",
      "demucs_preprocessed_input/quoc_master_1st_1000_preprocessed/Có Bao Giờ Anh Tiếc Nhớ.mp3\n",
      "demucs_preprocessed_input/quoc_master_1st_1000_preprocessed/LK： Màu Xanh Kỷ Niệm.mp3\n",
      "demucs_preprocessed_input/quoc_master_1st_1000_preprocessed/Đóa Hoa Vô Ưu.mp3\n",
      "demucs_preprocessed_input/quoc_master_1st_1000_preprocessed/Bà Xã Tôi Number One.mp3\n",
      "demucs_preprocessed_input/quoc_master_1st_1000_preprocessed/Điệu Ru Ca Tình Yêu.mp3\n",
      "demucs_preprocessed_input/quoc_master_1st_1000_preprocessed/Anh Cất Em Đi Nhé.mp3\n",
      "demucs_preprocessed_input/quoc_master_1st_1000_preprocessed/Cào Cào Bay Trong Gió.mp3\n",
      "demucs_preprocessed_input/quoc_master_1st_1000_preprocessed/Điều Dành Cho Anh.mp3\n",
      "demucs_preprocessed_input/quoc_master_1st_1000_preprocessed/Anh Vẫn Mơ.mp3\n",
      "demucs_preprocessed_input/quoc_master_1st_1000_preprocessed/Chỉ Còn Một Mình Em.mp3\n",
      "demucs_preprocessed_input/quoc_master_1st_1000_preprocessed/Hãy Để Tình Ngủ Say (Remix).mp3\n",
      "demucs_preprocessed_input/quoc_master_1st_1000_preprocessed/Lý Bông Mai.mp3\n",
      "demucs_preprocessed_input/quoc_master_1st_1000_preprocessed/Anh Không Vui Chơi Đâu.mp3\n",
      "demucs_preprocessed_input/quoc_master_1st_1000_preprocessed/Lộp Độp.mp3\n",
      "demucs_preprocessed_input/quoc_master_1st_1000_preprocessed/Kỷ Niệm Xưa.mp3\n",
      "demucs_preprocessed_input/quoc_master_1st_1000_preprocessed/Em Ra Đi Mùa Thu.mp3\n",
      "demucs_preprocessed_input/quoc_master_1st_1000_preprocessed/Mùa Đông Là Để Yêu.mp3\n",
      "demucs_preprocessed_input/quoc_master_1st_1000_preprocessed/Liên Khúc Ơn Nghĩa Sinh Thành.mp3\n",
      "demucs_preprocessed_input/quoc_master_1st_1000_preprocessed/Mùa Đông Ấy.mp3\n",
      "demucs_preprocessed_input/quoc_master_1st_1000_preprocessed/Đường Một Chiều (Cover).mp3\n",
      "demucs_preprocessed_input/quoc_master_1st_1000_preprocessed/Chờ Kẻ Phụ Tình.mp3\n",
      "demucs_preprocessed_input/quoc_master_1st_1000_preprocessed/Ước Muốn Của Em (Acoustic Version).mp3\n",
      "demucs_preprocessed_input/quoc_master_1st_1000_preprocessed/Bước Ra Từ Cuộc Chơi.mp3\n",
      "demucs_preprocessed_input/quoc_master_1st_1000_preprocessed/Chia Cách Một Đại Dương.mp3\n",
      "demucs_preprocessed_input/quoc_master_1st_1000_preprocessed/Tình Khúc Chẳng Bao Giờ Cũ.mp3\n",
      "demucs_preprocessed_input/quoc_master_1st_1000_preprocessed/Bài Tango Ngày Ấy.mp3\n",
      "demucs_preprocessed_input/quoc_master_1st_1000_preprocessed/Mashup： Trăng Sơn Cước, Về Với Em.mp3\n",
      "demucs_preprocessed_input/quoc_master_1st_1000_preprocessed/Sợ Bắt Đầu.mp3\n",
      "demucs_preprocessed_input/quoc_master_1st_1000_preprocessed/Ngày Đó.mp3\n",
      "demucs_preprocessed_input/quoc_master_1st_1000_preprocessed/052 (Không Phai 2).mp3\n",
      "demucs_preprocessed_input/quoc_master_1st_1000_preprocessed/Trong Nỗi Đau Tình Cờ.mp3\n",
      "demucs_preprocessed_input/quoc_master_1st_1000_preprocessed/Tìm Lại Nụ Cười.mp3\n",
      "demucs_preprocessed_input/quoc_master_1st_1000_preprocessed/Bé Mắt Nhung.mp3\n",
      "demucs_preprocessed_input/quoc_master_1st_1000_preprocessed/Về Đây Em Nhé.mp3\n",
      "demucs_preprocessed_input/quoc_master_1st_1000_preprocessed/Đi Ra Đi Vào.mp3\n",
      "demucs_preprocessed_input/quoc_master_1st_1000_preprocessed/Anh Em MaCau (SinKra remix).mp3\n",
      "demucs_preprocessed_input/quoc_master_1st_1000_preprocessed/Treo Ngược Cành Cây.mp3\n",
      "demucs_preprocessed_input/quoc_master_1st_1000_preprocessed/Gọi Phone Cho Bé.mp3\n",
      "demucs_preprocessed_input/quoc_master_1st_1000_preprocessed/Đợi Em Về.mp3\n",
      "demucs_preprocessed_input/quoc_master_1st_1000_preprocessed/Và Em Đã Biết.mp3\n",
      "demucs_preprocessed_input/quoc_master_1st_1000_preprocessed/Chỉ Cần Có Phật.mp3\n",
      "demucs_preprocessed_input/quoc_master_1st_1000_preprocessed/Nỗi Niềm Chưa Ngỏ.mp3\n",
      "demucs_preprocessed_input/quoc_master_1st_1000_preprocessed/Múc Ánh Trăng Vàng.mp3\n",
      "demucs_preprocessed_input/quoc_master_1st_1000_preprocessed/Nha Trang Ngày Về.mp3\n",
      "demucs_preprocessed_input/quoc_master_1st_1000_preprocessed/Đừng Lau Nước Mắt Cho Em.mp3\n",
      "demucs_preprocessed_input/quoc_master_1st_1000_preprocessed/Âm Thanh Buồn.mp3\n",
      "demucs_preprocessed_input/quoc_master_1st_1000_preprocessed/Đi Tìm Kỷ Niệm.mp3\n",
      "demucs_preprocessed_input/quoc_master_1st_1000_preprocessed/Giàu Sang.mp3\n",
      "demucs_preprocessed_input/quoc_master_1st_1000_preprocessed/Khúc Chiều Thu.mp3\n",
      "demucs_preprocessed_input/quoc_master_1st_1000_preprocessed/Kéo Khỏi Cô Đơn.mp3\n",
      "demucs_preprocessed_input/quoc_master_1st_1000_preprocessed/Cảm Ơn.mp3\n",
      "demucs_preprocessed_input/quoc_master_1st_1000_preprocessed/Anh trở về.mp3\n",
      "demucs_preprocessed_input/quoc_master_1st_1000_preprocessed/Bỏ Lại.mp3\n",
      "demucs_preprocessed_input/quoc_master_1st_1000_preprocessed/Nếu Như Và Nếu Như.mp3\n",
      "demucs_preprocessed_input/quoc_master_1st_1000_preprocessed/Biển Nước Mắt.mp3\n",
      "demucs_preprocessed_input/quoc_master_1st_1000_preprocessed/Chuyện Tình Bướm Hoa.mp3\n",
      "demucs_preprocessed_input/quoc_master_1st_1000_preprocessed/Buông... Em Yêu Anh.mp3\n",
      "demucs_preprocessed_input/quoc_master_1st_1000_preprocessed/365 Ngày Yêu (Remix).mp3\n",
      "demucs_preprocessed_input/quoc_master_1st_1000_preprocessed/Hành Trang Nước Mắt.mp3\n",
      "demucs_preprocessed_input/quoc_master_1st_1000_preprocessed/Ốc Đắng Buồn Ai.mp3\n",
      "demucs_preprocessed_input/quoc_master_1st_1000_preprocessed/Giờ Mới Biết.mp3\n",
      "demucs_preprocessed_input/quoc_master_1st_1000_preprocessed/Hà Nội Những Đêm Không Ngủ.mp3\n",
      "demucs_preprocessed_input/quoc_master_1st_1000_preprocessed/Con Tim Em Đã Đổi Thay.mp3\n",
      "demucs_preprocessed_input/quoc_master_1st_1000_preprocessed/Em Vẫn Chờ.mp3\n",
      "demucs_preprocessed_input/quoc_master_1st_1000_preprocessed/Mối Tình Xa Xưa.mp3\n",
      "demucs_preprocessed_input/quoc_master_1st_1000_preprocessed/Canh Bạc Cuộc Đời.mp3\n",
      "demucs_preprocessed_input/quoc_master_1st_1000_preprocessed/Ai Cũng Yêu Chú Mèo.mp3\n",
      "demucs_preprocessed_input/quoc_master_1st_1000_preprocessed/Giấc Mơ Hiền.mp3\n",
      "demucs_preprocessed_input/quoc_master_1st_1000_preprocessed/Con Sông Tuổi Thơ Tôi.mp3\n",
      "demucs_preprocessed_input/quoc_master_1st_1000_preprocessed/Bên Anh Đêm Nay.mp3\n",
      "demucs_preprocessed_input/quoc_master_1st_1000_preprocessed/Bất Chợt Chiều Thứ Bảy.mp3\n",
      "demucs_preprocessed_input/quoc_master_1st_1000_preprocessed/Tình Ca Mùa Xuân.mp3\n",
      "demucs_preprocessed_input/quoc_master_1st_1000_preprocessed/Đọa Đày.mp3\n",
      "demucs_preprocessed_input/quoc_master_1st_1000_preprocessed/Tự Thân Nàng Cứu Độ Nàng.mp3\n",
      "demucs_preprocessed_input/quoc_master_1st_1000_preprocessed/Chia Tay Thôi Em (Locprox Remix).mp3\n",
      "demucs_preprocessed_input/quoc_master_1st_1000_preprocessed/Xuân Đẹp Làm Sao.mp3\n",
      "demucs_preprocessed_input/quoc_master_1st_1000_preprocessed/Đời Trai Lênh Đênh 2 (NMG REMIX).mp3\n",
      "demucs_preprocessed_input/quoc_master_1st_1000_preprocessed/Anh Cũng Như Vậy Thôi.mp3\n",
      "demucs_preprocessed_input/quoc_master_1st_1000_preprocessed/Giọt Mưa Thu (Album Tại Sao Là Không).mp3\n",
      "demucs_preprocessed_input/quoc_master_1st_1000_preprocessed/Bên Kia Đời Nhau.mp3\n",
      "demucs_preprocessed_input/quoc_master_1st_1000_preprocessed/Tại Ai.mp3\n",
      "demucs_preprocessed_input/quoc_master_1st_1000_preprocessed/Bể Cái Ly.mp3\n",
      "demucs_preprocessed_input/quoc_master_1st_1000_preprocessed/Dù Em Đã Xa.mp3\n",
      "demucs_preprocessed_input/quoc_master_1st_1000_preprocessed/Khoảng Trời Trong Mắt Ai.mp3\n",
      "demucs_preprocessed_input/quoc_master_1st_1000_preprocessed/Delilah - Tình Hận.mp3\n",
      "demucs_preprocessed_input/quoc_master_1st_1000_preprocessed/Em Có Từng Yêu.mp3\n",
      "demucs_preprocessed_input/quoc_master_1st_1000_preprocessed/Lan Và Điệp 1.mp3\n",
      "demucs_preprocessed_input/quoc_master_1st_1000_preprocessed/Tình Sầu.mp3\n",
      "demucs_preprocessed_input/quoc_master_1st_1000_preprocessed/Ánh Sáng Nơi Cuối Con Đường.mp3\n",
      "demucs_preprocessed_input/quoc_master_1st_1000_preprocessed/Rồi Em Sẽ Về.mp3\n",
      "demucs_preprocessed_input/quoc_master_1st_1000_preprocessed/Anh Sáu Về Quê.mp3\n",
      "demucs_preprocessed_input/quoc_master_1st_1000_preprocessed/Câu Chuyện Hoa Ngọc Lan.mp3\n",
      "demucs_preprocessed_input/quoc_master_1st_1000_preprocessed/Lý Tình Xuân.mp3\n",
      "demucs_preprocessed_input/quoc_master_1st_1000_preprocessed/LK Lẻ Bóng & Ai Cho Tôi Tình Yêu.mp3\n",
      "demucs_preprocessed_input/quoc_master_1st_1000_preprocessed/Lạc Trong Giấc Mơ.mp3\n",
      "demucs_preprocessed_input/quoc_master_1st_1000_preprocessed/Khoái Ăn Sang Sáng Ăn Khoai.mp3\n",
      "demucs_preprocessed_input/quoc_master_1st_1000_preprocessed/Cha Mãi Bên Con.mp3\n",
      "demucs_preprocessed_input/quoc_master_1st_1000_preprocessed/Cú Hích Trên Không.mp3\n",
      "demucs_preprocessed_input/quoc_master_1st_1000_preprocessed/Nếu Em Không Gặp May.mp3\n",
      "demucs_preprocessed_input/quoc_master_1st_1000_preprocessed/Không Một Lần Hỏi Han.mp3\n",
      "demucs_preprocessed_input/quoc_master_1st_1000_preprocessed/Đến Trong Mùa Xuân.mp3\n",
      "demucs_preprocessed_input/quoc_master_1st_1000_preprocessed/Bởi Vì Anh Yêu Em.mp3\n",
      "demucs_preprocessed_input/quoc_master_1st_1000_preprocessed/Một Ngày Mới.mp3\n",
      "demucs_preprocessed_input/quoc_master_1st_1000_preprocessed/Mùa Ly Bỏ Lại.mp3\n",
      "demucs_preprocessed_input/quoc_master_1st_1000_preprocessed/Đợi Đến Tháng 13.mp3\n",
      "demucs_preprocessed_input/quoc_master_1st_1000_preprocessed/Em Ơi (Beat).mp3\n",
      "demucs_preprocessed_input/quoc_master_1st_1000_preprocessed/Bao Ngày Nhớ Bao Ngày Đau.mp3\n",
      "demucs_preprocessed_input/quoc_master_1st_1000_preprocessed/Không Gian Chơi Vơi.mp3\n",
      "demucs_preprocessed_input/quoc_master_1st_1000_preprocessed/Chuyến Xe Miền Tây.mp3\n",
      "demucs_preprocessed_input/quoc_master_1st_1000_preprocessed/Áng Mây Vô Tình (Remix).mp3\n",
      "demucs_preprocessed_input/quoc_master_1st_1000_preprocessed/Vũ Điệu Tình Nồng.mp3\n",
      "demucs_preprocessed_input/quoc_master_1st_1000_preprocessed/Bản Tình Ca Tuyết Trắng.mp3\n",
      "demucs_preprocessed_input/quoc_master_1st_1000_preprocessed/Càng Trưởng Thành Càng Cô Đơn ⧸ Gửi Người Yêu Cũ (Live).mp3\n",
      "demucs_preprocessed_input/quoc_master_1st_1000_preprocessed/Cho Niềm Vui Lớn Mãi.mp3\n",
      "demucs_preprocessed_input/quoc_master_1st_1000_preprocessed/Tình Cũ Bao Giờ Cũng Tốt Hơn？ (Remix).mp3\n",
      "demucs_preprocessed_input/quoc_master_1st_1000_preprocessed/Người Ấy Sẽ Quên Em Thôi.mp3\n",
      "demucs_preprocessed_input/quoc_master_1st_1000_preprocessed/Hình Như Em Say.mp3\n",
      "demucs_preprocessed_input/quoc_master_1st_1000_preprocessed/Chàng Trai Hành Tây.mp3\n",
      "demucs_preprocessed_input/quoc_master_1st_1000_preprocessed/Em Sẽ Quên Người Ơi.mp3\n",
      "demucs_preprocessed_input/quoc_master_1st_1000_preprocessed/Khúc Hát Tặng Vợ Yêu.mp3\n",
      "demucs_preprocessed_input/quoc_master_1st_1000_preprocessed/Áo Ấm Yêu Thương.mp3\n",
      "demucs_preprocessed_input/quoc_master_1st_1000_preprocessed/Hãy Hứa Chờ Anh Em Nhé.mp3\n",
      "demucs_preprocessed_input/quoc_master_1st_1000_preprocessed/Ave Maria Trăng Từ Bi.mp3\n",
      "demucs_preprocessed_input/quoc_master_1st_1000_preprocessed/Ừ Thì Anh Sai.mp3\n",
      "demucs_preprocessed_input/quoc_master_1st_1000_preprocessed/Lệ Đắng Tình Yêu.mp3\n",
      "demucs_preprocessed_input/quoc_master_1st_1000_preprocessed/Tình Nghèo.mp3\n",
      "demucs_preprocessed_input/quoc_master_1st_1000_preprocessed/Gió Mùa Xuân Tới.mp3\n",
      "demucs_preprocessed_input/quoc_master_1st_1000_preprocessed/LK Kiếp Lang Thang (Remix).mp3\n",
      "demucs_preprocessed_input/quoc_master_1st_1000_preprocessed/Khi Tình Đã Xa.mp3\n",
      "demucs_preprocessed_input/quoc_master_1st_1000_preprocessed/Người Yêu Ơi.mp3\n",
      "demucs_preprocessed_input/quoc_master_1st_1000_preprocessed/Một Ngày Đẹp Trời.mp3\n",
      "demucs_preprocessed_input/quoc_master_1st_1000_preprocessed/Nhật Ký Biển.mp3\n",
      "demucs_preprocessed_input/quoc_master_1st_1000_preprocessed/Khi Con Tim Không Mang Đến Tình Yêu.mp3\n",
      "demucs_preprocessed_input/quoc_master_1st_1000_preprocessed/Kiếp Nào Có Yêu Nhau.mp3\n",
      "demucs_preprocessed_input/quoc_master_1st_1000_preprocessed/Còn Nhớ Không Em.mp3\n",
      "demucs_preprocessed_input/quoc_master_1st_1000_preprocessed/Chúng Con Bên Giấc Ngủ Của Người.mp3\n",
      "demucs_preprocessed_input/quoc_master_1st_1000_preprocessed/Anh Thế Nào？.mp3\n",
      "demucs_preprocessed_input/quoc_master_1st_1000_preprocessed/Anh Cứ Thử Quên Em.mp3\n",
      "demucs_preprocessed_input/quoc_master_1st_1000_preprocessed/Con Đê Buồn.mp3\n",
      "demucs_preprocessed_input/quoc_master_1st_1000_preprocessed/Cây Đa.mp3\n",
      "demucs_preprocessed_input/quoc_master_1st_1000_preprocessed/Em Không Như Anh Nghĩ.mp3\n",
      "demucs_preprocessed_input/quoc_master_1st_1000_preprocessed/Còn đâu lời anh hứa.mp3\n",
      "demucs_preprocessed_input/quoc_master_1st_1000_preprocessed/Tết Đến Rồi Sao Chẳng Thấy Em Đâu.mp3\n",
      "demucs_preprocessed_input/quoc_master_1st_1000_preprocessed/Cao Bằng Thân Yêu.mp3\n",
      "demucs_preprocessed_input/quoc_master_1st_1000_preprocessed/Aiii Chuyện Cũ Bán Hông？.mp3\n",
      "demucs_preprocessed_input/quoc_master_1st_1000_preprocessed/Chợt Nhận Ra.mp3\n",
      "demucs_preprocessed_input/quoc_master_1st_1000_preprocessed/Bình Minh Mùa Thu.mp3\n",
      "demucs_preprocessed_input/quoc_master_1st_1000_preprocessed/Đã Không Còn Yêu.mp3\n",
      "demucs_preprocessed_input/quoc_master_1st_1000_preprocessed/Liên Khúc Gió Về Miền Xuôi.mp3\n",
      "demucs_preprocessed_input/quoc_master_1st_1000_preprocessed/Da Nâu.mp3\n",
      "demucs_preprocessed_input/quoc_master_1st_1000_preprocessed/Thiên Hạ Hữu Tình.mp3\n",
      "demucs_preprocessed_input/quoc_master_1st_1000_preprocessed/Đừng Giận Lâu Con Gái Ơi.mp3\n",
      "demucs_preprocessed_input/quoc_master_1st_1000_preprocessed/Anh Mong Quay Về (Beat).mp3\n",
      "demucs_preprocessed_input/quoc_master_1st_1000_preprocessed/Liên Khúc Con Đường Xưa Em Đi.mp3\n",
      "demucs_preprocessed_input/quoc_master_1st_1000_preprocessed/Giấc Mơ Hòa Bình.mp3\n",
      "demucs_preprocessed_input/quoc_master_1st_1000_preprocessed/LK Top Hits ： Trả Nợ Tình Xa, Không Còn Mùa Thu, Trống Vắng, Giọt Sương Trên Mí Mắt, Mặt Trời Dịu Êm.mp3\n",
      "demucs_preprocessed_input/quoc_master_1st_1000_preprocessed/Ngày Em Đi.mp3\n",
      "demucs_preprocessed_input/quoc_master_1st_1000_preprocessed/Anh Sẽ.mp3\n",
      "demucs_preprocessed_input/quoc_master_1st_1000_preprocessed/Dù Biết.mp3\n",
      "demucs_preprocessed_input/quoc_master_1st_1000_preprocessed/Tình khúc buồn.mp3\n",
      "demucs_preprocessed_input/quoc_master_1st_1000_preprocessed/Dịu Ngọt Tình Yêu Thương.mp3\n",
      "demucs_preprocessed_input/quoc_master_1st_1000_preprocessed/Mãi Mãi Tình Say.mp3\n",
      "demucs_preprocessed_input/quoc_master_1st_1000_preprocessed/Tôi Đam Mê.mp3\n",
      "demucs_preprocessed_input/quoc_master_1st_1000_preprocessed/Biết Yêu Thật Nhiều.mp3\n",
      "demucs_preprocessed_input/quoc_master_1st_1000_preprocessed/Khi Em Ra Đi.mp3\n",
      "demucs_preprocessed_input/quoc_master_1st_1000_preprocessed/Phim Giả Tình Thật.mp3\n",
      "demucs_preprocessed_input/quoc_master_1st_1000_preprocessed/Tâm Sự Chiếc Áo Dòng (New Version).mp3\n",
      "demucs_preprocessed_input/quoc_master_1st_1000_preprocessed/Chúa Là Con Đường.mp3\n",
      "demucs_preprocessed_input/quoc_master_1st_1000_preprocessed/Liên Khúc Tình Nghèo Có Nhau - Ước Mộng Đôi Ta.mp3\n",
      "demucs_preprocessed_input/quoc_master_1st_1000_preprocessed/Khúc Tự Tình Mùa Xuân.mp3\n",
      "demucs_preprocessed_input/quoc_master_1st_1000_preprocessed/Anh, Em Và Đêm.mp3\n",
      "demucs_preprocessed_input/quoc_master_1st_1000_preprocessed/Yêu Anh Không.mp3\n",
      "demucs_preprocessed_input/quoc_master_1st_1000_preprocessed/Dòng Thời Gian.mp3\n",
      "demucs_preprocessed_input/quoc_master_1st_1000_preprocessed/Phút Giây Muộn Màng.mp3\n",
      "demucs_preprocessed_input/quoc_master_1st_1000_preprocessed/Anh Vẫn Cố Giả Vờ.mp3\n",
      "demucs_preprocessed_input/quoc_master_1st_1000_preprocessed/Phôi Pha.mp3\n",
      "demucs_preprocessed_input/quoc_master_1st_1000_preprocessed/Im Lặng Hơn Ngàn Lời Nói (Beat).mp3\n",
      "demucs_preprocessed_input/quoc_master_1st_1000_preprocessed/Vết Cắt.mp3\n",
      "demucs_preprocessed_input/quoc_master_1st_1000_preprocessed/Ngoại.mp3\n",
      "demucs_preprocessed_input/quoc_master_1st_1000_preprocessed/Bốn Năm Vợ Chồng.mp3\n",
      "demucs_preprocessed_input/quoc_master_1st_1000_preprocessed/Cõi Nhớ.mp3\n",
      "demucs_preprocessed_input/quoc_master_1st_1000_preprocessed/Ánh Nến Mong Manh.mp3\n",
      "demucs_preprocessed_input/quoc_master_1st_1000_preprocessed/Bên Em.mp3\n",
      "demucs_preprocessed_input/quoc_master_1st_1000_preprocessed/Dứt Khoát.mp3\n",
      "demucs_preprocessed_input/quoc_master_1st_1000_preprocessed/Tình Đã Phai.mp3\n",
      "demucs_preprocessed_input/quoc_master_1st_1000_preprocessed/Anh Muốn Quay Về.mp3\n",
      "demucs_preprocessed_input/quoc_master_1st_1000_preprocessed/Đời Tôi Chỉ Một Người.mp3\n",
      "demucs_preprocessed_input/quoc_master_1st_1000_preprocessed/Đừng Xa Em Người Ơi.mp3\n",
      "demucs_preprocessed_input/quoc_master_1st_1000_preprocessed/Lỡ Duyên Khó Gặp.mp3\n",
      "demucs_preprocessed_input/quoc_master_1st_1000_preprocessed/Tổn Thương Bằng Một Lời Nói.mp3\n",
      "demucs_preprocessed_input/quoc_master_1st_1000_preprocessed/Trong Vai Người Lạ.mp3\n",
      "demucs_preprocessed_input/quoc_master_1st_1000_preprocessed/Tu Hú Kêu Lạc Mùa.mp3\n",
      "demucs_preprocessed_input/quoc_master_1st_1000_preprocessed/Nỗi Buồn Không Tên.mp3\n",
      "demucs_preprocessed_input/quoc_master_1st_1000_preprocessed/Khi Yêu Trái Tim Yếu Mềm.mp3\n",
      "demucs_preprocessed_input/quoc_master_1st_1000_preprocessed/Cô Liêu (BLUE REMIX).mp3\n",
      "demucs_preprocessed_input/quoc_master_1st_1000_preprocessed/Cô Nàng Đỏng Đảnh.mp3\n",
      "demucs_preprocessed_input/quoc_master_1st_1000_preprocessed/3 Giây Nhớ 1 Đời Thương (Cover).mp3\n",
      "demucs_preprocessed_input/quoc_master_1st_1000_preprocessed/Cô Giáo Trẻ.mp3\n",
      "demucs_preprocessed_input/quoc_master_1st_1000_preprocessed/Nhớ Em Hơn Lúc Nào.mp3\n",
      "demucs_preprocessed_input/quoc_master_1st_1000_preprocessed/Lạ.mp3\n",
      "demucs_preprocessed_input/quoc_master_1st_1000_preprocessed/Bình Minh Trong Em (Like -Tình Yêu - Facebook - Khăn Rằn OST).mp3\n",
      "demucs_preprocessed_input/quoc_master_1st_1000_preprocessed/Nhiều Lúc Như Đôi Khi.mp3\n",
      "demucs_preprocessed_input/quoc_master_1st_1000_preprocessed/Anh Của Ngày Hôm Qua.mp3\n",
      "demucs_preprocessed_input/quoc_master_1st_1000_preprocessed/Hai Trái Tim Một Tấm Lòng.mp3\n",
      "demucs_preprocessed_input/quoc_master_1st_1000_preprocessed/Ta Lại Yêu Nhau.mp3\n",
      "demucs_preprocessed_input/quoc_master_1st_1000_preprocessed/Bốn Mùa.mp3\n",
      "demucs_preprocessed_input/quoc_master_1st_1000_preprocessed/Đêm Nghe Tiếng Mưa.mp3\n",
      "demucs_preprocessed_input/quoc_master_1st_1000_preprocessed/Con Sẽ Không Quên.mp3\n",
      "demucs_preprocessed_input/quoc_master_1st_1000_preprocessed/Chuyện Tình.mp3\n",
      "demucs_preprocessed_input/quoc_master_1st_1000_preprocessed/Đường Của Cha.mp3\n",
      "demucs_preprocessed_input/quoc_master_1st_1000_preprocessed/Nụ Cười 18 20 (Remix).mp3\n",
      "demucs_preprocessed_input/quoc_master_1st_1000_preprocessed/Bài Toán Tình Yêu.mp3\n",
      "demucs_preprocessed_input/quoc_master_1st_1000_preprocessed/Không Tiền Bậu Nói Ai Nghe.mp3\n",
      "demucs_preprocessed_input/quoc_master_1st_1000_preprocessed/Anh Từng Chờ Em.mp3\n",
      "demucs_preprocessed_input/quoc_master_1st_1000_preprocessed/Đẹp Tình ! Đẹp Quê.mp3\n",
      "demucs_preprocessed_input/quoc_master_1st_1000_preprocessed/Hương Vị Tình.mp3\n",
      "demucs_preprocessed_input/quoc_master_1st_1000_preprocessed/Buồn Nào Đẹp Như Thế - “Chuyện Của Anh”.mp3\n",
      "demucs_preprocessed_input/quoc_master_1st_1000_preprocessed/Tình Buồn Đêm Mưa.mp3\n",
      "demucs_preprocessed_input/quoc_master_1st_1000_preprocessed/Anh Em Sống Thế Đấy.mp3\n",
      "demucs_preprocessed_input/quoc_master_1st_1000_preprocessed/LK：Buồn - Ảo Ảnh.mp3\n",
      "demucs_preprocessed_input/quoc_master_1st_1000_preprocessed/Em Là Ai Em Là Mơ.mp3\n",
      "demucs_preprocessed_input/quoc_master_1st_1000_preprocessed/Vội Vàng Đến Bên Nhau.mp3\n",
      "demucs_preprocessed_input/quoc_master_1st_1000_preprocessed/Bà Năm.mp3\n",
      "demucs_preprocessed_input/quoc_master_1st_1000_preprocessed/Em Cứ Hiền Xinh Như Thế.mp3\n",
      "demucs_preprocessed_input/quoc_master_1st_1000_preprocessed/Tình Yêu Cũng Như Mảnh Giấy.mp3\n",
      "demucs_preprocessed_input/quoc_master_1st_1000_preprocessed/Bình Yên Từ Trái Tim Tôi.mp3\n",
      "demucs_preprocessed_input/quoc_master_1st_1000_preprocessed/Tình Si.mp3\n",
      "demucs_preprocessed_input/quoc_master_1st_1000_preprocessed/Cùng Một Chữ Tình.mp3\n",
      "demucs_preprocessed_input/quoc_master_1st_1000_preprocessed/Em Đã Từng Yêu.mp3\n",
      "demucs_preprocessed_input/quoc_master_1st_1000_preprocessed/Gửi Đến Em.mp3\n",
      "demucs_preprocessed_input/quoc_master_1st_1000_preprocessed/Cảm Giác Lạ.mp3\n",
      "demucs_preprocessed_input/quoc_master_1st_1000_preprocessed/Tình Anh Dại Khờ (Beat).mp3\n",
      "demucs_preprocessed_input/quoc_master_1st_1000_preprocessed/Bâng Khuâng Chiều Mưa.mp3\n",
      "demucs_preprocessed_input/quoc_master_1st_1000_preprocessed/Em Hứa Thế Nào (EDM).mp3\n",
      "demucs_preprocessed_input/quoc_master_1st_1000_preprocessed/Nơi Ta Hẹn Nhau.mp3\n",
      "demucs_preprocessed_input/quoc_master_1st_1000_preprocessed/Đừng Vì Một Người Mà Khóc.mp3\n",
      "demucs_preprocessed_input/quoc_master_1st_1000_preprocessed/Em Có Thể Làm Bạn Gái Anh Không Beat.mp3\n",
      "demucs_preprocessed_input/quoc_master_1st_1000_preprocessed/Cùng Một Kiếp Hoa.mp3\n",
      "demucs_preprocessed_input/quoc_master_1st_1000_preprocessed/Em mang giấc mơ anh về đâu.mp3\n",
      "With command:  python3 -m demucs.separate -o demucs_output/ -n htdemucs --mp3 --mp3-bitrate=320 --two-stems=vocals\n"
     ]
    },
    {
     "name": "stderr",
     "output_type": "stream",
     "text": [
      "/home/bernard/nus/cs5647/project/demucs/demucs/api.py:27: UserWarning: TorchAudio's global backend is now deprecated. Please enable distpatcher by setting `TORCHAUDIO_USE_BACKEND_DISPATCHER=1`, and specify backend when calling load/info/save function.\n",
      "  import torchaudio as ta\n"
     ]
    },
    {
     "name": "stdout",
     "output_type": "stream",
     "text": [
      "Selected model is a bag of 1 models. You will see that many progress bars per track.\n",
      "Separated tracks will be stored in /home/bernard/nus/cs5647/project/demucs/demucs_output/htdemucs\n",
      "Separating track demucs_preprocessed_input/quoc_master_1st_1000_preprocessed/Tuyết Rơi Mùa Hè.mp3\n"
     ]
    },
    {
     "name": "stderr",
     "output_type": "stream",
     "text": [
      "100%|██████████████████████████████████████████████████████████████████████| 274.95/274.95 [00:07<00:00, 35.15seconds/s]\n"
     ]
    },
    {
     "name": "stdout",
     "output_type": "stream",
     "text": [
      "Separating track demucs_preprocessed_input/quoc_master_1st_1000_preprocessed/Ăn Năn Muộn Màng.mp3\n"
     ]
    },
    {
     "name": "stderr",
     "output_type": "stream",
     "text": [
      "100%|██████████████████████████████████████████████| 269.09999999999997/269.09999999999997 [00:06<00:00, 40.06seconds/s]\n"
     ]
    },
    {
     "name": "stdout",
     "output_type": "stream",
     "text": [
      "Separating track demucs_preprocessed_input/quoc_master_1st_1000_preprocessed/Có Chó Nó Yêu Mày.mp3\n"
     ]
    },
    {
     "name": "stderr",
     "output_type": "stream",
     "text": [
      "100%|████████████████████████████████████████████████████████████████████████| 257.4/257.4 [00:06<00:00, 40.20seconds/s]\n"
     ]
    },
    {
     "name": "stdout",
     "output_type": "stream",
     "text": [
      "Separating track demucs_preprocessed_input/quoc_master_1st_1000_preprocessed/Vợ Tương Lai.mp3\n"
     ]
    },
    {
     "name": "stderr",
     "output_type": "stream",
     "text": [
      "100%|██████████████████████████████████████████████| 269.09999999999997/269.09999999999997 [00:06<00:00, 39.85seconds/s]\n"
     ]
    },
    {
     "name": "stdout",
     "output_type": "stream",
     "text": [
      "Separating track demucs_preprocessed_input/quoc_master_1st_1000_preprocessed/Lời Hẹn Mùa Xuân.mp3\n"
     ]
    },
    {
     "name": "stderr",
     "output_type": "stream",
     "text": [
      "100%|██████████████████████████████████████████████| 386.09999999999997/386.09999999999997 [00:09<00:00, 40.75seconds/s]\n"
     ]
    },
    {
     "name": "stdout",
     "output_type": "stream",
     "text": [
      "Separating track demucs_preprocessed_input/quoc_master_1st_1000_preprocessed/Mẹ Của Tôi.mp3\n"
     ]
    },
    {
     "name": "stderr",
     "output_type": "stream",
     "text": [
      "100%|██████████████████████████████████████████████| 310.04999999999995/310.04999999999995 [00:07<00:00, 40.39seconds/s]\n"
     ]
    },
    {
     "name": "stdout",
     "output_type": "stream",
     "text": [
      "Separating track demucs_preprocessed_input/quoc_master_1st_1000_preprocessed/Ai Mang Em Trở Lại.mp3\n"
     ]
    },
    {
     "name": "stderr",
     "output_type": "stream",
     "text": [
      "100%|██████████████████████████████████████████████| 269.09999999999997/269.09999999999997 [00:06<00:00, 39.75seconds/s]\n"
     ]
    },
    {
     "name": "stdout",
     "output_type": "stream",
     "text": [
      "Separating track demucs_preprocessed_input/quoc_master_1st_1000_preprocessed/Ân Tình Chia Đôi.mp3\n"
     ]
    },
    {
     "name": "stderr",
     "output_type": "stream",
     "text": [
      "100%|██████████████████████████████████████████████████████████████████████| 181.35/181.35 [00:04<00:00, 39.03seconds/s]\n"
     ]
    },
    {
     "name": "stdout",
     "output_type": "stream",
     "text": [
      "Separating track demucs_preprocessed_input/quoc_master_1st_1000_preprocessed/Tình Nhớ.mp3\n"
     ]
    },
    {
     "name": "stderr",
     "output_type": "stream",
     "text": [
      "100%|████████████████████████████████████████████████████████████████████████| 292.5/292.5 [00:07<00:00, 40.60seconds/s]\n"
     ]
    },
    {
     "name": "stdout",
     "output_type": "stream",
     "text": [
      "Separating track demucs_preprocessed_input/quoc_master_1st_1000_preprocessed/Chim Vành Khuyên.mp3\n"
     ]
    },
    {
     "name": "stderr",
     "output_type": "stream",
     "text": [
      "100%|████████████████████████████████████████████████████████████████████████| 175.5/175.5 [00:04<00:00, 40.11seconds/s]\n"
     ]
    },
    {
     "name": "stdout",
     "output_type": "stream",
     "text": [
      "Separating track demucs_preprocessed_input/quoc_master_1st_1000_preprocessed/Cướp Vợ.mp3\n"
     ]
    },
    {
     "name": "stderr",
     "output_type": "stream",
     "text": [
      "100%|██████████████████████████████████████████████████████████████████████| 403.65/403.65 [00:09<00:00, 41.39seconds/s]\n"
     ]
    },
    {
     "name": "stdout",
     "output_type": "stream",
     "text": [
      "Separating track demucs_preprocessed_input/quoc_master_1st_1000_preprocessed/Tà áo tím.mp3\n"
     ]
    },
    {
     "name": "stderr",
     "output_type": "stream",
     "text": [
      "100%|████████████████████████████████████████████████████████████████████████| 292.5/292.5 [00:07<00:00, 41.42seconds/s]\n"
     ]
    },
    {
     "name": "stdout",
     "output_type": "stream",
     "text": [
      "Separating track demucs_preprocessed_input/quoc_master_1st_1000_preprocessed/Tình Đầu Phôi Pha.mp3\n"
     ]
    },
    {
     "name": "stderr",
     "output_type": "stream",
     "text": [
      "100%|████████████████████████████████████████████████████████████████████████| 187.2/187.2 [00:04<00:00, 40.20seconds/s]\n"
     ]
    },
    {
     "name": "stdout",
     "output_type": "stream",
     "text": [
      "Separating track demucs_preprocessed_input/quoc_master_1st_1000_preprocessed/Một Thoáng Suy Tư.mp3\n"
     ]
    },
    {
     "name": "stderr",
     "output_type": "stream",
     "text": [
      "100%|██████████████████████████████████████████████████████████████████████| 204.75/204.75 [00:04<00:00, 41.40seconds/s]\n"
     ]
    },
    {
     "name": "stdout",
     "output_type": "stream",
     "text": [
      "Separating track demucs_preprocessed_input/quoc_master_1st_1000_preprocessed/Mong Tình Yêu Trở Lại.mp3\n"
     ]
    },
    {
     "name": "stderr",
     "output_type": "stream",
     "text": [
      "100%|████████████████████████████████████████████████████████████████████████| 257.4/257.4 [00:06<00:00, 41.04seconds/s]\n"
     ]
    },
    {
     "name": "stdout",
     "output_type": "stream",
     "text": [
      "Separating track demucs_preprocessed_input/quoc_master_1st_1000_preprocessed/Cứ Ngỡ Là Em.mp3\n"
     ]
    },
    {
     "name": "stderr",
     "output_type": "stream",
     "text": [
      "100%|██████████████████████████████████████████████| 222.29999999999998/222.29999999999998 [00:05<00:00, 41.67seconds/s]\n"
     ]
    },
    {
     "name": "stdout",
     "output_type": "stream",
     "text": [
      "Separating track demucs_preprocessed_input/quoc_master_1st_1000_preprocessed/Bước Vào Tim Tôi Hút Hồn Tôi.mp3\n"
     ]
    },
    {
     "name": "stderr",
     "output_type": "stream",
     "text": [
      "100%|████████████████████████████████████████████████████████████████████████| 257.4/257.4 [00:06<00:00, 40.59seconds/s]\n"
     ]
    },
    {
     "name": "stdout",
     "output_type": "stream",
     "text": [
      "Separating track demucs_preprocessed_input/quoc_master_1st_1000_preprocessed/Con Đường Này Vắng Em.mp3\n"
     ]
    },
    {
     "name": "stderr",
     "output_type": "stream",
     "text": [
      "100%|██████████████████████████████████████████████████████████████████████| 274.95/274.95 [00:06<00:00, 41.11seconds/s]\n"
     ]
    },
    {
     "name": "stdout",
     "output_type": "stream",
     "text": [
      "Separating track demucs_preprocessed_input/quoc_master_1st_1000_preprocessed/Vì Anh Là Soái Ca.mp3\n"
     ]
    },
    {
     "name": "stderr",
     "output_type": "stream",
     "text": [
      "100%|██████████████████████████████████████████████| 251.54999999999998/251.54999999999998 [00:06<00:00, 40.79seconds/s]\n"
     ]
    },
    {
     "name": "stdout",
     "output_type": "stream",
     "text": [
      "Separating track demucs_preprocessed_input/quoc_master_1st_1000_preprocessed/Tình Cuối Xót Xa.mp3\n"
     ]
    },
    {
     "name": "stderr",
     "output_type": "stream",
     "text": [
      "100%|████████████████████████████████████████████████████████████████████████| 292.5/292.5 [00:07<00:00, 41.27seconds/s]\n"
     ]
    },
    {
     "name": "stdout",
     "output_type": "stream",
     "text": [
      "Separating track demucs_preprocessed_input/quoc_master_1st_1000_preprocessed/Chỉ Cần Có Nhau.mp3\n"
     ]
    },
    {
     "name": "stderr",
     "output_type": "stream",
     "text": [
      "100%|██████████████████████████████████████████████████████████████████████| 216.45/216.45 [00:05<00:00, 40.73seconds/s]\n"
     ]
    },
    {
     "name": "stdout",
     "output_type": "stream",
     "text": [
      "Separating track demucs_preprocessed_input/quoc_master_1st_1000_preprocessed/Bây Giờ Và Mãi Mãi.mp3\n"
     ]
    },
    {
     "name": "stderr",
     "output_type": "stream",
     "text": [
      "100%|██████████████████████████████████████████████| 269.09999999999997/269.09999999999997 [00:06<00:00, 41.52seconds/s]\n"
     ]
    },
    {
     "name": "stdout",
     "output_type": "stream",
     "text": [
      "Separating track demucs_preprocessed_input/quoc_master_1st_1000_preprocessed/2000 câu hỏi vì sao.mp3\n"
     ]
    },
    {
     "name": "stderr",
     "output_type": "stream",
     "text": [
      "100%|████████████████████████████████████████████████████████████████████████| 210.6/210.6 [00:05<00:00, 40.49seconds/s]\n"
     ]
    },
    {
     "name": "stdout",
     "output_type": "stream",
     "text": [
      "Separating track demucs_preprocessed_input/quoc_master_1st_1000_preprocessed/Mảnh Tơ Lòng.mp3\n"
     ]
    },
    {
     "name": "stderr",
     "output_type": "stream",
     "text": [
      "100%|██████████████████████████████████████████████| 251.54999999999998/251.54999999999998 [00:06<00:00, 40.65seconds/s]\n"
     ]
    },
    {
     "name": "stdout",
     "output_type": "stream",
     "text": [
      "Separating track demucs_preprocessed_input/quoc_master_1st_1000_preprocessed/Anh Đây Đừng Khóc.mp3\n"
     ]
    },
    {
     "name": "stderr",
     "output_type": "stream",
     "text": [
      "100%|██████████████████████████████████████████████████████████████████████| 286.65/286.65 [00:06<00:00, 41.63seconds/s]\n"
     ]
    },
    {
     "name": "stdout",
     "output_type": "stream",
     "text": [
      "Separating track demucs_preprocessed_input/quoc_master_1st_1000_preprocessed/Như Chiếc Lá Bay Vèo.mp3\n"
     ]
    },
    {
     "name": "stderr",
     "output_type": "stream",
     "text": [
      "100%|██████████████████████████████████████████████| 228.14999999999998/228.14999999999998 [00:05<00:00, 40.78seconds/s]\n"
     ]
    },
    {
     "name": "stdout",
     "output_type": "stream",
     "text": [
      "Separating track demucs_preprocessed_input/quoc_master_1st_1000_preprocessed/Không Gì Quan Trọng Hơn Có Em (Beat).mp3\n"
     ]
    },
    {
     "name": "stderr",
     "output_type": "stream",
     "text": [
      "100%|██████████████████████████████████████████████| 251.54999999999998/251.54999999999998 [00:06<00:00, 40.88seconds/s]\n"
     ]
    },
    {
     "name": "stdout",
     "output_type": "stream",
     "text": [
      "Separating track demucs_preprocessed_input/quoc_master_1st_1000_preprocessed/Hãy làm điều đó nếu em vui.mp3\n"
     ]
    },
    {
     "name": "stderr",
     "output_type": "stream",
     "text": [
      "100%|██████████████████████████████████████████████| 222.29999999999998/222.29999999999998 [00:05<00:00, 41.73seconds/s]\n"
     ]
    },
    {
     "name": "stdout",
     "output_type": "stream",
     "text": [
      "Separating track demucs_preprocessed_input/quoc_master_1st_1000_preprocessed/Baby Em Nhớ Anh.mp3\n"
     ]
    },
    {
     "name": "stderr",
     "output_type": "stream",
     "text": [
      "100%|██████████████████████████████████████████████████████████████████████| 263.25/263.25 [00:06<00:00, 41.06seconds/s]\n"
     ]
    },
    {
     "name": "stdout",
     "output_type": "stream",
     "text": [
      "Separating track demucs_preprocessed_input/quoc_master_1st_1000_preprocessed/Những Điều Hạnh Phúc.mp3\n"
     ]
    },
    {
     "name": "stderr",
     "output_type": "stream",
     "text": [
      "100%|██████████████████████████████████████████████████████████████████████| 181.35/181.35 [00:04<00:00, 40.34seconds/s]\n"
     ]
    },
    {
     "name": "stdout",
     "output_type": "stream",
     "text": [
      "Separating track demucs_preprocessed_input/quoc_master_1st_1000_preprocessed/Chỉ Là Thoáng Qua.mp3\n"
     ]
    },
    {
     "name": "stderr",
     "output_type": "stream",
     "text": [
      "100%|████████████████████████████████████████████████████████████████████████| 245.7/245.7 [00:05<00:00, 41.31seconds/s]\n"
     ]
    },
    {
     "name": "stdout",
     "output_type": "stream",
     "text": [
      "Separating track demucs_preprocessed_input/quoc_master_1st_1000_preprocessed/Anh Xin Em Đừng.mp3\n"
     ]
    },
    {
     "name": "stderr",
     "output_type": "stream",
     "text": [
      "100%|██████████████████████████████████████████████| 198.89999999999998/198.89999999999998 [00:04<00:00, 40.20seconds/s]\n"
     ]
    },
    {
     "name": "stdout",
     "output_type": "stream",
     "text": [
      "Separating track demucs_preprocessed_input/quoc_master_1st_1000_preprocessed/Khói Sương.mp3\n"
     ]
    },
    {
     "name": "stderr",
     "output_type": "stream",
     "text": [
      "100%|██████████████████████████████████████████████████████████████████████| 181.35/181.35 [00:04<00:00, 39.69seconds/s]\n"
     ]
    },
    {
     "name": "stdout",
     "output_type": "stream",
     "text": [
      "Separating track demucs_preprocessed_input/quoc_master_1st_1000_preprocessed/Dĩ Vãng Không Thể Quên.mp3\n"
     ]
    },
    {
     "name": "stderr",
     "output_type": "stream",
     "text": [
      "100%|██████████████████████████████████████████████████████████████████████| 216.45/216.45 [00:05<00:00, 40.19seconds/s]\n"
     ]
    },
    {
     "name": "stdout",
     "output_type": "stream",
     "text": [
      "Separating track demucs_preprocessed_input/quoc_master_1st_1000_preprocessed/Điều Ước Tình Yêu.mp3\n"
     ]
    },
    {
     "name": "stderr",
     "output_type": "stream",
     "text": [
      "100%|██████████████████████████████████████████████| 228.14999999999998/228.14999999999998 [00:05<00:00, 41.04seconds/s]\n"
     ]
    },
    {
     "name": "stdout",
     "output_type": "stream",
     "text": [
      "Separating track demucs_preprocessed_input/quoc_master_1st_1000_preprocessed/Nhắm Mắt Cho Qua.mp3\n"
     ]
    },
    {
     "name": "stderr",
     "output_type": "stream",
     "text": [
      "100%|██████████████████████████████████████████████| 310.04999999999995/310.04999999999995 [00:07<00:00, 41.28seconds/s]\n"
     ]
    },
    {
     "name": "stdout",
     "output_type": "stream",
     "text": [
      "Separating track demucs_preprocessed_input/quoc_master_1st_1000_preprocessed/Ngày Mình Hạnh Phúc.mp3\n"
     ]
    },
    {
     "name": "stderr",
     "output_type": "stream",
     "text": [
      "100%|████████████████████████████████████████████████████████████████████████| 210.6/210.6 [00:05<00:00, 41.49seconds/s]\n"
     ]
    },
    {
     "name": "stdout",
     "output_type": "stream",
     "text": [
      "Separating track demucs_preprocessed_input/quoc_master_1st_1000_preprocessed/Hãy Sống Cùng Tình Yêu (slow version).mp3\n"
     ]
    },
    {
     "name": "stderr",
     "output_type": "stream",
     "text": [
      "100%|██████████████████████████████████████████████████████████████████████| 333.45/333.45 [00:08<00:00, 41.43seconds/s]\n"
     ]
    },
    {
     "name": "stdout",
     "output_type": "stream",
     "text": [
      "Separating track demucs_preprocessed_input/quoc_master_1st_1000_preprocessed/RA GIÊNG ANH CƯỚI EM (Lofi Mix).mp3\n"
     ]
    },
    {
     "name": "stderr",
     "output_type": "stream",
     "text": [
      "100%|██████████████████████████████████████████████| 140.39999999999998/140.39999999999998 [00:03<00:00, 39.97seconds/s]\n"
     ]
    },
    {
     "name": "stdout",
     "output_type": "stream",
     "text": [
      "Separating track demucs_preprocessed_input/quoc_master_1st_1000_preprocessed/Tình Yêu Rất Lạ.mp3\n"
     ]
    },
    {
     "name": "stderr",
     "output_type": "stream",
     "text": [
      "100%|████████████████████████████████████████████████████████████████████████| 245.7/245.7 [00:06<00:00, 40.60seconds/s]\n"
     ]
    },
    {
     "name": "stdout",
     "output_type": "stream",
     "text": [
      "Separating track demucs_preprocessed_input/quoc_master_1st_1000_preprocessed/Anh Sẽ Đến Bên Em.mp3\n"
     ]
    },
    {
     "name": "stderr",
     "output_type": "stream",
     "text": [
      "100%|██████████████████████████████████████████████| 251.54999999999998/251.54999999999998 [00:06<00:00, 40.43seconds/s]\n"
     ]
    },
    {
     "name": "stdout",
     "output_type": "stream",
     "text": [
      "Separating track demucs_preprocessed_input/quoc_master_1st_1000_preprocessed/Đau Lắm (Remix).mp3\n"
     ]
    },
    {
     "name": "stderr",
     "output_type": "stream",
     "text": [
      "100%|██████████████████████████████████████████████████████████████████████| 286.65/286.65 [00:06<00:00, 41.27seconds/s]\n"
     ]
    },
    {
     "name": "stdout",
     "output_type": "stream",
     "text": [
      "Separating track demucs_preprocessed_input/quoc_master_1st_1000_preprocessed/Bỉ Ngạn.mp3\n"
     ]
    },
    {
     "name": "stderr",
     "output_type": "stream",
     "text": [
      "100%|██████████████████████████████████████████████████████████████████████| 216.45/216.45 [00:05<00:00, 40.53seconds/s]\n"
     ]
    },
    {
     "name": "stdout",
     "output_type": "stream",
     "text": [
      "Separating track demucs_preprocessed_input/quoc_master_1st_1000_preprocessed/Miền Thùy Dương Dấu Yêu.mp3\n"
     ]
    },
    {
     "name": "stderr",
     "output_type": "stream",
     "text": [
      "100%|██████████████████████████████████████████████| 298.34999999999997/298.34999999999997 [00:07<00:00, 41.37seconds/s]\n"
     ]
    },
    {
     "name": "stdout",
     "output_type": "stream",
     "text": [
      "Separating track demucs_preprocessed_input/quoc_master_1st_1000_preprocessed/Vậy Là Em Sai.mp3\n"
     ]
    },
    {
     "name": "stderr",
     "output_type": "stream",
     "text": [
      "100%|██████████████████████████████████████████████████████████████████████| 263.25/263.25 [00:06<00:00, 41.73seconds/s]\n"
     ]
    },
    {
     "name": "stdout",
     "output_type": "stream",
     "text": [
      "Separating track demucs_preprocessed_input/quoc_master_1st_1000_preprocessed/Đến Gần Em.mp3\n"
     ]
    },
    {
     "name": "stderr",
     "output_type": "stream",
     "text": [
      "100%|██████████████████████████████████████████████| 228.14999999999998/228.14999999999998 [00:05<00:00, 40.25seconds/s]\n"
     ]
    },
    {
     "name": "stdout",
     "output_type": "stream",
     "text": [
      "Separating track demucs_preprocessed_input/quoc_master_1st_1000_preprocessed/Em Quá Vô Tâm.mp3\n"
     ]
    },
    {
     "name": "stderr",
     "output_type": "stream",
     "text": [
      "100%|██████████████████████████████████████████████████████████████████████| 263.25/263.25 [00:06<00:00, 41.15seconds/s]\n"
     ]
    },
    {
     "name": "stdout",
     "output_type": "stream",
     "text": [
      "Separating track demucs_preprocessed_input/quoc_master_1st_1000_preprocessed/Em Nhớ Anh Nhiều.mp3\n"
     ]
    },
    {
     "name": "stderr",
     "output_type": "stream",
     "text": [
      "100%|██████████████████████████████████████████████| 298.34999999999997/298.34999999999997 [00:07<00:00, 41.50seconds/s]\n"
     ]
    },
    {
     "name": "stdout",
     "output_type": "stream",
     "text": [
      "Separating track demucs_preprocessed_input/quoc_master_1st_1000_preprocessed/Hãy Một Lần Yêu.mp3\n"
     ]
    },
    {
     "name": "stderr",
     "output_type": "stream",
     "text": [
      "100%|██████████████████████████████████████████████| 251.54999999999998/251.54999999999998 [00:06<00:00, 40.89seconds/s]\n"
     ]
    },
    {
     "name": "stdout",
     "output_type": "stream",
     "text": [
      "Separating track demucs_preprocessed_input/quoc_master_1st_1000_preprocessed/Em Về Trong Mơ.mp3\n"
     ]
    },
    {
     "name": "stderr",
     "output_type": "stream",
     "text": [
      "100%|██████████████████████████████████████████████| 280.79999999999995/280.79999999999995 [00:06<00:00, 42.13seconds/s]\n"
     ]
    },
    {
     "name": "stdout",
     "output_type": "stream",
     "text": [
      "Separating track demucs_preprocessed_input/quoc_master_1st_1000_preprocessed/Xuân Của Công Nhân.mp3\n"
     ]
    },
    {
     "name": "stderr",
     "output_type": "stream",
     "text": [
      "100%|████████████████████████████████████████████████████████████████████████| 257.4/257.4 [00:06<00:00, 41.02seconds/s]\n"
     ]
    },
    {
     "name": "stdout",
     "output_type": "stream",
     "text": [
      "Separating track demucs_preprocessed_input/quoc_master_1st_1000_preprocessed/Cuộc Đời Phía Trước.mp3\n"
     ]
    },
    {
     "name": "stderr",
     "output_type": "stream",
     "text": [
      "100%|██████████████████████████████████████████████████████████████████████| 286.65/286.65 [00:07<00:00, 40.80seconds/s]\n"
     ]
    },
    {
     "name": "stdout",
     "output_type": "stream",
     "text": [
      "Separating track demucs_preprocessed_input/quoc_master_1st_1000_preprocessed/Cánh Hoa Pansse.mp3\n"
     ]
    },
    {
     "name": "stderr",
     "output_type": "stream",
     "text": [
      "100%|████████████████████████████████████████████████████████████████████████| 351.0/351.0 [00:08<00:00, 41.60seconds/s]\n"
     ]
    },
    {
     "name": "stdout",
     "output_type": "stream",
     "text": [
      "Separating track demucs_preprocessed_input/quoc_master_1st_1000_preprocessed/Mỉm Cười Khi Anh Ra Đi.mp3\n"
     ]
    },
    {
     "name": "stderr",
     "output_type": "stream",
     "text": [
      "100%|████████████████████████████████████████████████████████████████████████| 234.0/234.0 [00:05<00:00, 40.35seconds/s]\n"
     ]
    },
    {
     "name": "stdout",
     "output_type": "stream",
     "text": [
      "Separating track demucs_preprocessed_input/quoc_master_1st_1000_preprocessed/Cảm Ơn Đời Cảm Ơn Em.mp3\n"
     ]
    },
    {
     "name": "stderr",
     "output_type": "stream",
     "text": [
      "100%|████████████████████████████████████████████████████████████████████████| 257.4/257.4 [00:06<00:00, 40.72seconds/s]\n"
     ]
    },
    {
     "name": "stdout",
     "output_type": "stream",
     "text": [
      "Separating track demucs_preprocessed_input/quoc_master_1st_1000_preprocessed/Bé Mèo Của Bố Mẹ.mp3\n"
     ]
    },
    {
     "name": "stderr",
     "output_type": "stream",
     "text": [
      "100%|██████████████████████████████████████████████████████████████████████| 181.35/181.35 [00:04<00:00, 40.98seconds/s]\n"
     ]
    },
    {
     "name": "stdout",
     "output_type": "stream",
     "text": [
      "Separating track demucs_preprocessed_input/quoc_master_1st_1000_preprocessed/Bờm Có Quạt Mo.mp3\n"
     ]
    },
    {
     "name": "stderr",
     "output_type": "stream",
     "text": [
      "100%|██████████████████████████████████████████████████████████████████████| 239.85/239.85 [00:05<00:00, 41.47seconds/s]\n"
     ]
    },
    {
     "name": "stdout",
     "output_type": "stream",
     "text": [
      "Separating track demucs_preprocessed_input/quoc_master_1st_1000_preprocessed/Như Vẫn Còn Yêu.mp3\n"
     ]
    },
    {
     "name": "stderr",
     "output_type": "stream",
     "text": [
      "100%|██████████████████████████████████████████████| 228.14999999999998/228.14999999999998 [00:05<00:00, 40.48seconds/s]\n"
     ]
    },
    {
     "name": "stdout",
     "output_type": "stream",
     "text": [
      "Separating track demucs_preprocessed_input/quoc_master_1st_1000_preprocessed/Em về tinh khôi.mp3\n"
     ]
    },
    {
     "name": "stderr",
     "output_type": "stream",
     "text": [
      "100%|██████████████████████████████████████████████| 251.54999999999998/251.54999999999998 [00:06<00:00, 40.88seconds/s]\n"
     ]
    },
    {
     "name": "stdout",
     "output_type": "stream",
     "text": [
      "Separating track demucs_preprocessed_input/quoc_master_1st_1000_preprocessed/Cả Một Đời Người Xin Mượn Một Đoạn Đường.mp3\n"
     ]
    },
    {
     "name": "stderr",
     "output_type": "stream",
     "text": [
      "100%|██████████████████████████████████████████████| 228.14999999999998/228.14999999999998 [00:05<00:00, 40.72seconds/s]\n"
     ]
    },
    {
     "name": "stdout",
     "output_type": "stream",
     "text": [
      "Separating track demucs_preprocessed_input/quoc_master_1st_1000_preprocessed/Ràng Buộc.mp3\n"
     ]
    },
    {
     "name": "stderr",
     "output_type": "stream",
     "text": [
      "100%|██████████████████████████████████████████████| 193.04999999999998/193.04999999999998 [00:04<00:00, 40.69seconds/s]\n"
     ]
    },
    {
     "name": "stdout",
     "output_type": "stream",
     "text": [
      "Separating track demucs_preprocessed_input/quoc_master_1st_1000_preprocessed/Là Bao Xa.mp3\n"
     ]
    },
    {
     "name": "stderr",
     "output_type": "stream",
     "text": [
      "100%|██████████████████████████████████████████████| 198.89999999999998/198.89999999999998 [00:04<00:00, 40.56seconds/s]\n"
     ]
    },
    {
     "name": "stdout",
     "output_type": "stream",
     "text": [
      "Separating track demucs_preprocessed_input/quoc_master_1st_1000_preprocessed/Vui Trong Ngày Cưới.mp3\n"
     ]
    },
    {
     "name": "stderr",
     "output_type": "stream",
     "text": [
      "100%|████████████████████████████████████████████████████████████████████████| 315.9/315.9 [00:07<00:00, 40.80seconds/s]\n"
     ]
    },
    {
     "name": "stdout",
     "output_type": "stream",
     "text": [
      "Separating track demucs_preprocessed_input/quoc_master_1st_1000_preprocessed/Không Nói Nên Lời.mp3\n"
     ]
    },
    {
     "name": "stderr",
     "output_type": "stream",
     "text": [
      "100%|██████████████████████████████████████████████████████████████████████| 181.35/181.35 [00:04<00:00, 39.80seconds/s]\n"
     ]
    },
    {
     "name": "stdout",
     "output_type": "stream",
     "text": [
      "Separating track demucs_preprocessed_input/quoc_master_1st_1000_preprocessed/Bé Đi Học.mp3\n"
     ]
    },
    {
     "name": "stderr",
     "output_type": "stream",
     "text": [
      "100%|████████████████████████████████████████████████████████████████████████| 234.0/234.0 [00:05<00:00, 41.05seconds/s]\n"
     ]
    },
    {
     "name": "stdout",
     "output_type": "stream",
     "text": [
      "Separating track demucs_preprocessed_input/quoc_master_1st_1000_preprocessed/Đang Yên Đang Lành.mp3\n"
     ]
    },
    {
     "name": "stderr",
     "output_type": "stream",
     "text": [
      "100%|████████████████████████████████████████████████████████████████████████| 187.2/187.2 [00:04<00:00, 40.89seconds/s]\n"
     ]
    },
    {
     "name": "stdout",
     "output_type": "stream",
     "text": [
      "Separating track demucs_preprocessed_input/quoc_master_1st_1000_preprocessed/Bài Ca Cô Thợ Dệt.mp3\n"
     ]
    },
    {
     "name": "stderr",
     "output_type": "stream",
     "text": [
      "100%|██████████████████████████████████████████████| 198.89999999999998/198.89999999999998 [00:04<00:00, 40.40seconds/s]\n"
     ]
    },
    {
     "name": "stdout",
     "output_type": "stream",
     "text": [
      "Separating track demucs_preprocessed_input/quoc_master_1st_1000_preprocessed/Hoa Cài Mái Tóc (DJ Remix).mp3\n"
     ]
    },
    {
     "name": "stderr",
     "output_type": "stream",
     "text": [
      "100%|██████████████████████████████████████████████████████████████████████| 204.75/204.75 [00:04<00:00, 40.99seconds/s]\n"
     ]
    },
    {
     "name": "stdout",
     "output_type": "stream",
     "text": [
      "Separating track demucs_preprocessed_input/quoc_master_1st_1000_preprocessed/Đô Thị (The Remix 2017).mp3\n"
     ]
    },
    {
     "name": "stderr",
     "output_type": "stream",
     "text": [
      "100%|██████████████████████████████████████████████| 228.14999999999998/228.14999999999998 [00:05<00:00, 40.34seconds/s]\n"
     ]
    },
    {
     "name": "stdout",
     "output_type": "stream",
     "text": [
      "Separating track demucs_preprocessed_input/quoc_master_1st_1000_preprocessed/Vai Áo Phù Sa (Orinn Remix).mp3\n"
     ]
    },
    {
     "name": "stderr",
     "output_type": "stream",
     "text": [
      "100%|██████████████████████████████████████████████████████████████████████| 204.75/204.75 [00:04<00:00, 41.31seconds/s]\n"
     ]
    },
    {
     "name": "stdout",
     "output_type": "stream",
     "text": [
      "Separating track demucs_preprocessed_input/quoc_master_1st_1000_preprocessed/Hôm Nay Anh Đang Làm Gì？ (Beat).mp3\n"
     ]
    },
    {
     "name": "stderr",
     "output_type": "stream",
     "text": [
      "100%|████████████████████████████████████████████████████████████████████████| 257.4/257.4 [00:06<00:00, 40.84seconds/s]\n"
     ]
    },
    {
     "name": "stdout",
     "output_type": "stream",
     "text": [
      "Separating track demucs_preprocessed_input/quoc_master_1st_1000_preprocessed/Chỉ Sợ Em Thành Núi Biếc.mp3\n"
     ]
    },
    {
     "name": "stderr",
     "output_type": "stream",
     "text": [
      "100%|██████████████████████████████████████████████| 280.79999999999995/280.79999999999995 [00:06<00:00, 41.02seconds/s]\n"
     ]
    },
    {
     "name": "stdout",
     "output_type": "stream",
     "text": [
      "Separating track demucs_preprocessed_input/quoc_master_1st_1000_preprocessed/Cảm Xúc Em Qua Chưa.mp3\n"
     ]
    },
    {
     "name": "stderr",
     "output_type": "stream",
     "text": [
      "100%|██████████████████████████████████████████████████████████████████████| 216.45/216.45 [00:05<00:00, 39.95seconds/s]\n"
     ]
    },
    {
     "name": "stdout",
     "output_type": "stream",
     "text": [
      "Separating track demucs_preprocessed_input/quoc_master_1st_1000_preprocessed/Hãy Nói Anh Nghe.mp3\n"
     ]
    },
    {
     "name": "stderr",
     "output_type": "stream",
     "text": [
      "100%|██████████████████████████████████████████████████████████████████████| 263.25/263.25 [00:06<00:00, 41.14seconds/s]\n"
     ]
    },
    {
     "name": "stdout",
     "output_type": "stream",
     "text": [
      "Separating track demucs_preprocessed_input/quoc_master_1st_1000_preprocessed/Bài Tình Ca Giê-Su.mp3\n"
     ]
    },
    {
     "name": "stderr",
     "output_type": "stream",
     "text": [
      "100%|████████████████████████████████████████████████████████████████████████| 245.7/245.7 [00:06<00:00, 40.45seconds/s]\n"
     ]
    },
    {
     "name": "stdout",
     "output_type": "stream",
     "text": [
      "Separating track demucs_preprocessed_input/quoc_master_1st_1000_preprocessed/Có Một Người Để Yêu (Beat).mp3\n"
     ]
    },
    {
     "name": "stderr",
     "output_type": "stream",
     "text": [
      "100%|████████████████████████████████████████████████████████████████████████| 257.4/257.4 [00:06<00:00, 40.71seconds/s]\n"
     ]
    },
    {
     "name": "stdout",
     "output_type": "stream",
     "text": [
      "Separating track demucs_preprocessed_input/quoc_master_1st_1000_preprocessed/Bông Hồng Gai (Beat).mp3\n"
     ]
    },
    {
     "name": "stderr",
     "output_type": "stream",
     "text": [
      "100%|██████████████████████████████████████████████████████████████████████| 204.75/204.75 [00:05<00:00, 40.34seconds/s]\n"
     ]
    },
    {
     "name": "stdout",
     "output_type": "stream",
     "text": [
      "Separating track demucs_preprocessed_input/quoc_master_1st_1000_preprocessed/Gọi Tôi Hà Nội.mp3\n"
     ]
    },
    {
     "name": "stderr",
     "output_type": "stream",
     "text": [
      "100%|██████████████████████████████████████████████| 280.79999999999995/280.79999999999995 [00:06<00:00, 40.92seconds/s]\n"
     ]
    },
    {
     "name": "stdout",
     "output_type": "stream",
     "text": [
      "Separating track demucs_preprocessed_input/quoc_master_1st_1000_preprocessed/Trở Lại Huế Xưa.mp3\n"
     ]
    },
    {
     "name": "stderr",
     "output_type": "stream",
     "text": [
      "100%|██████████████████████████████████████████████████████████████████████| 403.65/403.65 [00:09<00:00, 41.66seconds/s]\n"
     ]
    },
    {
     "name": "stdout",
     "output_type": "stream",
     "text": [
      "Separating track demucs_preprocessed_input/quoc_master_1st_1000_preprocessed/Cháu Xin Lỗi Chú.mp3\n"
     ]
    },
    {
     "name": "stderr",
     "output_type": "stream",
     "text": [
      "100%|████████████████████████████████████████████████████████████████████████| 234.0/234.0 [00:05<00:00, 40.47seconds/s]\n"
     ]
    },
    {
     "name": "stdout",
     "output_type": "stream",
     "text": [
      "Separating track demucs_preprocessed_input/quoc_master_1st_1000_preprocessed/Cưới Em Thôi.mp3\n"
     ]
    },
    {
     "name": "stderr",
     "output_type": "stream",
     "text": [
      "100%|██████████████████████████████████████████████| 228.14999999999998/228.14999999999998 [00:05<00:00, 39.70seconds/s]\n"
     ]
    },
    {
     "name": "stdout",
     "output_type": "stream",
     "text": [
      "Separating track demucs_preprocessed_input/quoc_master_1st_1000_preprocessed/Chưa Kịp Nói Lời Yêu (Remix).mp3\n"
     ]
    },
    {
     "name": "stderr",
     "output_type": "stream",
     "text": [
      "100%|██████████████████████████████████████████████| 222.29999999999998/222.29999999999998 [00:05<00:00, 40.38seconds/s]\n"
     ]
    },
    {
     "name": "stdout",
     "output_type": "stream",
     "text": [
      "Separating track demucs_preprocessed_input/quoc_master_1st_1000_preprocessed/Lặng Lẽ Ra Đi.mp3\n"
     ]
    },
    {
     "name": "stderr",
     "output_type": "stream",
     "text": [
      "100%|██████████████████████████████████████████████████████████████████████| 239.85/239.85 [00:05<00:00, 40.45seconds/s]\n"
     ]
    },
    {
     "name": "stdout",
     "output_type": "stream",
     "text": [
      "Separating track demucs_preprocessed_input/quoc_master_1st_1000_preprocessed/Đêm Chia Xa.mp3\n"
     ]
    },
    {
     "name": "stderr",
     "output_type": "stream",
     "text": [
      "100%|██████████████████████████████████████████████████████████████████████| 274.95/274.95 [00:06<00:00, 41.26seconds/s]\n"
     ]
    },
    {
     "name": "stdout",
     "output_type": "stream",
     "text": [
      "Separating track demucs_preprocessed_input/quoc_master_1st_1000_preprocessed/Anh Em Thua Một Người Dưng.mp3\n"
     ]
    },
    {
     "name": "stderr",
     "output_type": "stream",
     "text": [
      "100%|████████████████████████████████████████████████████████████████████████| 257.4/257.4 [00:06<00:00, 41.01seconds/s]\n"
     ]
    },
    {
     "name": "stdout",
     "output_type": "stream",
     "text": [
      "Separating track demucs_preprocessed_input/quoc_master_1st_1000_preprocessed/Có Ai Khi Yêu.mp3\n"
     ]
    },
    {
     "name": "stderr",
     "output_type": "stream",
     "text": [
      "100%|██████████████████████████████████████████████████████████████████████| 286.65/286.65 [00:06<00:00, 41.89seconds/s]\n"
     ]
    },
    {
     "name": "stdout",
     "output_type": "stream",
     "text": [
      "Separating track demucs_preprocessed_input/quoc_master_1st_1000_preprocessed/Yêu Là Phải Chờ Đợi (Beat).mp3\n"
     ]
    },
    {
     "name": "stderr",
     "output_type": "stream",
     "text": [
      "100%|██████████████████████████████████████████████████████████████████████| 239.85/239.85 [00:05<00:00, 40.73seconds/s]\n"
     ]
    },
    {
     "name": "stdout",
     "output_type": "stream",
     "text": [
      "Separating track demucs_preprocessed_input/quoc_master_1st_1000_preprocessed/Khóc Cho Yêu Thương.mp3\n"
     ]
    },
    {
     "name": "stderr",
     "output_type": "stream",
     "text": [
      "100%|██████████████████████████████████████████████| 193.04999999999998/193.04999999999998 [00:04<00:00, 40.60seconds/s]\n"
     ]
    },
    {
     "name": "stdout",
     "output_type": "stream",
     "text": [
      "Separating track demucs_preprocessed_input/quoc_master_1st_1000_preprocessed/Đà Lạt Thật Buồn Khi Không Anh.mp3\n"
     ]
    },
    {
     "name": "stderr",
     "output_type": "stream",
     "text": [
      "100%|████████████████████████████████████████████████████████████████████████| 234.0/234.0 [00:05<00:00, 40.55seconds/s]\n"
     ]
    },
    {
     "name": "stdout",
     "output_type": "stream",
     "text": [
      "Separating track demucs_preprocessed_input/quoc_master_1st_1000_preprocessed/Tơ Hồng Tình Đã Se Duyên.mp3\n"
     ]
    },
    {
     "name": "stderr",
     "output_type": "stream",
     "text": [
      "100%|██████████████████████████████████████████████████████████████████████| 333.45/333.45 [00:08<00:00, 41.13seconds/s]\n"
     ]
    },
    {
     "name": "stdout",
     "output_type": "stream",
     "text": [
      "Separating track demucs_preprocessed_input/quoc_master_1st_1000_preprocessed/Tâm Sự Cùng Người Lạ (Beat).mp3\n"
     ]
    },
    {
     "name": "stderr",
     "output_type": "stream",
     "text": [
      "100%|██████████████████████████████████████████████| 251.54999999999998/251.54999999999998 [00:06<00:00, 40.37seconds/s]\n"
     ]
    },
    {
     "name": "stdout",
     "output_type": "stream",
     "text": [
      "Separating track demucs_preprocessed_input/quoc_master_1st_1000_preprocessed/Bên Đời Lẻ Loi.mp3\n"
     ]
    },
    {
     "name": "stderr",
     "output_type": "stream",
     "text": [
      "100%|████████████████████████████████████████████████████████████████████████| 304.2/304.2 [00:07<00:00, 41.32seconds/s]\n"
     ]
    },
    {
     "name": "stdout",
     "output_type": "stream",
     "text": [
      "Separating track demucs_preprocessed_input/quoc_master_1st_1000_preprocessed/Chén Rượu Đêm Xuân.mp3\n"
     ]
    },
    {
     "name": "stderr",
     "output_type": "stream",
     "text": [
      "100%|████████████████████████████████████████████████████████████████████████| 304.2/304.2 [00:07<00:00, 40.93seconds/s]\n"
     ]
    },
    {
     "name": "stdout",
     "output_type": "stream",
     "text": [
      "Separating track demucs_preprocessed_input/quoc_master_1st_1000_preprocessed/Giáng Sinh Để Nói.mp3\n"
     ]
    },
    {
     "name": "stderr",
     "output_type": "stream",
     "text": [
      "100%|██████████████████████████████████████████████| 222.29999999999998/222.29999999999998 [00:05<00:00, 40.83seconds/s]\n"
     ]
    },
    {
     "name": "stdout",
     "output_type": "stream",
     "text": [
      "Separating track demucs_preprocessed_input/quoc_master_1st_1000_preprocessed/Kẻ Theo Đuổi Ánh Sáng (Lofi).mp3\n"
     ]
    },
    {
     "name": "stderr",
     "output_type": "stream",
     "text": [
      "100%|██████████████████████████████████████████████████████████████████████| 204.75/204.75 [00:05<00:00, 40.40seconds/s]\n"
     ]
    },
    {
     "name": "stdout",
     "output_type": "stream",
     "text": [
      "Separating track demucs_preprocessed_input/quoc_master_1st_1000_preprocessed/Ít Nhưng Dài Lâu (Nam Con Remix).mp3\n"
     ]
    },
    {
     "name": "stderr",
     "output_type": "stream",
     "text": [
      "100%|██████████████████████████████████████████████████████████████████████| 181.35/181.35 [00:04<00:00, 39.39seconds/s]\n"
     ]
    },
    {
     "name": "stdout",
     "output_type": "stream",
     "text": [
      "Separating track demucs_preprocessed_input/quoc_master_1st_1000_preprocessed/Chuyện Tình Yêu.mp3\n"
     ]
    },
    {
     "name": "stderr",
     "output_type": "stream",
     "text": [
      "100%|██████████████████████████████████████████████| 222.29999999999998/222.29999999999998 [00:05<00:00, 41.00seconds/s]\n"
     ]
    },
    {
     "name": "stdout",
     "output_type": "stream",
     "text": [
      "Separating track demucs_preprocessed_input/quoc_master_1st_1000_preprocessed/Kết Thúc Ngơ Ngác (Piano Version).mp3\n"
     ]
    },
    {
     "name": "stderr",
     "output_type": "stream",
     "text": [
      "100%|██████████████████████████████████████████████████████████████████████| 216.45/216.45 [00:05<00:00, 40.83seconds/s]\n"
     ]
    },
    {
     "name": "stdout",
     "output_type": "stream",
     "text": [
      "Separating track demucs_preprocessed_input/quoc_master_1st_1000_preprocessed/Đánh Rơi Tình Yêu.mp3\n"
     ]
    },
    {
     "name": "stderr",
     "output_type": "stream",
     "text": [
      "100%|██████████████████████████████████████████████| 251.54999999999998/251.54999999999998 [00:06<00:00, 40.48seconds/s]\n"
     ]
    },
    {
     "name": "stdout",
     "output_type": "stream",
     "text": [
      "Separating track demucs_preprocessed_input/quoc_master_1st_1000_preprocessed/Điều Muộn Màng Chưa Nói.mp3\n"
     ]
    },
    {
     "name": "stderr",
     "output_type": "stream",
     "text": [
      "100%|██████████████████████████████████████████████| 310.04999999999995/310.04999999999995 [00:07<00:00, 41.69seconds/s]\n"
     ]
    },
    {
     "name": "stdout",
     "output_type": "stream",
     "text": [
      "Separating track demucs_preprocessed_input/quoc_master_1st_1000_preprocessed/Cuộc Tình Trong Mơ.mp3\n"
     ]
    },
    {
     "name": "stderr",
     "output_type": "stream",
     "text": [
      "100%|██████████████████████████████████████████████| 222.29999999999998/222.29999999999998 [00:05<00:00, 40.91seconds/s]\n"
     ]
    },
    {
     "name": "stdout",
     "output_type": "stream",
     "text": [
      "Separating track demucs_preprocessed_input/quoc_master_1st_1000_preprocessed/Dịu Dàng Mùa Xuân.mp3\n"
     ]
    },
    {
     "name": "stderr",
     "output_type": "stream",
     "text": [
      "100%|██████████████████████████████████████████████████████████████████████| 286.65/286.65 [00:06<00:00, 41.21seconds/s]\n"
     ]
    },
    {
     "name": "stdout",
     "output_type": "stream",
     "text": [
      "Separating track demucs_preprocessed_input/quoc_master_1st_1000_preprocessed/Tuổi Mộng Mơ.mp3\n"
     ]
    },
    {
     "name": "stderr",
     "output_type": "stream",
     "text": [
      "100%|██████████████████████████████████████████████████████████████████████| 216.45/216.45 [00:05<00:00, 40.53seconds/s]\n"
     ]
    },
    {
     "name": "stdout",
     "output_type": "stream",
     "text": [
      "Separating track demucs_preprocessed_input/quoc_master_1st_1000_preprocessed/Con Đường Tình Ta Đi & Trả Lại Em Yêu.mp3\n"
     ]
    },
    {
     "name": "stderr",
     "output_type": "stream",
     "text": [
      "100%|████████████████████████████████████████████████████████████████████████| 374.4/374.4 [00:08<00:00, 42.04seconds/s]\n"
     ]
    },
    {
     "name": "stdout",
     "output_type": "stream",
     "text": [
      "Separating track demucs_preprocessed_input/quoc_master_1st_1000_preprocessed/Em Hãy Cứ Đi Đi.mp3\n"
     ]
    },
    {
     "name": "stderr",
     "output_type": "stream",
     "text": [
      "100%|██████████████████████████████████████████████| 310.04999999999995/310.04999999999995 [00:07<00:00, 41.16seconds/s]\n"
     ]
    },
    {
     "name": "stdout",
     "output_type": "stream",
     "text": [
      "Separating track demucs_preprocessed_input/quoc_master_1st_1000_preprocessed/Ảo Ảnh (BLUE REMIX).mp3\n"
     ]
    },
    {
     "name": "stderr",
     "output_type": "stream",
     "text": [
      "100%|██████████████████████████████████████████████████████████████████████| 216.45/216.45 [00:05<00:00, 40.62seconds/s]\n"
     ]
    },
    {
     "name": "stdout",
     "output_type": "stream",
     "text": [
      "Separating track demucs_preprocessed_input/quoc_master_1st_1000_preprocessed/Em Là Người Thứ Mấy.mp3\n"
     ]
    },
    {
     "name": "stderr",
     "output_type": "stream",
     "text": [
      "100%|██████████████████████████████████████████████| 251.54999999999998/251.54999999999998 [00:06<00:00, 40.28seconds/s]\n"
     ]
    },
    {
     "name": "stdout",
     "output_type": "stream",
     "text": [
      "Separating track demucs_preprocessed_input/quoc_master_1st_1000_preprocessed/Chuyện Tình Núi Đôi.mp3\n"
     ]
    },
    {
     "name": "stderr",
     "output_type": "stream",
     "text": [
      "100%|████████████████████████████████████████████████████████████████████████| 245.7/245.7 [00:05<00:00, 41.01seconds/s]\n"
     ]
    },
    {
     "name": "stdout",
     "output_type": "stream",
     "text": [
      "Separating track demucs_preprocessed_input/quoc_master_1st_1000_preprocessed/Chia Tay Em Nhé.mp3\n"
     ]
    },
    {
     "name": "stderr",
     "output_type": "stream",
     "text": [
      "100%|██████████████████████████████████████████████| 222.29999999999998/222.29999999999998 [00:05<00:00, 40.96seconds/s]\n"
     ]
    },
    {
     "name": "stdout",
     "output_type": "stream",
     "text": [
      "Separating track demucs_preprocessed_input/quoc_master_1st_1000_preprocessed/Ma Lực Đồng Tiền.mp3\n"
     ]
    },
    {
     "name": "stderr",
     "output_type": "stream",
     "text": [
      "100%|██████████████████████████████████████████████| 111.14999999999999/111.14999999999999 [00:02<00:00, 40.29seconds/s]\n"
     ]
    },
    {
     "name": "stdout",
     "output_type": "stream",
     "text": [
      "Separating track demucs_preprocessed_input/quoc_master_1st_1000_preprocessed/Chỉ Có Thể Là Em (Remix).mp3\n"
     ]
    },
    {
     "name": "stderr",
     "output_type": "stream",
     "text": [
      "100%|██████████████████████████████████████████████████████████████████████████| 93.6/93.6 [00:02<00:00, 39.82seconds/s]\n"
     ]
    },
    {
     "name": "stdout",
     "output_type": "stream",
     "text": [
      "Separating track demucs_preprocessed_input/quoc_master_1st_1000_preprocessed/Ai Lên Sứ Hoa Đào.mp3\n"
     ]
    },
    {
     "name": "stderr",
     "output_type": "stream",
     "text": [
      "100%|██████████████████████████████████████████████| 356.84999999999997/356.84999999999997 [00:08<00:00, 41.76seconds/s]\n"
     ]
    },
    {
     "name": "stdout",
     "output_type": "stream",
     "text": [
      "Separating track demucs_preprocessed_input/quoc_master_1st_1000_preprocessed/Tiễn Anh Về Nơi Xa.mp3\n"
     ]
    },
    {
     "name": "stderr",
     "output_type": "stream",
     "text": [
      "100%|██████████████████████████████████████████████████████████████████████| 216.45/216.45 [00:05<00:00, 40.47seconds/s]\n"
     ]
    },
    {
     "name": "stdout",
     "output_type": "stream",
     "text": [
      "Separating track demucs_preprocessed_input/quoc_master_1st_1000_preprocessed/Chạm Vào Hơi Thở.mp3\n"
     ]
    },
    {
     "name": "stderr",
     "output_type": "stream",
     "text": [
      "100%|████████████████████████████████████████████████████████████████████████| 234.0/234.0 [00:05<00:00, 41.92seconds/s]\n"
     ]
    },
    {
     "name": "stdout",
     "output_type": "stream",
     "text": [
      "Separating track demucs_preprocessed_input/quoc_master_1st_1000_preprocessed/Câu Tre Lắt Lẻo.mp3\n"
     ]
    },
    {
     "name": "stderr",
     "output_type": "stream",
     "text": [
      "100%|██████████████████████████████████████████████| 327.59999999999997/327.59999999999997 [00:07<00:00, 41.27seconds/s]\n"
     ]
    },
    {
     "name": "stdout",
     "output_type": "stream",
     "text": [
      "Separating track demucs_preprocessed_input/quoc_master_1st_1000_preprocessed/Ngôi Sao Cảm.mp3\n"
     ]
    },
    {
     "name": "stderr",
     "output_type": "stream",
     "text": [
      "100%|██████████████████████████████████████████████| 280.79999999999995/280.79999999999995 [00:06<00:00, 41.54seconds/s]\n"
     ]
    },
    {
     "name": "stdout",
     "output_type": "stream",
     "text": [
      "Separating track demucs_preprocessed_input/quoc_master_1st_1000_preprocessed/Tình Đã Hao Gầy.mp3\n"
     ]
    },
    {
     "name": "stderr",
     "output_type": "stream",
     "text": [
      "100%|██████████████████████████████████████████████| 198.89999999999998/198.89999999999998 [00:04<00:00, 40.37seconds/s]\n"
     ]
    },
    {
     "name": "stdout",
     "output_type": "stream",
     "text": [
      "Separating track demucs_preprocessed_input/quoc_master_1st_1000_preprocessed/Mất Em Thật Rồi (Remix) (Beat).mp3\n"
     ]
    },
    {
     "name": "stderr",
     "output_type": "stream",
     "text": [
      "100%|██████████████████████████████████████████████| 280.79999999999995/280.79999999999995 [00:06<00:00, 40.98seconds/s]\n"
     ]
    },
    {
     "name": "stdout",
     "output_type": "stream",
     "text": [
      "Separating track demucs_preprocessed_input/quoc_master_1st_1000_preprocessed/Anh Có Về Đây Với Em (Remix).mp3\n"
     ]
    },
    {
     "name": "stderr",
     "output_type": "stream",
     "text": [
      "100%|██████████████████████████████████████████████| 228.14999999999998/228.14999999999998 [00:05<00:00, 40.24seconds/s]\n"
     ]
    },
    {
     "name": "stdout",
     "output_type": "stream",
     "text": [
      "Separating track demucs_preprocessed_input/quoc_master_1st_1000_preprocessed/Đi Qua Những Mùa Mưa Bay.mp3\n"
     ]
    },
    {
     "name": "stderr",
     "output_type": "stream",
     "text": [
      "100%|██████████████████████████████████████████████| 356.84999999999997/356.84999999999997 [00:08<00:00, 40.99seconds/s]\n"
     ]
    },
    {
     "name": "stdout",
     "output_type": "stream",
     "text": [
      "Separating track demucs_preprocessed_input/quoc_master_1st_1000_preprocessed/Twist Tình Yêu.mp3\n"
     ]
    },
    {
     "name": "stderr",
     "output_type": "stream",
     "text": [
      "100%|██████████████████████████████████████████████| 198.89999999999998/198.89999999999998 [00:04<00:00, 41.14seconds/s]\n"
     ]
    },
    {
     "name": "stdout",
     "output_type": "stream",
     "text": [
      "Separating track demucs_preprocessed_input/quoc_master_1st_1000_preprocessed/Tình Lỡ.mp3\n"
     ]
    },
    {
     "name": "stderr",
     "output_type": "stream",
     "text": [
      "100%|██████████████████████████████████████████████| 269.09999999999997/269.09999999999997 [00:06<00:00, 41.82seconds/s]\n"
     ]
    },
    {
     "name": "stdout",
     "output_type": "stream",
     "text": [
      "Separating track demucs_preprocessed_input/quoc_master_1st_1000_preprocessed/Cho Anh Xin Em Một Cơ Hội.mp3\n"
     ]
    },
    {
     "name": "stderr",
     "output_type": "stream",
     "text": [
      "100%|██████████████████████████████████████████████| 222.29999999999998/222.29999999999998 [00:05<00:00, 40.72seconds/s]\n"
     ]
    },
    {
     "name": "stdout",
     "output_type": "stream",
     "text": [
      "Separating track demucs_preprocessed_input/quoc_master_1st_1000_preprocessed/Không Thể Giữ Được Em (Khách Mời).mp3\n"
     ]
    },
    {
     "name": "stderr",
     "output_type": "stream",
     "text": [
      "100%|████████████████████████████████████████████████████████████████████████| 315.9/315.9 [00:07<00:00, 40.60seconds/s]\n"
     ]
    },
    {
     "name": "stdout",
     "output_type": "stream",
     "text": [
      "Separating track demucs_preprocessed_input/quoc_master_1st_1000_preprocessed/Yêu Vì Yêu.mp3\n"
     ]
    },
    {
     "name": "stderr",
     "output_type": "stream",
     "text": [
      "100%|████████████████████████████████████████████████████████████████████████| 257.4/257.4 [00:06<00:00, 41.77seconds/s]\n"
     ]
    },
    {
     "name": "stdout",
     "output_type": "stream",
     "text": [
      "Separating track demucs_preprocessed_input/quoc_master_1st_1000_preprocessed/Giây Phút Chia Xa (Nhạc Sống Hà Tây).mp3\n"
     ]
    },
    {
     "name": "stderr",
     "output_type": "stream",
     "text": [
      "100%|██████████████████████████████████████████████| 193.04999999999998/193.04999999999998 [00:04<00:00, 40.46seconds/s]\n"
     ]
    },
    {
     "name": "stdout",
     "output_type": "stream",
     "text": [
      "Separating track demucs_preprocessed_input/quoc_master_1st_1000_preprocessed/Bước Vu Quy.mp3\n"
     ]
    },
    {
     "name": "stderr",
     "output_type": "stream",
     "text": [
      "100%|██████████████████████████████████████████████| 280.79999999999995/280.79999999999995 [00:06<00:00, 41.55seconds/s]\n"
     ]
    },
    {
     "name": "stdout",
     "output_type": "stream",
     "text": [
      "Separating track demucs_preprocessed_input/quoc_master_1st_1000_preprocessed/Mùa Xuân Em Hát.mp3\n"
     ]
    },
    {
     "name": "stderr",
     "output_type": "stream",
     "text": [
      "100%|████████████████████████████████████████████████████████████████████████| 210.6/210.6 [00:05<00:00, 40.78seconds/s]\n"
     ]
    },
    {
     "name": "stdout",
     "output_type": "stream",
     "text": [
      "Separating track demucs_preprocessed_input/quoc_master_1st_1000_preprocessed/Đêm Lang Thang.mp3\n"
     ]
    },
    {
     "name": "stderr",
     "output_type": "stream",
     "text": [
      "100%|██████████████████████████████████████████████████████████████████████| 263.25/263.25 [00:06<00:00, 41.63seconds/s]\n"
     ]
    },
    {
     "name": "stdout",
     "output_type": "stream",
     "text": [
      "Separating track demucs_preprocessed_input/quoc_master_1st_1000_preprocessed/Công Dã Tràng.mp3\n"
     ]
    },
    {
     "name": "stderr",
     "output_type": "stream",
     "text": [
      "100%|████████████████████████████████████████████████████████████████████████| 292.5/292.5 [00:07<00:00, 41.09seconds/s]\n"
     ]
    },
    {
     "name": "stdout",
     "output_type": "stream",
     "text": [
      "Separating track demucs_preprocessed_input/quoc_master_1st_1000_preprocessed/Nếu Như Ngày Xưa.mp3\n"
     ]
    },
    {
     "name": "stderr",
     "output_type": "stream",
     "text": [
      "100%|██████████████████████████████████████████████████████████████████████| 286.65/286.65 [00:06<00:00, 41.90seconds/s]\n"
     ]
    },
    {
     "name": "stdout",
     "output_type": "stream",
     "text": [
      "Separating track demucs_preprocessed_input/quoc_master_1st_1000_preprocessed/Vẫn Nồng Nàn Tình Quê.mp3\n"
     ]
    },
    {
     "name": "stderr",
     "output_type": "stream",
     "text": [
      "100%|██████████████████████████████████████████████████████████████████████| 345.15/345.15 [00:08<00:00, 41.55seconds/s]\n"
     ]
    },
    {
     "name": "stdout",
     "output_type": "stream",
     "text": [
      "Separating track demucs_preprocessed_input/quoc_master_1st_1000_preprocessed/Anh Chẳng Thể.mp3\n"
     ]
    },
    {
     "name": "stderr",
     "output_type": "stream",
     "text": [
      "100%|██████████████████████████████████████████████████████████████████████| 216.45/216.45 [00:05<00:00, 40.49seconds/s]\n"
     ]
    },
    {
     "name": "stdout",
     "output_type": "stream",
     "text": [
      "Separating track demucs_preprocessed_input/quoc_master_1st_1000_preprocessed/Đâu Phải Chỉ Vì Nhớ.mp3\n"
     ]
    },
    {
     "name": "stderr",
     "output_type": "stream",
     "text": [
      "100%|██████████████████████████████████████████████| 298.34999999999997/298.34999999999997 [00:07<00:00, 41.46seconds/s]\n"
     ]
    },
    {
     "name": "stdout",
     "output_type": "stream",
     "text": [
      "Separating track demucs_preprocessed_input/quoc_master_1st_1000_preprocessed/Tôi Tin Anh.mp3\n"
     ]
    },
    {
     "name": "stderr",
     "output_type": "stream",
     "text": [
      "100%|██████████████████████████████████████████████████████████████████████| 333.45/333.45 [00:08<00:00, 41.68seconds/s]\n"
     ]
    },
    {
     "name": "stdout",
     "output_type": "stream",
     "text": [
      "Separating track demucs_preprocessed_input/quoc_master_1st_1000_preprocessed/Hãy Nói Lời Yêu Em.mp3\n"
     ]
    },
    {
     "name": "stderr",
     "output_type": "stream",
     "text": [
      "100%|████████████████████████████████████████████████████████████████████████| 245.7/245.7 [00:05<00:00, 41.43seconds/s]\n"
     ]
    },
    {
     "name": "stdout",
     "output_type": "stream",
     "text": [
      "Separating track demucs_preprocessed_input/quoc_master_1st_1000_preprocessed/Cái Giá Của Sự Trưởng Thành.mp3\n"
     ]
    },
    {
     "name": "stderr",
     "output_type": "stream",
     "text": [
      "100%|██████████████████████████████████████████████████████████████████████| 181.35/181.35 [00:04<00:00, 39.46seconds/s]\n"
     ]
    },
    {
     "name": "stdout",
     "output_type": "stream",
     "text": [
      "Separating track demucs_preprocessed_input/quoc_master_1st_1000_preprocessed/Mùa Nhớ Em.mp3\n"
     ]
    },
    {
     "name": "stderr",
     "output_type": "stream",
     "text": [
      "100%|██████████████████████████████████████████████| 310.04999999999995/310.04999999999995 [00:07<00:00, 41.75seconds/s]\n"
     ]
    },
    {
     "name": "stdout",
     "output_type": "stream",
     "text": [
      "Separating track demucs_preprocessed_input/quoc_master_1st_1000_preprocessed/Anh Chờ Em.mp3\n"
     ]
    },
    {
     "name": "stderr",
     "output_type": "stream",
     "text": [
      "100%|████████████████████████████████████████████████████████████████████████| 315.9/315.9 [00:07<00:00, 41.55seconds/s]\n"
     ]
    },
    {
     "name": "stdout",
     "output_type": "stream",
     "text": [
      "Separating track demucs_preprocessed_input/quoc_master_1st_1000_preprocessed/Mưa Đừng Rơi Nữa.mp3\n"
     ]
    },
    {
     "name": "stderr",
     "output_type": "stream",
     "text": [
      "100%|██████████████████████████████████████████████████████████████████████| 263.25/263.25 [00:06<00:00, 40.83seconds/s]\n"
     ]
    },
    {
     "name": "stdout",
     "output_type": "stream",
     "text": [
      "Separating track demucs_preprocessed_input/quoc_master_1st_1000_preprocessed/Bao Giờ Em Thôi Nói Yêu Anh.mp3\n"
     ]
    },
    {
     "name": "stderr",
     "output_type": "stream",
     "text": [
      "100%|████████████████████████████████████████████████████████████████████████| 257.4/257.4 [00:06<00:00, 41.01seconds/s]\n"
     ]
    },
    {
     "name": "stdout",
     "output_type": "stream",
     "text": [
      "Separating track demucs_preprocessed_input/quoc_master_1st_1000_preprocessed/Chiều Tà.mp3\n"
     ]
    },
    {
     "name": "stderr",
     "output_type": "stream",
     "text": [
      "100%|██████████████████████████████████████████████| 251.54999999999998/251.54999999999998 [00:06<00:00, 40.92seconds/s]\n"
     ]
    },
    {
     "name": "stdout",
     "output_type": "stream",
     "text": [
      "Separating track demucs_preprocessed_input/quoc_master_1st_1000_preprocessed/Người Gian Dối Em Không Cần.mp3\n"
     ]
    },
    {
     "name": "stderr",
     "output_type": "stream",
     "text": [
      "100%|██████████████████████████████████████████████| 198.89999999999998/198.89999999999998 [00:04<00:00, 41.31seconds/s]\n"
     ]
    },
    {
     "name": "stdout",
     "output_type": "stream",
     "text": [
      "Separating track demucs_preprocessed_input/quoc_master_1st_1000_preprocessed/Bạc Lòng.mp3\n"
     ]
    },
    {
     "name": "stderr",
     "output_type": "stream",
     "text": [
      "100%|██████████████████████████████████████████████| 280.79999999999995/280.79999999999995 [00:06<00:00, 41.50seconds/s]\n"
     ]
    },
    {
     "name": "stdout",
     "output_type": "stream",
     "text": [
      "Separating track demucs_preprocessed_input/quoc_master_1st_1000_preprocessed/Bồ Tát Quan Thế Âm.mp3\n"
     ]
    },
    {
     "name": "stderr",
     "output_type": "stream",
     "text": [
      "100%|██████████████████████████████████████████████| 386.09999999999997/386.09999999999997 [00:09<00:00, 41.58seconds/s]\n"
     ]
    },
    {
     "name": "stdout",
     "output_type": "stream",
     "text": [
      "Separating track demucs_preprocessed_input/quoc_master_1st_1000_preprocessed/Mãi Có Anh (Only You).mp3\n"
     ]
    },
    {
     "name": "stderr",
     "output_type": "stream",
     "text": [
      "100%|████████████████████████████████████████████████████████████████████████| 234.0/234.0 [00:05<00:00, 41.08seconds/s]\n"
     ]
    },
    {
     "name": "stdout",
     "output_type": "stream",
     "text": [
      "Separating track demucs_preprocessed_input/quoc_master_1st_1000_preprocessed/Muốn Làm Lại Người Tốt.mp3\n"
     ]
    },
    {
     "name": "stderr",
     "output_type": "stream",
     "text": [
      "100%|████████████████████████████████████████████████████████████████████████| 257.4/257.4 [00:06<00:00, 40.80seconds/s]\n"
     ]
    },
    {
     "name": "stdout",
     "output_type": "stream",
     "text": [
      "Separating track demucs_preprocessed_input/quoc_master_1st_1000_preprocessed/Ly Rượu Mừng (2024 Version).mp3\n"
     ]
    },
    {
     "name": "stderr",
     "output_type": "stream",
     "text": [
      "100%|██████████████████████████████████████████████| 222.29999999999998/222.29999999999998 [00:05<00:00, 41.14seconds/s]\n"
     ]
    },
    {
     "name": "stdout",
     "output_type": "stream",
     "text": [
      "Separating track demucs_preprocessed_input/quoc_master_1st_1000_preprocessed/Giấc Mơ Bên Người.mp3\n"
     ]
    },
    {
     "name": "stderr",
     "output_type": "stream",
     "text": [
      "100%|██████████████████████████████████████████████| 222.29999999999998/222.29999999999998 [00:05<00:00, 40.59seconds/s]\n"
     ]
    },
    {
     "name": "stdout",
     "output_type": "stream",
     "text": [
      "Separating track demucs_preprocessed_input/quoc_master_1st_1000_preprocessed/Không Yêu Thì Thôi.mp3\n"
     ]
    },
    {
     "name": "stderr",
     "output_type": "stream",
     "text": [
      "100%|██████████████████████████████████████████████████████████████████████| 239.85/239.85 [00:05<00:00, 40.44seconds/s]\n"
     ]
    },
    {
     "name": "stdout",
     "output_type": "stream",
     "text": [
      "Separating track demucs_preprocessed_input/quoc_master_1st_1000_preprocessed/Buồn Như Kiếp Tằm.mp3\n"
     ]
    },
    {
     "name": "stderr",
     "output_type": "stream",
     "text": [
      "100%|██████████████████████████████████████████████████████████████████████| 403.65/403.65 [00:09<00:00, 41.00seconds/s]\n"
     ]
    },
    {
     "name": "stdout",
     "output_type": "stream",
     "text": [
      "Separating track demucs_preprocessed_input/quoc_master_1st_1000_preprocessed/Cung Đàn Buồn.mp3\n"
     ]
    },
    {
     "name": "stderr",
     "output_type": "stream",
     "text": [
      "100%|████████████████████████████████████████████████████████████████████████| 234.0/234.0 [00:05<00:00, 40.33seconds/s]\n"
     ]
    },
    {
     "name": "stdout",
     "output_type": "stream",
     "text": [
      "Separating track demucs_preprocessed_input/quoc_master_1st_1000_preprocessed/LK Bến Thượng Hải (Liveshow).mp3\n"
     ]
    },
    {
     "name": "stderr",
     "output_type": "stream",
     "text": [
      "100%|████████████████████████████████████████████████████████████████████████| 549.9/549.9 [00:13<00:00, 42.28seconds/s]\n"
     ]
    },
    {
     "name": "stdout",
     "output_type": "stream",
     "text": [
      "Separating track demucs_preprocessed_input/quoc_master_1st_1000_preprocessed/Chuyện Tình Không Mang Tên.mp3\n"
     ]
    },
    {
     "name": "stderr",
     "output_type": "stream",
     "text": [
      "100%|██████████████████████████████████████████████| 310.04999999999995/310.04999999999995 [00:07<00:00, 40.41seconds/s]\n"
     ]
    },
    {
     "name": "stdout",
     "output_type": "stream",
     "text": [
      "Separating track demucs_preprocessed_input/quoc_master_1st_1000_preprocessed/Kí Ức Trong Tôi.mp3\n"
     ]
    },
    {
     "name": "stderr",
     "output_type": "stream",
     "text": [
      "100%|████████████████████████████████████████████████████████████████████████| 421.2/421.2 [00:10<00:00, 41.57seconds/s]\n"
     ]
    },
    {
     "name": "stdout",
     "output_type": "stream",
     "text": [
      "Separating track demucs_preprocessed_input/quoc_master_1st_1000_preprocessed/Mới Biết Yêu.mp3\n"
     ]
    },
    {
     "name": "stderr",
     "output_type": "stream",
     "text": [
      "100%|██████████████████████████████████████████████████████████████████████| 286.65/286.65 [00:06<00:00, 41.67seconds/s]\n"
     ]
    },
    {
     "name": "stdout",
     "output_type": "stream",
     "text": [
      "Separating track demucs_preprocessed_input/quoc_master_1st_1000_preprocessed/Biết Nói Sao Người Hỡi.mp3\n"
     ]
    },
    {
     "name": "stderr",
     "output_type": "stream",
     "text": [
      "100%|██████████████████████████████████████████████| 222.29999999999998/222.29999999999998 [00:05<00:00, 40.46seconds/s]\n"
     ]
    },
    {
     "name": "stdout",
     "output_type": "stream",
     "text": [
      "Separating track demucs_preprocessed_input/quoc_master_1st_1000_preprocessed/Con Bướm Xuân (Beat).mp3\n"
     ]
    },
    {
     "name": "stderr",
     "output_type": "stream",
     "text": [
      "100%|██████████████████████████████████████████████| 251.54999999999998/251.54999999999998 [00:06<00:00, 41.28seconds/s]\n"
     ]
    },
    {
     "name": "stdout",
     "output_type": "stream",
     "text": [
      "Separating track demucs_preprocessed_input/quoc_master_1st_1000_preprocessed/Vượt Lên Chính Mình.mp3\n"
     ]
    },
    {
     "name": "stderr",
     "output_type": "stream",
     "text": [
      "100%|██████████████████████████████████████████████| 298.34999999999997/298.34999999999997 [00:07<00:00, 41.74seconds/s]\n"
     ]
    },
    {
     "name": "stdout",
     "output_type": "stream",
     "text": [
      "Separating track demucs_preprocessed_input/quoc_master_1st_1000_preprocessed/Cuối Ngày.mp3\n"
     ]
    },
    {
     "name": "stderr",
     "output_type": "stream",
     "text": [
      "100%|████████████████████████████████████████████████████████████████████████| 292.5/292.5 [00:07<00:00, 41.06seconds/s]\n"
     ]
    },
    {
     "name": "stdout",
     "output_type": "stream",
     "text": [
      "Separating track demucs_preprocessed_input/quoc_master_1st_1000_preprocessed/Đồng Tiền Rẽ Lối (Parody).mp3\n"
     ]
    },
    {
     "name": "stderr",
     "output_type": "stream",
     "text": [
      "100%|████████████████████████████████████████████████████████████████████████| 234.0/234.0 [00:05<00:00, 40.72seconds/s]\n"
     ]
    },
    {
     "name": "stdout",
     "output_type": "stream",
     "text": [
      "Separating track demucs_preprocessed_input/quoc_master_1st_1000_preprocessed/Ước Mơ Của Mẹ.mp3\n"
     ]
    },
    {
     "name": "stderr",
     "output_type": "stream",
     "text": [
      "100%|████████████████████████████████████████████████████████████████████████| 234.0/234.0 [00:05<00:00, 40.82seconds/s]\n"
     ]
    },
    {
     "name": "stdout",
     "output_type": "stream",
     "text": [
      "Separating track demucs_preprocessed_input/quoc_master_1st_1000_preprocessed/Giấc Mộng Vàng.mp3\n"
     ]
    },
    {
     "name": "stderr",
     "output_type": "stream",
     "text": [
      "100%|████████████████████████████████████████████████████████████████████████| 245.7/245.7 [00:06<00:00, 40.63seconds/s]\n"
     ]
    },
    {
     "name": "stdout",
     "output_type": "stream",
     "text": [
      "Separating track demucs_preprocessed_input/quoc_master_1st_1000_preprocessed/Đau Nhất Là Yêu Nhiều Hơn.mp3\n"
     ]
    },
    {
     "name": "stderr",
     "output_type": "stream",
     "text": [
      "100%|██████████████████████████████████████████████| 327.59999999999997/327.59999999999997 [00:07<00:00, 41.66seconds/s]\n"
     ]
    },
    {
     "name": "stdout",
     "output_type": "stream",
     "text": [
      "Separating track demucs_preprocessed_input/quoc_master_1st_1000_preprocessed/Bé Về Đâu Bé Ơi.mp3\n"
     ]
    },
    {
     "name": "stderr",
     "output_type": "stream",
     "text": [
      "100%|██████████████████████████████████████████████| 310.04999999999995/310.04999999999995 [00:07<00:00, 41.52seconds/s]\n"
     ]
    },
    {
     "name": "stdout",
     "output_type": "stream",
     "text": [
      "Separating track demucs_preprocessed_input/quoc_master_1st_1000_preprocessed/Tình Hồng Phai.mp3\n"
     ]
    },
    {
     "name": "stderr",
     "output_type": "stream",
     "text": [
      "100%|██████████████████████████████████████████████| 198.89999999999998/198.89999999999998 [00:04<00:00, 41.13seconds/s]\n"
     ]
    },
    {
     "name": "stdout",
     "output_type": "stream",
     "text": [
      "Separating track demucs_preprocessed_input/quoc_master_1st_1000_preprocessed/Liên Khúc Bolero.mp3\n"
     ]
    },
    {
     "name": "stderr",
     "output_type": "stream",
     "text": [
      "100%|████████████████████████████████████████████████████████████████████| 1035.45/1035.45 [00:24<00:00, 42.11seconds/s]\n"
     ]
    },
    {
     "name": "stdout",
     "output_type": "stream",
     "text": [
      "Separating track demucs_preprocessed_input/quoc_master_1st_1000_preprocessed/Chờ Anh Nói Một Lời.mp3\n"
     ]
    },
    {
     "name": "stderr",
     "output_type": "stream",
     "text": [
      "100%|██████████████████████████████████████████████████████████████████████| 216.45/216.45 [00:05<00:00, 39.51seconds/s]\n"
     ]
    },
    {
     "name": "stdout",
     "output_type": "stream",
     "text": [
      "Separating track demucs_preprocessed_input/quoc_master_1st_1000_preprocessed/Bông Hồng Thủy Tinh.mp3\n"
     ]
    },
    {
     "name": "stderr",
     "output_type": "stream",
     "text": [
      "100%|██████████████████████████████████████████████| 251.54999999999998/251.54999999999998 [00:06<00:00, 39.37seconds/s]\n"
     ]
    },
    {
     "name": "stdout",
     "output_type": "stream",
     "text": [
      "Separating track demucs_preprocessed_input/quoc_master_1st_1000_preprocessed/Em Quá Đáng Lắm Luôn Á.mp3\n"
     ]
    },
    {
     "name": "stderr",
     "output_type": "stream",
     "text": [
      "100%|██████████████████████████████████████████████████████████████████████████| 93.6/93.6 [00:02<00:00, 39.54seconds/s]\n"
     ]
    },
    {
     "name": "stdout",
     "output_type": "stream",
     "text": [
      "Separating track demucs_preprocessed_input/quoc_master_1st_1000_preprocessed/Mẹ Ơi Con Là Ai.mp3\n"
     ]
    },
    {
     "name": "stderr",
     "output_type": "stream",
     "text": [
      "100%|████████████████████████████████████████████████████████████████████████| 257.4/257.4 [00:06<00:00, 41.04seconds/s]\n"
     ]
    },
    {
     "name": "stdout",
     "output_type": "stream",
     "text": [
      "Separating track demucs_preprocessed_input/quoc_master_1st_1000_preprocessed/Mượn Đôi Tay Ấm.mp3\n"
     ]
    },
    {
     "name": "stderr",
     "output_type": "stream",
     "text": [
      "100%|██████████████████████████████████████████████████████████████████████| 321.75/321.75 [00:07<00:00, 41.27seconds/s]\n"
     ]
    },
    {
     "name": "stdout",
     "output_type": "stream",
     "text": [
      "Separating track demucs_preprocessed_input/quoc_master_1st_1000_preprocessed/Đêm Sầu Đời.mp3\n"
     ]
    },
    {
     "name": "stderr",
     "output_type": "stream",
     "text": [
      "100%|████████████████████████████████████████████████████████████████████████| 292.5/292.5 [00:07<00:00, 41.00seconds/s]\n"
     ]
    },
    {
     "name": "stdout",
     "output_type": "stream",
     "text": [
      "Separating track demucs_preprocessed_input/quoc_master_1st_1000_preprocessed/Xem Như Anh Chẳng May - Ngọt Ngào Đến Mấy Cũng Tan Thành Mây (Remix).mp3\n"
     ]
    },
    {
     "name": "stderr",
     "output_type": "stream",
     "text": [
      "100%|████████████████████████████████████████████████████████████████████████| 234.0/234.0 [00:05<00:00, 40.69seconds/s]\n"
     ]
    },
    {
     "name": "stdout",
     "output_type": "stream",
     "text": [
      "Separating track demucs_preprocessed_input/quoc_master_1st_1000_preprocessed/E Là Không Thể.mp3\n"
     ]
    },
    {
     "name": "stderr",
     "output_type": "stream",
     "text": [
      "100%|████████████████████████████████████████████████████████████████████████| 304.2/304.2 [00:07<00:00, 41.86seconds/s]\n"
     ]
    },
    {
     "name": "stdout",
     "output_type": "stream",
     "text": [
      "Separating track demucs_preprocessed_input/quoc_master_1st_1000_preprocessed/Mưa Đêm.mp3\n"
     ]
    },
    {
     "name": "stderr",
     "output_type": "stream",
     "text": [
      "100%|████████████████████████████████████████████████████████████████████████| 234.0/234.0 [00:05<00:00, 41.01seconds/s]\n"
     ]
    },
    {
     "name": "stdout",
     "output_type": "stream",
     "text": [
      "Separating track demucs_preprocessed_input/quoc_master_1st_1000_preprocessed/Bạn Là Thế Nhé.mp3\n"
     ]
    },
    {
     "name": "stderr",
     "output_type": "stream",
     "text": [
      "100%|████████████████████████████████████████████████████████████████████████| 257.4/257.4 [00:06<00:00, 40.86seconds/s]\n"
     ]
    },
    {
     "name": "stdout",
     "output_type": "stream",
     "text": [
      "Separating track demucs_preprocessed_input/quoc_master_1st_1000_preprocessed/Còn Yêu Hãy Về Với Nhau (T-Bag Remix).mp3\n"
     ]
    },
    {
     "name": "stderr",
     "output_type": "stream",
     "text": [
      "100%|██████████████████████████████████████████████████████████████████████| 157.95/157.95 [00:04<00:00, 39.48seconds/s]\n"
     ]
    },
    {
     "name": "stdout",
     "output_type": "stream",
     "text": [
      "Separating track demucs_preprocessed_input/quoc_master_1st_1000_preprocessed/Cần Một Hơi Ấm.mp3\n"
     ]
    },
    {
     "name": "stderr",
     "output_type": "stream",
     "text": [
      "100%|██████████████████████████████████████████████| 280.79999999999995/280.79999999999995 [00:06<00:00, 40.51seconds/s]\n"
     ]
    },
    {
     "name": "stdout",
     "output_type": "stream",
     "text": [
      "Separating track demucs_preprocessed_input/quoc_master_1st_1000_preprocessed/Cho Đến Khi Trời Đất Sụp Đổ.mp3\n"
     ]
    },
    {
     "name": "stderr",
     "output_type": "stream",
     "text": [
      "100%|██████████████████████████████████████████████████████████████████████| 146.25/146.25 [00:03<00:00, 40.55seconds/s]\n"
     ]
    },
    {
     "name": "stdout",
     "output_type": "stream",
     "text": [
      "Separating track demucs_preprocessed_input/quoc_master_1st_1000_preprocessed/Tập Yêu Đi.mp3\n"
     ]
    },
    {
     "name": "stderr",
     "output_type": "stream",
     "text": [
      "100%|████████████████████████████████████████████████████████████████████████| 175.5/175.5 [00:04<00:00, 40.93seconds/s]\n"
     ]
    },
    {
     "name": "stdout",
     "output_type": "stream",
     "text": [
      "Separating track demucs_preprocessed_input/quoc_master_1st_1000_preprocessed/Chuyện Tình Anh Bán Chiếu.mp3\n"
     ]
    },
    {
     "name": "stderr",
     "output_type": "stream",
     "text": [
      "100%|██████████████████████████████████████████████████████████████████████| 239.85/239.85 [00:05<00:00, 41.73seconds/s]\n"
     ]
    },
    {
     "name": "stdout",
     "output_type": "stream",
     "text": [
      "Separating track demucs_preprocessed_input/quoc_master_1st_1000_preprocessed/Anh Không Cần Là Người Đầu Tiên.mp3\n"
     ]
    },
    {
     "name": "stderr",
     "output_type": "stream",
     "text": [
      "100%|████████████████████████████████████████████████████████████████████████| 257.4/257.4 [00:06<00:00, 41.57seconds/s]\n"
     ]
    },
    {
     "name": "stdout",
     "output_type": "stream",
     "text": [
      "Separating track demucs_preprocessed_input/quoc_master_1st_1000_preprocessed/Hạ Trắng.mp3\n"
     ]
    },
    {
     "name": "stderr",
     "output_type": "stream",
     "text": [
      "100%|██████████████████████████████████████████████| 298.34999999999997/298.34999999999997 [00:07<00:00, 41.26seconds/s]\n"
     ]
    },
    {
     "name": "stdout",
     "output_type": "stream",
     "text": [
      "Separating track demucs_preprocessed_input/quoc_master_1st_1000_preprocessed/4 Phút 20 Giây (Về Nhà Với Anh Đi).mp3\n"
     ]
    },
    {
     "name": "stderr",
     "output_type": "stream",
     "text": [
      "100%|██████████████████████████████████████████████████████████████████████| 216.45/216.45 [00:05<00:00, 41.34seconds/s]\n"
     ]
    },
    {
     "name": "stdout",
     "output_type": "stream",
     "text": [
      "Separating track demucs_preprocessed_input/quoc_master_1st_1000_preprocessed/Nếu Mình Yêu Nhau.mp3\n"
     ]
    },
    {
     "name": "stderr",
     "output_type": "stream",
     "text": [
      "100%|████████████████████████████████████████████████████████████████████████| 210.6/210.6 [00:05<00:00, 40.61seconds/s]\n"
     ]
    },
    {
     "name": "stdout",
     "output_type": "stream",
     "text": [
      "Separating track demucs_preprocessed_input/quoc_master_1st_1000_preprocessed/Ghép Môi.mp3\n"
     ]
    },
    {
     "name": "stderr",
     "output_type": "stream",
     "text": [
      "100%|████████████████████████████████████████████████████████████████████████| 210.6/210.6 [00:05<00:00, 40.08seconds/s]\n"
     ]
    },
    {
     "name": "stdout",
     "output_type": "stream",
     "text": [
      "Separating track demucs_preprocessed_input/quoc_master_1st_1000_preprocessed/Chiếc Khăn Tang.mp3\n"
     ]
    },
    {
     "name": "stderr",
     "output_type": "stream",
     "text": [
      "100%|████████████████████████████████████████████████████████████████████████| 374.4/374.4 [00:09<00:00, 41.19seconds/s]\n"
     ]
    },
    {
     "name": "stdout",
     "output_type": "stream",
     "text": [
      "Separating track demucs_preprocessed_input/quoc_master_1st_1000_preprocessed/Bốn Mươi Mùa Thu Qua.mp3\n"
     ]
    },
    {
     "name": "stderr",
     "output_type": "stream",
     "text": [
      "100%|████████████████████████████████████████████████████████████████████████| 292.5/292.5 [00:07<00:00, 41.19seconds/s]\n"
     ]
    },
    {
     "name": "stdout",
     "output_type": "stream",
     "text": [
      "Separating track demucs_preprocessed_input/quoc_master_1st_1000_preprocessed/Khúc Tâm Tình Người Hà Tĩnh.mp3\n"
     ]
    },
    {
     "name": "stderr",
     "output_type": "stream",
     "text": [
      "100%|██████████████████████████████████████████████| 339.29999999999995/339.29999999999995 [00:08<00:00, 41.71seconds/s]\n"
     ]
    },
    {
     "name": "stdout",
     "output_type": "stream",
     "text": [
      "Separating track demucs_preprocessed_input/quoc_master_1st_1000_preprocessed/Xuân Bên Anh.mp3\n"
     ]
    },
    {
     "name": "stderr",
     "output_type": "stream",
     "text": [
      "100%|██████████████████████████████████████████████████████████████████████| 239.85/239.85 [00:05<00:00, 40.88seconds/s]\n"
     ]
    },
    {
     "name": "stdout",
     "output_type": "stream",
     "text": [
      "Separating track demucs_preprocessed_input/quoc_master_1st_1000_preprocessed/Mùi Hương.mp3\n"
     ]
    },
    {
     "name": "stderr",
     "output_type": "stream",
     "text": [
      "100%|████████████████████████████████████████████████████████████████████████| 245.7/245.7 [00:06<00:00, 40.92seconds/s]\n"
     ]
    },
    {
     "name": "stdout",
     "output_type": "stream",
     "text": [
      "Separating track demucs_preprocessed_input/quoc_master_1st_1000_preprocessed/Mất Nhau Rồi Có Nhau.mp3\n"
     ]
    },
    {
     "name": "stderr",
     "output_type": "stream",
     "text": [
      "100%|██████████████████████████████████████████████| 198.89999999999998/198.89999999999998 [00:04<00:00, 40.31seconds/s]\n"
     ]
    },
    {
     "name": "stdout",
     "output_type": "stream",
     "text": [
      "Separating track demucs_preprocessed_input/quoc_master_1st_1000_preprocessed/Lk Phải Lòng Con Gái Bến Tre Áo Mới Cà Mau.mp3\n"
     ]
    },
    {
     "name": "stderr",
     "output_type": "stream",
     "text": [
      "100%|████████████████████████████████████████████████████████████████████████| 514.8/514.8 [00:12<00:00, 41.71seconds/s]\n"
     ]
    },
    {
     "name": "stdout",
     "output_type": "stream",
     "text": [
      "Separating track demucs_preprocessed_input/quoc_master_1st_1000_preprocessed/Anh Biết Anh Sai Em Ơi.mp3\n"
     ]
    },
    {
     "name": "stderr",
     "output_type": "stream",
     "text": [
      "100%|██████████████████████████████████████████████| 327.59999999999997/327.59999999999997 [00:07<00:00, 41.72seconds/s]\n"
     ]
    },
    {
     "name": "stdout",
     "output_type": "stream",
     "text": [
      "Separating track demucs_preprocessed_input/quoc_master_1st_1000_preprocessed/Cảm Ơn Anh.mp3\n"
     ]
    },
    {
     "name": "stderr",
     "output_type": "stream",
     "text": [
      "100%|██████████████████████████████████████████████| 269.09999999999997/269.09999999999997 [00:06<00:00, 40.93seconds/s]\n"
     ]
    },
    {
     "name": "stdout",
     "output_type": "stream",
     "text": [
      "Separating track demucs_preprocessed_input/quoc_master_1st_1000_preprocessed/Sao Em Vô Tình.mp3\n"
     ]
    },
    {
     "name": "stderr",
     "output_type": "stream",
     "text": [
      "100%|██████████████████████████████████████████████| 251.54999999999998/251.54999999999998 [00:06<00:00, 40.55seconds/s]\n"
     ]
    },
    {
     "name": "stdout",
     "output_type": "stream",
     "text": [
      "Separating track demucs_preprocessed_input/quoc_master_1st_1000_preprocessed/Bài Ca Tết Cho Em (2024 Version).mp3\n"
     ]
    },
    {
     "name": "stderr",
     "output_type": "stream",
     "text": [
      "100%|██████████████████████████████████████████████| 228.14999999999998/228.14999999999998 [00:05<00:00, 40.31seconds/s]\n"
     ]
    },
    {
     "name": "stdout",
     "output_type": "stream",
     "text": [
      "Separating track demucs_preprocessed_input/quoc_master_1st_1000_preprocessed/Cú Sốc.mp3\n"
     ]
    },
    {
     "name": "stderr",
     "output_type": "stream",
     "text": [
      "100%|██████████████████████████████████████████████████████████████████████| 204.75/204.75 [00:04<00:00, 41.30seconds/s]\n"
     ]
    },
    {
     "name": "stdout",
     "output_type": "stream",
     "text": [
      "Separating track demucs_preprocessed_input/quoc_master_1st_1000_preprocessed/Tôi Xa Người Yêu.mp3\n"
     ]
    },
    {
     "name": "stderr",
     "output_type": "stream",
     "text": [
      "100%|██████████████████████████████████████████████| 280.79999999999995/280.79999999999995 [00:06<00:00, 41.28seconds/s]\n"
     ]
    },
    {
     "name": "stdout",
     "output_type": "stream",
     "text": [
      "Separating track demucs_preprocessed_input/quoc_master_1st_1000_preprocessed/Ngày Mai Người Ta Lấy Chồng (Remix).mp3\n"
     ]
    },
    {
     "name": "stderr",
     "output_type": "stream",
     "text": [
      "100%|██████████████████████████████████████████████████████████████████████| 345.15/345.15 [00:08<00:00, 42.19seconds/s]\n"
     ]
    },
    {
     "name": "stdout",
     "output_type": "stream",
     "text": [
      "Separating track demucs_preprocessed_input/quoc_master_1st_1000_preprocessed/Cố Giữ Hay Phải Quên Đi.mp3\n"
     ]
    },
    {
     "name": "stderr",
     "output_type": "stream",
     "text": [
      "100%|██████████████████████████████████████████████████████████████████████| 286.65/286.65 [00:07<00:00, 40.85seconds/s]\n"
     ]
    },
    {
     "name": "stdout",
     "output_type": "stream",
     "text": [
      "Separating track demucs_preprocessed_input/quoc_master_1st_1000_preprocessed/Để Em Sống.mp3\n"
     ]
    },
    {
     "name": "stderr",
     "output_type": "stream",
     "text": [
      "100%|██████████████████████████████████████████████████████████████████████| 181.35/181.35 [00:04<00:00, 41.31seconds/s]\n"
     ]
    },
    {
     "name": "stdout",
     "output_type": "stream",
     "text": [
      "Separating track demucs_preprocessed_input/quoc_master_1st_1000_preprocessed/Tặng Em Bài Ca Niệm Phật.mp3\n"
     ]
    },
    {
     "name": "stderr",
     "output_type": "stream",
     "text": [
      "100%|████████████████████████████████████████████████████████████████████████| 292.5/292.5 [00:07<00:00, 41.49seconds/s]\n"
     ]
    },
    {
     "name": "stdout",
     "output_type": "stream",
     "text": [
      "Separating track demucs_preprocessed_input/quoc_master_1st_1000_preprocessed/Chiếc Gối Ôm.mp3\n"
     ]
    },
    {
     "name": "stderr",
     "output_type": "stream",
     "text": [
      "100%|██████████████████████████████████████████████| 193.04999999999998/193.04999999999998 [00:04<00:00, 41.48seconds/s]\n"
     ]
    },
    {
     "name": "stdout",
     "output_type": "stream",
     "text": [
      "Separating track demucs_preprocessed_input/quoc_master_1st_1000_preprocessed/Kỷ Nguyên Kiếm Sĩ.mp3\n"
     ]
    },
    {
     "name": "stderr",
     "output_type": "stream",
     "text": [
      "100%|██████████████████████████████████████████████| 140.39999999999998/140.39999999999998 [00:03<00:00, 40.63seconds/s]\n"
     ]
    },
    {
     "name": "stdout",
     "output_type": "stream",
     "text": [
      "Separating track demucs_preprocessed_input/quoc_master_1st_1000_preprocessed/Cả Đời Thương Em (WRC REMIX).mp3\n"
     ]
    },
    {
     "name": "stderr",
     "output_type": "stream",
     "text": [
      "100%|██████████████████████████████████████████████████████████████████████| 204.75/204.75 [00:05<00:00, 40.72seconds/s]\n"
     ]
    },
    {
     "name": "stdout",
     "output_type": "stream",
     "text": [
      "Separating track demucs_preprocessed_input/quoc_master_1st_1000_preprocessed/Em LÀ Ánh Dương.mp3\n"
     ]
    },
    {
     "name": "stderr",
     "output_type": "stream",
     "text": [
      "100%|████████████████████████████████████████████████████████████████████████| 234.0/234.0 [00:05<00:00, 40.51seconds/s]\n"
     ]
    },
    {
     "name": "stdout",
     "output_type": "stream",
     "text": [
      "Separating track demucs_preprocessed_input/quoc_master_1st_1000_preprocessed/Hoài Niệm Chôn Sâu.mp3\n"
     ]
    },
    {
     "name": "stderr",
     "output_type": "stream",
     "text": [
      "100%|██████████████████████████████████████████████| 269.09999999999997/269.09999999999997 [00:06<00:00, 41.35seconds/s]\n"
     ]
    },
    {
     "name": "stdout",
     "output_type": "stream",
     "text": [
      "Separating track demucs_preprocessed_input/quoc_master_1st_1000_preprocessed/Tự Hào Thành Phố Mang Tên Người.mp3\n"
     ]
    },
    {
     "name": "stderr",
     "output_type": "stream",
     "text": [
      "100%|██████████████████████████████████████████████| 251.54999999999998/251.54999999999998 [00:06<00:00, 40.62seconds/s]\n"
     ]
    },
    {
     "name": "stdout",
     "output_type": "stream",
     "text": [
      "Separating track demucs_preprocessed_input/quoc_master_1st_1000_preprocessed/Đành Để Em Đi.mp3\n"
     ]
    },
    {
     "name": "stderr",
     "output_type": "stream",
     "text": [
      "100%|██████████████████████████████████████████████████████████████████████| 216.45/216.45 [00:05<00:00, 41.59seconds/s]\n"
     ]
    },
    {
     "name": "stdout",
     "output_type": "stream",
     "text": [
      "Separating track demucs_preprocessed_input/quoc_master_1st_1000_preprocessed/Điều Anh Sợ.mp3\n"
     ]
    },
    {
     "name": "stderr",
     "output_type": "stream",
     "text": [
      "100%|██████████████████████████████████████████████████████████████████████| 204.75/204.75 [00:04<00:00, 41.22seconds/s]\n"
     ]
    },
    {
     "name": "stdout",
     "output_type": "stream",
     "text": [
      "Separating track demucs_preprocessed_input/quoc_master_1st_1000_preprocessed/Tiến Lên Việt Nam Ơi.mp3\n"
     ]
    },
    {
     "name": "stderr",
     "output_type": "stream",
     "text": [
      "100%|██████████████████████████████████████████████████████████████████████| 204.75/204.75 [00:05<00:00, 39.78seconds/s]\n"
     ]
    },
    {
     "name": "stdout",
     "output_type": "stream",
     "text": [
      "Separating track demucs_preprocessed_input/quoc_master_1st_1000_preprocessed/Xuân Là Để Yêu.mp3\n"
     ]
    },
    {
     "name": "stderr",
     "output_type": "stream",
     "text": [
      "100%|████████████████████████████████████████████████████████████████████████| 234.0/234.0 [00:05<00:00, 42.11seconds/s]\n"
     ]
    },
    {
     "name": "stdout",
     "output_type": "stream",
     "text": [
      "Separating track demucs_preprocessed_input/quoc_master_1st_1000_preprocessed/Ngựa Ô Thương Nhớ.mp3\n"
     ]
    },
    {
     "name": "stderr",
     "output_type": "stream",
     "text": [
      "100%|██████████████████████████████████████████████| 269.09999999999997/269.09999999999997 [00:06<00:00, 41.23seconds/s]\n"
     ]
    },
    {
     "name": "stdout",
     "output_type": "stream",
     "text": [
      "Separating track demucs_preprocessed_input/quoc_master_1st_1000_preprocessed/Con Đường Mây Trắng.mp3\n"
     ]
    },
    {
     "name": "stderr",
     "output_type": "stream",
     "text": [
      "100%|████████████████████████████████████████████████████████████████████████| 187.2/187.2 [00:04<00:00, 41.24seconds/s]\n"
     ]
    },
    {
     "name": "stdout",
     "output_type": "stream",
     "text": [
      "Separating track demucs_preprocessed_input/quoc_master_1st_1000_preprocessed/Hoài Cổ.mp3\n"
     ]
    },
    {
     "name": "stderr",
     "output_type": "stream",
     "text": [
      "100%|██████████████████████████████████████████████| 269.09999999999997/269.09999999999997 [00:06<00:00, 41.64seconds/s]\n"
     ]
    },
    {
     "name": "stdout",
     "output_type": "stream",
     "text": [
      "Separating track demucs_preprocessed_input/quoc_master_1st_1000_preprocessed/Tình Yêu Không Thể Từ Một Phía.mp3\n"
     ]
    },
    {
     "name": "stderr",
     "output_type": "stream",
     "text": [
      "100%|████████████████████████████████████████████████████████████████████████| 257.4/257.4 [00:06<00:00, 40.58seconds/s]\n"
     ]
    },
    {
     "name": "stdout",
     "output_type": "stream",
     "text": [
      "Separating track demucs_preprocessed_input/quoc_master_1st_1000_preprocessed/Bước Tiến Bước.mp3\n"
     ]
    },
    {
     "name": "stderr",
     "output_type": "stream",
     "text": [
      "100%|██████████████████████████████████████████████████████████████████████| 181.35/181.35 [00:04<00:00, 40.30seconds/s]\n"
     ]
    },
    {
     "name": "stdout",
     "output_type": "stream",
     "text": [
      "Separating track demucs_preprocessed_input/quoc_master_1st_1000_preprocessed/Sống Buồn.mp3\n"
     ]
    },
    {
     "name": "stderr",
     "output_type": "stream",
     "text": [
      "100%|██████████████████████████████████████████████| 228.14999999999998/228.14999999999998 [00:05<00:00, 40.36seconds/s]\n"
     ]
    },
    {
     "name": "stdout",
     "output_type": "stream",
     "text": [
      "Separating track demucs_preprocessed_input/quoc_master_1st_1000_preprocessed/Lá Diêu Bông.mp3\n"
     ]
    },
    {
     "name": "stderr",
     "output_type": "stream",
     "text": [
      "100%|██████████████████████████████████████████████████████████████████████| 274.95/274.95 [00:06<00:00, 40.97seconds/s]\n"
     ]
    },
    {
     "name": "stdout",
     "output_type": "stream",
     "text": [
      "Separating track demucs_preprocessed_input/quoc_master_1st_1000_preprocessed/Chào Cô Bé.mp3\n"
     ]
    },
    {
     "name": "stderr",
     "output_type": "stream",
     "text": [
      "100%|████████████████████████████████████████████████████████████████████████| 234.0/234.0 [00:05<00:00, 40.63seconds/s]\n"
     ]
    },
    {
     "name": "stdout",
     "output_type": "stream",
     "text": [
      "Separating track demucs_preprocessed_input/quoc_master_1st_1000_preprocessed/Một Thưở Hè Qua.mp3\n"
     ]
    },
    {
     "name": "stderr",
     "output_type": "stream",
     "text": [
      "100%|██████████████████████████████████████████████| 228.14999999999998/228.14999999999998 [00:05<00:00, 41.23seconds/s]\n"
     ]
    },
    {
     "name": "stdout",
     "output_type": "stream",
     "text": [
      "Separating track demucs_preprocessed_input/quoc_master_1st_1000_preprocessed/Tôi Khóc Cho Em Ai Khóc Cho Tôi Remix.mp3\n"
     ]
    },
    {
     "name": "stderr",
     "output_type": "stream",
     "text": [
      "100%|██████████████████████████████████████████████| 310.04999999999995/310.04999999999995 [00:07<00:00, 41.18seconds/s]\n"
     ]
    },
    {
     "name": "stdout",
     "output_type": "stream",
     "text": [
      "Separating track demucs_preprocessed_input/quoc_master_1st_1000_preprocessed/Thiên Đường Cho Em.mp3\n"
     ]
    },
    {
     "name": "stderr",
     "output_type": "stream",
     "text": [
      "100%|██████████████████████████████████████████████| 310.04999999999995/310.04999999999995 [00:07<00:00, 41.63seconds/s]\n"
     ]
    },
    {
     "name": "stdout",
     "output_type": "stream",
     "text": [
      "Separating track demucs_preprocessed_input/quoc_master_1st_1000_preprocessed/Tron Kiep La Anh Em.mp3\n"
     ]
    },
    {
     "name": "stderr",
     "output_type": "stream",
     "text": [
      "100%|██████████████████████████████████████████████████████████████████████| 274.95/274.95 [00:06<00:00, 41.66seconds/s]\n"
     ]
    },
    {
     "name": "stdout",
     "output_type": "stream",
     "text": [
      "Separating track demucs_preprocessed_input/quoc_master_1st_1000_preprocessed/Giấc Mơ Tuyết Trắng (Acoustic Version).mp3\n"
     ]
    },
    {
     "name": "stderr",
     "output_type": "stream",
     "text": [
      "100%|██████████████████████████████████████████████| 251.54999999999998/251.54999999999998 [00:06<00:00, 41.34seconds/s]\n"
     ]
    },
    {
     "name": "stdout",
     "output_type": "stream",
     "text": [
      "Separating track demucs_preprocessed_input/quoc_master_1st_1000_preprocessed/Chơi Vơi Giữa Trời (Remix).mp3\n"
     ]
    },
    {
     "name": "stderr",
     "output_type": "stream",
     "text": [
      "100%|████████████████████████████████████████████████████████████████████████| 245.7/245.7 [00:06<00:00, 40.64seconds/s]\n"
     ]
    },
    {
     "name": "stdout",
     "output_type": "stream",
     "text": [
      "Separating track demucs_preprocessed_input/quoc_master_1st_1000_preprocessed/Hà Nội Huế Sài Gòn.mp3\n"
     ]
    },
    {
     "name": "stderr",
     "output_type": "stream",
     "text": [
      "100%|██████████████████████████████████████████████| 339.29999999999995/339.29999999999995 [00:08<00:00, 40.50seconds/s]\n"
     ]
    },
    {
     "name": "stdout",
     "output_type": "stream",
     "text": [
      "Separating track demucs_preprocessed_input/quoc_master_1st_1000_preprocessed/AY DA.mp3\n"
     ]
    },
    {
     "name": "stderr",
     "output_type": "stream",
     "text": [
      "100%|██████████████████████████████████████████████████████████████████████| 216.45/216.45 [00:05<00:00, 40.78seconds/s]\n"
     ]
    },
    {
     "name": "stdout",
     "output_type": "stream",
     "text": [
      "Separating track demucs_preprocessed_input/quoc_master_1st_1000_preprocessed/Khúc Tương Tư.mp3\n"
     ]
    },
    {
     "name": "stderr",
     "output_type": "stream",
     "text": [
      "100%|██████████████████████████████████████████████| 310.04999999999995/310.04999999999995 [00:07<00:00, 40.48seconds/s]\n"
     ]
    },
    {
     "name": "stdout",
     "output_type": "stream",
     "text": [
      "Separating track demucs_preprocessed_input/quoc_master_1st_1000_preprocessed/Mong Gặp Lại Em.mp3\n"
     ]
    },
    {
     "name": "stderr",
     "output_type": "stream",
     "text": [
      "100%|████████████████████████████████████████████████████████████████████████| 304.2/304.2 [00:07<00:00, 41.07seconds/s]\n"
     ]
    },
    {
     "name": "stdout",
     "output_type": "stream",
     "text": [
      "Separating track demucs_preprocessed_input/quoc_master_1st_1000_preprocessed/Tình Đắng Lý Cây Bần.mp3\n"
     ]
    },
    {
     "name": "stderr",
     "output_type": "stream",
     "text": [
      "100%|██████████████████████████████████████████████| 339.29999999999995/339.29999999999995 [00:08<00:00, 41.71seconds/s]\n"
     ]
    },
    {
     "name": "stdout",
     "output_type": "stream",
     "text": [
      "Separating track demucs_preprocessed_input/quoc_master_1st_1000_preprocessed/Giọt Chiều.mp3\n"
     ]
    },
    {
     "name": "stderr",
     "output_type": "stream",
     "text": [
      "100%|██████████████████████████████████████████████| 280.79999999999995/280.79999999999995 [00:06<00:00, 40.88seconds/s]\n"
     ]
    },
    {
     "name": "stdout",
     "output_type": "stream",
     "text": [
      "Separating track demucs_preprocessed_input/quoc_master_1st_1000_preprocessed/Tâm Hồn Là Vĩnh Cửu.mp3\n"
     ]
    },
    {
     "name": "stderr",
     "output_type": "stream",
     "text": [
      "100%|██████████████████████████████████████████████| 269.09999999999997/269.09999999999997 [00:06<00:00, 41.33seconds/s]\n"
     ]
    },
    {
     "name": "stdout",
     "output_type": "stream",
     "text": [
      "Separating track demucs_preprocessed_input/quoc_master_1st_1000_preprocessed/Sống Với Ước Mơ.mp3\n"
     ]
    },
    {
     "name": "stderr",
     "output_type": "stream",
     "text": [
      "100%|██████████████████████████████████████████████| 222.29999999999998/222.29999999999998 [00:05<00:00, 41.25seconds/s]\n"
     ]
    },
    {
     "name": "stdout",
     "output_type": "stream",
     "text": [
      "Separating track demucs_preprocessed_input/quoc_master_1st_1000_preprocessed/Yêu Mãi Xuân Ơi.mp3\n"
     ]
    },
    {
     "name": "stderr",
     "output_type": "stream",
     "text": [
      "100%|████████████████████████████████████████████████████████████████████████| 234.0/234.0 [00:05<00:00, 41.18seconds/s]\n"
     ]
    },
    {
     "name": "stdout",
     "output_type": "stream",
     "text": [
      "Separating track demucs_preprocessed_input/quoc_master_1st_1000_preprocessed/Một Lần Về Với Biển.mp3\n"
     ]
    },
    {
     "name": "stderr",
     "output_type": "stream",
     "text": [
      "100%|██████████████████████████████████████████████| 327.59999999999997/327.59999999999997 [00:07<00:00, 41.29seconds/s]\n"
     ]
    },
    {
     "name": "stdout",
     "output_type": "stream",
     "text": [
      "Separating track demucs_preprocessed_input/quoc_master_1st_1000_preprocessed/Người Không Cần Yêu.mp3\n"
     ]
    },
    {
     "name": "stderr",
     "output_type": "stream",
     "text": [
      "100%|████████████████████████████████████████████████████████████████████████| 257.4/257.4 [00:06<00:00, 41.61seconds/s]\n"
     ]
    },
    {
     "name": "stdout",
     "output_type": "stream",
     "text": [
      "Separating track demucs_preprocessed_input/quoc_master_1st_1000_preprocessed/Như Giọt Mưa Rơi.mp3\n"
     ]
    },
    {
     "name": "stderr",
     "output_type": "stream",
     "text": [
      "100%|████████████████████████████████████████████████████████████████████████| 257.4/257.4 [00:06<00:00, 41.28seconds/s]\n"
     ]
    },
    {
     "name": "stdout",
     "output_type": "stream",
     "text": [
      "Separating track demucs_preprocessed_input/quoc_master_1st_1000_preprocessed/Chờ Ai Đêm Giáng Sinh.mp3\n"
     ]
    },
    {
     "name": "stderr",
     "output_type": "stream",
     "text": [
      "100%|██████████████████████████████████████████████████████████████████████| 274.95/274.95 [00:06<00:00, 41.14seconds/s]\n"
     ]
    },
    {
     "name": "stdout",
     "output_type": "stream",
     "text": [
      "Separating track demucs_preprocessed_input/quoc_master_1st_1000_preprocessed/Có Bao Giờ Em Sợ Mất Anh.mp3\n"
     ]
    },
    {
     "name": "stderr",
     "output_type": "stream",
     "text": [
      "100%|██████████████████████████████████████████████| 356.84999999999997/356.84999999999997 [00:08<00:00, 41.43seconds/s]\n"
     ]
    },
    {
     "name": "stdout",
     "output_type": "stream",
     "text": [
      "Separating track demucs_preprocessed_input/quoc_master_1st_1000_preprocessed/Lồng Đèn Ngôi Sao.mp3\n"
     ]
    },
    {
     "name": "stderr",
     "output_type": "stream",
     "text": [
      "100%|██████████████████████████████████████████████| 269.09999999999997/269.09999999999997 [00:06<00:00, 40.84seconds/s]\n"
     ]
    },
    {
     "name": "stdout",
     "output_type": "stream",
     "text": [
      "Separating track demucs_preprocessed_input/quoc_master_1st_1000_preprocessed/Đời Thế Mà.mp3\n"
     ]
    },
    {
     "name": "stderr",
     "output_type": "stream",
     "text": [
      "100%|████████████████████████████████████████████████████████████████████████| 245.7/245.7 [00:06<00:00, 40.87seconds/s]\n"
     ]
    },
    {
     "name": "stdout",
     "output_type": "stream",
     "text": [
      "Separating track demucs_preprocessed_input/quoc_master_1st_1000_preprocessed/Trong Gió Có Đám Mây Làm Từ Mưa.mp3\n"
     ]
    },
    {
     "name": "stderr",
     "output_type": "stream",
     "text": [
      "100%|██████████████████████████████████████████████| 251.54999999999998/251.54999999999998 [00:06<00:00, 41.58seconds/s]\n"
     ]
    },
    {
     "name": "stdout",
     "output_type": "stream",
     "text": [
      "Separating track demucs_preprocessed_input/quoc_master_1st_1000_preprocessed/Người Đó Không Phải Anh.mp3\n"
     ]
    },
    {
     "name": "stderr",
     "output_type": "stream",
     "text": [
      "100%|██████████████████████████████████████████████████████████████████████| 274.95/274.95 [00:06<00:00, 41.10seconds/s]\n"
     ]
    },
    {
     "name": "stdout",
     "output_type": "stream",
     "text": [
      "Separating track demucs_preprocessed_input/quoc_master_1st_1000_preprocessed/Ba Đứa Bạn Nghèo.mp3\n"
     ]
    },
    {
     "name": "stderr",
     "output_type": "stream",
     "text": [
      "100%|██████████████████████████████████████████████████████████████████████| 216.45/216.45 [00:05<00:00, 40.56seconds/s]\n"
     ]
    },
    {
     "name": "stdout",
     "output_type": "stream",
     "text": [
      "Separating track demucs_preprocessed_input/quoc_master_1st_1000_preprocessed/Cả Một Đời Để Quên (Meme Lofi).mp3\n"
     ]
    },
    {
     "name": "stderr",
     "output_type": "stream",
     "text": [
      "100%|██████████████████████████████████████████████████████████████████████| 345.15/345.15 [00:08<00:00, 41.62seconds/s]\n"
     ]
    },
    {
     "name": "stdout",
     "output_type": "stream",
     "text": [
      "Separating track demucs_preprocessed_input/quoc_master_1st_1000_preprocessed/Xin Em Đừng Khóc.mp3\n"
     ]
    },
    {
     "name": "stderr",
     "output_type": "stream",
     "text": [
      "100%|██████████████████████████████████████████████████████████████████████| 204.75/204.75 [00:05<00:00, 40.62seconds/s]\n"
     ]
    },
    {
     "name": "stdout",
     "output_type": "stream",
     "text": [
      "Separating track demucs_preprocessed_input/quoc_master_1st_1000_preprocessed/Xin Đừng Bỏ Mặc Em.mp3\n"
     ]
    },
    {
     "name": "stderr",
     "output_type": "stream",
     "text": [
      "100%|████████████████████████████████████████████████████████████████████████| 304.2/304.2 [00:07<00:00, 41.89seconds/s]\n"
     ]
    },
    {
     "name": "stdout",
     "output_type": "stream",
     "text": [
      "Separating track demucs_preprocessed_input/quoc_master_1st_1000_preprocessed/Goodbye Tình Anh.mp3\n"
     ]
    },
    {
     "name": "stderr",
     "output_type": "stream",
     "text": [
      "100%|██████████████████████████████████████████████████████████████████████| 204.75/204.75 [00:04<00:00, 41.71seconds/s]\n"
     ]
    },
    {
     "name": "stdout",
     "output_type": "stream",
     "text": [
      "Separating track demucs_preprocessed_input/quoc_master_1st_1000_preprocessed/Vẫn Còn Yêu.mp3\n"
     ]
    },
    {
     "name": "stderr",
     "output_type": "stream",
     "text": [
      "100%|██████████████████████████████████████████████████████████████████████| 239.85/239.85 [00:05<00:00, 41.41seconds/s]\n"
     ]
    },
    {
     "name": "stdout",
     "output_type": "stream",
     "text": [
      "Separating track demucs_preprocessed_input/quoc_master_1st_1000_preprocessed/Chúc mừng năm mới.mp3\n"
     ]
    },
    {
     "name": "stderr",
     "output_type": "stream",
     "text": [
      "100%|██████████████████████████████████████████████| 198.89999999999998/198.89999999999998 [00:04<00:00, 40.46seconds/s]\n"
     ]
    },
    {
     "name": "stdout",
     "output_type": "stream",
     "text": [
      "Separating track demucs_preprocessed_input/quoc_master_1st_1000_preprocessed/Lk Send Me An Angel, So Sad, Một Mai Em Rời Xa.mp3\n"
     ]
    },
    {
     "name": "stderr",
     "output_type": "stream",
     "text": [
      "100%|████████████████████████████████████████████████████████████████████████| 409.5/409.5 [00:09<00:00, 41.79seconds/s]\n"
     ]
    },
    {
     "name": "stdout",
     "output_type": "stream",
     "text": [
      "Separating track demucs_preprocessed_input/quoc_master_1st_1000_preprocessed/Cẩm Phả Quê Tôi (Remix).mp3\n"
     ]
    },
    {
     "name": "stderr",
     "output_type": "stream",
     "text": [
      "100%|██████████████████████████████████████████████████████████████████████| 321.75/321.75 [00:07<00:00, 41.60seconds/s]\n"
     ]
    },
    {
     "name": "stdout",
     "output_type": "stream",
     "text": [
      "Separating track demucs_preprocessed_input/quoc_master_1st_1000_preprocessed/Chung Tay Quét Sạch Corona.mp3\n"
     ]
    },
    {
     "name": "stderr",
     "output_type": "stream",
     "text": [
      "100%|██████████████████████████████████████████████| 228.14999999999998/228.14999999999998 [00:05<00:00, 41.18seconds/s]\n"
     ]
    },
    {
     "name": "stdout",
     "output_type": "stream",
     "text": [
      "Separating track demucs_preprocessed_input/quoc_master_1st_1000_preprocessed/Mưa Riêng Anh.mp3\n"
     ]
    },
    {
     "name": "stderr",
     "output_type": "stream",
     "text": [
      "100%|████████████████████████████████████████████████████████████████████████| 257.4/257.4 [00:06<00:00, 41.29seconds/s]\n"
     ]
    },
    {
     "name": "stdout",
     "output_type": "stream",
     "text": [
      "Separating track demucs_preprocessed_input/quoc_master_1st_1000_preprocessed/Đứng Sau Một Cuộc Tình.mp3\n"
     ]
    },
    {
     "name": "stderr",
     "output_type": "stream",
     "text": [
      "100%|██████████████████████████████████████████████| 228.14999999999998/228.14999999999998 [00:05<00:00, 41.19seconds/s]\n"
     ]
    },
    {
     "name": "stdout",
     "output_type": "stream",
     "text": [
      "Separating track demucs_preprocessed_input/quoc_master_1st_1000_preprocessed/Kẻ Đa Tình.mp3\n"
     ]
    },
    {
     "name": "stderr",
     "output_type": "stream",
     "text": [
      "100%|██████████████████████████████████████████████| 269.09999999999997/269.09999999999997 [00:06<00:00, 40.77seconds/s]\n"
     ]
    },
    {
     "name": "stdout",
     "output_type": "stream",
     "text": [
      "Separating track demucs_preprocessed_input/quoc_master_1st_1000_preprocessed/Anh Đứng Đây Từ Giờ Tới Mai.mp3\n"
     ]
    },
    {
     "name": "stderr",
     "output_type": "stream",
     "text": [
      "100%|██████████████████████████████████████████████████████████████████████| 146.25/146.25 [00:03<00:00, 40.95seconds/s]\n"
     ]
    },
    {
     "name": "stdout",
     "output_type": "stream",
     "text": [
      "Separating track demucs_preprocessed_input/quoc_master_1st_1000_preprocessed/Liên Khúc： Nụ Hôn Mùa Xuân.mp3\n"
     ]
    },
    {
     "name": "stderr",
     "output_type": "stream",
     "text": [
      "100%|██████████████████████████████████████████████| 269.09999999999997/269.09999999999997 [00:06<00:00, 41.39seconds/s]\n"
     ]
    },
    {
     "name": "stdout",
     "output_type": "stream",
     "text": [
      "Separating track demucs_preprocessed_input/quoc_master_1st_1000_preprocessed/Nụ Hôn Trở Lại.mp3\n"
     ]
    },
    {
     "name": "stderr",
     "output_type": "stream",
     "text": [
      "100%|████████████████████████████████████████████████████████████████████████| 234.0/234.0 [00:05<00:00, 40.85seconds/s]\n"
     ]
    },
    {
     "name": "stdout",
     "output_type": "stream",
     "text": [
      "Separating track demucs_preprocessed_input/quoc_master_1st_1000_preprocessed/Buồn Mà Chi Em.mp3\n"
     ]
    },
    {
     "name": "stderr",
     "output_type": "stream",
     "text": [
      "100%|██████████████████████████████████████████████| 327.59999999999997/327.59999999999997 [00:07<00:00, 41.78seconds/s]\n"
     ]
    },
    {
     "name": "stdout",
     "output_type": "stream",
     "text": [
      "Separating track demucs_preprocessed_input/quoc_master_1st_1000_preprocessed/In Sâu Trong Đáy Tim.mp3\n"
     ]
    },
    {
     "name": "stderr",
     "output_type": "stream",
     "text": [
      "100%|██████████████████████████████████████████████████████████████████████| 274.95/274.95 [00:06<00:00, 41.03seconds/s]\n"
     ]
    },
    {
     "name": "stdout",
     "output_type": "stream",
     "text": [
      "Separating track demucs_preprocessed_input/quoc_master_1st_1000_preprocessed/Vọng Kim Lang & Bậu Ði Theo Người.mp3\n"
     ]
    },
    {
     "name": "stderr",
     "output_type": "stream",
     "text": [
      "100%|████████████████████████████████████████████████████████████████████████| 304.2/304.2 [00:07<00:00, 40.70seconds/s]\n"
     ]
    },
    {
     "name": "stdout",
     "output_type": "stream",
     "text": [
      "Separating track demucs_preprocessed_input/quoc_master_1st_1000_preprocessed/Lỗi Ở Nơi Anh.mp3\n"
     ]
    },
    {
     "name": "stderr",
     "output_type": "stream",
     "text": [
      "100%|██████████████████████████████████████████████| 298.34999999999997/298.34999999999997 [00:07<00:00, 41.35seconds/s]\n"
     ]
    },
    {
     "name": "stdout",
     "output_type": "stream",
     "text": [
      "Separating track demucs_preprocessed_input/quoc_master_1st_1000_preprocessed/Hạnh Phúc Quanh Đây.mp3\n"
     ]
    },
    {
     "name": "stderr",
     "output_type": "stream",
     "text": [
      "100%|██████████████████████████████████████████████████████████████████████| 391.95/391.95 [00:09<00:00, 41.89seconds/s]\n"
     ]
    },
    {
     "name": "stdout",
     "output_type": "stream",
     "text": [
      "Separating track demucs_preprocessed_input/quoc_master_1st_1000_preprocessed/Yêu Cần Phải Cưới.mp3\n"
     ]
    },
    {
     "name": "stderr",
     "output_type": "stream",
     "text": [
      "100%|██████████████████████████████████████████████████████████████████████| 333.45/333.45 [00:08<00:00, 41.51seconds/s]\n"
     ]
    },
    {
     "name": "stdout",
     "output_type": "stream",
     "text": [
      "Separating track demucs_preprocessed_input/quoc_master_1st_1000_preprocessed/Giấc Mơ Bên Anh.mp3\n"
     ]
    },
    {
     "name": "stderr",
     "output_type": "stream",
     "text": [
      "100%|██████████████████████████████████████████████| 251.54999999999998/251.54999999999998 [00:06<00:00, 40.90seconds/s]\n"
     ]
    },
    {
     "name": "stdout",
     "output_type": "stream",
     "text": [
      "Separating track demucs_preprocessed_input/quoc_master_1st_1000_preprocessed/Liên Khúc Đón Xuân.mp3\n"
     ]
    },
    {
     "name": "stderr",
     "output_type": "stream",
     "text": [
      "100%|██████████████████████████████████████████████| 298.34999999999997/298.34999999999997 [00:07<00:00, 40.98seconds/s]\n"
     ]
    },
    {
     "name": "stdout",
     "output_type": "stream",
     "text": [
      "Separating track demucs_preprocessed_input/quoc_master_1st_1000_preprocessed/Rồi Mình Sẽ Hạnh Phúc (Qinn Remix).mp3\n"
     ]
    },
    {
     "name": "stderr",
     "output_type": "stream",
     "text": [
      "100%|████████████████████████████████████████████████████████████████████████| 245.7/245.7 [00:05<00:00, 41.29seconds/s]\n"
     ]
    },
    {
     "name": "stdout",
     "output_type": "stream",
     "text": [
      "Separating track demucs_preprocessed_input/quoc_master_1st_1000_preprocessed/Khi Tình Yêu Bay Xa.mp3\n"
     ]
    },
    {
     "name": "stderr",
     "output_type": "stream",
     "text": [
      "100%|██████████████████████████████████████████████| 222.29999999999998/222.29999999999998 [00:05<00:00, 41.03seconds/s]\n"
     ]
    },
    {
     "name": "stdout",
     "output_type": "stream",
     "text": [
      "Separating track demucs_preprocessed_input/quoc_master_1st_1000_preprocessed/Chiếc Lá Cuối Cùng.mp3\n"
     ]
    },
    {
     "name": "stderr",
     "output_type": "stream",
     "text": [
      "100%|████████████████████████████████████████████████████████████████████████| 351.0/351.0 [00:08<00:00, 41.60seconds/s]\n"
     ]
    },
    {
     "name": "stdout",
     "output_type": "stream",
     "text": [
      "Separating track demucs_preprocessed_input/quoc_master_1st_1000_preprocessed/Anh Sai Không Phải Do Em Part2.mp3\n"
     ]
    },
    {
     "name": "stderr",
     "output_type": "stream",
     "text": [
      "100%|██████████████████████████████████████████████| 251.54999999999998/251.54999999999998 [00:06<00:00, 40.85seconds/s]\n"
     ]
    },
    {
     "name": "stdout",
     "output_type": "stream",
     "text": [
      "Separating track demucs_preprocessed_input/quoc_master_1st_1000_preprocessed/Tình Cờ Gặp Lại.mp3\n"
     ]
    },
    {
     "name": "stderr",
     "output_type": "stream",
     "text": [
      "100%|██████████████████████████████████████████████████████████████████████| 321.75/321.75 [00:07<00:00, 41.03seconds/s]\n"
     ]
    },
    {
     "name": "stdout",
     "output_type": "stream",
     "text": [
      "Separating track demucs_preprocessed_input/quoc_master_1st_1000_preprocessed/Em Là ánh Sao Băng.mp3\n"
     ]
    },
    {
     "name": "stderr",
     "output_type": "stream",
     "text": [
      "100%|██████████████████████████████████████████████████████████████████████| 286.65/286.65 [00:06<00:00, 41.29seconds/s]\n"
     ]
    },
    {
     "name": "stdout",
     "output_type": "stream",
     "text": [
      "Separating track demucs_preprocessed_input/quoc_master_1st_1000_preprocessed/Một Đôi Cánh.mp3\n"
     ]
    },
    {
     "name": "stderr",
     "output_type": "stream",
     "text": [
      "100%|██████████████████████████████████████████████| 228.14999999999998/228.14999999999998 [00:05<00:00, 41.36seconds/s]\n"
     ]
    },
    {
     "name": "stdout",
     "output_type": "stream",
     "text": [
      "Separating track demucs_preprocessed_input/quoc_master_1st_1000_preprocessed/Mưa Trên Cuộc Tình.mp3\n"
     ]
    },
    {
     "name": "stderr",
     "output_type": "stream",
     "text": [
      "100%|██████████████████████████████████████████████████████████████████████| 345.15/345.15 [00:08<00:00, 41.60seconds/s]\n"
     ]
    },
    {
     "name": "stdout",
     "output_type": "stream",
     "text": [
      "Separating track demucs_preprocessed_input/quoc_master_1st_1000_preprocessed/Liên Khúc Daddy Cool.mp3\n"
     ]
    },
    {
     "name": "stderr",
     "output_type": "stream",
     "text": [
      "100%|██████████████████████████████████████████████| 193.04999999999998/193.04999999999998 [00:04<00:00, 40.82seconds/s]\n"
     ]
    },
    {
     "name": "stdout",
     "output_type": "stream",
     "text": [
      "Separating track demucs_preprocessed_input/quoc_master_1st_1000_preprocessed/Chuyện Tình Sầu Riêng Anh.mp3\n"
     ]
    },
    {
     "name": "stderr",
     "output_type": "stream",
     "text": [
      "100%|██████████████████████████████████████████████| 339.29999999999995/339.29999999999995 [00:08<00:00, 41.97seconds/s]\n"
     ]
    },
    {
     "name": "stdout",
     "output_type": "stream",
     "text": [
      "Separating track demucs_preprocessed_input/quoc_master_1st_1000_preprocessed/Hoang Vu.mp3\n"
     ]
    },
    {
     "name": "stderr",
     "output_type": "stream",
     "text": [
      "100%|██████████████████████████████████████████████| 222.29999999999998/222.29999999999998 [00:05<00:00, 40.34seconds/s]\n"
     ]
    },
    {
     "name": "stdout",
     "output_type": "stream",
     "text": [
      "Separating track demucs_preprocessed_input/quoc_master_1st_1000_preprocessed/Cảm Giác Khi Bên Em.mp3\n"
     ]
    },
    {
     "name": "stderr",
     "output_type": "stream",
     "text": [
      "100%|████████████████████████████████████████████████████████████████████████| 187.2/187.2 [00:04<00:00, 41.03seconds/s]\n"
     ]
    },
    {
     "name": "stdout",
     "output_type": "stream",
     "text": [
      "Separating track demucs_preprocessed_input/quoc_master_1st_1000_preprocessed/Đừng trách em tội nghiệp.mp3\n"
     ]
    },
    {
     "name": "stderr",
     "output_type": "stream",
     "text": [
      "100%|████████████████████████████████████████████████████████████████████████| 210.6/210.6 [00:05<00:00, 39.90seconds/s]\n"
     ]
    },
    {
     "name": "stdout",
     "output_type": "stream",
     "text": [
      "Separating track demucs_preprocessed_input/quoc_master_1st_1000_preprocessed/Bờm Ơi.mp3\n"
     ]
    },
    {
     "name": "stderr",
     "output_type": "stream",
     "text": [
      "100%|████████████████████████████████████████████████████████████████████████| 234.0/234.0 [00:05<00:00, 40.39seconds/s]\n"
     ]
    },
    {
     "name": "stdout",
     "output_type": "stream",
     "text": [
      "Separating track demucs_preprocessed_input/quoc_master_1st_1000_preprocessed/Anh Ghét Mình Vì Còn Nhớ Em.mp3\n"
     ]
    },
    {
     "name": "stderr",
     "output_type": "stream",
     "text": [
      "100%|██████████████████████████████████████████████████████████████████████| 216.45/216.45 [00:05<00:00, 40.16seconds/s]\n"
     ]
    },
    {
     "name": "stdout",
     "output_type": "stream",
     "text": [
      "Separating track demucs_preprocessed_input/quoc_master_1st_1000_preprocessed/Tình Online Không Có Ngày Mai.mp3\n"
     ]
    },
    {
     "name": "stderr",
     "output_type": "stream",
     "text": [
      "100%|██████████████████████████████████████████████| 228.14999999999998/228.14999999999998 [00:05<00:00, 40.76seconds/s]\n"
     ]
    },
    {
     "name": "stdout",
     "output_type": "stream",
     "text": [
      "Separating track demucs_preprocessed_input/quoc_master_1st_1000_preprocessed/Chỉ Khi Mất Đi.mp3\n"
     ]
    },
    {
     "name": "stderr",
     "output_type": "stream",
     "text": [
      "100%|██████████████████████████████████████████████| 298.34999999999997/298.34999999999997 [00:07<00:00, 41.25seconds/s]\n"
     ]
    },
    {
     "name": "stdout",
     "output_type": "stream",
     "text": [
      "Separating track demucs_preprocessed_input/quoc_master_1st_1000_preprocessed/Làm Sao Để Giữ Yêu Thương.mp3\n"
     ]
    },
    {
     "name": "stderr",
     "output_type": "stream",
     "text": [
      "100%|██████████████████████████████████████████████████████████████████████| 263.25/263.25 [00:06<00:00, 40.82seconds/s]\n"
     ]
    },
    {
     "name": "stdout",
     "output_type": "stream",
     "text": [
      "Separating track demucs_preprocessed_input/quoc_master_1st_1000_preprocessed/Liên Khúc Hào Khí Việt Nam.mp3\n"
     ]
    },
    {
     "name": "stderr",
     "output_type": "stream",
     "text": [
      "100%|██████████████████████████████████████████████████████████████████████| 637.65/637.65 [00:15<00:00, 42.37seconds/s]\n"
     ]
    },
    {
     "name": "stdout",
     "output_type": "stream",
     "text": [
      "Separating track demucs_preprocessed_input/quoc_master_1st_1000_preprocessed/Nếu Yêu Nhau Cả Hai Đều Có Lỗi.mp3\n"
     ]
    },
    {
     "name": "stderr",
     "output_type": "stream",
     "text": [
      "100%|██████████████████████████████████████████████████████████████████████| 239.85/239.85 [00:05<00:00, 40.84seconds/s]\n"
     ]
    },
    {
     "name": "stdout",
     "output_type": "stream",
     "text": [
      "Separating track demucs_preprocessed_input/quoc_master_1st_1000_preprocessed/Kỷ Niệm Tuổi Thơ.mp3\n"
     ]
    },
    {
     "name": "stderr",
     "output_type": "stream",
     "text": [
      "100%|████████████████████████████████████████████████████████████████████████| 210.6/210.6 [00:05<00:00, 40.64seconds/s]\n"
     ]
    },
    {
     "name": "stdout",
     "output_type": "stream",
     "text": [
      "Separating track demucs_preprocessed_input/quoc_master_1st_1000_preprocessed/Và như thế em chờ (Solo version).mp3\n"
     ]
    },
    {
     "name": "stderr",
     "output_type": "stream",
     "text": [
      "100%|██████████████████████████████████████████████████████████████████████| 204.75/204.75 [00:05<00:00, 39.98seconds/s]\n"
     ]
    },
    {
     "name": "stdout",
     "output_type": "stream",
     "text": [
      "Separating track demucs_preprocessed_input/quoc_master_1st_1000_preprocessed/Trái Tim Tan Nát.mp3\n"
     ]
    },
    {
     "name": "stderr",
     "output_type": "stream",
     "text": [
      "100%|██████████████████████████████████████████████████████████████████████| 204.75/204.75 [00:05<00:00, 40.12seconds/s]\n"
     ]
    },
    {
     "name": "stdout",
     "output_type": "stream",
     "text": [
      "Separating track demucs_preprocessed_input/quoc_master_1st_1000_preprocessed/Người Đẹp.mp3\n"
     ]
    },
    {
     "name": "stderr",
     "output_type": "stream",
     "text": [
      "100%|████████████████████████████████████████████████████████████████████████| 210.6/210.6 [00:05<00:00, 41.00seconds/s]\n"
     ]
    },
    {
     "name": "stdout",
     "output_type": "stream",
     "text": [
      "Separating track demucs_preprocessed_input/quoc_master_1st_1000_preprocessed/Giấc Mơ Trở Về.mp3\n"
     ]
    },
    {
     "name": "stderr",
     "output_type": "stream",
     "text": [
      "100%|██████████████████████████████████████████████████████████████████████| 263.25/263.25 [00:06<00:00, 40.75seconds/s]\n"
     ]
    },
    {
     "name": "stdout",
     "output_type": "stream",
     "text": [
      "Separating track demucs_preprocessed_input/quoc_master_1st_1000_preprocessed/Mộng Tình Quê.mp3\n"
     ]
    },
    {
     "name": "stderr",
     "output_type": "stream",
     "text": [
      "100%|██████████████████████████████████████████████████████████████████████| 263.25/263.25 [00:06<00:00, 41.03seconds/s]\n"
     ]
    },
    {
     "name": "stdout",
     "output_type": "stream",
     "text": [
      "Separating track demucs_preprocessed_input/quoc_master_1st_1000_preprocessed/Hạnh Phúc.mp3\n"
     ]
    },
    {
     "name": "stderr",
     "output_type": "stream",
     "text": [
      "100%|██████████████████████████████████████████████| 222.29999999999998/222.29999999999998 [00:05<00:00, 41.09seconds/s]\n"
     ]
    },
    {
     "name": "stdout",
     "output_type": "stream",
     "text": [
      "Separating track demucs_preprocessed_input/quoc_master_1st_1000_preprocessed/Yêu Thầm.mp3\n"
     ]
    },
    {
     "name": "stderr",
     "output_type": "stream",
     "text": [
      "100%|██████████████████████████████████████████████████████████████████████| 263.25/263.25 [00:06<00:00, 41.75seconds/s]\n"
     ]
    },
    {
     "name": "stdout",
     "output_type": "stream",
     "text": [
      "Separating track demucs_preprocessed_input/quoc_master_1st_1000_preprocessed/Chủ Tịch Và Nữ Thư Ký.mp3\n"
     ]
    },
    {
     "name": "stderr",
     "output_type": "stream",
     "text": [
      "100%|████████████████████████████████████████████████████████████████████████| 409.5/409.5 [00:09<00:00, 41.55seconds/s]\n"
     ]
    },
    {
     "name": "stdout",
     "output_type": "stream",
     "text": [
      "Separating track demucs_preprocessed_input/quoc_master_1st_1000_preprocessed/Đường Nào Em Đi.mp3\n"
     ]
    },
    {
     "name": "stderr",
     "output_type": "stream",
     "text": [
      "100%|██████████████████████████████████████████████| 269.09999999999997/269.09999999999997 [00:06<00:00, 41.55seconds/s]\n"
     ]
    },
    {
     "name": "stdout",
     "output_type": "stream",
     "text": [
      "Separating track demucs_preprocessed_input/quoc_master_1st_1000_preprocessed/Anh Đã Có Người Yêu.mp3\n"
     ]
    },
    {
     "name": "stderr",
     "output_type": "stream",
     "text": [
      "100%|██████████████████████████████████████████████| 327.59999999999997/327.59999999999997 [00:07<00:00, 41.47seconds/s]\n"
     ]
    },
    {
     "name": "stdout",
     "output_type": "stream",
     "text": [
      "Separating track demucs_preprocessed_input/quoc_master_1st_1000_preprocessed/Đoạn Cuối Tình Yêu.mp3\n"
     ]
    },
    {
     "name": "stderr",
     "output_type": "stream",
     "text": [
      "100%|██████████████████████████████████████████████| 298.34999999999997/298.34999999999997 [00:07<00:00, 41.30seconds/s]\n"
     ]
    },
    {
     "name": "stdout",
     "output_type": "stream",
     "text": [
      "Separating track demucs_preprocessed_input/quoc_master_1st_1000_preprocessed/Chúng Con Canh Giấc Ngủ Của Người.mp3\n"
     ]
    },
    {
     "name": "stderr",
     "output_type": "stream",
     "text": [
      "100%|██████████████████████████████████████████████| 222.29999999999998/222.29999999999998 [00:05<00:00, 41.03seconds/s]\n"
     ]
    },
    {
     "name": "stdout",
     "output_type": "stream",
     "text": [
      "Separating track demucs_preprocessed_input/quoc_master_1st_1000_preprocessed/Anh Chẳng Sao Mà (Remix).mp3\n"
     ]
    },
    {
     "name": "stderr",
     "output_type": "stream",
     "text": [
      "100%|████████████████████████████████████████████████████████████████████████| 292.5/292.5 [00:06<00:00, 41.89seconds/s]\n"
     ]
    },
    {
     "name": "stdout",
     "output_type": "stream",
     "text": [
      "Separating track demucs_preprocessed_input/quoc_master_1st_1000_preprocessed/Khói Thuốc Đợi Chờ.mp3\n"
     ]
    },
    {
     "name": "stderr",
     "output_type": "stream",
     "text": [
      "100%|██████████████████████████████████████████████| 298.34999999999997/298.34999999999997 [00:07<00:00, 41.24seconds/s]\n"
     ]
    },
    {
     "name": "stdout",
     "output_type": "stream",
     "text": [
      "Separating track demucs_preprocessed_input/quoc_master_1st_1000_preprocessed/Gửi Em Chiếc Nón Bài Thơ.mp3\n"
     ]
    },
    {
     "name": "stderr",
     "output_type": "stream",
     "text": [
      "100%|██████████████████████████████████████████████| 269.09999999999997/269.09999999999997 [00:06<00:00, 41.11seconds/s]\n"
     ]
    },
    {
     "name": "stdout",
     "output_type": "stream",
     "text": [
      "Separating track demucs_preprocessed_input/quoc_master_1st_1000_preprocessed/Dấu Yêu Xa Tầm Tay.mp3\n"
     ]
    },
    {
     "name": "stderr",
     "output_type": "stream",
     "text": [
      "100%|██████████████████████████████████████████████| 198.89999999999998/198.89999999999998 [00:04<00:00, 40.31seconds/s]\n"
     ]
    },
    {
     "name": "stdout",
     "output_type": "stream",
     "text": [
      "Separating track demucs_preprocessed_input/quoc_master_1st_1000_preprocessed/Thành Phố Không Có Tuyết Rơi.mp3\n"
     ]
    },
    {
     "name": "stderr",
     "output_type": "stream",
     "text": [
      "100%|██████████████████████████████████████████████████████████████████████| 274.95/274.95 [00:06<00:00, 40.37seconds/s]\n"
     ]
    },
    {
     "name": "stdout",
     "output_type": "stream",
     "text": [
      "Separating track demucs_preprocessed_input/quoc_master_1st_1000_preprocessed/Bất Nhiễm (Cover).mp3\n"
     ]
    },
    {
     "name": "stderr",
     "output_type": "stream",
     "text": [
      "100%|██████████████████████████████████████████████| 251.54999999999998/251.54999999999998 [00:06<00:00, 41.61seconds/s]\n"
     ]
    },
    {
     "name": "stdout",
     "output_type": "stream",
     "text": [
      "Separating track demucs_preprocessed_input/quoc_master_1st_1000_preprocessed/Mashup Út Ơi 12345 (Chips Lofi).mp3\n"
     ]
    },
    {
     "name": "stderr",
     "output_type": "stream",
     "text": [
      "100%|██████████████████████████████████████████████| 356.84999999999997/356.84999999999997 [00:08<00:00, 41.16seconds/s]\n"
     ]
    },
    {
     "name": "stdout",
     "output_type": "stream",
     "text": [
      "Separating track demucs_preprocessed_input/quoc_master_1st_1000_preprocessed/Chôn Dấu Niềm Đau.mp3\n"
     ]
    },
    {
     "name": "stderr",
     "output_type": "stream",
     "text": [
      "100%|████████████████████████████████████████████████████████████████████████| 351.0/351.0 [00:08<00:00, 41.54seconds/s]\n"
     ]
    },
    {
     "name": "stdout",
     "output_type": "stream",
     "text": [
      "Separating track demucs_preprocessed_input/quoc_master_1st_1000_preprocessed/Tại Em Mà Tôi Như Thế.mp3\n"
     ]
    },
    {
     "name": "stderr",
     "output_type": "stream",
     "text": [
      "100%|██████████████████████████████████████████████| 280.79999999999995/280.79999999999995 [00:06<00:00, 41.41seconds/s]\n"
     ]
    },
    {
     "name": "stdout",
     "output_type": "stream",
     "text": [
      "Separating track demucs_preprocessed_input/quoc_master_1st_1000_preprocessed/Hay Là Anh Đã Quên Em.mp3\n"
     ]
    },
    {
     "name": "stderr",
     "output_type": "stream",
     "text": [
      "100%|██████████████████████████████████████████████████████████████████████| 239.85/239.85 [00:05<00:00, 41.21seconds/s]\n"
     ]
    },
    {
     "name": "stdout",
     "output_type": "stream",
     "text": [
      "Separating track demucs_preprocessed_input/quoc_master_1st_1000_preprocessed/Tân Cổ： Yêu Dấu Hà Tiên.mp3\n"
     ]
    },
    {
     "name": "stderr",
     "output_type": "stream",
     "text": [
      "100%|████████████████████████████████████████████████████████████████████████| 409.5/409.5 [00:09<00:00, 41.32seconds/s]\n"
     ]
    },
    {
     "name": "stdout",
     "output_type": "stream",
     "text": [
      "Separating track demucs_preprocessed_input/quoc_master_1st_1000_preprocessed/Anh Sẽ Thôi Khờ Dại (Beat).mp3\n"
     ]
    },
    {
     "name": "stderr",
     "output_type": "stream",
     "text": [
      "100%|██████████████████████████████████████████████████████████████████████| 216.45/216.45 [00:05<00:00, 40.67seconds/s]\n"
     ]
    },
    {
     "name": "stdout",
     "output_type": "stream",
     "text": [
      "Separating track demucs_preprocessed_input/quoc_master_1st_1000_preprocessed/Em Là Hot Girl？.mp3\n"
     ]
    },
    {
     "name": "stderr",
     "output_type": "stream",
     "text": [
      "100%|██████████████████████████████████████████████| 280.79999999999995/280.79999999999995 [00:06<00:00, 41.14seconds/s]\n"
     ]
    },
    {
     "name": "stdout",
     "output_type": "stream",
     "text": [
      "Separating track demucs_preprocessed_input/quoc_master_1st_1000_preprocessed/Giai Điệu Dành Cho Em.mp3\n"
     ]
    },
    {
     "name": "stderr",
     "output_type": "stream",
     "text": [
      "100%|██████████████████████████████████████████████| 310.04999999999995/310.04999999999995 [00:07<00:00, 41.09seconds/s]\n"
     ]
    },
    {
     "name": "stdout",
     "output_type": "stream",
     "text": [
      "Separating track demucs_preprocessed_input/quoc_master_1st_1000_preprocessed/Buồn.mp3\n"
     ]
    },
    {
     "name": "stderr",
     "output_type": "stream",
     "text": [
      "100%|████████████████████████████████████████████████████████████████████████| 234.0/234.0 [00:05<00:00, 41.40seconds/s]\n"
     ]
    },
    {
     "name": "stdout",
     "output_type": "stream",
     "text": [
      "Separating track demucs_preprocessed_input/quoc_master_1st_1000_preprocessed/Sự Thật.mp3\n"
     ]
    },
    {
     "name": "stderr",
     "output_type": "stream",
     "text": [
      "100%|████████████████████████████████████████████████████████████████████████| 257.4/257.4 [00:06<00:00, 40.54seconds/s]\n"
     ]
    },
    {
     "name": "stdout",
     "output_type": "stream",
     "text": [
      "Separating track demucs_preprocessed_input/quoc_master_1st_1000_preprocessed/Ngày Cuối Cùng Quan Tâm.mp3\n"
     ]
    },
    {
     "name": "stderr",
     "output_type": "stream",
     "text": [
      "100%|██████████████████████████████████████████████| 327.59999999999997/327.59999999999997 [00:07<00:00, 41.05seconds/s]\n"
     ]
    },
    {
     "name": "stdout",
     "output_type": "stream",
     "text": [
      "Separating track demucs_preprocessed_input/quoc_master_1st_1000_preprocessed/Em Nói Em Thương.mp3\n"
     ]
    },
    {
     "name": "stderr",
     "output_type": "stream",
     "text": [
      "100%|██████████████████████████████████████████████████████████████████████| 204.75/204.75 [00:05<00:00, 40.64seconds/s]\n"
     ]
    },
    {
     "name": "stdout",
     "output_type": "stream",
     "text": [
      "Separating track demucs_preprocessed_input/quoc_master_1st_1000_preprocessed/Chẳng Ai Khác Ngoài Em.mp3\n"
     ]
    },
    {
     "name": "stderr",
     "output_type": "stream",
     "text": [
      "100%|██████████████████████████████████████████████████████████████████████| 286.65/286.65 [00:06<00:00, 41.43seconds/s]\n"
     ]
    },
    {
     "name": "stdout",
     "output_type": "stream",
     "text": [
      "Separating track demucs_preprocessed_input/quoc_master_1st_1000_preprocessed/Cám Ơn Em Đã Yêu Anh.mp3\n"
     ]
    },
    {
     "name": "stderr",
     "output_type": "stream",
     "text": [
      "100%|██████████████████████████████████████████████████████████████████████| 274.95/274.95 [00:06<00:00, 41.27seconds/s]\n"
     ]
    },
    {
     "name": "stdout",
     "output_type": "stream",
     "text": [
      "Separating track demucs_preprocessed_input/quoc_master_1st_1000_preprocessed/Chúng Ta Chỉ Là Từng Yêu 2.mp3\n"
     ]
    },
    {
     "name": "stderr",
     "output_type": "stream",
     "text": [
      "100%|██████████████████████████████████████████████| 251.54999999999998/251.54999999999998 [00:06<00:00, 41.14seconds/s]\n"
     ]
    },
    {
     "name": "stdout",
     "output_type": "stream",
     "text": [
      "Separating track demucs_preprocessed_input/quoc_master_1st_1000_preprocessed/Dạ Khúc.mp3\n"
     ]
    },
    {
     "name": "stderr",
     "output_type": "stream",
     "text": [
      "100%|██████████████████████████████████████████████████████████████████████| 239.85/239.85 [00:05<00:00, 40.55seconds/s]\n"
     ]
    },
    {
     "name": "stdout",
     "output_type": "stream",
     "text": [
      "Separating track demucs_preprocessed_input/quoc_master_1st_1000_preprocessed/Đa Tạ.mp3\n"
     ]
    },
    {
     "name": "stderr",
     "output_type": "stream",
     "text": [
      "100%|██████████████████████████████████████████████████████████████████████| 333.45/333.45 [00:07<00:00, 41.84seconds/s]\n"
     ]
    },
    {
     "name": "stdout",
     "output_type": "stream",
     "text": [
      "Separating track demucs_preprocessed_input/quoc_master_1st_1000_preprocessed/Kiếp Xa Quê.mp3\n"
     ]
    },
    {
     "name": "stderr",
     "output_type": "stream",
     "text": [
      "100%|██████████████████████████████████████████████████████████████████████| 263.25/263.25 [00:06<00:00, 41.63seconds/s]\n"
     ]
    },
    {
     "name": "stdout",
     "output_type": "stream",
     "text": [
      "Separating track demucs_preprocessed_input/quoc_master_1st_1000_preprocessed/Em Hãy Tỏ Tình Với Anh Đê.mp3\n"
     ]
    },
    {
     "name": "stderr",
     "output_type": "stream",
     "text": [
      "100%|████████████████████████████████████████████████████████████████████████| 234.0/234.0 [00:05<00:00, 40.93seconds/s]\n"
     ]
    },
    {
     "name": "stdout",
     "output_type": "stream",
     "text": [
      "Separating track demucs_preprocessed_input/quoc_master_1st_1000_preprocessed/Ước Muốn Xa Xôi.mp3\n"
     ]
    },
    {
     "name": "stderr",
     "output_type": "stream",
     "text": [
      "100%|██████████████████████████████████████████████| 228.14999999999998/228.14999999999998 [00:05<00:00, 40.88seconds/s]\n"
     ]
    },
    {
     "name": "stdout",
     "output_type": "stream",
     "text": [
      "Separating track demucs_preprocessed_input/quoc_master_1st_1000_preprocessed/Bắt Đầu Khi Kết Thúc.mp3\n"
     ]
    },
    {
     "name": "stderr",
     "output_type": "stream",
     "text": [
      "100%|██████████████████████████████████████████████████████████████████████| 286.65/286.65 [00:06<00:00, 41.39seconds/s]\n"
     ]
    },
    {
     "name": "stdout",
     "output_type": "stream",
     "text": [
      "Separating track demucs_preprocessed_input/quoc_master_1st_1000_preprocessed/Chú Chuột Nhắt.mp3\n"
     ]
    },
    {
     "name": "stderr",
     "output_type": "stream",
     "text": [
      "100%|██████████████████████████████████████████████████████████████████████| 216.45/216.45 [00:05<00:00, 40.15seconds/s]\n"
     ]
    },
    {
     "name": "stdout",
     "output_type": "stream",
     "text": [
      "Separating track demucs_preprocessed_input/quoc_master_1st_1000_preprocessed/Bạn Tình Ơi.mp3\n"
     ]
    },
    {
     "name": "stderr",
     "output_type": "stream",
     "text": [
      "100%|██████████████████████████████████████████████| 269.09999999999997/269.09999999999997 [00:06<00:00, 41.69seconds/s]\n"
     ]
    },
    {
     "name": "stdout",
     "output_type": "stream",
     "text": [
      "Separating track demucs_preprocessed_input/quoc_master_1st_1000_preprocessed/Badaboo Của Anh (Orinn Remix).mp3\n"
     ]
    },
    {
     "name": "stderr",
     "output_type": "stream",
     "text": [
      "100%|██████████████████████████████████████████████| 222.29999999999998/222.29999999999998 [00:05<00:00, 40.70seconds/s]\n"
     ]
    },
    {
     "name": "stdout",
     "output_type": "stream",
     "text": [
      "Separating track demucs_preprocessed_input/quoc_master_1st_1000_preprocessed/Chuyện Tình La Lan (Remix).mp3\n"
     ]
    },
    {
     "name": "stderr",
     "output_type": "stream",
     "text": [
      "100%|██████████████████████████████████████████████████████████████████████| 286.65/286.65 [00:06<00:00, 41.22seconds/s]\n"
     ]
    },
    {
     "name": "stdout",
     "output_type": "stream",
     "text": [
      "Separating track demucs_preprocessed_input/quoc_master_1st_1000_preprocessed/Anh Vẫn Mơ Về Em.mp3\n"
     ]
    },
    {
     "name": "stderr",
     "output_type": "stream",
     "text": [
      "100%|██████████████████████████████████████████████████████████████████████| 204.75/204.75 [00:05<00:00, 40.91seconds/s]\n"
     ]
    },
    {
     "name": "stdout",
     "output_type": "stream",
     "text": [
      "Separating track demucs_preprocessed_input/quoc_master_1st_1000_preprocessed/Ly Cafe.mp3\n"
     ]
    },
    {
     "name": "stderr",
     "output_type": "stream",
     "text": [
      "100%|██████████████████████████████████████████████| 198.89999999999998/198.89999999999998 [00:04<00:00, 40.87seconds/s]\n"
     ]
    },
    {
     "name": "stdout",
     "output_type": "stream",
     "text": [
      "Separating track demucs_preprocessed_input/quoc_master_1st_1000_preprocessed/Hoa Sứ Nhà Nàng (Liveshow Thương Quá Việt Nam).mp3\n"
     ]
    },
    {
     "name": "stderr",
     "output_type": "stream",
     "text": [
      "100%|████████████████████████████████████████████████████████████████████████| 210.6/210.6 [00:05<00:00, 41.58seconds/s]\n"
     ]
    },
    {
     "name": "stdout",
     "output_type": "stream",
     "text": [
      "Separating track demucs_preprocessed_input/quoc_master_1st_1000_preprocessed/Bài Tango Cuối Cùng.mp3\n"
     ]
    },
    {
     "name": "stderr",
     "output_type": "stream",
     "text": [
      "100%|██████████████████████████████████████████████| 269.09999999999997/269.09999999999997 [00:06<00:00, 41.00seconds/s]\n"
     ]
    },
    {
     "name": "stdout",
     "output_type": "stream",
     "text": [
      "Separating track demucs_preprocessed_input/quoc_master_1st_1000_preprocessed/Cánh Diều Đỏ Thắm.mp3\n"
     ]
    },
    {
     "name": "stderr",
     "output_type": "stream",
     "text": [
      "100%|████████████████████████████████████████████████████████████████████████| 187.2/187.2 [00:04<00:00, 39.99seconds/s]\n"
     ]
    },
    {
     "name": "stdout",
     "output_type": "stream",
     "text": [
      "Separating track demucs_preprocessed_input/quoc_master_1st_1000_preprocessed/7 Ngày Đợi Mong.mp3\n"
     ]
    },
    {
     "name": "stderr",
     "output_type": "stream",
     "text": [
      "100%|██████████████████████████████████████████████| 251.54999999999998/251.54999999999998 [00:06<00:00, 41.07seconds/s]\n"
     ]
    },
    {
     "name": "stdout",
     "output_type": "stream",
     "text": [
      "Separating track demucs_preprocessed_input/quoc_master_1st_1000_preprocessed/Ngày Ấy, Tháng Ấy, Năm Ấy.mp3\n"
     ]
    },
    {
     "name": "stderr",
     "output_type": "stream",
     "text": [
      "100%|████████████████████████████████████████████████████████████████████████| 245.7/245.7 [00:05<00:00, 41.34seconds/s]\n"
     ]
    },
    {
     "name": "stdout",
     "output_type": "stream",
     "text": [
      "Separating track demucs_preprocessed_input/quoc_master_1st_1000_preprocessed/Tình Yêu Trong Anh.mp3\n"
     ]
    },
    {
     "name": "stderr",
     "output_type": "stream",
     "text": [
      "100%|██████████████████████████████████████████████| 198.89999999999998/198.89999999999998 [00:04<00:00, 40.62seconds/s]\n"
     ]
    },
    {
     "name": "stdout",
     "output_type": "stream",
     "text": [
      "Separating track demucs_preprocessed_input/quoc_master_1st_1000_preprocessed/Mãi Mãi Bên Em.mp3\n"
     ]
    },
    {
     "name": "stderr",
     "output_type": "stream",
     "text": [
      "100%|████████████████████████████████████████████████████████████████████████| 315.9/315.9 [00:07<00:00, 41.09seconds/s]\n"
     ]
    },
    {
     "name": "stdout",
     "output_type": "stream",
     "text": [
      "Separating track demucs_preprocessed_input/quoc_master_1st_1000_preprocessed/Thà Làm Áng Mây Trôi.mp3\n"
     ]
    },
    {
     "name": "stderr",
     "output_type": "stream",
     "text": [
      "100%|██████████████████████████████████████████████████████████████████████| 263.25/263.25 [00:06<00:00, 40.95seconds/s]\n"
     ]
    },
    {
     "name": "stdout",
     "output_type": "stream",
     "text": [
      "Separating track demucs_preprocessed_input/quoc_master_1st_1000_preprocessed/Vì Em Là Của Anh.mp3\n"
     ]
    },
    {
     "name": "stderr",
     "output_type": "stream",
     "text": [
      "100%|████████████████████████████████████████████████████████████████████████| 234.0/234.0 [00:05<00:00, 40.56seconds/s]\n"
     ]
    },
    {
     "name": "stdout",
     "output_type": "stream",
     "text": [
      "Separating track demucs_preprocessed_input/quoc_master_1st_1000_preprocessed/Giết Người Trong Mộng.mp3\n"
     ]
    },
    {
     "name": "stderr",
     "output_type": "stream",
     "text": [
      "100%|████████████████████████████████████████████████████████████████████████| 292.5/292.5 [00:07<00:00, 41.44seconds/s]\n"
     ]
    },
    {
     "name": "stdout",
     "output_type": "stream",
     "text": [
      "Separating track demucs_preprocessed_input/quoc_master_1st_1000_preprocessed/Đêm Sông Cầu.mp3\n"
     ]
    },
    {
     "name": "stderr",
     "output_type": "stream",
     "text": [
      "100%|██████████████████████████████████████████████| 280.79999999999995/280.79999999999995 [00:06<00:00, 41.83seconds/s]\n"
     ]
    },
    {
     "name": "stdout",
     "output_type": "stream",
     "text": [
      "Separating track demucs_preprocessed_input/quoc_master_1st_1000_preprocessed/Đáng Thương.mp3\n"
     ]
    },
    {
     "name": "stderr",
     "output_type": "stream",
     "text": [
      "100%|████████████████████████████████████████████████████████████████████████| 234.0/234.0 [00:05<00:00, 41.62seconds/s]\n"
     ]
    },
    {
     "name": "stdout",
     "output_type": "stream",
     "text": [
      "Separating track demucs_preprocessed_input/quoc_master_1st_1000_preprocessed/Khúc Biệt Ly.mp3\n"
     ]
    },
    {
     "name": "stderr",
     "output_type": "stream",
     "text": [
      "100%|██████████████████████████████████████████████| 269.09999999999997/269.09999999999997 [00:06<00:00, 41.50seconds/s]\n"
     ]
    },
    {
     "name": "stdout",
     "output_type": "stream",
     "text": [
      "Separating track demucs_preprocessed_input/quoc_master_1st_1000_preprocessed/Kiểu Gì Chả Mất.mp3\n"
     ]
    },
    {
     "name": "stderr",
     "output_type": "stream",
     "text": [
      "100%|██████████████████████████████████████████████████████████████████████| 239.85/239.85 [00:06<00:00, 39.96seconds/s]\n"
     ]
    },
    {
     "name": "stdout",
     "output_type": "stream",
     "text": [
      "Separating track demucs_preprocessed_input/quoc_master_1st_1000_preprocessed/Lời Mẹ.mp3\n"
     ]
    },
    {
     "name": "stderr",
     "output_type": "stream",
     "text": [
      "100%|████████████████████████████████████████████████████████████████████████| 257.4/257.4 [00:06<00:00, 41.29seconds/s]\n"
     ]
    },
    {
     "name": "stdout",
     "output_type": "stream",
     "text": [
      "Separating track demucs_preprocessed_input/quoc_master_1st_1000_preprocessed/Chỉ Sợ Nhớ Nhà.mp3\n"
     ]
    },
    {
     "name": "stderr",
     "output_type": "stream",
     "text": [
      "100%|██████████████████████████████████████████████| 327.59999999999997/327.59999999999997 [00:07<00:00, 41.08seconds/s]\n"
     ]
    },
    {
     "name": "stdout",
     "output_type": "stream",
     "text": [
      "Separating track demucs_preprocessed_input/quoc_master_1st_1000_preprocessed/Chuyện Tình Gió.mp3\n"
     ]
    },
    {
     "name": "stderr",
     "output_type": "stream",
     "text": [
      "100%|██████████████████████████████████████████████| 251.54999999999998/251.54999999999998 [00:06<00:00, 41.25seconds/s]\n"
     ]
    },
    {
     "name": "stdout",
     "output_type": "stream",
     "text": [
      "Separating track demucs_preprocessed_input/quoc_master_1st_1000_preprocessed/Anh Biết Không Anh.mp3\n"
     ]
    },
    {
     "name": "stderr",
     "output_type": "stream",
     "text": [
      "100%|██████████████████████████████████████████████| 269.09999999999997/269.09999999999997 [00:06<00:00, 40.65seconds/s]\n"
     ]
    },
    {
     "name": "stdout",
     "output_type": "stream",
     "text": [
      "Separating track demucs_preprocessed_input/quoc_master_1st_1000_preprocessed/Cho Một Lần Cuối.mp3\n"
     ]
    },
    {
     "name": "stderr",
     "output_type": "stream",
     "text": [
      "100%|██████████████████████████████████████████████| 228.14999999999998/228.14999999999998 [00:05<00:00, 40.61seconds/s]\n"
     ]
    },
    {
     "name": "stdout",
     "output_type": "stream",
     "text": [
      "Separating track demucs_preprocessed_input/quoc_master_1st_1000_preprocessed/Em Về Kẻo Trời Mưa.mp3\n"
     ]
    },
    {
     "name": "stderr",
     "output_type": "stream",
     "text": [
      "100%|██████████████████████████████████████████████| 269.09999999999997/269.09999999999997 [00:06<00:00, 41.58seconds/s]\n"
     ]
    },
    {
     "name": "stdout",
     "output_type": "stream",
     "text": [
      "Separating track demucs_preprocessed_input/quoc_master_1st_1000_preprocessed/Hãy Quen.mp3\n"
     ]
    },
    {
     "name": "stderr",
     "output_type": "stream",
     "text": [
      "100%|██████████████████████████████████████████████████████████████████████| 181.35/181.35 [00:04<00:00, 39.84seconds/s]\n"
     ]
    },
    {
     "name": "stdout",
     "output_type": "stream",
     "text": [
      "Separating track demucs_preprocessed_input/quoc_master_1st_1000_preprocessed/Tỉnh Mộng.mp3\n"
     ]
    },
    {
     "name": "stderr",
     "output_type": "stream",
     "text": [
      "100%|██████████████████████████████████████████████| 310.04999999999995/310.04999999999995 [00:07<00:00, 41.17seconds/s]\n"
     ]
    },
    {
     "name": "stdout",
     "output_type": "stream",
     "text": [
      "Separating track demucs_preprocessed_input/quoc_master_1st_1000_preprocessed/Hãy Trở Về.mp3\n"
     ]
    },
    {
     "name": "stderr",
     "output_type": "stream",
     "text": [
      "100%|██████████████████████████████████████████████████████████████████████| 239.85/239.85 [00:05<00:00, 41.51seconds/s]\n"
     ]
    },
    {
     "name": "stdout",
     "output_type": "stream",
     "text": [
      "Separating track demucs_preprocessed_input/quoc_master_1st_1000_preprocessed/Nhìn Vào Nỗi Nhớ.mp3\n"
     ]
    },
    {
     "name": "stderr",
     "output_type": "stream",
     "text": [
      "100%|██████████████████████████████████████████████████████████████████████| 286.65/286.65 [00:06<00:00, 41.15seconds/s]\n"
     ]
    },
    {
     "name": "stdout",
     "output_type": "stream",
     "text": [
      "Separating track demucs_preprocessed_input/quoc_master_1st_1000_preprocessed/Anh Yêu Em (Beat).mp3\n"
     ]
    },
    {
     "name": "stderr",
     "output_type": "stream",
     "text": [
      "100%|██████████████████████████████████████████████████████████████████████| 263.25/263.25 [00:06<00:00, 41.09seconds/s]\n"
     ]
    },
    {
     "name": "stdout",
     "output_type": "stream",
     "text": [
      "Separating track demucs_preprocessed_input/quoc_master_1st_1000_preprocessed/Những Đóm Mắt Thảo Châu.mp3\n"
     ]
    },
    {
     "name": "stderr",
     "output_type": "stream",
     "text": [
      "100%|██████████████████████████████████████████████████████████████████████| 345.15/345.15 [00:08<00:00, 41.38seconds/s]\n"
     ]
    },
    {
     "name": "stdout",
     "output_type": "stream",
     "text": [
      "Separating track demucs_preprocessed_input/quoc_master_1st_1000_preprocessed/Lặng Lẽ Buông.mp3\n"
     ]
    },
    {
     "name": "stderr",
     "output_type": "stream",
     "text": [
      "100%|████████████████████████████████████████████████████████████████████████| 257.4/257.4 [00:06<00:00, 41.63seconds/s]\n"
     ]
    },
    {
     "name": "stdout",
     "output_type": "stream",
     "text": [
      "Separating track demucs_preprocessed_input/quoc_master_1st_1000_preprocessed/Từ Nay Không Phiền Anh Nữa (Remix).mp3\n"
     ]
    },
    {
     "name": "stderr",
     "output_type": "stream",
     "text": [
      "100%|████████████████████████████████████████████████████████████████████████| 210.6/210.6 [00:05<00:00, 40.96seconds/s]\n"
     ]
    },
    {
     "name": "stdout",
     "output_type": "stream",
     "text": [
      "Separating track demucs_preprocessed_input/quoc_master_1st_1000_preprocessed/Em Vẫn Nhớ.mp3\n"
     ]
    },
    {
     "name": "stderr",
     "output_type": "stream",
     "text": [
      "100%|██████████████████████████████████████████████████████████████████████| 263.25/263.25 [00:06<00:00, 41.24seconds/s]\n"
     ]
    },
    {
     "name": "stdout",
     "output_type": "stream",
     "text": [
      "Separating track demucs_preprocessed_input/quoc_master_1st_1000_preprocessed/Không Thích Thì Đi.mp3\n"
     ]
    },
    {
     "name": "stderr",
     "output_type": "stream",
     "text": [
      "100%|████████████████████████████████████████████████████████████████████████| 315.9/315.9 [00:07<00:00, 41.29seconds/s]\n"
     ]
    },
    {
     "name": "stdout",
     "output_type": "stream",
     "text": [
      "Separating track demucs_preprocessed_input/quoc_master_1st_1000_preprocessed/Đến Sau Một Người.mp3\n"
     ]
    },
    {
     "name": "stderr",
     "output_type": "stream",
     "text": [
      "100%|██████████████████████████████████████████████| 310.04999999999995/310.04999999999995 [00:07<00:00, 41.32seconds/s]\n"
     ]
    },
    {
     "name": "stdout",
     "output_type": "stream",
     "text": [
      "Separating track demucs_preprocessed_input/quoc_master_1st_1000_preprocessed/Đi Trong Hà Nội.mp3\n"
     ]
    },
    {
     "name": "stderr",
     "output_type": "stream",
     "text": [
      "100%|████████████████████████████████████████████████████████████████████████| 210.6/210.6 [00:05<00:00, 41.47seconds/s]\n"
     ]
    },
    {
     "name": "stdout",
     "output_type": "stream",
     "text": [
      "Separating track demucs_preprocessed_input/quoc_master_1st_1000_preprocessed/Khổ Vì Yêu.mp3\n"
     ]
    },
    {
     "name": "stderr",
     "output_type": "stream",
     "text": [
      "100%|████████████████████████████████████████████████████████████████████████| 304.2/304.2 [00:07<00:00, 40.71seconds/s]\n"
     ]
    },
    {
     "name": "stdout",
     "output_type": "stream",
     "text": [
      "Separating track demucs_preprocessed_input/quoc_master_1st_1000_preprocessed/Em Sẽ Quay Về.mp3\n"
     ]
    },
    {
     "name": "stderr",
     "output_type": "stream",
     "text": [
      "100%|██████████████████████████████████████████████| 280.79999999999995/280.79999999999995 [00:06<00:00, 41.17seconds/s]\n"
     ]
    },
    {
     "name": "stdout",
     "output_type": "stream",
     "text": [
      "Separating track demucs_preprocessed_input/quoc_master_1st_1000_preprocessed/Giá Băng Như Mặt Trăng.mp3\n"
     ]
    },
    {
     "name": "stderr",
     "output_type": "stream",
     "text": [
      "100%|████████████████████████████████████████████████████████████████████████| 175.5/175.5 [00:04<00:00, 40.85seconds/s]\n"
     ]
    },
    {
     "name": "stdout",
     "output_type": "stream",
     "text": [
      "Separating track demucs_preprocessed_input/quoc_master_1st_1000_preprocessed/Hai Quê Một Nỗi Niềm.mp3\n"
     ]
    },
    {
     "name": "stderr",
     "output_type": "stream",
     "text": [
      "100%|████████████████████████████████████████████████████████████████████████| 304.2/304.2 [00:07<00:00, 41.50seconds/s]\n"
     ]
    },
    {
     "name": "stdout",
     "output_type": "stream",
     "text": [
      "Separating track demucs_preprocessed_input/quoc_master_1st_1000_preprocessed/Tỏ Tình.mp3\n"
     ]
    },
    {
     "name": "stderr",
     "output_type": "stream",
     "text": [
      "100%|████████████████████████████████████████████████████████████████████████| 257.4/257.4 [00:06<00:00, 40.78seconds/s]\n"
     ]
    },
    {
     "name": "stdout",
     "output_type": "stream",
     "text": [
      "Separating track demucs_preprocessed_input/quoc_master_1st_1000_preprocessed/Tân Cổ Sân Ga Chỉ Có Một Người.mp3\n"
     ]
    },
    {
     "name": "stderr",
     "output_type": "stream",
     "text": [
      "100%|██████████████████████████████████████████████████████████████████████| 333.45/333.45 [00:08<00:00, 41.34seconds/s]\n"
     ]
    },
    {
     "name": "stdout",
     "output_type": "stream",
     "text": [
      "Separating track demucs_preprocessed_input/quoc_master_1st_1000_preprocessed/Ơn Nghĩa Thầy Cô.mp3\n"
     ]
    },
    {
     "name": "stderr",
     "output_type": "stream",
     "text": [
      "100%|██████████████████████████████████████████████████████████████████████| 239.85/239.85 [00:05<00:00, 41.05seconds/s]\n"
     ]
    },
    {
     "name": "stdout",
     "output_type": "stream",
     "text": [
      "Separating track demucs_preprocessed_input/quoc_master_1st_1000_preprocessed/Bước Cùng Cô Đơn.mp3\n"
     ]
    },
    {
     "name": "stderr",
     "output_type": "stream",
     "text": [
      "100%|██████████████████████████████████████████████████████████████████████| 333.45/333.45 [00:07<00:00, 42.02seconds/s]\n"
     ]
    },
    {
     "name": "stdout",
     "output_type": "stream",
     "text": [
      "Separating track demucs_preprocessed_input/quoc_master_1st_1000_preprocessed/Mashup Trái Tim Của Gió, TDP (Nam Duck Remix).mp3\n"
     ]
    },
    {
     "name": "stderr",
     "output_type": "stream",
     "text": [
      "100%|██████████████████████████████████████████████████████████████████████| 263.25/263.25 [00:06<00:00, 41.50seconds/s]\n"
     ]
    },
    {
     "name": "stdout",
     "output_type": "stream",
     "text": [
      "Separating track demucs_preprocessed_input/quoc_master_1st_1000_preprocessed/Có Phải Anh Là (Beat).mp3\n"
     ]
    },
    {
     "name": "stderr",
     "output_type": "stream",
     "text": [
      "100%|██████████████████████████████████████████████████████████████████████| 216.45/216.45 [00:05<00:00, 40.16seconds/s]\n"
     ]
    },
    {
     "name": "stdout",
     "output_type": "stream",
     "text": [
      "Separating track demucs_preprocessed_input/quoc_master_1st_1000_preprocessed/Em Mang Tình Mình Trao Ai.mp3\n"
     ]
    },
    {
     "name": "stderr",
     "output_type": "stream",
     "text": [
      "100%|████████████████████████████████████████████████████████████████████████| 315.9/315.9 [00:07<00:00, 41.47seconds/s]\n"
     ]
    },
    {
     "name": "stdout",
     "output_type": "stream",
     "text": [
      "Separating track demucs_preprocessed_input/quoc_master_1st_1000_preprocessed/Chờ Đợi Trong Nước Mắt.mp3\n"
     ]
    },
    {
     "name": "stderr",
     "output_type": "stream",
     "text": [
      "100%|██████████████████████████████████████████████| 251.54999999999998/251.54999999999998 [00:06<00:00, 41.00seconds/s]\n"
     ]
    },
    {
     "name": "stdout",
     "output_type": "stream",
     "text": [
      "Separating track demucs_preprocessed_input/quoc_master_1st_1000_preprocessed/Mẹ Ơi 2.mp3\n"
     ]
    },
    {
     "name": "stderr",
     "output_type": "stream",
     "text": [
      "100%|████████████████████████████████████████████████████████████████████████| 292.5/292.5 [00:07<00:00, 41.05seconds/s]\n"
     ]
    },
    {
     "name": "stdout",
     "output_type": "stream",
     "text": [
      "Separating track demucs_preprocessed_input/quoc_master_1st_1000_preprocessed/Anh Em Tương Phùng (Remix).mp3\n"
     ]
    },
    {
     "name": "stderr",
     "output_type": "stream",
     "text": [
      "100%|██████████████████████████████████████████████████████████████████████| 263.25/263.25 [00:06<00:00, 41.31seconds/s]\n"
     ]
    },
    {
     "name": "stdout",
     "output_type": "stream",
     "text": [
      "Separating track demucs_preprocessed_input/quoc_master_1st_1000_preprocessed/Tiếng Hát Chim Đa Đa.mp3\n"
     ]
    },
    {
     "name": "stderr",
     "output_type": "stream",
     "text": [
      "100%|████████████████████████████████████████████████████████████████████████| 292.5/292.5 [00:07<00:00, 41.20seconds/s]\n"
     ]
    },
    {
     "name": "stdout",
     "output_type": "stream",
     "text": [
      "Separating track demucs_preprocessed_input/quoc_master_1st_1000_preprocessed/Để Anh Được Yêu.mp3\n"
     ]
    },
    {
     "name": "stderr",
     "output_type": "stream",
     "text": [
      "100%|████████████████████████████████████████████████████████████████████████| 210.6/210.6 [00:05<00:00, 40.95seconds/s]\n"
     ]
    },
    {
     "name": "stdout",
     "output_type": "stream",
     "text": [
      "Separating track demucs_preprocessed_input/quoc_master_1st_1000_preprocessed/Nhẫn Cỏ Cho Em.mp3\n"
     ]
    },
    {
     "name": "stderr",
     "output_type": "stream",
     "text": [
      "100%|██████████████████████████████████████████████| 339.29999999999995/339.29999999999995 [00:08<00:00, 41.68seconds/s]\n"
     ]
    },
    {
     "name": "stdout",
     "output_type": "stream",
     "text": [
      "Separating track demucs_preprocessed_input/quoc_master_1st_1000_preprocessed/Em Thuộc Về Ai.mp3\n"
     ]
    },
    {
     "name": "stderr",
     "output_type": "stream",
     "text": [
      "100%|██████████████████████████████████████████████████████████████████████| 181.35/181.35 [00:04<00:00, 41.31seconds/s]\n"
     ]
    },
    {
     "name": "stdout",
     "output_type": "stream",
     "text": [
      "Separating track demucs_preprocessed_input/quoc_master_1st_1000_preprocessed/Người Từng Làm Anh Đau.mp3\n"
     ]
    },
    {
     "name": "stderr",
     "output_type": "stream",
     "text": [
      "100%|██████████████████████████████████████████████| 269.09999999999997/269.09999999999997 [00:06<00:00, 42.20seconds/s]\n"
     ]
    },
    {
     "name": "stdout",
     "output_type": "stream",
     "text": [
      "Separating track demucs_preprocessed_input/quoc_master_1st_1000_preprocessed/Em Rất Cô Đơn.mp3\n"
     ]
    },
    {
     "name": "stderr",
     "output_type": "stream",
     "text": [
      "100%|████████████████████████████████████████████████████████████████████████| 245.7/245.7 [00:05<00:00, 41.69seconds/s]\n"
     ]
    },
    {
     "name": "stdout",
     "output_type": "stream",
     "text": [
      "Separating track demucs_preprocessed_input/quoc_master_1st_1000_preprocessed/Bóng Mẹ Bên Đời.mp3\n"
     ]
    },
    {
     "name": "stderr",
     "output_type": "stream",
     "text": [
      "100%|██████████████████████████████████████████████████████████████████████| 286.65/286.65 [00:07<00:00, 40.91seconds/s]\n"
     ]
    },
    {
     "name": "stdout",
     "output_type": "stream",
     "text": [
      "Separating track demucs_preprocessed_input/quoc_master_1st_1000_preprocessed/Anh Chẳng Sao Mà (Beat).mp3\n"
     ]
    },
    {
     "name": "stderr",
     "output_type": "stream",
     "text": [
      "100%|████████████████████████████████████████████████████████████████████████| 304.2/304.2 [00:07<00:00, 40.73seconds/s]\n"
     ]
    },
    {
     "name": "stdout",
     "output_type": "stream",
     "text": [
      "Separating track demucs_preprocessed_input/quoc_master_1st_1000_preprocessed/Cha Ơi.mp3\n"
     ]
    },
    {
     "name": "stderr",
     "output_type": "stream",
     "text": [
      "100%|████████████████████████████████████████████████████████████████████████| 526.5/526.5 [00:12<00:00, 42.24seconds/s]\n"
     ]
    },
    {
     "name": "stdout",
     "output_type": "stream",
     "text": [
      "Separating track demucs_preprocessed_input/quoc_master_1st_1000_preprocessed/Ánh Sáng Nơi Cuối Đường (Remix).mp3\n"
     ]
    },
    {
     "name": "stderr",
     "output_type": "stream",
     "text": [
      "100%|████████████████████████████████████████████████████████████████████████| 234.0/234.0 [00:05<00:00, 40.10seconds/s]\n"
     ]
    },
    {
     "name": "stdout",
     "output_type": "stream",
     "text": [
      "Separating track demucs_preprocessed_input/quoc_master_1st_1000_preprocessed/LK Yêu Người Yêu Đời.mp3\n"
     ]
    },
    {
     "name": "stderr",
     "output_type": "stream",
     "text": [
      "100%|████████████████████████████████████████████████████████████████████████| 292.5/292.5 [00:07<00:00, 41.33seconds/s]\n"
     ]
    },
    {
     "name": "stdout",
     "output_type": "stream",
     "text": [
      "Separating track demucs_preprocessed_input/quoc_master_1st_1000_preprocessed/Cảm Tạ Ơn Chúa.mp3\n"
     ]
    },
    {
     "name": "stderr",
     "output_type": "stream",
     "text": [
      "100%|██████████████████████████████████████████████| 280.79999999999995/280.79999999999995 [00:06<00:00, 41.40seconds/s]\n"
     ]
    },
    {
     "name": "stdout",
     "output_type": "stream",
     "text": [
      "Separating track demucs_preprocessed_input/quoc_master_1st_1000_preprocessed/Nếu Như Ai Còn Mẹ.mp3\n"
     ]
    },
    {
     "name": "stderr",
     "output_type": "stream",
     "text": [
      "100%|████████████████████████████████████████████████████████████████████████| 374.4/374.4 [00:08<00:00, 42.10seconds/s]\n"
     ]
    },
    {
     "name": "stdout",
     "output_type": "stream",
     "text": [
      "Separating track demucs_preprocessed_input/quoc_master_1st_1000_preprocessed/Chỉ Cần Có Em.mp3\n"
     ]
    },
    {
     "name": "stderr",
     "output_type": "stream",
     "text": [
      "100%|██████████████████████████████████████████████| 198.89999999999998/198.89999999999998 [00:04<00:00, 40.37seconds/s]\n"
     ]
    },
    {
     "name": "stdout",
     "output_type": "stream",
     "text": [
      "Separating track demucs_preprocessed_input/quoc_master_1st_1000_preprocessed/Khúc Thu Ca.mp3\n"
     ]
    },
    {
     "name": "stderr",
     "output_type": "stream",
     "text": [
      "100%|████████████████████████████████████████████████████████████████████████| 245.7/245.7 [00:05<00:00, 41.89seconds/s]\n"
     ]
    },
    {
     "name": "stdout",
     "output_type": "stream",
     "text": [
      "Separating track demucs_preprocessed_input/quoc_master_1st_1000_preprocessed/Khoảnh Khắc Cuối Nghẹn Ngào.mp3\n"
     ]
    },
    {
     "name": "stderr",
     "output_type": "stream",
     "text": [
      "100%|██████████████████████████████████████████████| 251.54999999999998/251.54999999999998 [00:06<00:00, 41.73seconds/s]\n"
     ]
    },
    {
     "name": "stdout",
     "output_type": "stream",
     "text": [
      "Separating track demucs_preprocessed_input/quoc_master_1st_1000_preprocessed/Chỉ Còn Lại Nỗi Nhớ.mp3\n"
     ]
    },
    {
     "name": "stderr",
     "output_type": "stream",
     "text": [
      "100%|████████████████████████████████████████████████████████████████████████| 304.2/304.2 [00:07<00:00, 41.03seconds/s]\n"
     ]
    },
    {
     "name": "stdout",
     "output_type": "stream",
     "text": [
      "Separating track demucs_preprocessed_input/quoc_master_1st_1000_preprocessed/Điều Cha Muốn Nói.mp3\n"
     ]
    },
    {
     "name": "stderr",
     "output_type": "stream",
     "text": [
      "100%|██████████████████████████████████████████████████████████████████████| 216.45/216.45 [00:05<00:00, 40.79seconds/s]\n"
     ]
    },
    {
     "name": "stdout",
     "output_type": "stream",
     "text": [
      "Separating track demucs_preprocessed_input/quoc_master_1st_1000_preprocessed/Cô Bé Mắt Nai.mp3\n"
     ]
    },
    {
     "name": "stderr",
     "output_type": "stream",
     "text": [
      "100%|██████████████████████████████████████████████| 251.54999999999998/251.54999999999998 [00:06<00:00, 41.24seconds/s]\n"
     ]
    },
    {
     "name": "stdout",
     "output_type": "stream",
     "text": [
      "Separating track demucs_preprocessed_input/quoc_master_1st_1000_preprocessed/Dối Lòng.mp3\n"
     ]
    },
    {
     "name": "stderr",
     "output_type": "stream",
     "text": [
      "100%|██████████████████████████████████████████████| 269.09999999999997/269.09999999999997 [00:06<00:00, 41.08seconds/s]\n"
     ]
    },
    {
     "name": "stdout",
     "output_type": "stream",
     "text": [
      "Separating track demucs_preprocessed_input/quoc_master_1st_1000_preprocessed/Xuân Bên Em.mp3\n"
     ]
    },
    {
     "name": "stderr",
     "output_type": "stream",
     "text": [
      "100%|██████████████████████████████████████████████| 228.14999999999998/228.14999999999998 [00:05<00:00, 40.99seconds/s]\n"
     ]
    },
    {
     "name": "stdout",
     "output_type": "stream",
     "text": [
      "Separating track demucs_preprocessed_input/quoc_master_1st_1000_preprocessed/Bài Ca Người Săn Máy Bay.mp3\n"
     ]
    },
    {
     "name": "stderr",
     "output_type": "stream",
     "text": [
      "100%|██████████████████████████████████████████████████████████████████████| 204.75/204.75 [00:05<00:00, 40.45seconds/s]\n"
     ]
    },
    {
     "name": "stdout",
     "output_type": "stream",
     "text": [
      "Separating track demucs_preprocessed_input/quoc_master_1st_1000_preprocessed/Búp bê bị hư.mp3\n"
     ]
    },
    {
     "name": "stderr",
     "output_type": "stream",
     "text": [
      "100%|██████████████████████████████████████████████████████████████████████| 274.95/274.95 [00:06<00:00, 41.97seconds/s]\n"
     ]
    },
    {
     "name": "stdout",
     "output_type": "stream",
     "text": [
      "Separating track demucs_preprocessed_input/quoc_master_1st_1000_preprocessed/Đúng Lúc Gặp Người (Remix).mp3\n"
     ]
    },
    {
     "name": "stderr",
     "output_type": "stream",
     "text": [
      "100%|██████████████████████████████████████████████████████████████████████| 263.25/263.25 [00:06<00:00, 41.43seconds/s]\n"
     ]
    },
    {
     "name": "stdout",
     "output_type": "stream",
     "text": [
      "Separating track demucs_preprocessed_input/quoc_master_1st_1000_preprocessed/Hai Mùa Mưa.mp3\n"
     ]
    },
    {
     "name": "stderr",
     "output_type": "stream",
     "text": [
      "100%|██████████████████████████████████████████████| 193.04999999999998/193.04999999999998 [00:04<00:00, 41.33seconds/s]\n"
     ]
    },
    {
     "name": "stdout",
     "output_type": "stream",
     "text": [
      "Separating track demucs_preprocessed_input/quoc_master_1st_1000_preprocessed/Hôm Nay Mẹ Trực Đêm.mp3\n"
     ]
    },
    {
     "name": "stderr",
     "output_type": "stream",
     "text": [
      "100%|██████████████████████████████████████████████████████████████████████| 286.65/286.65 [00:06<00:00, 41.29seconds/s]\n"
     ]
    },
    {
     "name": "stdout",
     "output_type": "stream",
     "text": [
      "Separating track demucs_preprocessed_input/quoc_master_1st_1000_preprocessed/Nhắm Mắt Vẫn Thấy Em.mp3\n"
     ]
    },
    {
     "name": "stderr",
     "output_type": "stream",
     "text": [
      "100%|████████████████████████████████████████████████████████████████████████| 245.7/245.7 [00:05<00:00, 41.46seconds/s]\n"
     ]
    },
    {
     "name": "stdout",
     "output_type": "stream",
     "text": [
      "Separating track demucs_preprocessed_input/quoc_master_1st_1000_preprocessed/Từng Ngày Con Nhớ Phật.mp3\n"
     ]
    },
    {
     "name": "stderr",
     "output_type": "stream",
     "text": [
      "100%|████████████████████████████████████████████████████████████████████████| 351.0/351.0 [00:08<00:00, 41.53seconds/s]\n"
     ]
    },
    {
     "name": "stdout",
     "output_type": "stream",
     "text": [
      "Separating track demucs_preprocessed_input/quoc_master_1st_1000_preprocessed/Yêu Dấu Tan Theo.mp3\n"
     ]
    },
    {
     "name": "stderr",
     "output_type": "stream",
     "text": [
      "100%|████████████████████████████████████████████████████████████████████████| 292.5/292.5 [00:07<00:00, 41.48seconds/s]\n"
     ]
    },
    {
     "name": "stdout",
     "output_type": "stream",
     "text": [
      "Separating track demucs_preprocessed_input/quoc_master_1st_1000_preprocessed/Sài Gòn Chiều Ngoại Ô.mp3\n"
     ]
    },
    {
     "name": "stderr",
     "output_type": "stream",
     "text": [
      "100%|██████████████████████████████████████████████| 298.34999999999997/298.34999999999997 [00:07<00:00, 41.17seconds/s]\n"
     ]
    },
    {
     "name": "stdout",
     "output_type": "stream",
     "text": [
      "Separating track demucs_preprocessed_input/quoc_master_1st_1000_preprocessed/Nhạt Nhòa Ký Ức.mp3\n"
     ]
    },
    {
     "name": "stderr",
     "output_type": "stream",
     "text": [
      "100%|██████████████████████████████████████████████| 193.04999999999998/193.04999999999998 [00:04<00:00, 40.18seconds/s]\n"
     ]
    },
    {
     "name": "stdout",
     "output_type": "stream",
     "text": [
      "Separating track demucs_preprocessed_input/quoc_master_1st_1000_preprocessed/Anh Nợ Em (Remix).mp3\n"
     ]
    },
    {
     "name": "stderr",
     "output_type": "stream",
     "text": [
      "100%|████████████████████████████████████████████████████████████████████████| 245.7/245.7 [00:06<00:00, 40.83seconds/s]\n"
     ]
    },
    {
     "name": "stdout",
     "output_type": "stream",
     "text": [
      "Separating track demucs_preprocessed_input/quoc_master_1st_1000_preprocessed/Lúa Mùa Duyên Thắm.mp3\n"
     ]
    },
    {
     "name": "stderr",
     "output_type": "stream",
     "text": [
      "100%|██████████████████████████████████████████████| 251.54999999999998/251.54999999999998 [00:06<00:00, 41.26seconds/s]\n"
     ]
    },
    {
     "name": "stdout",
     "output_type": "stream",
     "text": [
      "Separating track demucs_preprocessed_input/quoc_master_1st_1000_preprocessed/Corona Ghét Lắm Nha.mp3\n"
     ]
    },
    {
     "name": "stderr",
     "output_type": "stream",
     "text": [
      "100%|████████████████████████████████████████████████████████████████████████| 175.5/175.5 [00:04<00:00, 40.89seconds/s]\n"
     ]
    },
    {
     "name": "stdout",
     "output_type": "stream",
     "text": [
      "Separating track demucs_preprocessed_input/quoc_master_1st_1000_preprocessed/Em Có Đợi Anh Không.mp3\n"
     ]
    },
    {
     "name": "stderr",
     "output_type": "stream",
     "text": [
      "100%|██████████████████████████████████████████████████████████████████████| 181.35/181.35 [00:04<00:00, 39.47seconds/s]\n"
     ]
    },
    {
     "name": "stdout",
     "output_type": "stream",
     "text": [
      "Separating track demucs_preprocessed_input/quoc_master_1st_1000_preprocessed/Hết Rồi Thì Thôi.mp3\n"
     ]
    },
    {
     "name": "stderr",
     "output_type": "stream",
     "text": [
      "100%|████████████████████████████████████████████████████████████████████████| 234.0/234.0 [00:05<00:00, 40.78seconds/s]\n"
     ]
    },
    {
     "name": "stdout",
     "output_type": "stream",
     "text": [
      "Separating track demucs_preprocessed_input/quoc_master_1st_1000_preprocessed/Nhớ Quê.mp3\n"
     ]
    },
    {
     "name": "stderr",
     "output_type": "stream",
     "text": [
      "100%|██████████████████████████████████████████████| 386.09999999999997/386.09999999999997 [00:09<00:00, 41.91seconds/s]\n"
     ]
    },
    {
     "name": "stdout",
     "output_type": "stream",
     "text": [
      "Separating track demucs_preprocessed_input/quoc_master_1st_1000_preprocessed/Mưa Xuân.mp3\n"
     ]
    },
    {
     "name": "stderr",
     "output_type": "stream",
     "text": [
      "100%|████████████████████████████████████████████████████████████████████████| 351.0/351.0 [00:08<00:00, 41.63seconds/s]\n"
     ]
    },
    {
     "name": "stdout",
     "output_type": "stream",
     "text": [
      "Separating track demucs_preprocessed_input/quoc_master_1st_1000_preprocessed/Chuyện Sim Tím.mp3\n"
     ]
    },
    {
     "name": "stderr",
     "output_type": "stream",
     "text": [
      "100%|██████████████████████████████████████████████| 298.34999999999997/298.34999999999997 [00:07<00:00, 41.08seconds/s]\n"
     ]
    },
    {
     "name": "stdout",
     "output_type": "stream",
     "text": [
      "Separating track demucs_preprocessed_input/quoc_master_1st_1000_preprocessed/Chỉ Vì Vật Chất.mp3\n"
     ]
    },
    {
     "name": "stderr",
     "output_type": "stream",
     "text": [
      "100%|██████████████████████████████████████████████████████████████████████| 1088.1/1088.1 [00:25<00:00, 42.21seconds/s]\n"
     ]
    },
    {
     "name": "stdout",
     "output_type": "stream",
     "text": [
      "Separating track demucs_preprocessed_input/quoc_master_1st_1000_preprocessed/Liên Khúc Dìu Người Tôi Yêu.mp3\n"
     ]
    },
    {
     "name": "stderr",
     "output_type": "stream",
     "text": [
      "100%|██████████████████████████████████████████████| 356.84999999999997/356.84999999999997 [00:08<00:00, 40.08seconds/s]\n"
     ]
    },
    {
     "name": "stdout",
     "output_type": "stream",
     "text": [
      "Separating track demucs_preprocessed_input/quoc_master_1st_1000_preprocessed/Liên Khúc Người Tình Không Đến - Chiều Cuối Tuần.mp3\n"
     ]
    },
    {
     "name": "stderr",
     "output_type": "stream",
     "text": [
      "100%|██████████████████████████████████████████████████████████████████████| 274.95/274.95 [00:06<00:00, 41.04seconds/s]\n"
     ]
    },
    {
     "name": "stdout",
     "output_type": "stream",
     "text": [
      "Separating track demucs_preprocessed_input/quoc_master_1st_1000_preprocessed/Ngày Xưa Biển Hát.mp3\n"
     ]
    },
    {
     "name": "stderr",
     "output_type": "stream",
     "text": [
      "100%|██████████████████████████████████████████████████████████████████████| 263.25/263.25 [00:06<00:00, 40.98seconds/s]\n"
     ]
    },
    {
     "name": "stdout",
     "output_type": "stream",
     "text": [
      "Separating track demucs_preprocessed_input/quoc_master_1st_1000_preprocessed/Đêm Nhớ Quê Nhà.mp3\n"
     ]
    },
    {
     "name": "stderr",
     "output_type": "stream",
     "text": [
      "100%|████████████████████████████████████████████████████████████████████████| 351.0/351.0 [00:08<00:00, 41.43seconds/s]\n"
     ]
    },
    {
     "name": "stdout",
     "output_type": "stream",
     "text": [
      "Separating track demucs_preprocessed_input/quoc_master_1st_1000_preprocessed/Ba Ba Tiếng Con Gọi.mp3\n"
     ]
    },
    {
     "name": "stderr",
     "output_type": "stream",
     "text": [
      "100%|██████████████████████████████████████████████| 169.64999999999998/169.64999999999998 [00:04<00:00, 39.33seconds/s]\n"
     ]
    },
    {
     "name": "stdout",
     "output_type": "stream",
     "text": [
      "Separating track demucs_preprocessed_input/quoc_master_1st_1000_preprocessed/Nếu Còn Gặp Nhau.mp3\n"
     ]
    },
    {
     "name": "stderr",
     "output_type": "stream",
     "text": [
      "100%|██████████████████████████████████████████████| 280.79999999999995/280.79999999999995 [00:06<00:00, 40.62seconds/s]\n"
     ]
    },
    {
     "name": "stdout",
     "output_type": "stream",
     "text": [
      "Separating track demucs_preprocessed_input/quoc_master_1st_1000_preprocessed/Dù Một Mai.mp3\n"
     ]
    },
    {
     "name": "stderr",
     "output_type": "stream",
     "text": [
      "100%|████████████████████████████████████████████████████████████████████████| 234.0/234.0 [00:05<00:00, 40.39seconds/s]\n"
     ]
    },
    {
     "name": "stdout",
     "output_type": "stream",
     "text": [
      "Separating track demucs_preprocessed_input/quoc_master_1st_1000_preprocessed/Tấm Lòng Em Trong Sáng.mp3\n"
     ]
    },
    {
     "name": "stderr",
     "output_type": "stream",
     "text": [
      "100%|██████████████████████████████████████████████| 280.79999999999995/280.79999999999995 [00:06<00:00, 41.48seconds/s]\n"
     ]
    },
    {
     "name": "stdout",
     "output_type": "stream",
     "text": [
      "Separating track demucs_preprocessed_input/quoc_master_1st_1000_preprocessed/ABCDEFA!.mp3\n"
     ]
    },
    {
     "name": "stderr",
     "output_type": "stream",
     "text": [
      "100%|████████████████████████████████████████████████████████████████████████| 175.5/175.5 [00:04<00:00, 39.55seconds/s]\n"
     ]
    },
    {
     "name": "stdout",
     "output_type": "stream",
     "text": [
      "Separating track demucs_preprocessed_input/quoc_master_1st_1000_preprocessed/Em Không Muốn Khóc Nữa.mp3\n"
     ]
    },
    {
     "name": "stderr",
     "output_type": "stream",
     "text": [
      "100%|██████████████████████████████████████████████████████████████████████| 274.95/274.95 [00:06<00:00, 41.67seconds/s]\n"
     ]
    },
    {
     "name": "stdout",
     "output_type": "stream",
     "text": [
      "Separating track demucs_preprocessed_input/quoc_master_1st_1000_preprocessed/Hẹn Một Ngày Xuân Mới.mp3\n"
     ]
    },
    {
     "name": "stderr",
     "output_type": "stream",
     "text": [
      "100%|██████████████████████████████████████████████████████████████████████| 263.25/263.25 [00:06<00:00, 41.39seconds/s]\n"
     ]
    },
    {
     "name": "stdout",
     "output_type": "stream",
     "text": [
      "Separating track demucs_preprocessed_input/quoc_master_1st_1000_preprocessed/Tình cờ gặp nhau.mp3\n"
     ]
    },
    {
     "name": "stderr",
     "output_type": "stream",
     "text": [
      "100%|██████████████████████████████████████████████| 251.54999999999998/251.54999999999998 [00:06<00:00, 41.01seconds/s]\n"
     ]
    },
    {
     "name": "stdout",
     "output_type": "stream",
     "text": [
      "Separating track demucs_preprocessed_input/quoc_master_1st_1000_preprocessed/Đắng Tình Anh Em (Beat).mp3\n"
     ]
    },
    {
     "name": "stderr",
     "output_type": "stream",
     "text": [
      "100%|██████████████████████████████████████████████████████████████████████| 286.65/286.65 [00:06<00:00, 41.83seconds/s]\n"
     ]
    },
    {
     "name": "stdout",
     "output_type": "stream",
     "text": [
      "Separating track demucs_preprocessed_input/quoc_master_1st_1000_preprocessed/Xuân Ơi Xuân Đã Về Remix (Dance Version).mp3\n"
     ]
    },
    {
     "name": "stderr",
     "output_type": "stream",
     "text": [
      "100%|██████████████████████████████████████████████| 140.39999999999998/140.39999999999998 [00:03<00:00, 40.80seconds/s]\n"
     ]
    },
    {
     "name": "stdout",
     "output_type": "stream",
     "text": [
      "Separating track demucs_preprocessed_input/quoc_master_1st_1000_preprocessed/Một Thuở Yêu Nhau.mp3\n"
     ]
    },
    {
     "name": "stderr",
     "output_type": "stream",
     "text": [
      "100%|████████████████████████████████████████████████████████████████████████| 315.9/315.9 [00:07<00:00, 41.54seconds/s]\n"
     ]
    },
    {
     "name": "stdout",
     "output_type": "stream",
     "text": [
      "Separating track demucs_preprocessed_input/quoc_master_1st_1000_preprocessed/Một Thủa Đam Mê.mp3\n"
     ]
    },
    {
     "name": "stderr",
     "output_type": "stream",
     "text": [
      "100%|██████████████████████████████████████████████████████████████████████| 286.65/286.65 [00:06<00:00, 41.11seconds/s]\n"
     ]
    },
    {
     "name": "stdout",
     "output_type": "stream",
     "text": [
      "Separating track demucs_preprocessed_input/quoc_master_1st_1000_preprocessed/Hận Mình Tay Trắng (Yang Remix).mp3\n"
     ]
    },
    {
     "name": "stderr",
     "output_type": "stream",
     "text": [
      "100%|██████████████████████████████████████████████████████████████████████| 216.45/216.45 [00:05<00:00, 40.46seconds/s]\n"
     ]
    },
    {
     "name": "stdout",
     "output_type": "stream",
     "text": [
      "Separating track demucs_preprocessed_input/quoc_master_1st_1000_preprocessed/Ăn Là Ăn Tết.mp3\n"
     ]
    },
    {
     "name": "stderr",
     "output_type": "stream",
     "text": [
      "100%|██████████████████████████████████████████████| 198.89999999999998/198.89999999999998 [00:04<00:00, 40.89seconds/s]\n"
     ]
    },
    {
     "name": "stdout",
     "output_type": "stream",
     "text": [
      "Separating track demucs_preprocessed_input/quoc_master_1st_1000_preprocessed/LK Thương Nhau Ngày Mưa, Bước Tình Hồng (Live).mp3\n"
     ]
    },
    {
     "name": "stderr",
     "output_type": "stream",
     "text": [
      "100%|██████████████████████████████████████████████████████████████████████| 216.45/216.45 [00:05<00:00, 40.93seconds/s]\n"
     ]
    },
    {
     "name": "stdout",
     "output_type": "stream",
     "text": [
      "Separating track demucs_preprocessed_input/quoc_master_1st_1000_preprocessed/Người Đàn Ông Bản Lĩnh.mp3\n"
     ]
    },
    {
     "name": "stderr",
     "output_type": "stream",
     "text": [
      "100%|████████████████████████████████████████████████████████████████████████| 257.4/257.4 [00:06<00:00, 40.55seconds/s]\n"
     ]
    },
    {
     "name": "stdout",
     "output_type": "stream",
     "text": [
      "Separating track demucs_preprocessed_input/quoc_master_1st_1000_preprocessed/Liên Khúc 13 Tỉnh Thành.mp3\n"
     ]
    },
    {
     "name": "stderr",
     "output_type": "stream",
     "text": [
      "100%|██████████████████████████████████████████████████████████████████████| 544.05/544.05 [00:12<00:00, 42.17seconds/s]\n"
     ]
    },
    {
     "name": "stdout",
     "output_type": "stream",
     "text": [
      "Separating track demucs_preprocessed_input/quoc_master_1st_1000_preprocessed/Vẫn Rơi.mp3\n"
     ]
    },
    {
     "name": "stderr",
     "output_type": "stream",
     "text": [
      "100%|██████████████████████████████████████████████| 198.89999999999998/198.89999999999998 [00:04<00:00, 40.65seconds/s]\n"
     ]
    },
    {
     "name": "stdout",
     "output_type": "stream",
     "text": [
      "Separating track demucs_preprocessed_input/quoc_master_1st_1000_preprocessed/Em Ngày Gặp Lại (Ciray Remix).mp3\n"
     ]
    },
    {
     "name": "stderr",
     "output_type": "stream",
     "text": [
      "100%|██████████████████████████████████████████████████████████████████████| 239.85/239.85 [00:05<00:00, 41.19seconds/s]\n"
     ]
    },
    {
     "name": "stdout",
     "output_type": "stream",
     "text": [
      "Separating track demucs_preprocessed_input/quoc_master_1st_1000_preprocessed/Cô Nương Bên Cầu.mp3\n"
     ]
    },
    {
     "name": "stderr",
     "output_type": "stream",
     "text": [
      "100%|████████████████████████████████████████████████████████████████████████| 175.5/175.5 [00:04<00:00, 40.15seconds/s]\n"
     ]
    },
    {
     "name": "stdout",
     "output_type": "stream",
     "text": [
      "Separating track demucs_preprocessed_input/quoc_master_1st_1000_preprocessed/Lạc Vào Cô Đơn.mp3\n"
     ]
    },
    {
     "name": "stderr",
     "output_type": "stream",
     "text": [
      "100%|██████████████████████████████████████████████| 280.79999999999995/280.79999999999995 [00:06<00:00, 41.03seconds/s]\n"
     ]
    },
    {
     "name": "stdout",
     "output_type": "stream",
     "text": [
      "Separating track demucs_preprocessed_input/quoc_master_1st_1000_preprocessed/Quảng Ngãi Chiều Sông Quê.mp3\n"
     ]
    },
    {
     "name": "stderr",
     "output_type": "stream",
     "text": [
      "100%|██████████████████████████████████████████████████████████████████████| 380.25/380.25 [00:09<00:00, 42.11seconds/s]\n"
     ]
    },
    {
     "name": "stdout",
     "output_type": "stream",
     "text": [
      "Separating track demucs_preprocessed_input/quoc_master_1st_1000_preprocessed/Xuân Quê Hương 1.mp3\n"
     ]
    },
    {
     "name": "stderr",
     "output_type": "stream",
     "text": [
      "100%|██████████████████████████████████████████████████████████████████████| 286.65/286.65 [00:06<00:00, 41.16seconds/s]\n"
     ]
    },
    {
     "name": "stdout",
     "output_type": "stream",
     "text": [
      "Separating track demucs_preprocessed_input/quoc_master_1st_1000_preprocessed/Người Thương Em Cả Đời Em Xua Đuổi.mp3\n"
     ]
    },
    {
     "name": "stderr",
     "output_type": "stream",
     "text": [
      "100%|██████████████████████████████████████████████████████████████████████| 286.65/286.65 [00:06<00:00, 41.32seconds/s]\n"
     ]
    },
    {
     "name": "stdout",
     "output_type": "stream",
     "text": [
      "Separating track demucs_preprocessed_input/quoc_master_1st_1000_preprocessed/Anh Sẽ Mãi Bên Em.mp3\n"
     ]
    },
    {
     "name": "stderr",
     "output_type": "stream",
     "text": [
      "100%|██████████████████████████████████████████████| 228.14999999999998/228.14999999999998 [00:05<00:00, 40.49seconds/s]\n"
     ]
    },
    {
     "name": "stdout",
     "output_type": "stream",
     "text": [
      "Separating track demucs_preprocessed_input/quoc_master_1st_1000_preprocessed/Ta Nợ Cuộc Đời.mp3\n"
     ]
    },
    {
     "name": "stderr",
     "output_type": "stream",
     "text": [
      "100%|██████████████████████████████████████████████| 269.09999999999997/269.09999999999997 [00:06<00:00, 41.27seconds/s]\n"
     ]
    },
    {
     "name": "stdout",
     "output_type": "stream",
     "text": [
      "Separating track demucs_preprocessed_input/quoc_master_1st_1000_preprocessed/Hoàng Hôn Nắng Tắt.mp3\n"
     ]
    },
    {
     "name": "stderr",
     "output_type": "stream",
     "text": [
      "100%|████████████████████████████████████████████████████████████████████████| 257.4/257.4 [00:06<00:00, 41.07seconds/s]\n"
     ]
    },
    {
     "name": "stdout",
     "output_type": "stream",
     "text": [
      "Separating track demucs_preprocessed_input/quoc_master_1st_1000_preprocessed/Cho Anh Quay Lại Nơi Bắt Đầu.mp3\n"
     ]
    },
    {
     "name": "stderr",
     "output_type": "stream",
     "text": [
      "100%|██████████████████████████████████████████████████████████████████████| 263.25/263.25 [00:06<00:00, 40.81seconds/s]\n"
     ]
    },
    {
     "name": "stdout",
     "output_type": "stream",
     "text": [
      "Separating track demucs_preprocessed_input/quoc_master_1st_1000_preprocessed/Anh Không May Mắn.mp3\n"
     ]
    },
    {
     "name": "stderr",
     "output_type": "stream",
     "text": [
      "100%|██████████████████████████████████████████████████████████████████████| 263.25/263.25 [00:06<00:00, 41.01seconds/s]\n"
     ]
    },
    {
     "name": "stdout",
     "output_type": "stream",
     "text": [
      "Separating track demucs_preprocessed_input/quoc_master_1st_1000_preprocessed/Hãy Tạo Cơ Hội Cho Nhau.mp3\n"
     ]
    },
    {
     "name": "stderr",
     "output_type": "stream",
     "text": [
      "100%|██████████████████████████████████████████████████████████████████████| 263.25/263.25 [00:06<00:00, 41.32seconds/s]\n"
     ]
    },
    {
     "name": "stdout",
     "output_type": "stream",
     "text": [
      "Separating track demucs_preprocessed_input/quoc_master_1st_1000_preprocessed/Đời Mà Ai Không Dẫm Gai.mp3\n"
     ]
    },
    {
     "name": "stderr",
     "output_type": "stream",
     "text": [
      "100%|██████████████████████████████████████████████| 280.79999999999995/280.79999999999995 [00:06<00:00, 41.38seconds/s]\n"
     ]
    },
    {
     "name": "stdout",
     "output_type": "stream",
     "text": [
      "Separating track demucs_preprocessed_input/quoc_master_1st_1000_preprocessed/Cho Anh Một Điều Ước.mp3\n"
     ]
    },
    {
     "name": "stderr",
     "output_type": "stream",
     "text": [
      "100%|██████████████████████████████████████████████| 228.14999999999998/228.14999999999998 [00:05<00:00, 41.08seconds/s]\n"
     ]
    },
    {
     "name": "stdout",
     "output_type": "stream",
     "text": [
      "Separating track demucs_preprocessed_input/quoc_master_1st_1000_preprocessed/Liên Khúc Mong Em Còn Ngày Mai (Remix).mp3\n"
     ]
    },
    {
     "name": "stderr",
     "output_type": "stream",
     "text": [
      "100%|██████████████████████████████████████████████████████████████████████| 848.25/848.25 [00:20<00:00, 42.26seconds/s]\n"
     ]
    },
    {
     "name": "stdout",
     "output_type": "stream",
     "text": [
      "Separating track demucs_preprocessed_input/quoc_master_1st_1000_preprocessed/Đâu Dám Trèo Cao.mp3\n"
     ]
    },
    {
     "name": "stderr",
     "output_type": "stream",
     "text": [
      "100%|████████████████████████████████████████████████████████████████████████| 315.9/315.9 [00:07<00:00, 41.02seconds/s]\n"
     ]
    },
    {
     "name": "stdout",
     "output_type": "stream",
     "text": [
      "Separating track demucs_preprocessed_input/quoc_master_1st_1000_preprocessed/Để Trả Lời Một Câu Hỏi.mp3\n"
     ]
    },
    {
     "name": "stderr",
     "output_type": "stream",
     "text": [
      "100%|██████████████████████████████████████████████| 269.09999999999997/269.09999999999997 [00:11<00:00, 23.58seconds/s]\n"
     ]
    },
    {
     "name": "stdout",
     "output_type": "stream",
     "text": [
      "Separating track demucs_preprocessed_input/quoc_master_1st_1000_preprocessed/Gửi Người Tôi Thương.mp3\n"
     ]
    },
    {
     "name": "stderr",
     "output_type": "stream",
     "text": [
      "100%|██████████████████████████████████████████████| 298.34999999999997/298.34999999999997 [00:07<00:00, 39.26seconds/s]\n"
     ]
    },
    {
     "name": "stdout",
     "output_type": "stream",
     "text": [
      "Separating track demucs_preprocessed_input/quoc_master_1st_1000_preprocessed/LK Thương Nhớ Người Dưng.mp3\n"
     ]
    },
    {
     "name": "stderr",
     "output_type": "stream",
     "text": [
      "100%|██████████████████████████████████████████████| 497.24999999999994/497.24999999999994 [00:11<00:00, 42.24seconds/s]\n"
     ]
    },
    {
     "name": "stdout",
     "output_type": "stream",
     "text": [
      "Separating track demucs_preprocessed_input/quoc_master_1st_1000_preprocessed/Tổ Quốc Nhìn Từ Biển.mp3\n"
     ]
    },
    {
     "name": "stderr",
     "output_type": "stream",
     "text": [
      "100%|██████████████████████████████████████████████████████████████████████| 263.25/263.25 [00:06<00:00, 41.41seconds/s]\n"
     ]
    },
    {
     "name": "stdout",
     "output_type": "stream",
     "text": [
      "Separating track demucs_preprocessed_input/quoc_master_1st_1000_preprocessed/Cõng Mặt Trăng.mp3\n"
     ]
    },
    {
     "name": "stderr",
     "output_type": "stream",
     "text": [
      "100%|██████████████████████████████████████████████| 193.04999999999998/193.04999999999998 [00:04<00:00, 41.00seconds/s]\n"
     ]
    },
    {
     "name": "stdout",
     "output_type": "stream",
     "text": [
      "Separating track demucs_preprocessed_input/quoc_master_1st_1000_preprocessed/Làm Sao Quên Được.mp3\n"
     ]
    },
    {
     "name": "stderr",
     "output_type": "stream",
     "text": [
      "100%|██████████████████████████████████████████████| 298.34999999999997/298.34999999999997 [00:07<00:00, 41.43seconds/s]\n"
     ]
    },
    {
     "name": "stdout",
     "output_type": "stream",
     "text": [
      "Separating track demucs_preprocessed_input/quoc_master_1st_1000_preprocessed/Anh Không Tin.mp3\n"
     ]
    },
    {
     "name": "stderr",
     "output_type": "stream",
     "text": [
      "100%|████████████████████████████████████████████████████████████████████████| 245.7/245.7 [00:05<00:00, 41.10seconds/s]\n"
     ]
    },
    {
     "name": "stdout",
     "output_type": "stream",
     "text": [
      "Separating track demucs_preprocessed_input/quoc_master_1st_1000_preprocessed/Dấu Vết Nghiệt Ngã.mp3\n"
     ]
    },
    {
     "name": "stderr",
     "output_type": "stream",
     "text": [
      "100%|██████████████████████████████████████████████████████████████████████| 391.95/391.95 [00:09<00:00, 42.54seconds/s]\n"
     ]
    },
    {
     "name": "stdout",
     "output_type": "stream",
     "text": [
      "Separating track demucs_preprocessed_input/quoc_master_1st_1000_preprocessed/Mưa Trong Lòng.mp3\n"
     ]
    },
    {
     "name": "stderr",
     "output_type": "stream",
     "text": [
      "100%|██████████████████████████████████████████████| 222.29999999999998/222.29999999999998 [00:05<00:00, 41.07seconds/s]\n"
     ]
    },
    {
     "name": "stdout",
     "output_type": "stream",
     "text": [
      "Separating track demucs_preprocessed_input/quoc_master_1st_1000_preprocessed/Anh Không Thể Ngừng Yêu Em.mp3\n"
     ]
    },
    {
     "name": "stderr",
     "output_type": "stream",
     "text": [
      "100%|██████████████████████████████████████████████████████████████████████| 333.45/333.45 [00:07<00:00, 41.83seconds/s]\n"
     ]
    },
    {
     "name": "stdout",
     "output_type": "stream",
     "text": [
      "Separating track demucs_preprocessed_input/quoc_master_1st_1000_preprocessed/Lớn Rồi Còn Ham Lì Xì.mp3\n"
     ]
    },
    {
     "name": "stderr",
     "output_type": "stream",
     "text": [
      "100%|██████████████████████████████████████████████| 198.89999999999998/198.89999999999998 [00:04<00:00, 40.78seconds/s]\n"
     ]
    },
    {
     "name": "stdout",
     "output_type": "stream",
     "text": [
      "Separating track demucs_preprocessed_input/quoc_master_1st_1000_preprocessed/Người Phu Kéo Mo Cau.mp3\n"
     ]
    },
    {
     "name": "stderr",
     "output_type": "stream",
     "text": [
      "100%|██████████████████████████████████████████████| 397.79999999999995/397.79999999999995 [00:09<00:00, 41.98seconds/s]\n"
     ]
    },
    {
     "name": "stdout",
     "output_type": "stream",
     "text": [
      "Separating track demucs_preprocessed_input/quoc_master_1st_1000_preprocessed/Tôi Vẫn Là Tôi.mp3\n"
     ]
    },
    {
     "name": "stderr",
     "output_type": "stream",
     "text": [
      "100%|████████████████████████████████████████████████████████████████████████| 245.7/245.7 [00:05<00:00, 41.67seconds/s]\n"
     ]
    },
    {
     "name": "stdout",
     "output_type": "stream",
     "text": [
      "Separating track demucs_preprocessed_input/quoc_master_1st_1000_preprocessed/Loài Hoa Không Tên.mp3\n"
     ]
    },
    {
     "name": "stderr",
     "output_type": "stream",
     "text": [
      "100%|██████████████████████████████████████████████| 310.04999999999995/310.04999999999995 [00:07<00:00, 42.12seconds/s]\n"
     ]
    },
    {
     "name": "stdout",
     "output_type": "stream",
     "text": [
      "Separating track demucs_preprocessed_input/quoc_master_1st_1000_preprocessed/Bước Chân Con Trở Về.mp3\n"
     ]
    },
    {
     "name": "stderr",
     "output_type": "stream",
     "text": [
      "100%|██████████████████████████████████████████████████████████████████████| 274.95/274.95 [00:06<00:00, 41.32seconds/s]\n"
     ]
    },
    {
     "name": "stdout",
     "output_type": "stream",
     "text": [
      "Separating track demucs_preprocessed_input/quoc_master_1st_1000_preprocessed/Sóng Vô Tình.mp3\n"
     ]
    },
    {
     "name": "stderr",
     "output_type": "stream",
     "text": [
      "100%|██████████████████████████████████████████████████████████████████████| 286.65/286.65 [00:06<00:00, 41.44seconds/s]\n"
     ]
    },
    {
     "name": "stdout",
     "output_type": "stream",
     "text": [
      "Separating track demucs_preprocessed_input/quoc_master_1st_1000_preprocessed/Dừng Lại Em Nhé.mp3\n"
     ]
    },
    {
     "name": "stderr",
     "output_type": "stream",
     "text": [
      "100%|██████████████████████████████████████████████| 228.14999999999998/228.14999999999998 [00:05<00:00, 40.62seconds/s]\n"
     ]
    },
    {
     "name": "stdout",
     "output_type": "stream",
     "text": [
      "Separating track demucs_preprocessed_input/quoc_master_1st_1000_preprocessed/Còn Lại Lời Ru.mp3\n"
     ]
    },
    {
     "name": "stderr",
     "output_type": "stream",
     "text": [
      "100%|████████████████████████████████████████████████████████████████████████| 351.0/351.0 [00:08<00:00, 42.46seconds/s]\n"
     ]
    },
    {
     "name": "stdout",
     "output_type": "stream",
     "text": [
      "Separating track demucs_preprocessed_input/quoc_master_1st_1000_preprocessed/Chết Trong Em.mp3\n"
     ]
    },
    {
     "name": "stderr",
     "output_type": "stream",
     "text": [
      "100%|████████████████████████████████████████████████████████████████████████| 210.6/210.6 [00:05<00:00, 40.71seconds/s]\n"
     ]
    },
    {
     "name": "stdout",
     "output_type": "stream",
     "text": [
      "Separating track demucs_preprocessed_input/quoc_master_1st_1000_preprocessed/Hỏi Ai.mp3\n"
     ]
    },
    {
     "name": "stderr",
     "output_type": "stream",
     "text": [
      "100%|████████████████████████████████████████████████████████████████████████| 257.4/257.4 [00:06<00:00, 41.08seconds/s]\n"
     ]
    },
    {
     "name": "stdout",
     "output_type": "stream",
     "text": [
      "Separating track demucs_preprocessed_input/quoc_master_1st_1000_preprocessed/Cảm Giác Em Là Sao (Remix).mp3\n"
     ]
    },
    {
     "name": "stderr",
     "output_type": "stream",
     "text": [
      "100%|██████████████████████████████████████████████| 222.29999999999998/222.29999999999998 [00:05<00:00, 41.64seconds/s]\n"
     ]
    },
    {
     "name": "stdout",
     "output_type": "stream",
     "text": [
      "Separating track demucs_preprocessed_input/quoc_master_1st_1000_preprocessed/Quá Khứ Của Anh.mp3\n"
     ]
    },
    {
     "name": "stderr",
     "output_type": "stream",
     "text": [
      "100%|██████████████████████████████████████████████| 228.14999999999998/228.14999999999998 [00:05<00:00, 41.21seconds/s]\n"
     ]
    },
    {
     "name": "stdout",
     "output_type": "stream",
     "text": [
      "Separating track demucs_preprocessed_input/quoc_master_1st_1000_preprocessed/Cỏ Ba Lá.mp3\n"
     ]
    },
    {
     "name": "stderr",
     "output_type": "stream",
     "text": [
      "100%|██████████████████████████████████████████████████████████████████████| 263.25/263.25 [00:06<00:00, 41.24seconds/s]\n"
     ]
    },
    {
     "name": "stdout",
     "output_type": "stream",
     "text": [
      "Separating track demucs_preprocessed_input/quoc_master_1st_1000_preprocessed/Đà Lạt Ơi! Mai Thành Nỗi Nhớ.mp3\n"
     ]
    },
    {
     "name": "stderr",
     "output_type": "stream",
     "text": [
      "100%|██████████████████████████████████████████████████████████████████████| 321.75/321.75 [00:07<00:00, 41.83seconds/s]\n"
     ]
    },
    {
     "name": "stdout",
     "output_type": "stream",
     "text": [
      "Separating track demucs_preprocessed_input/quoc_master_1st_1000_preprocessed/Trách Hạnh Phúc Không Quay Trở Lại.mp3\n"
     ]
    },
    {
     "name": "stderr",
     "output_type": "stream",
     "text": [
      "100%|██████████████████████████████████████████████| 222.29999999999998/222.29999999999998 [00:05<00:00, 41.03seconds/s]\n"
     ]
    },
    {
     "name": "stdout",
     "output_type": "stream",
     "text": [
      "Separating track demucs_preprocessed_input/quoc_master_1st_1000_preprocessed/Việt Nam Trong Tim Ta.mp3\n"
     ]
    },
    {
     "name": "stderr",
     "output_type": "stream",
     "text": [
      "100%|██████████████████████████████████████████████| 198.89999999999998/198.89999999999998 [00:04<00:00, 41.83seconds/s]\n"
     ]
    },
    {
     "name": "stdout",
     "output_type": "stream",
     "text": [
      "Separating track demucs_preprocessed_input/quoc_master_1st_1000_preprocessed/Tình Vội Đi Xa.mp3\n"
     ]
    },
    {
     "name": "stderr",
     "output_type": "stream",
     "text": [
      "100%|██████████████████████████████████████████████████████████████████████| 263.25/263.25 [00:06<00:00, 41.32seconds/s]\n"
     ]
    },
    {
     "name": "stdout",
     "output_type": "stream",
     "text": [
      "Separating track demucs_preprocessed_input/quoc_master_1st_1000_preprocessed/Gió Xa Khơi.mp3\n"
     ]
    },
    {
     "name": "stderr",
     "output_type": "stream",
     "text": [
      "100%|████████████████████████████████████████████████████████████████████████| 351.0/351.0 [00:08<00:00, 41.46seconds/s]\n"
     ]
    },
    {
     "name": "stdout",
     "output_type": "stream",
     "text": [
      "Separating track demucs_preprocessed_input/quoc_master_1st_1000_preprocessed/Đừng Vội Vàng Đổi Thay.mp3\n"
     ]
    },
    {
     "name": "stderr",
     "output_type": "stream",
     "text": [
      "100%|██████████████████████████████████████████████████████████████████████| 263.25/263.25 [00:06<00:00, 42.00seconds/s]\n"
     ]
    },
    {
     "name": "stdout",
     "output_type": "stream",
     "text": [
      "Separating track demucs_preprocessed_input/quoc_master_1st_1000_preprocessed/Em Vẫn Đợi Anh Về.mp3\n"
     ]
    },
    {
     "name": "stderr",
     "output_type": "stream",
     "text": [
      "100%|██████████████████████████████████████████████| 280.79999999999995/280.79999999999995 [00:06<00:00, 41.72seconds/s]\n"
     ]
    },
    {
     "name": "stdout",
     "output_type": "stream",
     "text": [
      "Separating track demucs_preprocessed_input/quoc_master_1st_1000_preprocessed/Kí Ức Chợt Về.mp3\n"
     ]
    },
    {
     "name": "stderr",
     "output_type": "stream",
     "text": [
      "100%|██████████████████████████████████████████████| 228.14999999999998/228.14999999999998 [00:05<00:00, 41.04seconds/s]\n"
     ]
    },
    {
     "name": "stdout",
     "output_type": "stream",
     "text": [
      "Separating track demucs_preprocessed_input/quoc_master_1st_1000_preprocessed/Còn Một Mình Với Yêu Thương.mp3\n"
     ]
    },
    {
     "name": "stderr",
     "output_type": "stream",
     "text": [
      "100%|██████████████████████████████████████████████| 251.54999999999998/251.54999999999998 [00:06<00:00, 41.23seconds/s]\n"
     ]
    },
    {
     "name": "stdout",
     "output_type": "stream",
     "text": [
      "Separating track demucs_preprocessed_input/quoc_master_1st_1000_preprocessed/Điệu Buồn Phương Nam.mp3\n"
     ]
    },
    {
     "name": "stderr",
     "output_type": "stream",
     "text": [
      "100%|████████████████████████████████████████████████████████████████████████| 304.2/304.2 [00:07<00:00, 41.55seconds/s]\n"
     ]
    },
    {
     "name": "stdout",
     "output_type": "stream",
     "text": [
      "Separating track demucs_preprocessed_input/quoc_master_1st_1000_preprocessed/Tàu Về Quê Hương.mp3\n"
     ]
    },
    {
     "name": "stderr",
     "output_type": "stream",
     "text": [
      "100%|██████████████████████████████████████████████████████████████████████| 263.25/263.25 [00:06<00:00, 41.84seconds/s]\n"
     ]
    },
    {
     "name": "stdout",
     "output_type": "stream",
     "text": [
      "Separating track demucs_preprocessed_input/quoc_master_1st_1000_preprocessed/Cánh Diều Tàn Phai.mp3\n"
     ]
    },
    {
     "name": "stderr",
     "output_type": "stream",
     "text": [
      "100%|██████████████████████████████████████████████████████████████████████| 274.95/274.95 [00:06<00:00, 42.12seconds/s]\n"
     ]
    },
    {
     "name": "stdout",
     "output_type": "stream",
     "text": [
      "Separating track demucs_preprocessed_input/quoc_master_1st_1000_preprocessed/Chúc Phúc Tài Lộc.mp3\n"
     ]
    },
    {
     "name": "stderr",
     "output_type": "stream",
     "text": [
      "100%|██████████████████████████████████████████████████████████████████████| 263.25/263.25 [00:06<00:00, 41.71seconds/s]\n"
     ]
    },
    {
     "name": "stdout",
     "output_type": "stream",
     "text": [
      "Separating track demucs_preprocessed_input/quoc_master_1st_1000_preprocessed/Mong Em Vui Và Hạnh Phúc.mp3\n"
     ]
    },
    {
     "name": "stderr",
     "output_type": "stream",
     "text": [
      "100%|████████████████████████████████████████████████████████████████████████| 245.7/245.7 [00:05<00:00, 41.41seconds/s]\n"
     ]
    },
    {
     "name": "stdout",
     "output_type": "stream",
     "text": [
      "Separating track demucs_preprocessed_input/quoc_master_1st_1000_preprocessed/Nước Mắt Pha Lê.mp3\n"
     ]
    },
    {
     "name": "stderr",
     "output_type": "stream",
     "text": [
      "100%|██████████████████████████████████████████████████████████████████████| 239.85/239.85 [00:05<00:00, 41.35seconds/s]\n"
     ]
    },
    {
     "name": "stdout",
     "output_type": "stream",
     "text": [
      "Separating track demucs_preprocessed_input/quoc_master_1st_1000_preprocessed/Ai Nói Với Em.mp3\n"
     ]
    },
    {
     "name": "stderr",
     "output_type": "stream",
     "text": [
      "100%|██████████████████████████████████████████████| 280.79999999999995/280.79999999999995 [00:06<00:00, 41.66seconds/s]\n"
     ]
    },
    {
     "name": "stdout",
     "output_type": "stream",
     "text": [
      "Separating track demucs_preprocessed_input/quoc_master_1st_1000_preprocessed/Đã Từng Hạnh Phúc.mp3\n"
     ]
    },
    {
     "name": "stderr",
     "output_type": "stream",
     "text": [
      "100%|██████████████████████████████████████████████| 269.09999999999997/269.09999999999997 [00:06<00:00, 41.43seconds/s]\n"
     ]
    },
    {
     "name": "stdout",
     "output_type": "stream",
     "text": [
      "Separating track demucs_preprocessed_input/quoc_master_1st_1000_preprocessed/Khóc Cho Một Cuộc Tình.mp3\n"
     ]
    },
    {
     "name": "stderr",
     "output_type": "stream",
     "text": [
      "100%|██████████████████████████████████████████████████████████████████████| 239.85/239.85 [00:05<00:00, 41.26seconds/s]\n"
     ]
    },
    {
     "name": "stdout",
     "output_type": "stream",
     "text": [
      "Separating track demucs_preprocessed_input/quoc_master_1st_1000_preprocessed/Hà Nội.Hanoi.mp3\n"
     ]
    },
    {
     "name": "stderr",
     "output_type": "stream",
     "text": [
      "100%|██████████████████████████████████████████████| 251.54999999999998/251.54999999999998 [00:06<00:00, 41.90seconds/s]\n"
     ]
    },
    {
     "name": "stdout",
     "output_type": "stream",
     "text": [
      "Separating track demucs_preprocessed_input/quoc_master_1st_1000_preprocessed/Giá Như Chưa Một Lần Xa Cách.mp3\n"
     ]
    },
    {
     "name": "stderr",
     "output_type": "stream",
     "text": [
      "100%|██████████████████████████████████████████████| 339.29999999999995/339.29999999999995 [00:08<00:00, 41.79seconds/s]\n"
     ]
    },
    {
     "name": "stdout",
     "output_type": "stream",
     "text": [
      "Separating track demucs_preprocessed_input/quoc_master_1st_1000_preprocessed/Xin Người Lãng Quên Dùm Tôi.mp3\n"
     ]
    },
    {
     "name": "stderr",
     "output_type": "stream",
     "text": [
      "100%|████████████████████████████████████████████████████████████████████████| 257.4/257.4 [00:06<00:00, 41.76seconds/s]\n"
     ]
    },
    {
     "name": "stdout",
     "output_type": "stream",
     "text": [
      "Separating track demucs_preprocessed_input/quoc_master_1st_1000_preprocessed/Cần Một Lý Do (WRC Remix).mp3\n"
     ]
    },
    {
     "name": "stderr",
     "output_type": "stream",
     "text": [
      "100%|██████████████████████████████████████████████████████████████████████| 263.25/263.25 [00:06<00:00, 41.28seconds/s]\n"
     ]
    },
    {
     "name": "stdout",
     "output_type": "stream",
     "text": [
      "Separating track demucs_preprocessed_input/quoc_master_1st_1000_preprocessed/Tìm Đâu Tình Yêu Cuối Cùng.mp3\n"
     ]
    },
    {
     "name": "stderr",
     "output_type": "stream",
     "text": [
      "100%|██████████████████████████████████████████████████████████████████████| 274.95/274.95 [00:06<00:00, 41.47seconds/s]\n"
     ]
    },
    {
     "name": "stdout",
     "output_type": "stream",
     "text": [
      "Separating track demucs_preprocessed_input/quoc_master_1st_1000_preprocessed/Ảo Mộng Tình Đời.mp3\n"
     ]
    },
    {
     "name": "stderr",
     "output_type": "stream",
     "text": [
      "100%|██████████████████████████████████████████████| 298.34999999999997/298.34999999999997 [00:07<00:00, 41.37seconds/s]\n"
     ]
    },
    {
     "name": "stdout",
     "output_type": "stream",
     "text": [
      "Separating track demucs_preprocessed_input/quoc_master_1st_1000_preprocessed/Anh Van Cu Lo.mp3\n"
     ]
    },
    {
     "name": "stderr",
     "output_type": "stream",
     "text": [
      "100%|██████████████████████████████████████████████████████████████████████| 321.75/321.75 [00:07<00:00, 40.81seconds/s]\n"
     ]
    },
    {
     "name": "stdout",
     "output_type": "stream",
     "text": [
      "Separating track demucs_preprocessed_input/quoc_master_1st_1000_preprocessed/Cuộc Đời Như Vòng Xoay (From ＂The Lion King＂⧸Soundtrack Version).mp3\n"
     ]
    },
    {
     "name": "stderr",
     "output_type": "stream",
     "text": [
      "100%|████████████████████████████████████████████████████████████████████████| 245.7/245.7 [00:05<00:00, 41.11seconds/s]\n"
     ]
    },
    {
     "name": "stdout",
     "output_type": "stream",
     "text": [
      "Separating track demucs_preprocessed_input/quoc_master_1st_1000_preprocessed/Chỉ Vì Giàu Sang.mp3\n"
     ]
    },
    {
     "name": "stderr",
     "output_type": "stream",
     "text": [
      "100%|██████████████████████████████████████████████████████████████████████| 286.65/286.65 [00:06<00:00, 42.33seconds/s]\n"
     ]
    },
    {
     "name": "stdout",
     "output_type": "stream",
     "text": [
      "Separating track demucs_preprocessed_input/quoc_master_1st_1000_preprocessed/Tim Em Xa Lắm (Remix).mp3\n"
     ]
    },
    {
     "name": "stderr",
     "output_type": "stream",
     "text": [
      "100%|██████████████████████████████████████████████████████████████████████| 286.65/286.65 [00:06<00:00, 41.60seconds/s]\n"
     ]
    },
    {
     "name": "stdout",
     "output_type": "stream",
     "text": [
      "Separating track demucs_preprocessed_input/quoc_master_1st_1000_preprocessed/Nói Với Anh Đôi Lời.mp3\n"
     ]
    },
    {
     "name": "stderr",
     "output_type": "stream",
     "text": [
      "100%|████████████████████████████████████████████████████████████████████████| 175.5/175.5 [00:04<00:00, 41.21seconds/s]\n"
     ]
    },
    {
     "name": "stdout",
     "output_type": "stream",
     "text": [
      "Separating track demucs_preprocessed_input/quoc_master_1st_1000_preprocessed/Biết Trái Tim Còn Tha Thiết - Con Tim Thật Thà.mp3\n"
     ]
    },
    {
     "name": "stderr",
     "output_type": "stream",
     "text": [
      "100%|██████████████████████████████████████████████████████████████████████| 263.25/263.25 [00:06<00:00, 40.74seconds/s]\n"
     ]
    },
    {
     "name": "stdout",
     "output_type": "stream",
     "text": [
      "Separating track demucs_preprocessed_input/quoc_master_1st_1000_preprocessed/Như Chưa Từng Cách Xa.mp3\n"
     ]
    },
    {
     "name": "stderr",
     "output_type": "stream",
     "text": [
      "100%|██████████████████████████████████████████████| 280.79999999999995/280.79999999999995 [00:06<00:00, 41.38seconds/s]\n"
     ]
    },
    {
     "name": "stdout",
     "output_type": "stream",
     "text": [
      "Separating track demucs_preprocessed_input/quoc_master_1st_1000_preprocessed/Giết Người Anh Yêu.mp3\n"
     ]
    },
    {
     "name": "stderr",
     "output_type": "stream",
     "text": [
      "100%|██████████████████████████████████████████████| 327.59999999999997/327.59999999999997 [00:07<00:00, 41.80seconds/s]\n"
     ]
    },
    {
     "name": "stdout",
     "output_type": "stream",
     "text": [
      "Separating track demucs_preprocessed_input/quoc_master_1st_1000_preprocessed/Anh Có Em.mp3\n"
     ]
    },
    {
     "name": "stderr",
     "output_type": "stream",
     "text": [
      "100%|██████████████████████████████████████████████| 198.89999999999998/198.89999999999998 [00:04<00:00, 42.07seconds/s]\n"
     ]
    },
    {
     "name": "stdout",
     "output_type": "stream",
     "text": [
      "Separating track demucs_preprocessed_input/quoc_master_1st_1000_preprocessed/Cuộc Sống Xa Nhà.mp3\n"
     ]
    },
    {
     "name": "stderr",
     "output_type": "stream",
     "text": [
      "100%|██████████████████████████████████████████████████████████████████████| 274.95/274.95 [00:06<00:00, 42.33seconds/s]\n"
     ]
    },
    {
     "name": "stdout",
     "output_type": "stream",
     "text": [
      "Separating track demucs_preprocessed_input/quoc_master_1st_1000_preprocessed/Miền Tây Xuân Tình.mp3\n"
     ]
    },
    {
     "name": "stderr",
     "output_type": "stream",
     "text": [
      "100%|██████████████████████████████████████████████| 251.54999999999998/251.54999999999998 [00:06<00:00, 40.85seconds/s]\n"
     ]
    },
    {
     "name": "stdout",
     "output_type": "stream",
     "text": [
      "Separating track demucs_preprocessed_input/quoc_master_1st_1000_preprocessed/Anh Về Trong Giấc Mơ.mp3\n"
     ]
    },
    {
     "name": "stderr",
     "output_type": "stream",
     "text": [
      "100%|██████████████████████████████████████████████| 228.14999999999998/228.14999999999998 [00:05<00:00, 41.12seconds/s]\n"
     ]
    },
    {
     "name": "stdout",
     "output_type": "stream",
     "text": [
      "Separating track demucs_preprocessed_input/quoc_master_1st_1000_preprocessed/Liên Khúc 60 Năm Cuộc Đời.mp3\n"
     ]
    },
    {
     "name": "stderr",
     "output_type": "stream",
     "text": [
      "100%|████████████████████████████████████████████████████████████████████████| 187.2/187.2 [00:04<00:00, 41.95seconds/s]\n"
     ]
    },
    {
     "name": "stdout",
     "output_type": "stream",
     "text": [
      "Separating track demucs_preprocessed_input/quoc_master_1st_1000_preprocessed/Con Rắn.mp3\n"
     ]
    },
    {
     "name": "stderr",
     "output_type": "stream",
     "text": [
      "100%|████████████████████████████████████████████████████████████████████████| 187.2/187.2 [00:04<00:00, 39.67seconds/s]\n"
     ]
    },
    {
     "name": "stdout",
     "output_type": "stream",
     "text": [
      "Separating track demucs_preprocessed_input/quoc_master_1st_1000_preprocessed/Bêlem Quạnh Hiu.mp3\n"
     ]
    },
    {
     "name": "stderr",
     "output_type": "stream",
     "text": [
      "100%|██████████████████████████████████████████████| 222.29999999999998/222.29999999999998 [00:05<00:00, 41.68seconds/s]\n"
     ]
    },
    {
     "name": "stdout",
     "output_type": "stream",
     "text": [
      "Separating track demucs_preprocessed_input/quoc_master_1st_1000_preprocessed/Ngẫu Hứng Bolero.mp3\n"
     ]
    },
    {
     "name": "stderr",
     "output_type": "stream",
     "text": [
      "100%|██████████████████████████████████████████████████████████████████████| 274.95/274.95 [00:06<00:00, 41.42seconds/s]\n"
     ]
    },
    {
     "name": "stdout",
     "output_type": "stream",
     "text": [
      "Separating track demucs_preprocessed_input/quoc_master_1st_1000_preprocessed/Mỹ Nhân (Cover).mp3\n"
     ]
    },
    {
     "name": "stderr",
     "output_type": "stream",
     "text": [
      "100%|████████████████████████████████████████████████████████████████████████| 257.4/257.4 [00:06<00:00, 41.65seconds/s]\n"
     ]
    },
    {
     "name": "stdout",
     "output_type": "stream",
     "text": [
      "Separating track demucs_preprocessed_input/quoc_master_1st_1000_preprocessed/Có Những Chiều (Cover).mp3\n"
     ]
    },
    {
     "name": "stderr",
     "output_type": "stream",
     "text": [
      "100%|██████████████████████████████████████████████| 327.59999999999997/327.59999999999997 [00:07<00:00, 41.29seconds/s]\n"
     ]
    },
    {
     "name": "stdout",
     "output_type": "stream",
     "text": [
      "Separating track demucs_preprocessed_input/quoc_master_1st_1000_preprocessed/Duyên Kiếp Lỡ Làng.mp3\n"
     ]
    },
    {
     "name": "stderr",
     "output_type": "stream",
     "text": [
      "100%|██████████████████████████████████████████████████████████████████████| 274.95/274.95 [00:06<00:00, 41.92seconds/s]\n"
     ]
    },
    {
     "name": "stdout",
     "output_type": "stream",
     "text": [
      "Separating track demucs_preprocessed_input/quoc_master_1st_1000_preprocessed/Cần Thơ Trong Nỗi Nhớ.mp3\n"
     ]
    },
    {
     "name": "stderr",
     "output_type": "stream",
     "text": [
      "100%|██████████████████████████████████████████████████████████████████████| 274.95/274.95 [00:06<00:00, 41.91seconds/s]\n"
     ]
    },
    {
     "name": "stdout",
     "output_type": "stream",
     "text": [
      "Separating track demucs_preprocessed_input/quoc_master_1st_1000_preprocessed/Có Em Anh Có Cả Thế Giới.mp3\n"
     ]
    },
    {
     "name": "stderr",
     "output_type": "stream",
     "text": [
      "100%|██████████████████████████████████████████████| 251.54999999999998/251.54999999999998 [00:06<00:00, 41.29seconds/s]\n"
     ]
    },
    {
     "name": "stdout",
     "output_type": "stream",
     "text": [
      "Separating track demucs_preprocessed_input/quoc_master_1st_1000_preprocessed/Ảo Mộng Đơn Phương (Bước Cùng Nỗi Đau 2).mp3\n"
     ]
    },
    {
     "name": "stderr",
     "output_type": "stream",
     "text": [
      "100%|██████████████████████████████████████████████| 298.34999999999997/298.34999999999997 [00:07<00:00, 41.66seconds/s]\n"
     ]
    },
    {
     "name": "stdout",
     "output_type": "stream",
     "text": [
      "Separating track demucs_preprocessed_input/quoc_master_1st_1000_preprocessed/Ca Khúc Yêu Đời.mp3\n"
     ]
    },
    {
     "name": "stderr",
     "output_type": "stream",
     "text": [
      "100%|██████████████████████████████████████████████████████████████████████| 286.65/286.65 [00:06<00:00, 41.49seconds/s]\n"
     ]
    },
    {
     "name": "stdout",
     "output_type": "stream",
     "text": [
      "Separating track demucs_preprocessed_input/quoc_master_1st_1000_preprocessed/Cao Cung Lên.mp3\n"
     ]
    },
    {
     "name": "stderr",
     "output_type": "stream",
     "text": [
      "100%|████████████████████████████████████████████████████████████████████████| 292.5/292.5 [00:06<00:00, 41.91seconds/s]\n"
     ]
    },
    {
     "name": "stdout",
     "output_type": "stream",
     "text": [
      "Separating track demucs_preprocessed_input/quoc_master_1st_1000_preprocessed/Quay Lưng Đi.mp3\n"
     ]
    },
    {
     "name": "stderr",
     "output_type": "stream",
     "text": [
      "100%|██████████████████████████████████████████████| 280.79999999999995/280.79999999999995 [00:06<00:00, 41.66seconds/s]\n"
     ]
    },
    {
     "name": "stdout",
     "output_type": "stream",
     "text": [
      "Separating track demucs_preprocessed_input/quoc_master_1st_1000_preprocessed/LK Tết Là Tết.mp3\n"
     ]
    },
    {
     "name": "stderr",
     "output_type": "stream",
     "text": [
      "100%|████████████████████████████████████████████████████████████████████████| 304.2/304.2 [00:07<00:00, 41.51seconds/s]\n"
     ]
    },
    {
     "name": "stdout",
     "output_type": "stream",
     "text": [
      "Separating track demucs_preprocessed_input/quoc_master_1st_1000_preprocessed/Bánh Trung Thu.mp3\n"
     ]
    },
    {
     "name": "stderr",
     "output_type": "stream",
     "text": [
      "100%|██████████████████████████████████████████████| 111.14999999999999/111.14999999999999 [00:02<00:00, 40.24seconds/s]\n"
     ]
    },
    {
     "name": "stdout",
     "output_type": "stream",
     "text": [
      "Separating track demucs_preprocessed_input/quoc_master_1st_1000_preprocessed/Chuyện Nắng Mưa (Remix Version).mp3\n"
     ]
    },
    {
     "name": "stderr",
     "output_type": "stream",
     "text": [
      "100%|████████████████████████████████████████████████████████████████████████| 245.7/245.7 [00:05<00:00, 41.84seconds/s]\n"
     ]
    },
    {
     "name": "stdout",
     "output_type": "stream",
     "text": [
      "Separating track demucs_preprocessed_input/quoc_master_1st_1000_preprocessed/Đùa Chi Tình Yêu.mp3\n"
     ]
    },
    {
     "name": "stderr",
     "output_type": "stream",
     "text": [
      "100%|██████████████████████████████████████████████████████████████████████| 263.25/263.25 [00:06<00:00, 41.18seconds/s]\n"
     ]
    },
    {
     "name": "stdout",
     "output_type": "stream",
     "text": [
      "Separating track demucs_preprocessed_input/quoc_master_1st_1000_preprocessed/Chỉ Cần Có Anh.mp3\n"
     ]
    },
    {
     "name": "stderr",
     "output_type": "stream",
     "text": [
      "100%|██████████████████████████████████████████████| 228.14999999999998/228.14999999999998 [00:05<00:00, 41.40seconds/s]\n"
     ]
    },
    {
     "name": "stdout",
     "output_type": "stream",
     "text": [
      "Separating track demucs_preprocessed_input/quoc_master_1st_1000_preprocessed/Như Vậy Đi.mp3\n"
     ]
    },
    {
     "name": "stderr",
     "output_type": "stream",
     "text": [
      "100%|████████████████████████████████████████████████████████████████████████| 304.2/304.2 [00:07<00:00, 40.82seconds/s]\n"
     ]
    },
    {
     "name": "stdout",
     "output_type": "stream",
     "text": [
      "Separating track demucs_preprocessed_input/quoc_master_1st_1000_preprocessed/Quên Mối Duyên Nghèo.mp3\n"
     ]
    },
    {
     "name": "stderr",
     "output_type": "stream",
     "text": [
      "100%|██████████████████████████████████████████████| 310.04999999999995/310.04999999999995 [00:07<00:00, 41.90seconds/s]\n"
     ]
    },
    {
     "name": "stdout",
     "output_type": "stream",
     "text": [
      "Separating track demucs_preprocessed_input/quoc_master_1st_1000_preprocessed/Cho Niềm Đau Thêm Dài.mp3\n"
     ]
    },
    {
     "name": "stderr",
     "output_type": "stream",
     "text": [
      "100%|████████████████████████████████████████████████████████████████████████| 257.4/257.4 [00:06<00:00, 41.03seconds/s]\n"
     ]
    },
    {
     "name": "stdout",
     "output_type": "stream",
     "text": [
      "Separating track demucs_preprocessed_input/quoc_master_1st_1000_preprocessed/Cô Gái Sầm Nưa.mp3\n"
     ]
    },
    {
     "name": "stderr",
     "output_type": "stream",
     "text": [
      "100%|████████████████████████████████████████████████████████████████████████| 292.5/292.5 [00:07<00:00, 41.47seconds/s]\n"
     ]
    },
    {
     "name": "stdout",
     "output_type": "stream",
     "text": [
      "Separating track demucs_preprocessed_input/quoc_master_1st_1000_preprocessed/Biết Nói Thế Nào.mp3\n"
     ]
    },
    {
     "name": "stderr",
     "output_type": "stream",
     "text": [
      "100%|██████████████████████████████████████████████████████████████████████| 286.65/286.65 [00:06<00:00, 42.20seconds/s]\n"
     ]
    },
    {
     "name": "stdout",
     "output_type": "stream",
     "text": [
      "Separating track demucs_preprocessed_input/quoc_master_1st_1000_preprocessed/Cao Bằng Khát Vọng Vươn Xa.mp3\n"
     ]
    },
    {
     "name": "stderr",
     "output_type": "stream",
     "text": [
      "100%|████████████████████████████████████████████████████████████████████████| 304.2/304.2 [00:07<00:00, 41.58seconds/s]\n"
     ]
    },
    {
     "name": "stdout",
     "output_type": "stream",
     "text": [
      "Separating track demucs_preprocessed_input/quoc_master_1st_1000_preprocessed/Bước Chân Không Trở Lại.mp3\n"
     ]
    },
    {
     "name": "stderr",
     "output_type": "stream",
     "text": [
      "100%|████████████████████████████████████████████████████████████████████████| 257.4/257.4 [00:06<00:00, 41.74seconds/s]\n"
     ]
    },
    {
     "name": "stdout",
     "output_type": "stream",
     "text": [
      "Separating track demucs_preprocessed_input/quoc_master_1st_1000_preprocessed/Mẹ Hiền.mp3\n"
     ]
    },
    {
     "name": "stderr",
     "output_type": "stream",
     "text": [
      "100%|████████████████████████████████████████████████████████████████████████| 304.2/304.2 [00:07<00:00, 42.18seconds/s]\n"
     ]
    },
    {
     "name": "stdout",
     "output_type": "stream",
     "text": [
      "Separating track demucs_preprocessed_input/quoc_master_1st_1000_preprocessed/Anh Không Ngờ.mp3\n"
     ]
    },
    {
     "name": "stderr",
     "output_type": "stream",
     "text": [
      "100%|██████████████████████████████████████████████████████████████████████| 286.65/286.65 [00:06<00:00, 41.35seconds/s]\n"
     ]
    },
    {
     "name": "stdout",
     "output_type": "stream",
     "text": [
      "Separating track demucs_preprocessed_input/quoc_master_1st_1000_preprocessed/Đánh Mất Niềm Vui.mp3\n"
     ]
    },
    {
     "name": "stderr",
     "output_type": "stream",
     "text": [
      "100%|████████████████████████████████████████████████████████████████████████| 304.2/304.2 [00:07<00:00, 41.63seconds/s]\n"
     ]
    },
    {
     "name": "stdout",
     "output_type": "stream",
     "text": [
      "Separating track demucs_preprocessed_input/quoc_master_1st_1000_preprocessed/Lại Gần Anh Chút Thôi.mp3\n"
     ]
    },
    {
     "name": "stderr",
     "output_type": "stream",
     "text": [
      "100%|████████████████████████████████████████████████████████████████████████| 152.1/152.1 [00:03<00:00, 40.05seconds/s]\n"
     ]
    },
    {
     "name": "stdout",
     "output_type": "stream",
     "text": [
      "Separating track demucs_preprocessed_input/quoc_master_1st_1000_preprocessed/Kinh Cầu Tình Yêu.mp3\n"
     ]
    },
    {
     "name": "stderr",
     "output_type": "stream",
     "text": [
      "100%|████████████████████████████████████████████████████████████████████████| 304.2/304.2 [00:07<00:00, 41.37seconds/s]\n"
     ]
    },
    {
     "name": "stdout",
     "output_type": "stream",
     "text": [
      "Separating track demucs_preprocessed_input/quoc_master_1st_1000_preprocessed/Số Phận Anh Và Em.mp3\n"
     ]
    },
    {
     "name": "stderr",
     "output_type": "stream",
     "text": [
      "100%|██████████████████████████████████████████████| 269.09999999999997/269.09999999999997 [00:06<00:00, 41.67seconds/s]\n"
     ]
    },
    {
     "name": "stdout",
     "output_type": "stream",
     "text": [
      "Separating track demucs_preprocessed_input/quoc_master_1st_1000_preprocessed/Em Là Cô Gái Vùng Cao.mp3\n"
     ]
    },
    {
     "name": "stderr",
     "output_type": "stream",
     "text": [
      "100%|██████████████████████████████████████████████| 280.79999999999995/280.79999999999995 [00:06<00:00, 41.53seconds/s]\n"
     ]
    },
    {
     "name": "stdout",
     "output_type": "stream",
     "text": [
      "Separating track demucs_preprocessed_input/quoc_master_1st_1000_preprocessed/Áo Dài Việt Nam.mp3\n"
     ]
    },
    {
     "name": "stderr",
     "output_type": "stream",
     "text": [
      "100%|██████████████████████████████████████████████| 269.09999999999997/269.09999999999997 [00:06<00:00, 41.93seconds/s]\n"
     ]
    },
    {
     "name": "stdout",
     "output_type": "stream",
     "text": [
      "Separating track demucs_preprocessed_input/quoc_master_1st_1000_preprocessed/Ba Kể Con Nghe (Acoustic Cover).mp3\n"
     ]
    },
    {
     "name": "stderr",
     "output_type": "stream",
     "text": [
      "100%|██████████████████████████████████████████████| 222.29999999999998/222.29999999999998 [00:05<00:00, 40.52seconds/s]\n"
     ]
    },
    {
     "name": "stdout",
     "output_type": "stream",
     "text": [
      "Separating track demucs_preprocessed_input/quoc_master_1st_1000_preprocessed/Ai Đã Từng.mp3\n"
     ]
    },
    {
     "name": "stderr",
     "output_type": "stream",
     "text": [
      "100%|████████████████████████████████████████████████████████████████████████| 257.4/257.4 [00:06<00:00, 41.44seconds/s]\n"
     ]
    },
    {
     "name": "stdout",
     "output_type": "stream",
     "text": [
      "Separating track demucs_preprocessed_input/quoc_master_1st_1000_preprocessed/Mẹ Yêu (Cover).mp3\n"
     ]
    },
    {
     "name": "stderr",
     "output_type": "stream",
     "text": [
      "100%|████████████████████████████████████████████████████████████████████████| 175.5/175.5 [00:04<00:00, 41.20seconds/s]\n"
     ]
    },
    {
     "name": "stdout",
     "output_type": "stream",
     "text": [
      "Separating track demucs_preprocessed_input/quoc_master_1st_1000_preprocessed/Giữ Lại Hạnh Phúc.mp3\n"
     ]
    },
    {
     "name": "stderr",
     "output_type": "stream",
     "text": [
      "100%|██████████████████████████████████████████████| 310.04999999999995/310.04999999999995 [00:07<00:00, 41.78seconds/s]\n"
     ]
    },
    {
     "name": "stdout",
     "output_type": "stream",
     "text": [
      "Separating track demucs_preprocessed_input/quoc_master_1st_1000_preprocessed/Ai Nỡ.mp3\n"
     ]
    },
    {
     "name": "stderr",
     "output_type": "stream",
     "text": [
      "100%|██████████████████████████████████████████████████████████████████████| 239.85/239.85 [00:05<00:00, 41.50seconds/s]\n"
     ]
    },
    {
     "name": "stdout",
     "output_type": "stream",
     "text": [
      "Separating track demucs_preprocessed_input/quoc_master_1st_1000_preprocessed/Tình Yêu Nơi Thiên Chúa Dành Cho Tôi.mp3\n"
     ]
    },
    {
     "name": "stderr",
     "output_type": "stream",
     "text": [
      "100%|████████████████████████████████████████████████████████████████████████| 362.7/362.7 [00:08<00:00, 41.77seconds/s]\n"
     ]
    },
    {
     "name": "stdout",
     "output_type": "stream",
     "text": [
      "Separating track demucs_preprocessed_input/quoc_master_1st_1000_preprocessed/Anh Mới Chính Là Người Em Yêu (TD Remix) [Short Version 2].mp3\n"
     ]
    },
    {
     "name": "stderr",
     "output_type": "stream",
     "text": [
      "100%|██████████████████████████████████████████████| 140.39999999999998/140.39999999999998 [00:03<00:00, 39.89seconds/s]\n"
     ]
    },
    {
     "name": "stdout",
     "output_type": "stream",
     "text": [
      "Separating track demucs_preprocessed_input/quoc_master_1st_1000_preprocessed/LK Tình Lúa Duyên Trăng.mp3\n"
     ]
    },
    {
     "name": "stderr",
     "output_type": "stream",
     "text": [
      "100%|██████████████████████████████████████████████████████████████████████| 321.75/321.75 [00:07<00:00, 41.90seconds/s]\n"
     ]
    },
    {
     "name": "stdout",
     "output_type": "stream",
     "text": [
      "Separating track demucs_preprocessed_input/quoc_master_1st_1000_preprocessed/Tết Nghèo Mà Dzui.mp3\n"
     ]
    },
    {
     "name": "stderr",
     "output_type": "stream",
     "text": [
      "100%|██████████████████████████████████████████████████████████████████████| 216.45/216.45 [00:05<00:00, 41.02seconds/s]\n"
     ]
    },
    {
     "name": "stdout",
     "output_type": "stream",
     "text": [
      "Separating track demucs_preprocessed_input/quoc_master_1st_1000_preprocessed/Hãy Cứ Vui Như Mọi Ngày.mp3\n"
     ]
    },
    {
     "name": "stderr",
     "output_type": "stream",
     "text": [
      "100%|██████████████████████████████████████████████████████████████████████| 345.15/345.15 [00:08<00:00, 42.41seconds/s]\n"
     ]
    },
    {
     "name": "stdout",
     "output_type": "stream",
     "text": [
      "Separating track demucs_preprocessed_input/quoc_master_1st_1000_preprocessed/ĐỪNG LO.mp3\n"
     ]
    },
    {
     "name": "stderr",
     "output_type": "stream",
     "text": [
      "100%|██████████████████████████████████████████████| 169.64999999999998/169.64999999999998 [00:04<00:00, 40.76seconds/s]\n"
     ]
    },
    {
     "name": "stdout",
     "output_type": "stream",
     "text": [
      "Separating track demucs_preprocessed_input/quoc_master_1st_1000_preprocessed/Quyến Rũ.mp3\n"
     ]
    },
    {
     "name": "stderr",
     "output_type": "stream",
     "text": [
      "100%|██████████████████████████████████████████████████████████████████████| 204.75/204.75 [00:05<00:00, 40.40seconds/s]\n"
     ]
    },
    {
     "name": "stdout",
     "output_type": "stream",
     "text": [
      "Separating track demucs_preprocessed_input/quoc_master_1st_1000_preprocessed/Thư Cho Em (Live Version).mp3\n"
     ]
    },
    {
     "name": "stderr",
     "output_type": "stream",
     "text": [
      "100%|████████████████████████████████████████████████████████████████████████| 315.9/315.9 [00:07<00:00, 42.37seconds/s]\n"
     ]
    },
    {
     "name": "stdout",
     "output_type": "stream",
     "text": [
      "Separating track demucs_preprocessed_input/quoc_master_1st_1000_preprocessed/Liệu Rằng.mp3\n"
     ]
    },
    {
     "name": "stderr",
     "output_type": "stream",
     "text": [
      "100%|██████████████████████████████████████████████| 298.34999999999997/298.34999999999997 [00:07<00:00, 41.46seconds/s]\n"
     ]
    },
    {
     "name": "stdout",
     "output_type": "stream",
     "text": [
      "Separating track demucs_preprocessed_input/quoc_master_1st_1000_preprocessed/Bến Sông Xưa.mp3\n"
     ]
    },
    {
     "name": "stderr",
     "output_type": "stream",
     "text": [
      "100%|██████████████████████████████████████████████| 339.29999999999995/339.29999999999995 [00:08<00:00, 41.88seconds/s]\n"
     ]
    },
    {
     "name": "stdout",
     "output_type": "stream",
     "text": [
      "Separating track demucs_preprocessed_input/quoc_master_1st_1000_preprocessed/Cần Một Lời Quan Tâm.mp3\n"
     ]
    },
    {
     "name": "stderr",
     "output_type": "stream",
     "text": [
      "100%|██████████████████████████████████████████████████████████████████████| 286.65/286.65 [00:06<00:00, 41.55seconds/s]\n"
     ]
    },
    {
     "name": "stdout",
     "output_type": "stream",
     "text": [
      "Separating track demucs_preprocessed_input/quoc_master_1st_1000_preprocessed/Từ Đầu Đã Dối Gian.mp3\n"
     ]
    },
    {
     "name": "stderr",
     "output_type": "stream",
     "text": [
      "100%|████████████████████████████████████████████████████████████████████████| 292.5/292.5 [00:07<00:00, 41.52seconds/s]\n"
     ]
    },
    {
     "name": "stdout",
     "output_type": "stream",
     "text": [
      "Separating track demucs_preprocessed_input/quoc_master_1st_1000_preprocessed/Tìm Người Nhà.mp3\n"
     ]
    },
    {
     "name": "stderr",
     "output_type": "stream",
     "text": [
      "100%|██████████████████████████████████████████████████████████████████████| 239.85/239.85 [00:05<00:00, 41.49seconds/s]\n"
     ]
    },
    {
     "name": "stdout",
     "output_type": "stream",
     "text": [
      "Separating track demucs_preprocessed_input/quoc_master_1st_1000_preprocessed/Tình Yêu.mp3\n"
     ]
    },
    {
     "name": "stderr",
     "output_type": "stream",
     "text": [
      "100%|████████████████████████████████████████████████████████████████████████| 175.5/175.5 [00:04<00:00, 41.41seconds/s]\n"
     ]
    },
    {
     "name": "stdout",
     "output_type": "stream",
     "text": [
      "Separating track demucs_preprocessed_input/quoc_master_1st_1000_preprocessed/Đã Từng.mp3\n"
     ]
    },
    {
     "name": "stderr",
     "output_type": "stream",
     "text": [
      "100%|██████████████████████████████████████████████| 280.79999999999995/280.79999999999995 [00:06<00:00, 41.97seconds/s]\n"
     ]
    },
    {
     "name": "stdout",
     "output_type": "stream",
     "text": [
      "Separating track demucs_preprocessed_input/quoc_master_1st_1000_preprocessed/Đẹp Mối Duyên Quê.mp3\n"
     ]
    },
    {
     "name": "stderr",
     "output_type": "stream",
     "text": [
      "100%|██████████████████████████████████████████████████████████████████████| 263.25/263.25 [00:06<00:00, 41.10seconds/s]\n"
     ]
    },
    {
     "name": "stdout",
     "output_type": "stream",
     "text": [
      "Separating track demucs_preprocessed_input/quoc_master_1st_1000_preprocessed/Dâng Chúa Lời Suy Tôn.mp3\n"
     ]
    },
    {
     "name": "stderr",
     "output_type": "stream",
     "text": [
      "100%|████████████████████████████████████████████████████████████████████████| 175.5/175.5 [00:04<00:00, 40.03seconds/s]\n"
     ]
    },
    {
     "name": "stdout",
     "output_type": "stream",
     "text": [
      "Separating track demucs_preprocessed_input/quoc_master_1st_1000_preprocessed/Ngọc Ngà Và Lâu La.mp3\n"
     ]
    },
    {
     "name": "stderr",
     "output_type": "stream",
     "text": [
      "100%|██████████████████████████████████████████████| 222.29999999999998/222.29999999999998 [00:05<00:00, 40.34seconds/s]\n"
     ]
    },
    {
     "name": "stdout",
     "output_type": "stream",
     "text": [
      "Separating track demucs_preprocessed_input/quoc_master_1st_1000_preprocessed/Cám Ơn Thầy.mp3\n"
     ]
    },
    {
     "name": "stderr",
     "output_type": "stream",
     "text": [
      "100%|██████████████████████████████████████████████| 163.79999999999998/163.79999999999998 [00:04<00:00, 39.56seconds/s]\n"
     ]
    },
    {
     "name": "stdout",
     "output_type": "stream",
     "text": [
      "Separating track demucs_preprocessed_input/quoc_master_1st_1000_preprocessed/Yêu Người Phương Xa.mp3\n"
     ]
    },
    {
     "name": "stderr",
     "output_type": "stream",
     "text": [
      "100%|████████████████████████████████████████████████████████████████████████| 210.6/210.6 [00:05<00:00, 41.53seconds/s]\n"
     ]
    },
    {
     "name": "stdout",
     "output_type": "stream",
     "text": [
      "Separating track demucs_preprocessed_input/quoc_master_1st_1000_preprocessed/Huyến Thoại Rượu.mp3\n"
     ]
    },
    {
     "name": "stderr",
     "output_type": "stream",
     "text": [
      "100%|████████████████████████████████████████████████████████████████████████| 64.35/64.35 [00:01<00:00, 38.53seconds/s]\n"
     ]
    },
    {
     "name": "stdout",
     "output_type": "stream",
     "text": [
      "Separating track demucs_preprocessed_input/quoc_master_1st_1000_preprocessed/Cứ Mặc Anh Đau (Beat).mp3\n"
     ]
    },
    {
     "name": "stderr",
     "output_type": "stream",
     "text": [
      "100%|████████████████████████████████████████████████████████████████████████| 304.2/304.2 [00:07<00:00, 42.19seconds/s]\n"
     ]
    },
    {
     "name": "stdout",
     "output_type": "stream",
     "text": [
      "Separating track demucs_preprocessed_input/quoc_master_1st_1000_preprocessed/Cha Yêu Mẹ Yêu.mp3\n"
     ]
    },
    {
     "name": "stderr",
     "output_type": "stream",
     "text": [
      "100%|████████████████████████████████████████████████████████████████████████| 257.4/257.4 [00:06<00:00, 41.24seconds/s]\n"
     ]
    },
    {
     "name": "stdout",
     "output_type": "stream",
     "text": [
      "Separating track demucs_preprocessed_input/quoc_master_1st_1000_preprocessed/Bảy Ơn Chúa Thánh Thần.mp3\n"
     ]
    },
    {
     "name": "stderr",
     "output_type": "stream",
     "text": [
      "100%|██████████████████████████████████████████████████████████████████████| 274.95/274.95 [00:06<00:00, 41.04seconds/s]\n"
     ]
    },
    {
     "name": "stdout",
     "output_type": "stream",
     "text": [
      "Separating track demucs_preprocessed_input/quoc_master_1st_1000_preprocessed/Anh Nghĩ Về Em.mp3\n"
     ]
    },
    {
     "name": "stderr",
     "output_type": "stream",
     "text": [
      "100%|████████████████████████████████████████████████████████████████████████| 351.0/351.0 [00:08<00:00, 41.59seconds/s]\n"
     ]
    },
    {
     "name": "stdout",
     "output_type": "stream",
     "text": [
      "Separating track demucs_preprocessed_input/quoc_master_1st_1000_preprocessed/Buốt Trong Tim.mp3\n"
     ]
    },
    {
     "name": "stderr",
     "output_type": "stream",
     "text": [
      "100%|████████████████████████████████████████████████████████████████████████| 292.5/292.5 [00:07<00:00, 41.48seconds/s]\n"
     ]
    },
    {
     "name": "stdout",
     "output_type": "stream",
     "text": [
      "Separating track demucs_preprocessed_input/quoc_master_1st_1000_preprocessed/Khóc Theo Mưa.mp3\n"
     ]
    },
    {
     "name": "stderr",
     "output_type": "stream",
     "text": [
      "100%|████████████████████████████████████████████████████████████████████████| 245.7/245.7 [00:05<00:00, 41.69seconds/s]\n"
     ]
    },
    {
     "name": "stdout",
     "output_type": "stream",
     "text": [
      "Separating track demucs_preprocessed_input/quoc_master_1st_1000_preprocessed/Có Em Rong Chơi.mp3\n"
     ]
    },
    {
     "name": "stderr",
     "output_type": "stream",
     "text": [
      "100%|██████████████████████████████████████████████████████████████████████| 181.35/181.35 [00:04<00:00, 40.98seconds/s]\n"
     ]
    },
    {
     "name": "stdout",
     "output_type": "stream",
     "text": [
      "Separating track demucs_preprocessed_input/quoc_master_1st_1000_preprocessed/Mãi Ngàn Năm.mp3\n"
     ]
    },
    {
     "name": "stderr",
     "output_type": "stream",
     "text": [
      "100%|████████████████████████████████████████████████████████████████████████| 210.6/210.6 [00:05<00:00, 40.89seconds/s]\n"
     ]
    },
    {
     "name": "stdout",
     "output_type": "stream",
     "text": [
      "Separating track demucs_preprocessed_input/quoc_master_1st_1000_preprocessed/Dạ Khúc Đêm Trăng.mp3\n"
     ]
    },
    {
     "name": "stderr",
     "output_type": "stream",
     "text": [
      "100%|██████████████████████████████████████████████| 251.54999999999998/251.54999999999998 [00:06<00:00, 40.77seconds/s]\n"
     ]
    },
    {
     "name": "stdout",
     "output_type": "stream",
     "text": [
      "Separating track demucs_preprocessed_input/quoc_master_1st_1000_preprocessed/Cưới Nhau Mùa Tết.mp3\n"
     ]
    },
    {
     "name": "stderr",
     "output_type": "stream",
     "text": [
      "100%|██████████████████████████████████████████████████████████████████████| 204.75/204.75 [00:04<00:00, 41.44seconds/s]\n"
     ]
    },
    {
     "name": "stdout",
     "output_type": "stream",
     "text": [
      "Separating track demucs_preprocessed_input/quoc_master_1st_1000_preprocessed/Vết Mực Vô Tình.mp3\n"
     ]
    },
    {
     "name": "stderr",
     "output_type": "stream",
     "text": [
      "100%|██████████████████████████████████████████████████████████████████████| 263.25/263.25 [00:06<00:00, 42.18seconds/s]\n"
     ]
    },
    {
     "name": "stdout",
     "output_type": "stream",
     "text": [
      "Separating track demucs_preprocessed_input/quoc_master_1st_1000_preprocessed/Anh Không Thể Quay Về.mp3\n"
     ]
    },
    {
     "name": "stderr",
     "output_type": "stream",
     "text": [
      "100%|██████████████████████████████████████████████████████████████████████| 286.65/286.65 [00:06<00:00, 41.95seconds/s]\n"
     ]
    },
    {
     "name": "stdout",
     "output_type": "stream",
     "text": [
      "Separating track demucs_preprocessed_input/quoc_master_1st_1000_preprocessed/Yêu Em Anh Hát Tình Ca.mp3\n"
     ]
    },
    {
     "name": "stderr",
     "output_type": "stream",
     "text": [
      "100%|██████████████████████████████████████████████| 386.09999999999997/386.09999999999997 [00:09<00:00, 42.34seconds/s]\n"
     ]
    },
    {
     "name": "stdout",
     "output_type": "stream",
     "text": [
      "Separating track demucs_preprocessed_input/quoc_master_1st_1000_preprocessed/Có Một Người Luôn Cười Khi Anh Đến.mp3\n"
     ]
    },
    {
     "name": "stderr",
     "output_type": "stream",
     "text": [
      "100%|██████████████████████████████████████████████████████████████████████| 274.95/274.95 [00:06<00:00, 41.25seconds/s]\n"
     ]
    },
    {
     "name": "stdout",
     "output_type": "stream",
     "text": [
      "Separating track demucs_preprocessed_input/quoc_master_1st_1000_preprocessed/Đừng Trách Sáo Sang Sông.mp3\n"
     ]
    },
    {
     "name": "stderr",
     "output_type": "stream",
     "text": [
      "100%|██████████████████████████████████████████████| 310.04999999999995/310.04999999999995 [00:07<00:00, 42.07seconds/s]\n"
     ]
    },
    {
     "name": "stdout",
     "output_type": "stream",
     "text": [
      "Separating track demucs_preprocessed_input/quoc_master_1st_1000_preprocessed/Về Với Ngài.mp3\n"
     ]
    },
    {
     "name": "stderr",
     "output_type": "stream",
     "text": [
      "100%|████████████████████████████████████████████████████████████████████████| 292.5/292.5 [00:06<00:00, 41.87seconds/s]\n"
     ]
    },
    {
     "name": "stdout",
     "output_type": "stream",
     "text": [
      "Separating track demucs_preprocessed_input/quoc_master_1st_1000_preprocessed/Mất Rồi Mới Thấy Tiếc.mp3\n"
     ]
    },
    {
     "name": "stderr",
     "output_type": "stream",
     "text": [
      "100%|████████████████████████████████████████████████████████████████████████| 245.7/245.7 [00:05<00:00, 41.29seconds/s]\n"
     ]
    },
    {
     "name": "stdout",
     "output_type": "stream",
     "text": [
      "Separating track demucs_preprocessed_input/quoc_master_1st_1000_preprocessed/Anh Đau Em Không Đành Lòng.mp3\n"
     ]
    },
    {
     "name": "stderr",
     "output_type": "stream",
     "text": [
      "100%|██████████████████████████████████████████████| 280.79999999999995/280.79999999999995 [00:06<00:00, 41.39seconds/s]\n"
     ]
    },
    {
     "name": "stdout",
     "output_type": "stream",
     "text": [
      "Separating track demucs_preprocessed_input/quoc_master_1st_1000_preprocessed/Bối Rối (Cover).mp3\n"
     ]
    },
    {
     "name": "stderr",
     "output_type": "stream",
     "text": [
      "100%|██████████████████████████████████████████████████████████████████████| 146.25/146.25 [00:03<00:00, 40.61seconds/s]\n"
     ]
    },
    {
     "name": "stdout",
     "output_type": "stream",
     "text": [
      "Separating track demucs_preprocessed_input/quoc_master_1st_1000_preprocessed/Mẹ Hiểu Con Không.mp3\n"
     ]
    },
    {
     "name": "stderr",
     "output_type": "stream",
     "text": [
      "100%|████████████████████████████████████████████████████████████████████████| 292.5/292.5 [00:07<00:00, 40.55seconds/s]\n"
     ]
    },
    {
     "name": "stdout",
     "output_type": "stream",
     "text": [
      "Separating track demucs_preprocessed_input/quoc_master_1st_1000_preprocessed/Tình Em Mãi Mãi.mp3\n"
     ]
    },
    {
     "name": "stderr",
     "output_type": "stream",
     "text": [
      "100%|██████████████████████████████████████████████| 222.29999999999998/222.29999999999998 [00:05<00:00, 41.47seconds/s]\n"
     ]
    },
    {
     "name": "stdout",
     "output_type": "stream",
     "text": [
      "Separating track demucs_preprocessed_input/quoc_master_1st_1000_preprocessed/Mưa Nước Mắt.mp3\n"
     ]
    },
    {
     "name": "stderr",
     "output_type": "stream",
     "text": [
      "100%|████████████████████████████████████████████████████████████████████████| 187.2/187.2 [00:04<00:00, 41.33seconds/s]\n"
     ]
    },
    {
     "name": "stdout",
     "output_type": "stream",
     "text": [
      "Separating track demucs_preprocessed_input/quoc_master_1st_1000_preprocessed/Trốn Tránh.mp3\n"
     ]
    },
    {
     "name": "stderr",
     "output_type": "stream",
     "text": [
      "100%|██████████████████████████████████████████████| 193.04999999999998/193.04999999999998 [00:04<00:00, 40.32seconds/s]\n"
     ]
    },
    {
     "name": "stdout",
     "output_type": "stream",
     "text": [
      "Separating track demucs_preprocessed_input/quoc_master_1st_1000_preprocessed/Nàng Tiên Xấu Xa.mp3\n"
     ]
    },
    {
     "name": "stderr",
     "output_type": "stream",
     "text": [
      "100%|██████████████████████████████████████████████| 298.34999999999997/298.34999999999997 [00:07<00:00, 41.59seconds/s]\n"
     ]
    },
    {
     "name": "stdout",
     "output_type": "stream",
     "text": [
      "Separating track demucs_preprocessed_input/quoc_master_1st_1000_preprocessed/Chờ Đợi Có Đáng Sợ (Piano Verison).mp3\n"
     ]
    },
    {
     "name": "stderr",
     "output_type": "stream",
     "text": [
      "100%|██████████████████████████████████████████████| 280.79999999999995/280.79999999999995 [00:06<00:00, 41.53seconds/s]\n"
     ]
    },
    {
     "name": "stdout",
     "output_type": "stream",
     "text": [
      "Separating track demucs_preprocessed_input/quoc_master_1st_1000_preprocessed/Khi Người Con Gái Cô Đơn.mp3\n"
     ]
    },
    {
     "name": "stderr",
     "output_type": "stream",
     "text": [
      "100%|██████████████████████████████████████████████████████████████████████| 263.25/263.25 [00:06<00:00, 41.80seconds/s]\n"
     ]
    },
    {
     "name": "stdout",
     "output_type": "stream",
     "text": [
      "Separating track demucs_preprocessed_input/quoc_master_1st_1000_preprocessed/Ai Rồi Cũng Khác.mp3\n"
     ]
    },
    {
     "name": "stderr",
     "output_type": "stream",
     "text": [
      "100%|██████████████████████████████████████████████████████████████████████| 263.25/263.25 [00:06<00:00, 41.61seconds/s]\n"
     ]
    },
    {
     "name": "stdout",
     "output_type": "stream",
     "text": [
      "Separating track demucs_preprocessed_input/quoc_master_1st_1000_preprocessed/Để Yêu Nhau Hơn.mp3\n"
     ]
    },
    {
     "name": "stderr",
     "output_type": "stream",
     "text": [
      "100%|████████████████████████████████████████████████████████████████████████| 245.7/245.7 [00:05<00:00, 41.29seconds/s]\n"
     ]
    },
    {
     "name": "stdout",
     "output_type": "stream",
     "text": [
      "Separating track demucs_preprocessed_input/quoc_master_1st_1000_preprocessed/Nhớ Mùa Thu Hà Nội.mp3\n"
     ]
    },
    {
     "name": "stderr",
     "output_type": "stream",
     "text": [
      "100%|██████████████████████████████████████████████| 327.59999999999997/327.59999999999997 [00:07<00:00, 41.98seconds/s]\n"
     ]
    },
    {
     "name": "stdout",
     "output_type": "stream",
     "text": [
      "Separating track demucs_preprocessed_input/quoc_master_1st_1000_preprocessed/Con Gái Bây Giờ.mp3\n"
     ]
    },
    {
     "name": "stderr",
     "output_type": "stream",
     "text": [
      "100%|██████████████████████████████████████████████████████████████████████| 263.25/263.25 [00:06<00:00, 41.35seconds/s]\n"
     ]
    },
    {
     "name": "stdout",
     "output_type": "stream",
     "text": [
      "Separating track demucs_preprocessed_input/quoc_master_1st_1000_preprocessed/Cho Em Lời Cuối.mp3\n"
     ]
    },
    {
     "name": "stderr",
     "output_type": "stream",
     "text": [
      "100%|████████████████████████████████████████████████████████████████████████| 245.7/245.7 [00:05<00:00, 41.27seconds/s]\n"
     ]
    },
    {
     "name": "stdout",
     "output_type": "stream",
     "text": [
      "Separating track demucs_preprocessed_input/quoc_master_1st_1000_preprocessed/Chờ Ngày Cưới Em.mp3\n"
     ]
    },
    {
     "name": "stderr",
     "output_type": "stream",
     "text": [
      "100%|██████████████████████████████████████████████████████████████████████| 239.85/239.85 [00:05<00:00, 41.43seconds/s]\n"
     ]
    },
    {
     "name": "stdout",
     "output_type": "stream",
     "text": [
      "Separating track demucs_preprocessed_input/quoc_master_1st_1000_preprocessed/Mẹ Miền Tây.mp3\n"
     ]
    },
    {
     "name": "stderr",
     "output_type": "stream",
     "text": [
      "100%|██████████████████████████████████████████████| 228.14999999999998/228.14999999999998 [00:05<00:00, 41.36seconds/s]\n"
     ]
    },
    {
     "name": "stdout",
     "output_type": "stream",
     "text": [
      "Separating track demucs_preprocessed_input/quoc_master_1st_1000_preprocessed/Xin Lỗi Ta Yêu Người (Yuki No Hana).mp3\n"
     ]
    },
    {
     "name": "stderr",
     "output_type": "stream",
     "text": [
      "100%|████████████████████████████████████████████████████████████████████████| 315.9/315.9 [00:07<00:00, 41.20seconds/s]\n"
     ]
    },
    {
     "name": "stdout",
     "output_type": "stream",
     "text": [
      "Separating track demucs_preprocessed_input/quoc_master_1st_1000_preprocessed/Tự Hào Tình Nguyện Viên Hành Trình Xanh.mp3\n"
     ]
    },
    {
     "name": "stderr",
     "output_type": "stream",
     "text": [
      "100%|██████████████████████████████████████████████| 222.29999999999998/222.29999999999998 [00:05<00:00, 40.31seconds/s]\n"
     ]
    },
    {
     "name": "stdout",
     "output_type": "stream",
     "text": [
      "Separating track demucs_preprocessed_input/quoc_master_1st_1000_preprocessed/Không Thể Quên Em.mp3\n"
     ]
    },
    {
     "name": "stderr",
     "output_type": "stream",
     "text": [
      "100%|██████████████████████████████████████████████████████████████████████| 263.25/263.25 [00:06<00:00, 41.01seconds/s]\n"
     ]
    },
    {
     "name": "stdout",
     "output_type": "stream",
     "text": [
      "Separating track demucs_preprocessed_input/quoc_master_1st_1000_preprocessed/Đường Xưa Em Đi.mp3\n"
     ]
    },
    {
     "name": "stderr",
     "output_type": "stream",
     "text": [
      "100%|████████████████████████████████████████████████████████████████████████| 315.9/315.9 [00:07<00:00, 41.48seconds/s]\n"
     ]
    },
    {
     "name": "stdout",
     "output_type": "stream",
     "text": [
      "Separating track demucs_preprocessed_input/quoc_master_1st_1000_preprocessed/Đã Đến Lúc Phải Xa Nhau.mp3\n"
     ]
    },
    {
     "name": "stderr",
     "output_type": "stream",
     "text": [
      "100%|██████████████████████████████████████████████████████████████████████| 274.95/274.95 [00:06<00:00, 41.77seconds/s]\n"
     ]
    },
    {
     "name": "stdout",
     "output_type": "stream",
     "text": [
      "Separating track demucs_preprocessed_input/quoc_master_1st_1000_preprocessed/Nói Đi Em.mp3\n"
     ]
    },
    {
     "name": "stderr",
     "output_type": "stream",
     "text": [
      "100%|██████████████████████████████████████████████████████████████████████| 263.25/263.25 [00:06<00:00, 41.23seconds/s]\n"
     ]
    },
    {
     "name": "stdout",
     "output_type": "stream",
     "text": [
      "Separating track demucs_preprocessed_input/quoc_master_1st_1000_preprocessed/Chỉ Mong Em Bình An.mp3\n"
     ]
    },
    {
     "name": "stderr",
     "output_type": "stream",
     "text": [
      "100%|████████████████████████████████████████████████████████████████████████| 257.4/257.4 [00:06<00:00, 41.42seconds/s]\n"
     ]
    },
    {
     "name": "stdout",
     "output_type": "stream",
     "text": [
      "Separating track demucs_preprocessed_input/quoc_master_1st_1000_preprocessed/Đời Hoa Trắng.mp3\n"
     ]
    },
    {
     "name": "stderr",
     "output_type": "stream",
     "text": [
      "100%|██████████████████████████████████████████████| 269.09999999999997/269.09999999999997 [00:06<00:00, 41.62seconds/s]\n"
     ]
    },
    {
     "name": "stdout",
     "output_type": "stream",
     "text": [
      "Separating track demucs_preprocessed_input/quoc_master_1st_1000_preprocessed/Hóa Thân Mẹ.mp3\n"
     ]
    },
    {
     "name": "stderr",
     "output_type": "stream",
     "text": [
      "100%|██████████████████████████████████████████████████████████████████████| 286.65/286.65 [00:06<00:00, 42.27seconds/s]\n"
     ]
    },
    {
     "name": "stdout",
     "output_type": "stream",
     "text": [
      "Separating track demucs_preprocessed_input/quoc_master_1st_1000_preprocessed/Theo Em Về Quê.mp3\n"
     ]
    },
    {
     "name": "stderr",
     "output_type": "stream",
     "text": [
      "100%|████████████████████████████████████████████████████████████████████████| 234.0/234.0 [00:05<00:00, 41.76seconds/s]\n"
     ]
    },
    {
     "name": "stdout",
     "output_type": "stream",
     "text": [
      "Separating track demucs_preprocessed_input/quoc_master_1st_1000_preprocessed/Anh Đã Nhận Ra.mp3\n"
     ]
    },
    {
     "name": "stderr",
     "output_type": "stream",
     "text": [
      "100%|████████████████████████████████████████████████████████████████████████| 234.0/234.0 [00:05<00:00, 41.05seconds/s]\n"
     ]
    },
    {
     "name": "stdout",
     "output_type": "stream",
     "text": [
      "Separating track demucs_preprocessed_input/quoc_master_1st_1000_preprocessed/Ánh Sao Tình Nhân.mp3\n"
     ]
    },
    {
     "name": "stderr",
     "output_type": "stream",
     "text": [
      "100%|██████████████████████████████████████████████| 251.54999999999998/251.54999999999998 [00:06<00:00, 41.14seconds/s]\n"
     ]
    },
    {
     "name": "stdout",
     "output_type": "stream",
     "text": [
      "Separating track demucs_preprocessed_input/quoc_master_1st_1000_preprocessed/Gọi Tên Tôi Nhé Bạn Thân Hỡi.mp3\n"
     ]
    },
    {
     "name": "stderr",
     "output_type": "stream",
     "text": [
      "100%|██████████████████████████████████████████████| 269.09999999999997/269.09999999999997 [00:06<00:00, 41.17seconds/s]\n"
     ]
    },
    {
     "name": "stdout",
     "output_type": "stream",
     "text": [
      "Separating track demucs_preprocessed_input/quoc_master_1st_1000_preprocessed/Bạn Và Tôi Đều Giống Nhau.mp3\n"
     ]
    },
    {
     "name": "stderr",
     "output_type": "stream",
     "text": [
      "100%|████████████████████████████████████████████████████████████████████████| 292.5/292.5 [00:06<00:00, 42.13seconds/s]\n"
     ]
    },
    {
     "name": "stdout",
     "output_type": "stream",
     "text": [
      "Separating track demucs_preprocessed_input/quoc_master_1st_1000_preprocessed/Hãy Nói Với Em Lời Chia Tay.mp3\n"
     ]
    },
    {
     "name": "stderr",
     "output_type": "stream",
     "text": [
      "100%|██████████████████████████████████████████████████████████████████████| 216.45/216.45 [00:05<00:00, 41.97seconds/s]\n"
     ]
    },
    {
     "name": "stdout",
     "output_type": "stream",
     "text": [
      "Separating track demucs_preprocessed_input/quoc_master_1st_1000_preprocessed/Không Một Ai (Remix Version).mp3\n"
     ]
    },
    {
     "name": "stderr",
     "output_type": "stream",
     "text": [
      "100%|██████████████████████████████████████████████████████████████████████| 146.25/146.25 [00:03<00:00, 40.36seconds/s]\n"
     ]
    },
    {
     "name": "stdout",
     "output_type": "stream",
     "text": [
      "Separating track demucs_preprocessed_input/quoc_master_1st_1000_preprocessed/Bạn Hay Bè.mp3\n"
     ]
    },
    {
     "name": "stderr",
     "output_type": "stream",
     "text": [
      "100%|██████████████████████████████████████████████| 327.59999999999997/327.59999999999997 [00:07<00:00, 41.35seconds/s]\n"
     ]
    },
    {
     "name": "stdout",
     "output_type": "stream",
     "text": [
      "Separating track demucs_preprocessed_input/quoc_master_1st_1000_preprocessed/Gửi Đôi Mắt Nai.mp3\n"
     ]
    },
    {
     "name": "stderr",
     "output_type": "stream",
     "text": [
      "100%|████████████████████████████████████████████████████████████████████████| 234.0/234.0 [00:05<00:00, 41.27seconds/s]\n"
     ]
    },
    {
     "name": "stdout",
     "output_type": "stream",
     "text": [
      "Separating track demucs_preprocessed_input/quoc_master_1st_1000_preprocessed/Đêm Hội Hoa Hồng.mp3\n"
     ]
    },
    {
     "name": "stderr",
     "output_type": "stream",
     "text": [
      "100%|██████████████████████████████████████████████████████████████████████| 204.75/204.75 [00:05<00:00, 40.95seconds/s]\n"
     ]
    },
    {
     "name": "stdout",
     "output_type": "stream",
     "text": [
      "Separating track demucs_preprocessed_input/quoc_master_1st_1000_preprocessed/Cuốn Sách Mẹ Tôi Thường Nói.mp3\n"
     ]
    },
    {
     "name": "stderr",
     "output_type": "stream",
     "text": [
      "100%|██████████████████████████████████████████████████████████████████████| 239.85/239.85 [00:05<00:00, 40.65seconds/s]\n"
     ]
    },
    {
     "name": "stdout",
     "output_type": "stream",
     "text": [
      "Separating track demucs_preprocessed_input/quoc_master_1st_1000_preprocessed/Trả Lại Em Nụ Cười.mp3\n"
     ]
    },
    {
     "name": "stderr",
     "output_type": "stream",
     "text": [
      "100%|██████████████████████████████████████████████████████████████████████| 286.65/286.65 [00:07<00:00, 40.18seconds/s]\n"
     ]
    },
    {
     "name": "stdout",
     "output_type": "stream",
     "text": [
      "Separating track demucs_preprocessed_input/quoc_master_1st_1000_preprocessed/Anh Phải Quên Em.mp3\n"
     ]
    },
    {
     "name": "stderr",
     "output_type": "stream",
     "text": [
      "100%|██████████████████████████████████████████████| 298.34999999999997/298.34999999999997 [00:07<00:00, 42.46seconds/s]\n"
     ]
    },
    {
     "name": "stdout",
     "output_type": "stream",
     "text": [
      "Separating track demucs_preprocessed_input/quoc_master_1st_1000_preprocessed/Liên Khúc Khung Trời Ngày Xưa.mp3\n"
     ]
    },
    {
     "name": "stderr",
     "output_type": "stream",
     "text": [
      "100%|██████████████████████████████████████████████████████████████████████| 614.25/614.25 [00:14<00:00, 42.09seconds/s]\n"
     ]
    },
    {
     "name": "stdout",
     "output_type": "stream",
     "text": [
      "Separating track demucs_preprocessed_input/quoc_master_1st_1000_preprocessed/Cắt Ruột Lòng Đau.mp3\n"
     ]
    },
    {
     "name": "stderr",
     "output_type": "stream",
     "text": [
      "100%|██████████████████████████████████████████████| 310.04999999999995/310.04999999999995 [00:07<00:00, 41.28seconds/s]\n"
     ]
    },
    {
     "name": "stdout",
     "output_type": "stream",
     "text": [
      "Separating track demucs_preprocessed_input/quoc_master_1st_1000_preprocessed/Ba Mẹ Đi Xa.mp3\n"
     ]
    },
    {
     "name": "stderr",
     "output_type": "stream",
     "text": [
      "100%|██████████████████████████████████████████████| 198.89999999999998/198.89999999999998 [00:04<00:00, 41.53seconds/s]\n"
     ]
    },
    {
     "name": "stdout",
     "output_type": "stream",
     "text": [
      "Separating track demucs_preprocessed_input/quoc_master_1st_1000_preprocessed/Ước Mơ Nào Cho Em.mp3\n"
     ]
    },
    {
     "name": "stderr",
     "output_type": "stream",
     "text": [
      "100%|████████████████████████████████████████████████████████████████████████| 374.4/374.4 [00:08<00:00, 42.27seconds/s]\n"
     ]
    },
    {
     "name": "stdout",
     "output_type": "stream",
     "text": [
      "Separating track demucs_preprocessed_input/quoc_master_1st_1000_preprocessed/Dế Welcome.mp3\n"
     ]
    },
    {
     "name": "stderr",
     "output_type": "stream",
     "text": [
      "100%|██████████████████████████████████████████████████████████████████████| 321.75/321.75 [00:07<00:00, 41.75seconds/s]\n"
     ]
    },
    {
     "name": "stdout",
     "output_type": "stream",
     "text": [
      "Separating track demucs_preprocessed_input/quoc_master_1st_1000_preprocessed/Hát Cho Người Xa Nhà.mp3\n"
     ]
    },
    {
     "name": "stderr",
     "output_type": "stream",
     "text": [
      "100%|████████████████████████████████████████████████████████████████████████| 245.7/245.7 [00:05<00:00, 41.46seconds/s]\n"
     ]
    },
    {
     "name": "stdout",
     "output_type": "stream",
     "text": [
      "Separating track demucs_preprocessed_input/quoc_master_1st_1000_preprocessed/Hạnh Phúc Trong Anh.mp3\n"
     ]
    },
    {
     "name": "stderr",
     "output_type": "stream",
     "text": [
      "100%|████████████████████████████████████████████████████████████████████████| 210.6/210.6 [00:05<00:00, 41.06seconds/s]\n"
     ]
    },
    {
     "name": "stdout",
     "output_type": "stream",
     "text": [
      "Separating track demucs_preprocessed_input/quoc_master_1st_1000_preprocessed/Hoa Tàn.mp3\n"
     ]
    },
    {
     "name": "stderr",
     "output_type": "stream",
     "text": [
      "100%|████████████████████████████████████████████████████████████████████████| 292.5/292.5 [00:07<00:00, 41.73seconds/s]\n"
     ]
    },
    {
     "name": "stdout",
     "output_type": "stream",
     "text": [
      "Separating track demucs_preprocessed_input/quoc_master_1st_1000_preprocessed/Hỷ Nộ Ái Ố Kiếp Người.mp3\n"
     ]
    },
    {
     "name": "stderr",
     "output_type": "stream",
     "text": [
      "100%|██████████████████████████████████████████████| 298.34999999999997/298.34999999999997 [00:07<00:00, 41.50seconds/s]\n"
     ]
    },
    {
     "name": "stdout",
     "output_type": "stream",
     "text": [
      "Separating track demucs_preprocessed_input/quoc_master_1st_1000_preprocessed/Đâu Ai Vì Nhau.mp3\n"
     ]
    },
    {
     "name": "stderr",
     "output_type": "stream",
     "text": [
      "100%|██████████████████████████████████████████████| 228.14999999999998/228.14999999999998 [00:05<00:00, 40.76seconds/s]\n"
     ]
    },
    {
     "name": "stdout",
     "output_type": "stream",
     "text": [
      "Separating track demucs_preprocessed_input/quoc_master_1st_1000_preprocessed/Trái Tim Bụi Đường.mp3\n"
     ]
    },
    {
     "name": "stderr",
     "output_type": "stream",
     "text": [
      "100%|████████████████████████████████████████████████████████████████████████| 362.7/362.7 [00:08<00:00, 42.56seconds/s]\n"
     ]
    },
    {
     "name": "stdout",
     "output_type": "stream",
     "text": [
      "Separating track demucs_preprocessed_input/quoc_master_1st_1000_preprocessed/Thương Em Miền Nước Lũ.mp3\n"
     ]
    },
    {
     "name": "stderr",
     "output_type": "stream",
     "text": [
      "100%|████████████████████████████████████████████████████████████████████████| 315.9/315.9 [00:07<00:00, 41.85seconds/s]\n"
     ]
    },
    {
     "name": "stdout",
     "output_type": "stream",
     "text": [
      "Separating track demucs_preprocessed_input/quoc_master_1st_1000_preprocessed/Bỏ Anh Thì Đừng Hối Hận.mp3\n"
     ]
    },
    {
     "name": "stderr",
     "output_type": "stream",
     "text": [
      "100%|████████████████████████████████████████████████████████████████████████| 315.9/315.9 [00:07<00:00, 41.35seconds/s]\n"
     ]
    },
    {
     "name": "stdout",
     "output_type": "stream",
     "text": [
      "Separating track demucs_preprocessed_input/quoc_master_1st_1000_preprocessed/Mùa Đông Trắng.mp3\n"
     ]
    },
    {
     "name": "stderr",
     "output_type": "stream",
     "text": [
      "100%|██████████████████████████████████████████████████████████████████████| 321.75/321.75 [00:07<00:00, 40.82seconds/s]\n"
     ]
    },
    {
     "name": "stdout",
     "output_type": "stream",
     "text": [
      "Separating track demucs_preprocessed_input/quoc_master_1st_1000_preprocessed/AI KHÓC CHO EM ？.mp3\n"
     ]
    },
    {
     "name": "stderr",
     "output_type": "stream",
     "text": [
      "100%|████████████████████████████████████████████████████████████████████████| 175.5/175.5 [00:04<00:00, 40.33seconds/s]\n"
     ]
    },
    {
     "name": "stdout",
     "output_type": "stream",
     "text": [
      "Separating track demucs_preprocessed_input/quoc_master_1st_1000_preprocessed/Nữ Vương Địa Phận Vinh.mp3\n"
     ]
    },
    {
     "name": "stderr",
     "output_type": "stream",
     "text": [
      "100%|██████████████████████████████████████████████████████████████████████| 274.95/274.95 [00:06<00:00, 41.26seconds/s]\n"
     ]
    },
    {
     "name": "stdout",
     "output_type": "stream",
     "text": [
      "Separating track demucs_preprocessed_input/quoc_master_1st_1000_preprocessed/Đừng Nhìn Lên Em Ơi.mp3\n"
     ]
    },
    {
     "name": "stderr",
     "output_type": "stream",
     "text": [
      "100%|██████████████████████████████████████████████████████████████████████| 239.85/239.85 [00:05<00:00, 41.74seconds/s]\n"
     ]
    },
    {
     "name": "stdout",
     "output_type": "stream",
     "text": [
      "Separating track demucs_preprocessed_input/quoc_master_1st_1000_preprocessed/Cảm Ơn Honey.mp3\n"
     ]
    },
    {
     "name": "stderr",
     "output_type": "stream",
     "text": [
      "100%|██████████████████████████████████████████████| 222.29999999999998/222.29999999999998 [00:05<00:00, 41.04seconds/s]\n"
     ]
    },
    {
     "name": "stdout",
     "output_type": "stream",
     "text": [
      "Separating track demucs_preprocessed_input/quoc_master_1st_1000_preprocessed/Anh Chắc Phải Quên Em Rồi.mp3\n"
     ]
    },
    {
     "name": "stderr",
     "output_type": "stream",
     "text": [
      "100%|████████████████████████████████████████████████████████████████████████| 304.2/304.2 [00:07<00:00, 42.02seconds/s]\n"
     ]
    },
    {
     "name": "stdout",
     "output_type": "stream",
     "text": [
      "Separating track demucs_preprocessed_input/quoc_master_1st_1000_preprocessed/Bao Lâu Rồi.mp3\n"
     ]
    },
    {
     "name": "stderr",
     "output_type": "stream",
     "text": [
      "100%|██████████████████████████████████████████████| 298.34999999999997/298.34999999999997 [00:07<00:00, 41.69seconds/s]\n"
     ]
    },
    {
     "name": "stdout",
     "output_type": "stream",
     "text": [
      "Separating track demucs_preprocessed_input/quoc_master_1st_1000_preprocessed/Xin Mẹ Cha An Lòng.mp3\n"
     ]
    },
    {
     "name": "stderr",
     "output_type": "stream",
     "text": [
      "100%|██████████████████████████████████████████████████████████████████████| 462.15/462.15 [00:10<00:00, 42.30seconds/s]\n"
     ]
    },
    {
     "name": "stdout",
     "output_type": "stream",
     "text": [
      "Separating track demucs_preprocessed_input/quoc_master_1st_1000_preprocessed/Sài Gòn Buồn Quá Em Ơi (Jazzhop).mp3\n"
     ]
    },
    {
     "name": "stderr",
     "output_type": "stream",
     "text": [
      "100%|██████████████████████████████████████████████████████████████████████| 321.75/321.75 [00:07<00:00, 42.13seconds/s]\n"
     ]
    },
    {
     "name": "stdout",
     "output_type": "stream",
     "text": [
      "Separating track demucs_preprocessed_input/quoc_master_1st_1000_preprocessed/Anh Không Năn Nỉ Em Đâu.mp3\n"
     ]
    },
    {
     "name": "stderr",
     "output_type": "stream",
     "text": [
      "100%|██████████████████████████████████████████████████████████████████████| 321.75/321.75 [00:07<00:00, 41.63seconds/s]\n"
     ]
    },
    {
     "name": "stdout",
     "output_type": "stream",
     "text": [
      "Separating track demucs_preprocessed_input/quoc_master_1st_1000_preprocessed/Liêm Sỉ Gì Tầm Này Em Ơi (Beat).mp3\n"
     ]
    },
    {
     "name": "stderr",
     "output_type": "stream",
     "text": [
      "100%|██████████████████████████████████████████████████████████████████████| 239.85/239.85 [00:05<00:00, 41.44seconds/s]\n"
     ]
    },
    {
     "name": "stdout",
     "output_type": "stream",
     "text": [
      "Separating track demucs_preprocessed_input/quoc_master_1st_1000_preprocessed/Mưa Đêm Tỉnh Lẻ.mp3\n"
     ]
    },
    {
     "name": "stderr",
     "output_type": "stream",
     "text": [
      "100%|██████████████████████████████████████████████████████████████████████| 321.75/321.75 [00:07<00:00, 41.69seconds/s]\n"
     ]
    },
    {
     "name": "stdout",
     "output_type": "stream",
     "text": [
      "Separating track demucs_preprocessed_input/quoc_master_1st_1000_preprocessed/Anh Giờ Đâu.mp3\n"
     ]
    },
    {
     "name": "stderr",
     "output_type": "stream",
     "text": [
      "100%|██████████████████████████████████████████████████████████████████████| 216.45/216.45 [00:05<00:00, 41.36seconds/s]\n"
     ]
    },
    {
     "name": "stdout",
     "output_type": "stream",
     "text": [
      "Separating track demucs_preprocessed_input/quoc_master_1st_1000_preprocessed/Hạnh Phúc Là Hy Sinh.mp3\n"
     ]
    },
    {
     "name": "stderr",
     "output_type": "stream",
     "text": [
      "100%|██████████████████████████████████████████████████████████████████████| 239.85/239.85 [00:05<00:00, 41.86seconds/s]\n"
     ]
    },
    {
     "name": "stdout",
     "output_type": "stream",
     "text": [
      "Separating track demucs_preprocessed_input/quoc_master_1st_1000_preprocessed/Về Quê Ngoại (EDM Version).mp3\n"
     ]
    },
    {
     "name": "stderr",
     "output_type": "stream",
     "text": [
      "100%|██████████████████████████████████████████████| 269.09999999999997/269.09999999999997 [00:06<00:00, 41.43seconds/s]\n"
     ]
    },
    {
     "name": "stdout",
     "output_type": "stream",
     "text": [
      "Separating track demucs_preprocessed_input/quoc_master_1st_1000_preprocessed/Phút Giây Kỷ Niệm.mp3\n"
     ]
    },
    {
     "name": "stderr",
     "output_type": "stream",
     "text": [
      "100%|██████████████████████████████████████████████████████████████████████| 239.85/239.85 [00:05<00:00, 40.32seconds/s]\n"
     ]
    },
    {
     "name": "stdout",
     "output_type": "stream",
     "text": [
      "Separating track demucs_preprocessed_input/quoc_master_1st_1000_preprocessed/Mùa Đông Tuyệt Vọng.mp3\n"
     ]
    },
    {
     "name": "stderr",
     "output_type": "stream",
     "text": [
      "100%|████████████████████████████████████████████████████████████████████████| 292.5/292.5 [00:06<00:00, 41.80seconds/s]\n"
     ]
    },
    {
     "name": "stdout",
     "output_type": "stream",
     "text": [
      "Separating track demucs_preprocessed_input/quoc_master_1st_1000_preprocessed/Biển Mộng.mp3\n"
     ]
    },
    {
     "name": "stderr",
     "output_type": "stream",
     "text": [
      "100%|██████████████████████████████████████████████| 193.04999999999998/193.04999999999998 [00:04<00:00, 40.21seconds/s]\n"
     ]
    },
    {
     "name": "stdout",
     "output_type": "stream",
     "text": [
      "Separating track demucs_preprocessed_input/quoc_master_1st_1000_preprocessed/Xin Ru Muộn Màng.mp3\n"
     ]
    },
    {
     "name": "stderr",
     "output_type": "stream",
     "text": [
      "100%|██████████████████████████████████████████████| 269.09999999999997/269.09999999999997 [00:06<00:00, 41.70seconds/s]\n"
     ]
    },
    {
     "name": "stdout",
     "output_type": "stream",
     "text": [
      "Separating track demucs_preprocessed_input/quoc_master_1st_1000_preprocessed/Ánh Đèn Phố.mp3\n"
     ]
    },
    {
     "name": "stderr",
     "output_type": "stream",
     "text": [
      "100%|██████████████████████████████████████████████| 251.54999999999998/251.54999999999998 [00:06<00:00, 41.44seconds/s]\n"
     ]
    },
    {
     "name": "stdout",
     "output_type": "stream",
     "text": [
      "Separating track demucs_preprocessed_input/quoc_master_1st_1000_preprocessed/Cuốn Mãi Trôi Xa Tan Đi.mp3\n"
     ]
    },
    {
     "name": "stderr",
     "output_type": "stream",
     "text": [
      "100%|██████████████████████████████████████████████| 269.09999999999997/269.09999999999997 [00:06<00:00, 42.27seconds/s]\n"
     ]
    },
    {
     "name": "stdout",
     "output_type": "stream",
     "text": [
      "Separating track demucs_preprocessed_input/quoc_master_1st_1000_preprocessed/Tình Ơi! Có Buồn Không.mp3\n"
     ]
    },
    {
     "name": "stderr",
     "output_type": "stream",
     "text": [
      "100%|██████████████████████████████████████████████████████████████████████| 274.95/274.95 [00:06<00:00, 41.60seconds/s]\n"
     ]
    },
    {
     "name": "stdout",
     "output_type": "stream",
     "text": [
      "Separating track demucs_preprocessed_input/quoc_master_1st_1000_preprocessed/Cắm Sừng Ai Đừng Cắm Sừng Em.mp3\n"
     ]
    },
    {
     "name": "stderr",
     "output_type": "stream",
     "text": [
      "100%|██████████████████████████████████████████████████████████████████████| 204.75/204.75 [00:05<00:00, 40.14seconds/s]\n"
     ]
    },
    {
     "name": "stdout",
     "output_type": "stream",
     "text": [
      "Separating track demucs_preprocessed_input/quoc_master_1st_1000_preprocessed/Xin Em Thôi Làm Ngơ.mp3\n"
     ]
    },
    {
     "name": "stderr",
     "output_type": "stream",
     "text": [
      "100%|████████████████████████████████████████████████████████████████████████| 234.0/234.0 [00:05<00:00, 42.01seconds/s]\n"
     ]
    },
    {
     "name": "stdout",
     "output_type": "stream",
     "text": [
      "Separating track demucs_preprocessed_input/quoc_master_1st_1000_preprocessed/Dân Ca DJ 2.mp3\n"
     ]
    },
    {
     "name": "stderr",
     "output_type": "stream",
     "text": [
      "100%|██████████████████████████████████████████████████████████████████████| 286.65/286.65 [00:06<00:00, 42.08seconds/s]\n"
     ]
    },
    {
     "name": "stdout",
     "output_type": "stream",
     "text": [
      "Separating track demucs_preprocessed_input/quoc_master_1st_1000_preprocessed/Cô Thắm Không Về.mp3\n"
     ]
    },
    {
     "name": "stderr",
     "output_type": "stream",
     "text": [
      "100%|██████████████████████████████████████████████| 228.14999999999998/228.14999999999998 [00:05<00:00, 41.08seconds/s]\n"
     ]
    },
    {
     "name": "stdout",
     "output_type": "stream",
     "text": [
      "Separating track demucs_preprocessed_input/quoc_master_1st_1000_preprocessed/Chuyện Tình Không Dĩ Vãng (Album Đôi Mắt Người Xưa).mp3\n"
     ]
    },
    {
     "name": "stderr",
     "output_type": "stream",
     "text": [
      "100%|████████████████████████████████████████████████████████████████████████| 374.4/374.4 [00:08<00:00, 42.13seconds/s]\n"
     ]
    },
    {
     "name": "stdout",
     "output_type": "stream",
     "text": [
      "Separating track demucs_preprocessed_input/quoc_master_1st_1000_preprocessed/Áo Anh Si Nhưng Lòng Anh Thật.mp3\n"
     ]
    },
    {
     "name": "stderr",
     "output_type": "stream",
     "text": [
      "100%|██████████████████████████████████████████████| 251.54999999999998/251.54999999999998 [00:06<00:00, 41.36seconds/s]\n"
     ]
    },
    {
     "name": "stdout",
     "output_type": "stream",
     "text": [
      "Separating track demucs_preprocessed_input/quoc_master_1st_1000_preprocessed/Lời Tình Buồn.mp3\n"
     ]
    },
    {
     "name": "stderr",
     "output_type": "stream",
     "text": [
      "100%|████████████████████████████████████████████████████████████████████████| 234.0/234.0 [00:05<00:00, 41.40seconds/s]\n"
     ]
    },
    {
     "name": "stdout",
     "output_type": "stream",
     "text": [
      "Separating track demucs_preprocessed_input/quoc_master_1st_1000_preprocessed/Người Hãy Nói Đi Người Ơi.mp3\n"
     ]
    },
    {
     "name": "stderr",
     "output_type": "stream",
     "text": [
      "100%|██████████████████████████████████████████████| 251.54999999999998/251.54999999999998 [00:06<00:00, 40.78seconds/s]\n"
     ]
    },
    {
     "name": "stdout",
     "output_type": "stream",
     "text": [
      "Separating track demucs_preprocessed_input/quoc_master_1st_1000_preprocessed/Bên Nhau Để Ta Bớt Đau.mp3\n"
     ]
    },
    {
     "name": "stderr",
     "output_type": "stream",
     "text": [
      "100%|██████████████████████████████████████████████████████████████████████| 239.85/239.85 [00:05<00:00, 41.56seconds/s]\n"
     ]
    },
    {
     "name": "stdout",
     "output_type": "stream",
     "text": [
      "Separating track demucs_preprocessed_input/quoc_master_1st_1000_preprocessed/Chúng Ta Không Thể Yêu Thêm Lần Nữa (Prod. Vic).mp3\n"
     ]
    },
    {
     "name": "stderr",
     "output_type": "stream",
     "text": [
      "100%|████████████████████████████████████████████████████████████████████████| 175.5/175.5 [00:04<00:00, 40.67seconds/s]\n"
     ]
    },
    {
     "name": "stdout",
     "output_type": "stream",
     "text": [
      "Separating track demucs_preprocessed_input/quoc_master_1st_1000_preprocessed/Anh Biết Tin Ai.mp3\n"
     ]
    },
    {
     "name": "stderr",
     "output_type": "stream",
     "text": [
      "100%|████████████████████████████████████████████████████████████████████████| 257.4/257.4 [00:06<00:00, 42.15seconds/s]\n"
     ]
    },
    {
     "name": "stdout",
     "output_type": "stream",
     "text": [
      "Separating track demucs_preprocessed_input/quoc_master_1st_1000_preprocessed/Chuỗi Ngày Vắng Em.mp3\n"
     ]
    },
    {
     "name": "stderr",
     "output_type": "stream",
     "text": [
      "100%|██████████████████████████████████████████████████████████████████████| 274.95/274.95 [00:06<00:00, 41.72seconds/s]\n"
     ]
    },
    {
     "name": "stdout",
     "output_type": "stream",
     "text": [
      "Separating track demucs_preprocessed_input/quoc_master_1st_1000_preprocessed/Chúc Xuân Phát Tài.mp3\n"
     ]
    },
    {
     "name": "stderr",
     "output_type": "stream",
     "text": [
      "100%|████████████████████████████████████████████████████████████████████████| 128.7/128.7 [00:03<00:00, 40.55seconds/s]\n"
     ]
    },
    {
     "name": "stdout",
     "output_type": "stream",
     "text": [
      "Separating track demucs_preprocessed_input/quoc_master_1st_1000_preprocessed/Muốn Nói Lời Yêu Em.mp3\n"
     ]
    },
    {
     "name": "stderr",
     "output_type": "stream",
     "text": [
      "100%|████████████████████████████████████████████████████████████████████████| 234.0/234.0 [00:05<00:00, 40.98seconds/s]\n"
     ]
    },
    {
     "name": "stdout",
     "output_type": "stream",
     "text": [
      "Separating track demucs_preprocessed_input/quoc_master_1st_1000_preprocessed/Màu Hoa Kỷ Niệm.mp3\n"
     ]
    },
    {
     "name": "stderr",
     "output_type": "stream",
     "text": [
      "100%|██████████████████████████████████████████████████████████████████████| 321.75/321.75 [00:07<00:00, 41.01seconds/s]\n"
     ]
    },
    {
     "name": "stdout",
     "output_type": "stream",
     "text": [
      "Separating track demucs_preprocessed_input/quoc_master_1st_1000_preprocessed/Rap Về Doraemon.mp3\n"
     ]
    },
    {
     "name": "stderr",
     "output_type": "stream",
     "text": [
      "100%|██████████████████████████████████████████████| 169.64999999999998/169.64999999999998 [00:04<00:00, 40.30seconds/s]\n"
     ]
    },
    {
     "name": "stdout",
     "output_type": "stream",
     "text": [
      "Separating track demucs_preprocessed_input/quoc_master_1st_1000_preprocessed/Càng Quên Càng Nhớ.mp3\n"
     ]
    },
    {
     "name": "stderr",
     "output_type": "stream",
     "text": [
      "100%|██████████████████████████████████████████████| 280.79999999999995/280.79999999999995 [00:06<00:00, 42.21seconds/s]\n"
     ]
    },
    {
     "name": "stdout",
     "output_type": "stream",
     "text": [
      "Separating track demucs_preprocessed_input/quoc_master_1st_1000_preprocessed/Lạc Trong Hồi Kết Buồn.mp3\n"
     ]
    },
    {
     "name": "stderr",
     "output_type": "stream",
     "text": [
      "100%|██████████████████████████████████████████████████████████████████████| 216.45/216.45 [00:05<00:00, 40.90seconds/s]\n"
     ]
    },
    {
     "name": "stdout",
     "output_type": "stream",
     "text": [
      "Separating track demucs_preprocessed_input/quoc_master_1st_1000_preprocessed/Liên Khúc Ngày Tết Quê Em – Chúc Tết.mp3\n"
     ]
    },
    {
     "name": "stderr",
     "output_type": "stream",
     "text": [
      "100%|████████████████████████████████████████████████████████████████████████| 187.2/187.2 [00:04<00:00, 41.38seconds/s]\n"
     ]
    },
    {
     "name": "stdout",
     "output_type": "stream",
     "text": [
      "Separating track demucs_preprocessed_input/quoc_master_1st_1000_preprocessed/Tình Yêu Đến.mp3\n"
     ]
    },
    {
     "name": "stderr",
     "output_type": "stream",
     "text": [
      "100%|████████████████████████████████████████████████████████████████████████| 210.6/210.6 [00:05<00:00, 41.68seconds/s]\n"
     ]
    },
    {
     "name": "stdout",
     "output_type": "stream",
     "text": [
      "Separating track demucs_preprocessed_input/quoc_master_1st_1000_preprocessed/Con Số Không Của Tình Yêu.mp3\n"
     ]
    },
    {
     "name": "stderr",
     "output_type": "stream",
     "text": [
      "100%|██████████████████████████████████████████████| 251.54999999999998/251.54999999999998 [00:06<00:00, 40.75seconds/s]\n"
     ]
    },
    {
     "name": "stdout",
     "output_type": "stream",
     "text": [
      "Separating track demucs_preprocessed_input/quoc_master_1st_1000_preprocessed/50% khi yêu 2.mp3\n"
     ]
    },
    {
     "name": "stderr",
     "output_type": "stream",
     "text": [
      "100%|██████████████████████████████████████████████████████████████████████| 274.95/274.95 [00:06<00:00, 42.29seconds/s]\n"
     ]
    },
    {
     "name": "stdout",
     "output_type": "stream",
     "text": [
      "Separating track demucs_preprocessed_input/quoc_master_1st_1000_preprocessed/Giây Phút Giao Thừa.mp3\n"
     ]
    },
    {
     "name": "stderr",
     "output_type": "stream",
     "text": [
      "100%|██████████████████████████████████████████████| 269.09999999999997/269.09999999999997 [00:06<00:00, 42.50seconds/s]\n"
     ]
    },
    {
     "name": "stdout",
     "output_type": "stream",
     "text": [
      "Separating track demucs_preprocessed_input/quoc_master_1st_1000_preprocessed/Anh Muốn.mp3\n"
     ]
    },
    {
     "name": "stderr",
     "output_type": "stream",
     "text": [
      "100%|████████████████████████████████████████████████████████████████████████| 245.7/245.7 [00:05<00:00, 41.68seconds/s]\n"
     ]
    },
    {
     "name": "stdout",
     "output_type": "stream",
     "text": [
      "Separating track demucs_preprocessed_input/quoc_master_1st_1000_preprocessed/Chắc Sẽ Quên Được Người.mp3\n"
     ]
    },
    {
     "name": "stderr",
     "output_type": "stream",
     "text": [
      "100%|██████████████████████████████████████████████| 327.59999999999997/327.59999999999997 [00:07<00:00, 42.10seconds/s]\n"
     ]
    },
    {
     "name": "stdout",
     "output_type": "stream",
     "text": [
      "Separating track demucs_preprocessed_input/quoc_master_1st_1000_preprocessed/Em Hạnh Phúc Là Anh An Lòng.mp3\n"
     ]
    },
    {
     "name": "stderr",
     "output_type": "stream",
     "text": [
      "100%|██████████████████████████████████████████████████████████████████████| 274.95/274.95 [00:06<00:00, 41.09seconds/s]\n"
     ]
    },
    {
     "name": "stdout",
     "output_type": "stream",
     "text": [
      "Separating track demucs_preprocessed_input/quoc_master_1st_1000_preprocessed/Vì Em Chưa Hiểu Ra.mp3\n"
     ]
    },
    {
     "name": "stderr",
     "output_type": "stream",
     "text": [
      "100%|██████████████████████████████████████████████| 269.09999999999997/269.09999999999997 [00:06<00:00, 41.21seconds/s]\n"
     ]
    },
    {
     "name": "stdout",
     "output_type": "stream",
     "text": [
      "Separating track demucs_preprocessed_input/quoc_master_1st_1000_preprocessed/Vầng Trăng Cô Đơn.mp3\n"
     ]
    },
    {
     "name": "stderr",
     "output_type": "stream",
     "text": [
      "100%|██████████████████████████████████████████████████████████████████████| 263.25/263.25 [00:06<00:00, 41.20seconds/s]\n"
     ]
    },
    {
     "name": "stdout",
     "output_type": "stream",
     "text": [
      "Separating track demucs_preprocessed_input/quoc_master_1st_1000_preprocessed/Giấc Mơ Thức Tỉnh.mp3\n"
     ]
    },
    {
     "name": "stderr",
     "output_type": "stream",
     "text": [
      "100%|████████████████████████████████████████████████████████████████████████| 245.7/245.7 [00:05<00:00, 41.28seconds/s]\n"
     ]
    },
    {
     "name": "stdout",
     "output_type": "stream",
     "text": [
      "Separating track demucs_preprocessed_input/quoc_master_1st_1000_preprocessed/Chợt Nhớ & Tình Trái Ngang.mp3\n"
     ]
    },
    {
     "name": "stderr",
     "output_type": "stream",
     "text": [
      "100%|██████████████████████████████████████████████████████████████████████| 345.15/345.15 [00:08<00:00, 41.98seconds/s]\n"
     ]
    },
    {
     "name": "stdout",
     "output_type": "stream",
     "text": [
      "Separating track demucs_preprocessed_input/quoc_master_1st_1000_preprocessed/Vắng Cha.mp3\n"
     ]
    },
    {
     "name": "stderr",
     "output_type": "stream",
     "text": [
      "100%|██████████████████████████████████████████████| 251.54999999999998/251.54999999999998 [00:06<00:00, 41.62seconds/s]\n"
     ]
    },
    {
     "name": "stdout",
     "output_type": "stream",
     "text": [
      "Separating track demucs_preprocessed_input/quoc_master_1st_1000_preprocessed/Đời Tôi Cô Đơn (Remix).mp3\n"
     ]
    },
    {
     "name": "stderr",
     "output_type": "stream",
     "text": [
      "100%|██████████████████████████████████████████████| 228.14999999999998/228.14999999999998 [00:05<00:00, 41.27seconds/s]\n"
     ]
    },
    {
     "name": "stdout",
     "output_type": "stream",
     "text": [
      "Separating track demucs_preprocessed_input/quoc_master_1st_1000_preprocessed/Cơn Mưa Xóa Nhòa.mp3\n"
     ]
    },
    {
     "name": "stderr",
     "output_type": "stream",
     "text": [
      "100%|██████████████████████████████████████████████| 228.14999999999998/228.14999999999998 [00:05<00:00, 40.87seconds/s]\n"
     ]
    },
    {
     "name": "stdout",
     "output_type": "stream",
     "text": [
      "Separating track demucs_preprocessed_input/quoc_master_1st_1000_preprocessed/Quê Mẹ.mp3\n"
     ]
    },
    {
     "name": "stderr",
     "output_type": "stream",
     "text": [
      "100%|████████████████████████████████████████████████████████████████████████| 409.5/409.5 [00:09<00:00, 41.97seconds/s]\n"
     ]
    },
    {
     "name": "stdout",
     "output_type": "stream",
     "text": [
      "Separating track demucs_preprocessed_input/quoc_master_1st_1000_preprocessed/Thái Bình Mồ Hôi Rơi.mp3\n"
     ]
    },
    {
     "name": "stderr",
     "output_type": "stream",
     "text": [
      "100%|██████████████████████████████████████████████| 310.04999999999995/310.04999999999995 [00:07<00:00, 41.37seconds/s]\n"
     ]
    },
    {
     "name": "stdout",
     "output_type": "stream",
     "text": [
      "Separating track demucs_preprocessed_input/quoc_master_1st_1000_preprocessed/Tơ Hồng.mp3\n"
     ]
    },
    {
     "name": "stderr",
     "output_type": "stream",
     "text": [
      "100%|██████████████████████████████████████████████| 269.09999999999997/269.09999999999997 [00:06<00:00, 41.55seconds/s]\n"
     ]
    },
    {
     "name": "stdout",
     "output_type": "stream",
     "text": [
      "Separating track demucs_preprocessed_input/quoc_master_1st_1000_preprocessed/Chờ Đông.mp3\n"
     ]
    },
    {
     "name": "stderr",
     "output_type": "stream",
     "text": [
      "100%|██████████████████████████████████████████████| 269.09999999999997/269.09999999999997 [00:06<00:00, 41.36seconds/s]\n"
     ]
    },
    {
     "name": "stdout",
     "output_type": "stream",
     "text": [
      "Separating track demucs_preprocessed_input/quoc_master_1st_1000_preprocessed/Đừng Dễ Dãi Hôn Môi Người Khác.mp3\n"
     ]
    },
    {
     "name": "stderr",
     "output_type": "stream",
     "text": [
      "100%|██████████████████████████████████████████████████████████████████████| 239.85/239.85 [00:05<00:00, 41.68seconds/s]\n"
     ]
    },
    {
     "name": "stdout",
     "output_type": "stream",
     "text": [
      "Separating track demucs_preprocessed_input/quoc_master_1st_1000_preprocessed/Đón Giáng Sinh Về.mp3\n"
     ]
    },
    {
     "name": "stderr",
     "output_type": "stream",
     "text": [
      "100%|██████████████████████████████████████████████| 193.04999999999998/193.04999999999998 [00:04<00:00, 41.60seconds/s]\n"
     ]
    },
    {
     "name": "stdout",
     "output_type": "stream",
     "text": [
      "Separating track demucs_preprocessed_input/quoc_master_1st_1000_preprocessed/Chiều Đồng Quê.mp3\n"
     ]
    },
    {
     "name": "stderr",
     "output_type": "stream",
     "text": [
      "100%|██████████████████████████████████████████████████████████████████████| 216.45/216.45 [00:05<00:00, 40.45seconds/s]\n"
     ]
    },
    {
     "name": "stdout",
     "output_type": "stream",
     "text": [
      "Separating track demucs_preprocessed_input/quoc_master_1st_1000_preprocessed/Như Lần Đầu.mp3\n"
     ]
    },
    {
     "name": "stderr",
     "output_type": "stream",
     "text": [
      "100%|████████████████████████████████████████████████████████████████████████| 234.0/234.0 [00:05<00:00, 41.05seconds/s]\n"
     ]
    },
    {
     "name": "stdout",
     "output_type": "stream",
     "text": [
      "Separating track demucs_preprocessed_input/quoc_master_1st_1000_preprocessed/Âm Dương Xa Cách.mp3\n"
     ]
    },
    {
     "name": "stderr",
     "output_type": "stream",
     "text": [
      "100%|██████████████████████████████████████████████████████████████████████| 216.45/216.45 [00:05<00:00, 41.88seconds/s]\n"
     ]
    },
    {
     "name": "stdout",
     "output_type": "stream",
     "text": [
      "Separating track demucs_preprocessed_input/quoc_master_1st_1000_preprocessed/Thanh Xuân Là Để Nhớ.mp3\n"
     ]
    },
    {
     "name": "stderr",
     "output_type": "stream",
     "text": [
      "100%|██████████████████████████████████████████████████████████████████████| 181.35/181.35 [00:04<00:00, 41.11seconds/s]\n"
     ]
    },
    {
     "name": "stdout",
     "output_type": "stream",
     "text": [
      "Separating track demucs_preprocessed_input/quoc_master_1st_1000_preprocessed/Tình Ảo.mp3\n"
     ]
    },
    {
     "name": "stderr",
     "output_type": "stream",
     "text": [
      "100%|██████████████████████████████████████████████████████████████████████| 274.95/274.95 [00:06<00:00, 41.96seconds/s]\n"
     ]
    },
    {
     "name": "stdout",
     "output_type": "stream",
     "text": [
      "Separating track demucs_preprocessed_input/quoc_master_1st_1000_preprocessed/Em Làm Bạn Gái Anh Được Không.mp3\n"
     ]
    },
    {
     "name": "stderr",
     "output_type": "stream",
     "text": [
      "100%|██████████████████████████████████████████████████████████████████████| 274.95/274.95 [00:06<00:00, 42.19seconds/s]\n"
     ]
    },
    {
     "name": "stdout",
     "output_type": "stream",
     "text": [
      "Separating track demucs_preprocessed_input/quoc_master_1st_1000_preprocessed/Đời Người.mp3\n"
     ]
    },
    {
     "name": "stderr",
     "output_type": "stream",
     "text": [
      "100%|████████████████████████████████████████████████████████████████████████| 292.5/292.5 [00:06<00:00, 42.32seconds/s]\n"
     ]
    },
    {
     "name": "stdout",
     "output_type": "stream",
     "text": [
      "Separating track demucs_preprocessed_input/quoc_master_1st_1000_preprocessed/Là Vì Ai (Another Version).mp3\n"
     ]
    },
    {
     "name": "stderr",
     "output_type": "stream",
     "text": [
      "100%|██████████████████████████████████████████████████████████████████████| 263.25/263.25 [00:06<00:00, 41.17seconds/s]\n"
     ]
    },
    {
     "name": "stdout",
     "output_type": "stream",
     "text": [
      "Separating track demucs_preprocessed_input/quoc_master_1st_1000_preprocessed/Từ Nay Về Sau.mp3\n"
     ]
    },
    {
     "name": "stderr",
     "output_type": "stream",
     "text": [
      "100%|██████████████████████████████████████████████████████████████████████| 239.85/239.85 [00:05<00:00, 41.34seconds/s]\n"
     ]
    },
    {
     "name": "stdout",
     "output_type": "stream",
     "text": [
      "Separating track demucs_preprocessed_input/quoc_master_1st_1000_preprocessed/Anh Không Làm Được.mp3\n"
     ]
    },
    {
     "name": "stderr",
     "output_type": "stream",
     "text": [
      "100%|██████████████████████████████████████████████| 298.34999999999997/298.34999999999997 [00:07<00:00, 41.89seconds/s]\n"
     ]
    },
    {
     "name": "stdout",
     "output_type": "stream",
     "text": [
      "Separating track demucs_preprocessed_input/quoc_master_1st_1000_preprocessed/Căn Nhà Vắng Đôi Tình Nhân.mp3\n"
     ]
    },
    {
     "name": "stderr",
     "output_type": "stream",
     "text": [
      "100%|██████████████████████████████████████████████████████████████████████| 274.95/274.95 [00:06<00:00, 42.03seconds/s]\n"
     ]
    },
    {
     "name": "stdout",
     "output_type": "stream",
     "text": [
      "Separating track demucs_preprocessed_input/quoc_master_1st_1000_preprocessed/MAX CÔ ĐƠN (OST Đại Ca Đi Học).mp3\n"
     ]
    },
    {
     "name": "stderr",
     "output_type": "stream",
     "text": [
      "100%|████████████████████████████████████████████████████████████████████████| 245.7/245.7 [00:05<00:00, 41.18seconds/s]\n"
     ]
    },
    {
     "name": "stdout",
     "output_type": "stream",
     "text": [
      "Separating track demucs_preprocessed_input/quoc_master_1st_1000_preprocessed/Rời Xa Để Trưởng Thành.mp3\n"
     ]
    },
    {
     "name": "stderr",
     "output_type": "stream",
     "text": [
      "100%|██████████████████████████████████████████████| 310.04999999999995/310.04999999999995 [00:07<00:00, 41.56seconds/s]\n"
     ]
    },
    {
     "name": "stdout",
     "output_type": "stream",
     "text": [
      "Separating track demucs_preprocessed_input/quoc_master_1st_1000_preprocessed/Bước Chân Em Về.mp3\n"
     ]
    },
    {
     "name": "stderr",
     "output_type": "stream",
     "text": [
      "100%|████████████████████████████████████████████████████████████████████████| 234.0/234.0 [00:05<00:00, 41.62seconds/s]\n"
     ]
    },
    {
     "name": "stdout",
     "output_type": "stream",
     "text": [
      "Separating track demucs_preprocessed_input/quoc_master_1st_1000_preprocessed/Khi Ta Đôi Mươi.mp3\n"
     ]
    },
    {
     "name": "stderr",
     "output_type": "stream",
     "text": [
      "100%|██████████████████████████████████████████████| 222.29999999999998/222.29999999999998 [00:05<00:00, 42.05seconds/s]\n"
     ]
    },
    {
     "name": "stdout",
     "output_type": "stream",
     "text": [
      "Separating track demucs_preprocessed_input/quoc_master_1st_1000_preprocessed/Tình Quay Gót.mp3\n"
     ]
    },
    {
     "name": "stderr",
     "output_type": "stream",
     "text": [
      "100%|██████████████████████████████████████████████| 251.54999999999998/251.54999999999998 [00:06<00:00, 41.06seconds/s]\n"
     ]
    },
    {
     "name": "stdout",
     "output_type": "stream",
     "text": [
      "Separating track demucs_preprocessed_input/quoc_master_1st_1000_preprocessed/Cố Níu Tay Anh.mp3\n"
     ]
    },
    {
     "name": "stderr",
     "output_type": "stream",
     "text": [
      "100%|██████████████████████████████████████████████| 280.79999999999995/280.79999999999995 [00:06<00:00, 41.32seconds/s]\n"
     ]
    },
    {
     "name": "stdout",
     "output_type": "stream",
     "text": [
      "Separating track demucs_preprocessed_input/quoc_master_1st_1000_preprocessed/Anh Đừng Vội.mp3\n"
     ]
    },
    {
     "name": "stderr",
     "output_type": "stream",
     "text": [
      "100%|██████████████████████████████████████████████████████████████████████| 181.35/181.35 [00:04<00:00, 40.73seconds/s]\n"
     ]
    },
    {
     "name": "stdout",
     "output_type": "stream",
     "text": [
      "Separating track demucs_preprocessed_input/quoc_master_1st_1000_preprocessed/Yêu Nhau Sẽ Trở Về.mp3\n"
     ]
    },
    {
     "name": "stderr",
     "output_type": "stream",
     "text": [
      "100%|██████████████████████████████████████████████████████████████████████| 274.95/274.95 [00:06<00:00, 42.35seconds/s]\n"
     ]
    },
    {
     "name": "stdout",
     "output_type": "stream",
     "text": [
      "Separating track demucs_preprocessed_input/quoc_master_1st_1000_preprocessed/Nỗi Nhớ Thiêu Đốt.mp3\n"
     ]
    },
    {
     "name": "stderr",
     "output_type": "stream",
     "text": [
      "100%|██████████████████████████████████████████████| 280.79999999999995/280.79999999999995 [00:06<00:00, 41.56seconds/s]\n"
     ]
    },
    {
     "name": "stdout",
     "output_type": "stream",
     "text": [
      "Separating track demucs_preprocessed_input/quoc_master_1st_1000_preprocessed/Không Thể Cùng Nhau Suốt Kiếp.mp3\n"
     ]
    },
    {
     "name": "stderr",
     "output_type": "stream",
     "text": [
      "100%|██████████████████████████████████████████████| 251.54999999999998/251.54999999999998 [00:06<00:00, 41.40seconds/s]\n"
     ]
    },
    {
     "name": "stdout",
     "output_type": "stream",
     "text": [
      "Separating track demucs_preprocessed_input/quoc_master_1st_1000_preprocessed/Kết Thúc Như Vậy Sao.mp3\n"
     ]
    },
    {
     "name": "stderr",
     "output_type": "stream",
     "text": [
      "100%|██████████████████████████████████████████████| 140.39999999999998/140.39999999999998 [00:03<00:00, 40.98seconds/s]\n"
     ]
    },
    {
     "name": "stdout",
     "output_type": "stream",
     "text": [
      "Separating track demucs_preprocessed_input/quoc_master_1st_1000_preprocessed/Cha Chồng Nàng Dâu.mp3\n"
     ]
    },
    {
     "name": "stderr",
     "output_type": "stream",
     "text": [
      "100%|██████████████████████████████████████████████████████████████████████| 286.65/286.65 [00:06<00:00, 41.64seconds/s]\n"
     ]
    },
    {
     "name": "stdout",
     "output_type": "stream",
     "text": [
      "Separating track demucs_preprocessed_input/quoc_master_1st_1000_preprocessed/Tâm Sự Người Xa Xứ.mp3\n"
     ]
    },
    {
     "name": "stderr",
     "output_type": "stream",
     "text": [
      "100%|██████████████████████████████████████████████████████████████████████| 286.65/286.65 [00:06<00:00, 41.75seconds/s]\n"
     ]
    },
    {
     "name": "stdout",
     "output_type": "stream",
     "text": [
      "Separating track demucs_preprocessed_input/quoc_master_1st_1000_preprocessed/Lễ Vu Lan.mp3\n"
     ]
    },
    {
     "name": "stderr",
     "output_type": "stream",
     "text": [
      "100%|████████████████████████████████████████████████████████████████████████| 292.5/292.5 [00:07<00:00, 41.55seconds/s]\n"
     ]
    },
    {
     "name": "stdout",
     "output_type": "stream",
     "text": [
      "Separating track demucs_preprocessed_input/quoc_master_1st_1000_preprocessed/Có Những Mảnh Đời.mp3\n"
     ]
    },
    {
     "name": "stderr",
     "output_type": "stream",
     "text": [
      "100%|██████████████████████████████████████████████| 280.79999999999995/280.79999999999995 [00:06<00:00, 41.76seconds/s]\n"
     ]
    },
    {
     "name": "stdout",
     "output_type": "stream",
     "text": [
      "Separating track demucs_preprocessed_input/quoc_master_1st_1000_preprocessed/Xin Lỗi Vì Tất Cả.mp3\n"
     ]
    },
    {
     "name": "stderr",
     "output_type": "stream",
     "text": [
      "100%|██████████████████████████████████████████████| 251.54999999999998/251.54999999999998 [00:06<00:00, 41.41seconds/s]\n"
     ]
    },
    {
     "name": "stdout",
     "output_type": "stream",
     "text": [
      "Separating track demucs_preprocessed_input/quoc_master_1st_1000_preprocessed/Áo Anh Sứt Chỉ.mp3\n"
     ]
    },
    {
     "name": "stderr",
     "output_type": "stream",
     "text": [
      "100%|██████████████████████████████████████████████| 356.84999999999997/356.84999999999997 [00:08<00:00, 41.57seconds/s]\n"
     ]
    },
    {
     "name": "stdout",
     "output_type": "stream",
     "text": [
      "Separating track demucs_preprocessed_input/quoc_master_1st_1000_preprocessed/Nếu Anh Thấy Lòng Mình Yếu Đuối.mp3\n"
     ]
    },
    {
     "name": "stderr",
     "output_type": "stream",
     "text": [
      "100%|████████████████████████████████████████████████████████████████████████| 257.4/257.4 [00:06<00:00, 41.09seconds/s]\n"
     ]
    },
    {
     "name": "stdout",
     "output_type": "stream",
     "text": [
      "Separating track demucs_preprocessed_input/quoc_master_1st_1000_preprocessed/Em Là Ngọc Nữ Thần Tiên.mp3\n"
     ]
    },
    {
     "name": "stderr",
     "output_type": "stream",
     "text": [
      "100%|██████████████████████████████████████████████| 228.14999999999998/228.14999999999998 [00:05<00:00, 41.66seconds/s]\n"
     ]
    },
    {
     "name": "stdout",
     "output_type": "stream",
     "text": [
      "Separating track demucs_preprocessed_input/quoc_master_1st_1000_preprocessed/Hãy Quên Đi Buồn Đau.mp3\n"
     ]
    },
    {
     "name": "stderr",
     "output_type": "stream",
     "text": [
      "100%|██████████████████████████████████████████████████████████████████████| 263.25/263.25 [00:06<00:00, 41.74seconds/s]\n"
     ]
    },
    {
     "name": "stdout",
     "output_type": "stream",
     "text": [
      "Separating track demucs_preprocessed_input/quoc_master_1st_1000_preprocessed/Chúng Ta Là Tri Kỉ.mp3\n"
     ]
    },
    {
     "name": "stderr",
     "output_type": "stream",
     "text": [
      "100%|██████████████████████████████████████████████| 298.34999999999997/298.34999999999997 [00:07<00:00, 41.40seconds/s]\n"
     ]
    },
    {
     "name": "stdout",
     "output_type": "stream",
     "text": [
      "Separating track demucs_preprocessed_input/quoc_master_1st_1000_preprocessed/Em Mong Chờ Anh.mp3\n"
     ]
    },
    {
     "name": "stderr",
     "output_type": "stream",
     "text": [
      "100%|██████████████████████████████████████████████| 251.54999999999998/251.54999999999998 [00:06<00:00, 41.27seconds/s]\n"
     ]
    },
    {
     "name": "stdout",
     "output_type": "stream",
     "text": [
      "Separating track demucs_preprocessed_input/quoc_master_1st_1000_preprocessed/Chất Độc.mp3\n"
     ]
    },
    {
     "name": "stderr",
     "output_type": "stream",
     "text": [
      "100%|██████████████████████████████████████████████████████████████████████| 204.75/204.75 [00:05<00:00, 40.70seconds/s]\n"
     ]
    },
    {
     "name": "stdout",
     "output_type": "stream",
     "text": [
      "Separating track demucs_preprocessed_input/quoc_master_1st_1000_preprocessed/Không Còn Nước Mắt.mp3\n"
     ]
    },
    {
     "name": "stderr",
     "output_type": "stream",
     "text": [
      "100%|██████████████████████████████████████████████| 251.54999999999998/251.54999999999998 [00:05<00:00, 42.13seconds/s]\n"
     ]
    },
    {
     "name": "stdout",
     "output_type": "stream",
     "text": [
      "Separating track demucs_preprocessed_input/quoc_master_1st_1000_preprocessed/Dĩ Vãng Nhạt Nhòa (Cover).mp3\n"
     ]
    },
    {
     "name": "stderr",
     "output_type": "stream",
     "text": [
      "100%|██████████████████████████████████████████████████████████████████████| 216.45/216.45 [00:05<00:00, 40.26seconds/s]\n"
     ]
    },
    {
     "name": "stdout",
     "output_type": "stream",
     "text": [
      "Separating track demucs_preprocessed_input/quoc_master_1st_1000_preprocessed/Khoảng Cách Cho Nhau.mp3\n"
     ]
    },
    {
     "name": "stderr",
     "output_type": "stream",
     "text": [
      "100%|██████████████████████████████████████████████| 269.09999999999997/269.09999999999997 [00:06<00:00, 39.60seconds/s]\n"
     ]
    },
    {
     "name": "stdout",
     "output_type": "stream",
     "text": [
      "Separating track demucs_preprocessed_input/quoc_master_1st_1000_preprocessed/Giấc Mơ Tuổi Thơ.mp3\n"
     ]
    },
    {
     "name": "stderr",
     "output_type": "stream",
     "text": [
      "100%|██████████████████████████████████████████████| 228.14999999999998/228.14999999999998 [00:05<00:00, 39.94seconds/s]\n"
     ]
    },
    {
     "name": "stdout",
     "output_type": "stream",
     "text": [
      "Separating track demucs_preprocessed_input/quoc_master_1st_1000_preprocessed/Cô Em Gì Ơi.mp3\n"
     ]
    },
    {
     "name": "stderr",
     "output_type": "stream",
     "text": [
      "100%|████████████████████████████████████████████████████████████████████████| 152.1/152.1 [00:03<00:00, 39.27seconds/s]\n"
     ]
    },
    {
     "name": "stdout",
     "output_type": "stream",
     "text": [
      "Separating track demucs_preprocessed_input/quoc_master_1st_1000_preprocessed/Yêu Anh Nhưng Đã Muộn.mp3\n"
     ]
    },
    {
     "name": "stderr",
     "output_type": "stream",
     "text": [
      "100%|██████████████████████████████████████████████████████████████████████| 204.75/204.75 [00:04<00:00, 40.97seconds/s]\n"
     ]
    },
    {
     "name": "stdout",
     "output_type": "stream",
     "text": [
      "Separating track demucs_preprocessed_input/quoc_master_1st_1000_preprocessed/Hạnh Phúc Khi Bên Nhau.mp3\n"
     ]
    },
    {
     "name": "stderr",
     "output_type": "stream",
     "text": [
      "100%|██████████████████████████████████████████████| 222.29999999999998/222.29999999999998 [00:05<00:00, 40.82seconds/s]\n"
     ]
    },
    {
     "name": "stdout",
     "output_type": "stream",
     "text": [
      "Separating track demucs_preprocessed_input/quoc_master_1st_1000_preprocessed/Dù Anh Không Đến.mp3\n"
     ]
    },
    {
     "name": "stderr",
     "output_type": "stream",
     "text": [
      "100%|██████████████████████████████████████████████████████████████████████| 286.65/286.65 [00:07<00:00, 40.53seconds/s]\n"
     ]
    },
    {
     "name": "stdout",
     "output_type": "stream",
     "text": [
      "Separating track demucs_preprocessed_input/quoc_master_1st_1000_preprocessed/Hạnh Phúc Không Dành Cho Tình Nhân.mp3\n"
     ]
    },
    {
     "name": "stderr",
     "output_type": "stream",
     "text": [
      "100%|████████████████████████████████████████████████████████████████████████| 304.2/304.2 [00:07<00:00, 41.13seconds/s]\n"
     ]
    },
    {
     "name": "stdout",
     "output_type": "stream",
     "text": [
      "Separating track demucs_preprocessed_input/quoc_master_1st_1000_preprocessed/Mùa Đông Vắng.mp3\n"
     ]
    },
    {
     "name": "stderr",
     "output_type": "stream",
     "text": [
      "100%|████████████████████████████████████████████████████████████████████████| 257.4/257.4 [00:06<00:00, 41.84seconds/s]\n"
     ]
    },
    {
     "name": "stdout",
     "output_type": "stream",
     "text": [
      "Separating track demucs_preprocessed_input/quoc_master_1st_1000_preprocessed/Anh Nói Yêu Em Được Không (Awriix Remix).mp3\n"
     ]
    },
    {
     "name": "stderr",
     "output_type": "stream",
     "text": [
      "100%|██████████████████████████████████████████████████████████████████████| 181.35/181.35 [00:04<00:00, 41.25seconds/s]\n"
     ]
    },
    {
     "name": "stdout",
     "output_type": "stream",
     "text": [
      "Separating track demucs_preprocessed_input/quoc_master_1st_1000_preprocessed/chạy theo cơn mưa.mp3\n"
     ]
    },
    {
     "name": "stderr",
     "output_type": "stream",
     "text": [
      "100%|████████████████████████████████████████████████████████████████████████| 245.7/245.7 [00:05<00:00, 41.22seconds/s]\n"
     ]
    },
    {
     "name": "stdout",
     "output_type": "stream",
     "text": [
      "Separating track demucs_preprocessed_input/quoc_master_1st_1000_preprocessed/Phụ Tình.mp3\n"
     ]
    },
    {
     "name": "stderr",
     "output_type": "stream",
     "text": [
      "100%|██████████████████████████████████████████████| 269.09999999999997/269.09999999999997 [00:06<00:00, 41.49seconds/s]\n"
     ]
    },
    {
     "name": "stdout",
     "output_type": "stream",
     "text": [
      "Separating track demucs_preprocessed_input/quoc_master_1st_1000_preprocessed/Đêm Trôi Về Giấc Mơ.mp3\n"
     ]
    },
    {
     "name": "stderr",
     "output_type": "stream",
     "text": [
      "100%|██████████████████████████████████████████████████████████████████████| 204.75/204.75 [00:05<00:00, 39.84seconds/s]\n"
     ]
    },
    {
     "name": "stdout",
     "output_type": "stream",
     "text": [
      "Separating track demucs_preprocessed_input/quoc_master_1st_1000_preprocessed/Gửi Về Nơi Cuối Đất.mp3\n"
     ]
    },
    {
     "name": "stderr",
     "output_type": "stream",
     "text": [
      "100%|██████████████████████████████████████████████| 298.34999999999997/298.34999999999997 [00:07<00:00, 42.02seconds/s]\n"
     ]
    },
    {
     "name": "stdout",
     "output_type": "stream",
     "text": [
      "Separating track demucs_preprocessed_input/quoc_master_1st_1000_preprocessed/Cơn Mơ Tình Ái.mp3\n"
     ]
    },
    {
     "name": "stderr",
     "output_type": "stream",
     "text": [
      "100%|██████████████████████████████████████████████████████████████████████| 333.45/333.45 [00:07<00:00, 41.78seconds/s]\n"
     ]
    },
    {
     "name": "stdout",
     "output_type": "stream",
     "text": [
      "Separating track demucs_preprocessed_input/quoc_master_1st_1000_preprocessed/Mật Đắng.mp3\n"
     ]
    },
    {
     "name": "stderr",
     "output_type": "stream",
     "text": [
      "100%|████████████████████████████████████████████████████████████████████████| 245.7/245.7 [00:05<00:00, 41.96seconds/s]\n"
     ]
    },
    {
     "name": "stdout",
     "output_type": "stream",
     "text": [
      "Separating track demucs_preprocessed_input/quoc_master_1st_1000_preprocessed/Trách Ai Vô Tình.mp3\n"
     ]
    },
    {
     "name": "stderr",
     "output_type": "stream",
     "text": [
      "100%|██████████████████████████████████████████████████████████████████████| 263.25/263.25 [00:06<00:00, 41.74seconds/s]\n"
     ]
    },
    {
     "name": "stdout",
     "output_type": "stream",
     "text": [
      "Separating track demucs_preprocessed_input/quoc_master_1st_1000_preprocessed/Người Ta Nói Tôi Dối Gian.mp3\n"
     ]
    },
    {
     "name": "stderr",
     "output_type": "stream",
     "text": [
      "100%|██████████████████████████████████████████████| 269.09999999999997/269.09999999999997 [00:06<00:00, 41.65seconds/s]\n"
     ]
    },
    {
     "name": "stdout",
     "output_type": "stream",
     "text": [
      "Separating track demucs_preprocessed_input/quoc_master_1st_1000_preprocessed/Nghèo.mp3\n"
     ]
    },
    {
     "name": "stderr",
     "output_type": "stream",
     "text": [
      "100%|██████████████████████████████████████████████████████████████████████| 274.95/274.95 [00:06<00:00, 41.18seconds/s]\n"
     ]
    },
    {
     "name": "stdout",
     "output_type": "stream",
     "text": [
      "Separating track demucs_preprocessed_input/quoc_master_1st_1000_preprocessed/Có Bao Giờ Anh Tiếc Nhớ.mp3\n"
     ]
    },
    {
     "name": "stderr",
     "output_type": "stream",
     "text": [
      "100%|████████████████████████████████████████████████████████████████████████| 234.0/234.0 [00:05<00:00, 41.00seconds/s]\n"
     ]
    },
    {
     "name": "stdout",
     "output_type": "stream",
     "text": [
      "Separating track demucs_preprocessed_input/quoc_master_1st_1000_preprocessed/LK： Màu Xanh Kỷ Niệm.mp3\n"
     ]
    },
    {
     "name": "stderr",
     "output_type": "stream",
     "text": [
      "100%|██████████████████████████████████████████████████████████████████████| 333.45/333.45 [00:07<00:00, 42.32seconds/s]\n"
     ]
    },
    {
     "name": "stdout",
     "output_type": "stream",
     "text": [
      "Separating track demucs_preprocessed_input/quoc_master_1st_1000_preprocessed/Đóa Hoa Vô Ưu.mp3\n"
     ]
    },
    {
     "name": "stderr",
     "output_type": "stream",
     "text": [
      "100%|████████████████████████████████████████████████████████████████████████| 257.4/257.4 [00:06<00:00, 41.23seconds/s]\n"
     ]
    },
    {
     "name": "stdout",
     "output_type": "stream",
     "text": [
      "Separating track demucs_preprocessed_input/quoc_master_1st_1000_preprocessed/Bà Xã Tôi Number One.mp3\n"
     ]
    },
    {
     "name": "stderr",
     "output_type": "stream",
     "text": [
      "100%|██████████████████████████████████████████████████████████████████████| 263.25/263.25 [00:06<00:00, 40.91seconds/s]\n"
     ]
    },
    {
     "name": "stdout",
     "output_type": "stream",
     "text": [
      "Separating track demucs_preprocessed_input/quoc_master_1st_1000_preprocessed/Điệu Ru Ca Tình Yêu.mp3\n"
     ]
    },
    {
     "name": "stderr",
     "output_type": "stream",
     "text": [
      "100%|████████████████████████████████████████████████████████████████████████| 210.6/210.6 [00:05<00:00, 40.82seconds/s]\n"
     ]
    },
    {
     "name": "stdout",
     "output_type": "stream",
     "text": [
      "Separating track demucs_preprocessed_input/quoc_master_1st_1000_preprocessed/Anh Cất Em Đi Nhé.mp3\n"
     ]
    },
    {
     "name": "stderr",
     "output_type": "stream",
     "text": [
      "100%|██████████████████████████████████████████████| 280.79999999999995/280.79999999999995 [00:06<00:00, 41.32seconds/s]\n"
     ]
    },
    {
     "name": "stdout",
     "output_type": "stream",
     "text": [
      "Separating track demucs_preprocessed_input/quoc_master_1st_1000_preprocessed/Cào Cào Bay Trong Gió.mp3\n"
     ]
    },
    {
     "name": "stderr",
     "output_type": "stream",
     "text": [
      "100%|██████████████████████████████████████████████████████████████████████| 274.95/274.95 [00:06<00:00, 42.18seconds/s]\n"
     ]
    },
    {
     "name": "stdout",
     "output_type": "stream",
     "text": [
      "Separating track demucs_preprocessed_input/quoc_master_1st_1000_preprocessed/Điều Dành Cho Anh.mp3\n"
     ]
    },
    {
     "name": "stderr",
     "output_type": "stream",
     "text": [
      "100%|██████████████████████████████████████████████| 269.09999999999997/269.09999999999997 [00:06<00:00, 41.16seconds/s]\n"
     ]
    },
    {
     "name": "stdout",
     "output_type": "stream",
     "text": [
      "Separating track demucs_preprocessed_input/quoc_master_1st_1000_preprocessed/Anh Vẫn Mơ.mp3\n"
     ]
    },
    {
     "name": "stderr",
     "output_type": "stream",
     "text": [
      "100%|██████████████████████████████████████████████████████████████████████| 274.95/274.95 [00:06<00:00, 41.79seconds/s]\n"
     ]
    },
    {
     "name": "stdout",
     "output_type": "stream",
     "text": [
      "Separating track demucs_preprocessed_input/quoc_master_1st_1000_preprocessed/Chỉ Còn Một Mình Em.mp3\n"
     ]
    },
    {
     "name": "stderr",
     "output_type": "stream",
     "text": [
      "100%|████████████████████████████████████████████████████████████████████████| 292.5/292.5 [00:06<00:00, 41.92seconds/s]\n"
     ]
    },
    {
     "name": "stdout",
     "output_type": "stream",
     "text": [
      "Separating track demucs_preprocessed_input/quoc_master_1st_1000_preprocessed/Hãy Để Tình Ngủ Say (Remix).mp3\n"
     ]
    },
    {
     "name": "stderr",
     "output_type": "stream",
     "text": [
      "100%|██████████████████████████████████████████████| 228.14999999999998/228.14999999999998 [00:05<00:00, 40.99seconds/s]\n"
     ]
    },
    {
     "name": "stdout",
     "output_type": "stream",
     "text": [
      "Separating track demucs_preprocessed_input/quoc_master_1st_1000_preprocessed/Lý Bông Mai.mp3\n"
     ]
    },
    {
     "name": "stderr",
     "output_type": "stream",
     "text": [
      "100%|██████████████████████████████████████████████| 298.34999999999997/298.34999999999997 [00:07<00:00, 41.71seconds/s]\n"
     ]
    },
    {
     "name": "stdout",
     "output_type": "stream",
     "text": [
      "Separating track demucs_preprocessed_input/quoc_master_1st_1000_preprocessed/Anh Không Vui Chơi Đâu.mp3\n"
     ]
    },
    {
     "name": "stderr",
     "output_type": "stream",
     "text": [
      "100%|████████████████████████████████████████████████████████████████████████| 257.4/257.4 [00:06<00:00, 41.72seconds/s]\n"
     ]
    },
    {
     "name": "stdout",
     "output_type": "stream",
     "text": [
      "Separating track demucs_preprocessed_input/quoc_master_1st_1000_preprocessed/Lộp Độp.mp3\n"
     ]
    },
    {
     "name": "stderr",
     "output_type": "stream",
     "text": [
      "100%|██████████████████████████████████████████████| 169.64999999999998/169.64999999999998 [00:04<00:00, 40.62seconds/s]\n"
     ]
    },
    {
     "name": "stdout",
     "output_type": "stream",
     "text": [
      "Separating track demucs_preprocessed_input/quoc_master_1st_1000_preprocessed/Kỷ Niệm Xưa.mp3\n"
     ]
    },
    {
     "name": "stderr",
     "output_type": "stream",
     "text": [
      "100%|██████████████████████████████████████████████| 298.34999999999997/298.34999999999997 [00:07<00:00, 41.79seconds/s]\n"
     ]
    },
    {
     "name": "stdout",
     "output_type": "stream",
     "text": [
      "Separating track demucs_preprocessed_input/quoc_master_1st_1000_preprocessed/Em Ra Đi Mùa Thu.mp3\n"
     ]
    },
    {
     "name": "stderr",
     "output_type": "stream",
     "text": [
      "100%|██████████████████████████████████████████████| 269.09999999999997/269.09999999999997 [00:06<00:00, 41.40seconds/s]\n"
     ]
    },
    {
     "name": "stdout",
     "output_type": "stream",
     "text": [
      "Separating track demucs_preprocessed_input/quoc_master_1st_1000_preprocessed/Mùa Đông Là Để Yêu.mp3\n"
     ]
    },
    {
     "name": "stderr",
     "output_type": "stream",
     "text": [
      "100%|████████████████████████████████████████████████████████████████████████| 304.2/304.2 [00:07<00:00, 42.10seconds/s]\n"
     ]
    },
    {
     "name": "stdout",
     "output_type": "stream",
     "text": [
      "Separating track demucs_preprocessed_input/quoc_master_1st_1000_preprocessed/Liên Khúc Ơn Nghĩa Sinh Thành.mp3\n"
     ]
    },
    {
     "name": "stderr",
     "output_type": "stream",
     "text": [
      "100%|██████████████████████████████████████████████| 298.34999999999997/298.34999999999997 [00:07<00:00, 42.44seconds/s]\n"
     ]
    },
    {
     "name": "stdout",
     "output_type": "stream",
     "text": [
      "Separating track demucs_preprocessed_input/quoc_master_1st_1000_preprocessed/Mùa Đông Ấy.mp3\n"
     ]
    },
    {
     "name": "stderr",
     "output_type": "stream",
     "text": [
      "100%|██████████████████████████████████████████████████████████████████████| 239.85/239.85 [00:05<00:00, 41.57seconds/s]\n"
     ]
    },
    {
     "name": "stdout",
     "output_type": "stream",
     "text": [
      "Separating track demucs_preprocessed_input/quoc_master_1st_1000_preprocessed/Đường Một Chiều (Cover).mp3\n"
     ]
    },
    {
     "name": "stderr",
     "output_type": "stream",
     "text": [
      "100%|████████████████████████████████████████████████████████████████████████| 257.4/257.4 [00:06<00:00, 42.04seconds/s]\n"
     ]
    },
    {
     "name": "stdout",
     "output_type": "stream",
     "text": [
      "Separating track demucs_preprocessed_input/quoc_master_1st_1000_preprocessed/Chờ Kẻ Phụ Tình.mp3\n"
     ]
    },
    {
     "name": "stderr",
     "output_type": "stream",
     "text": [
      "100%|████████████████████████████████████████████████████████████████████████| 374.4/374.4 [00:08<00:00, 42.52seconds/s]\n"
     ]
    },
    {
     "name": "stdout",
     "output_type": "stream",
     "text": [
      "Separating track demucs_preprocessed_input/quoc_master_1st_1000_preprocessed/Ước Muốn Của Em (Acoustic Version).mp3\n"
     ]
    },
    {
     "name": "stderr",
     "output_type": "stream",
     "text": [
      "100%|██████████████████████████████████████████████| 269.09999999999997/269.09999999999997 [00:06<00:00, 41.57seconds/s]\n"
     ]
    },
    {
     "name": "stdout",
     "output_type": "stream",
     "text": [
      "Separating track demucs_preprocessed_input/quoc_master_1st_1000_preprocessed/Bước Ra Từ Cuộc Chơi.mp3\n"
     ]
    },
    {
     "name": "stderr",
     "output_type": "stream",
     "text": [
      "100%|████████████████████████████████████████████████████████████████████████| 210.6/210.6 [00:05<00:00, 41.10seconds/s]\n"
     ]
    },
    {
     "name": "stdout",
     "output_type": "stream",
     "text": [
      "Separating track demucs_preprocessed_input/quoc_master_1st_1000_preprocessed/Chia Cách Một Đại Dương.mp3\n"
     ]
    },
    {
     "name": "stderr",
     "output_type": "stream",
     "text": [
      "100%|██████████████████████████████████████████████████████████████████████| 263.25/263.25 [00:06<00:00, 42.12seconds/s]\n"
     ]
    },
    {
     "name": "stdout",
     "output_type": "stream",
     "text": [
      "Separating track demucs_preprocessed_input/quoc_master_1st_1000_preprocessed/Tình Khúc Chẳng Bao Giờ Cũ.mp3\n"
     ]
    },
    {
     "name": "stderr",
     "output_type": "stream",
     "text": [
      "100%|██████████████████████████████████████████████| 269.09999999999997/269.09999999999997 [00:06<00:00, 42.03seconds/s]\n"
     ]
    },
    {
     "name": "stdout",
     "output_type": "stream",
     "text": [
      "Separating track demucs_preprocessed_input/quoc_master_1st_1000_preprocessed/Bài Tango Ngày Ấy.mp3\n"
     ]
    },
    {
     "name": "stderr",
     "output_type": "stream",
     "text": [
      "100%|██████████████████████████████████████████████| 228.14999999999998/228.14999999999998 [00:05<00:00, 41.49seconds/s]\n"
     ]
    },
    {
     "name": "stdout",
     "output_type": "stream",
     "text": [
      "Separating track demucs_preprocessed_input/quoc_master_1st_1000_preprocessed/Mashup： Trăng Sơn Cước, Về Với Em.mp3\n"
     ]
    },
    {
     "name": "stderr",
     "output_type": "stream",
     "text": [
      "100%|██████████████████████████████████████████████| 251.54999999999998/251.54999999999998 [00:06<00:00, 41.49seconds/s]\n"
     ]
    },
    {
     "name": "stdout",
     "output_type": "stream",
     "text": [
      "Separating track demucs_preprocessed_input/quoc_master_1st_1000_preprocessed/Sợ Bắt Đầu.mp3\n"
     ]
    },
    {
     "name": "stderr",
     "output_type": "stream",
     "text": [
      "100%|██████████████████████████████████████████████| 298.34999999999997/298.34999999999997 [00:07<00:00, 41.61seconds/s]\n"
     ]
    },
    {
     "name": "stdout",
     "output_type": "stream",
     "text": [
      "Separating track demucs_preprocessed_input/quoc_master_1st_1000_preprocessed/Ngày Đó.mp3\n"
     ]
    },
    {
     "name": "stderr",
     "output_type": "stream",
     "text": [
      "100%|██████████████████████████████████████████████████████████████████████| 263.25/263.25 [00:06<00:00, 41.21seconds/s]\n"
     ]
    },
    {
     "name": "stdout",
     "output_type": "stream",
     "text": [
      "Separating track demucs_preprocessed_input/quoc_master_1st_1000_preprocessed/052 (Không Phai 2).mp3\n"
     ]
    },
    {
     "name": "stderr",
     "output_type": "stream",
     "text": [
      "100%|██████████████████████████████████████████████| 169.64999999999998/169.64999999999998 [00:04<00:00, 39.59seconds/s]\n"
     ]
    },
    {
     "name": "stdout",
     "output_type": "stream",
     "text": [
      "Separating track demucs_preprocessed_input/quoc_master_1st_1000_preprocessed/Trong Nỗi Đau Tình Cờ.mp3\n"
     ]
    },
    {
     "name": "stderr",
     "output_type": "stream",
     "text": [
      "100%|██████████████████████████████████████████████████████████████████████| 216.45/216.45 [00:05<00:00, 40.57seconds/s]\n"
     ]
    },
    {
     "name": "stdout",
     "output_type": "stream",
     "text": [
      "Separating track demucs_preprocessed_input/quoc_master_1st_1000_preprocessed/Tìm Lại Nụ Cười.mp3\n"
     ]
    },
    {
     "name": "stderr",
     "output_type": "stream",
     "text": [
      "100%|██████████████████████████████████████████████| 222.29999999999998/222.29999999999998 [00:05<00:00, 40.61seconds/s]\n"
     ]
    },
    {
     "name": "stdout",
     "output_type": "stream",
     "text": [
      "Separating track demucs_preprocessed_input/quoc_master_1st_1000_preprocessed/Bé Mắt Nhung.mp3\n"
     ]
    },
    {
     "name": "stderr",
     "output_type": "stream",
     "text": [
      "100%|██████████████████████████████████████████████| 222.29999999999998/222.29999999999998 [00:05<00:00, 40.98seconds/s]\n"
     ]
    },
    {
     "name": "stdout",
     "output_type": "stream",
     "text": [
      "Separating track demucs_preprocessed_input/quoc_master_1st_1000_preprocessed/Về Đây Em Nhé.mp3\n"
     ]
    },
    {
     "name": "stderr",
     "output_type": "stream",
     "text": [
      "100%|██████████████████████████████████████████████████████████████████████| 216.45/216.45 [00:05<00:00, 40.42seconds/s]\n"
     ]
    },
    {
     "name": "stdout",
     "output_type": "stream",
     "text": [
      "Separating track demucs_preprocessed_input/quoc_master_1st_1000_preprocessed/Đi Ra Đi Vào.mp3\n"
     ]
    },
    {
     "name": "stderr",
     "output_type": "stream",
     "text": [
      "100%|██████████████████████████████████████████████| 198.89999999999998/198.89999999999998 [00:04<00:00, 40.16seconds/s]\n"
     ]
    },
    {
     "name": "stdout",
     "output_type": "stream",
     "text": [
      "Separating track demucs_preprocessed_input/quoc_master_1st_1000_preprocessed/Anh Em MaCau (SinKra remix).mp3\n"
     ]
    },
    {
     "name": "stderr",
     "output_type": "stream",
     "text": [
      "100%|██████████████████████████████████████████████| 222.29999999999998/222.29999999999998 [00:05<00:00, 40.11seconds/s]\n"
     ]
    },
    {
     "name": "stdout",
     "output_type": "stream",
     "text": [
      "Separating track demucs_preprocessed_input/quoc_master_1st_1000_preprocessed/Treo Ngược Cành Cây.mp3\n"
     ]
    },
    {
     "name": "stderr",
     "output_type": "stream",
     "text": [
      "100%|██████████████████████████████████████████████| 269.09999999999997/269.09999999999997 [00:06<00:00, 41.45seconds/s]\n"
     ]
    },
    {
     "name": "stdout",
     "output_type": "stream",
     "text": [
      "Separating track demucs_preprocessed_input/quoc_master_1st_1000_preprocessed/Gọi Phone Cho Bé.mp3\n"
     ]
    },
    {
     "name": "stderr",
     "output_type": "stream",
     "text": [
      "100%|████████████████████████████████████████████████████████████████████████| 245.7/245.7 [00:05<00:00, 41.21seconds/s]\n"
     ]
    },
    {
     "name": "stdout",
     "output_type": "stream",
     "text": [
      "Separating track demucs_preprocessed_input/quoc_master_1st_1000_preprocessed/Đợi Em Về.mp3\n"
     ]
    },
    {
     "name": "stderr",
     "output_type": "stream",
     "text": [
      "100%|████████████████████████████████████████████████████████████████████████| 304.2/304.2 [00:07<00:00, 41.37seconds/s]\n"
     ]
    },
    {
     "name": "stdout",
     "output_type": "stream",
     "text": [
      "Separating track demucs_preprocessed_input/quoc_master_1st_1000_preprocessed/Và Em Đã Biết.mp3\n"
     ]
    },
    {
     "name": "stderr",
     "output_type": "stream",
     "text": [
      "100%|██████████████████████████████████████████████| 298.34999999999997/298.34999999999997 [00:07<00:00, 41.73seconds/s]\n"
     ]
    },
    {
     "name": "stdout",
     "output_type": "stream",
     "text": [
      "Separating track demucs_preprocessed_input/quoc_master_1st_1000_preprocessed/Chỉ Cần Có Phật.mp3\n"
     ]
    },
    {
     "name": "stderr",
     "output_type": "stream",
     "text": [
      "100%|██████████████████████████████████████████████████████████████████████| 239.85/239.85 [00:05<00:00, 41.88seconds/s]\n"
     ]
    },
    {
     "name": "stdout",
     "output_type": "stream",
     "text": [
      "Separating track demucs_preprocessed_input/quoc_master_1st_1000_preprocessed/Nỗi Niềm Chưa Ngỏ.mp3\n"
     ]
    },
    {
     "name": "stderr",
     "output_type": "stream",
     "text": [
      "100%|██████████████████████████████████████████████████████████████████████| 321.75/321.75 [00:07<00:00, 42.23seconds/s]\n"
     ]
    },
    {
     "name": "stdout",
     "output_type": "stream",
     "text": [
      "Separating track demucs_preprocessed_input/quoc_master_1st_1000_preprocessed/Múc Ánh Trăng Vàng.mp3\n"
     ]
    },
    {
     "name": "stderr",
     "output_type": "stream",
     "text": [
      "100%|██████████████████████████████████████████████████████████████████████| 274.95/274.95 [00:06<00:00, 41.63seconds/s]\n"
     ]
    },
    {
     "name": "stdout",
     "output_type": "stream",
     "text": [
      "Separating track demucs_preprocessed_input/quoc_master_1st_1000_preprocessed/Nha Trang Ngày Về.mp3\n"
     ]
    },
    {
     "name": "stderr",
     "output_type": "stream",
     "text": [
      "100%|████████████████████████████████████████████████████████████████████████| 315.9/315.9 [00:07<00:00, 42.39seconds/s]\n"
     ]
    },
    {
     "name": "stdout",
     "output_type": "stream",
     "text": [
      "Separating track demucs_preprocessed_input/quoc_master_1st_1000_preprocessed/Đừng Lau Nước Mắt Cho Em.mp3\n"
     ]
    },
    {
     "name": "stderr",
     "output_type": "stream",
     "text": [
      "100%|██████████████████████████████████████████████| 280.79999999999995/280.79999999999995 [00:06<00:00, 42.17seconds/s]\n"
     ]
    },
    {
     "name": "stdout",
     "output_type": "stream",
     "text": [
      "Separating track demucs_preprocessed_input/quoc_master_1st_1000_preprocessed/Âm Thanh Buồn.mp3\n"
     ]
    },
    {
     "name": "stderr",
     "output_type": "stream",
     "text": [
      "100%|██████████████████████████████████████████████| 198.89999999999998/198.89999999999998 [00:04<00:00, 41.60seconds/s]\n"
     ]
    },
    {
     "name": "stdout",
     "output_type": "stream",
     "text": [
      "Separating track demucs_preprocessed_input/quoc_master_1st_1000_preprocessed/Đi Tìm Kỷ Niệm.mp3\n"
     ]
    },
    {
     "name": "stderr",
     "output_type": "stream",
     "text": [
      "100%|████████████████████████████████████████████████████████████████████████| 234.0/234.0 [00:05<00:00, 40.94seconds/s]\n"
     ]
    },
    {
     "name": "stdout",
     "output_type": "stream",
     "text": [
      "Separating track demucs_preprocessed_input/quoc_master_1st_1000_preprocessed/Giàu Sang.mp3\n"
     ]
    },
    {
     "name": "stderr",
     "output_type": "stream",
     "text": [
      "100%|████████████████████████████████████████████████████████████████████████| 234.0/234.0 [00:05<00:00, 41.55seconds/s]\n"
     ]
    },
    {
     "name": "stdout",
     "output_type": "stream",
     "text": [
      "Separating track demucs_preprocessed_input/quoc_master_1st_1000_preprocessed/Khúc Chiều Thu.mp3\n"
     ]
    },
    {
     "name": "stderr",
     "output_type": "stream",
     "text": [
      "100%|██████████████████████████████████████████████| 356.84999999999997/356.84999999999997 [00:08<00:00, 41.88seconds/s]\n"
     ]
    },
    {
     "name": "stdout",
     "output_type": "stream",
     "text": [
      "Separating track demucs_preprocessed_input/quoc_master_1st_1000_preprocessed/Kéo Khỏi Cô Đơn.mp3\n"
     ]
    },
    {
     "name": "stderr",
     "output_type": "stream",
     "text": [
      "100%|██████████████████████████████████████████████| 228.14999999999998/228.14999999999998 [00:05<00:00, 41.45seconds/s]\n"
     ]
    },
    {
     "name": "stdout",
     "output_type": "stream",
     "text": [
      "Separating track demucs_preprocessed_input/quoc_master_1st_1000_preprocessed/Cảm Ơn.mp3\n"
     ]
    },
    {
     "name": "stderr",
     "output_type": "stream",
     "text": [
      "100%|██████████████████████████████████████████████████████████████████████| 345.15/345.15 [00:08<00:00, 42.22seconds/s]\n"
     ]
    },
    {
     "name": "stdout",
     "output_type": "stream",
     "text": [
      "Separating track demucs_preprocessed_input/quoc_master_1st_1000_preprocessed/Anh trở về.mp3\n"
     ]
    },
    {
     "name": "stderr",
     "output_type": "stream",
     "text": [
      "100%|██████████████████████████████████████████████████████████████████████| 204.75/204.75 [00:04<00:00, 41.02seconds/s]\n"
     ]
    },
    {
     "name": "stdout",
     "output_type": "stream",
     "text": [
      "Separating track demucs_preprocessed_input/quoc_master_1st_1000_preprocessed/Bỏ Lại.mp3\n"
     ]
    },
    {
     "name": "stderr",
     "output_type": "stream",
     "text": [
      "100%|██████████████████████████████████████████████████████████████████████| 286.65/286.65 [00:06<00:00, 41.26seconds/s]\n"
     ]
    },
    {
     "name": "stdout",
     "output_type": "stream",
     "text": [
      "Separating track demucs_preprocessed_input/quoc_master_1st_1000_preprocessed/Nếu Như Và Nếu Như.mp3\n"
     ]
    },
    {
     "name": "stderr",
     "output_type": "stream",
     "text": [
      "100%|██████████████████████████████████████████████| 228.14999999999998/228.14999999999998 [00:05<00:00, 41.31seconds/s]\n"
     ]
    },
    {
     "name": "stdout",
     "output_type": "stream",
     "text": [
      "Separating track demucs_preprocessed_input/quoc_master_1st_1000_preprocessed/Biển Nước Mắt.mp3\n"
     ]
    },
    {
     "name": "stderr",
     "output_type": "stream",
     "text": [
      "100%|██████████████████████████████████████████████| 198.89999999999998/198.89999999999998 [00:04<00:00, 41.17seconds/s]\n"
     ]
    },
    {
     "name": "stdout",
     "output_type": "stream",
     "text": [
      "Separating track demucs_preprocessed_input/quoc_master_1st_1000_preprocessed/Chuyện Tình Bướm Hoa.mp3\n"
     ]
    },
    {
     "name": "stderr",
     "output_type": "stream",
     "text": [
      "100%|██████████████████████████████████████████████| 198.89999999999998/198.89999999999998 [00:04<00:00, 40.71seconds/s]\n"
     ]
    },
    {
     "name": "stdout",
     "output_type": "stream",
     "text": [
      "Separating track demucs_preprocessed_input/quoc_master_1st_1000_preprocessed/Buông... Em Yêu Anh.mp3\n"
     ]
    },
    {
     "name": "stderr",
     "output_type": "stream",
     "text": [
      "100%|██████████████████████████████████████████████| 228.14999999999998/228.14999999999998 [00:05<00:00, 42.05seconds/s]\n"
     ]
    },
    {
     "name": "stdout",
     "output_type": "stream",
     "text": [
      "Separating track demucs_preprocessed_input/quoc_master_1st_1000_preprocessed/365 Ngày Yêu (Remix).mp3\n"
     ]
    },
    {
     "name": "stderr",
     "output_type": "stream",
     "text": [
      "100%|██████████████████████████████████████████████████████████████████████| 216.45/216.45 [00:05<00:00, 41.18seconds/s]\n"
     ]
    },
    {
     "name": "stdout",
     "output_type": "stream",
     "text": [
      "Separating track demucs_preprocessed_input/quoc_master_1st_1000_preprocessed/Hành Trang Nước Mắt.mp3\n"
     ]
    },
    {
     "name": "stderr",
     "output_type": "stream",
     "text": [
      "100%|██████████████████████████████████████████████████████████████████████| 333.45/333.45 [00:07<00:00, 42.26seconds/s]\n"
     ]
    },
    {
     "name": "stdout",
     "output_type": "stream",
     "text": [
      "Separating track demucs_preprocessed_input/quoc_master_1st_1000_preprocessed/Ốc Đắng Buồn Ai.mp3\n"
     ]
    },
    {
     "name": "stderr",
     "output_type": "stream",
     "text": [
      "100%|██████████████████████████████████████████████| 339.29999999999995/339.29999999999995 [00:08<00:00, 42.36seconds/s]\n"
     ]
    },
    {
     "name": "stdout",
     "output_type": "stream",
     "text": [
      "Separating track demucs_preprocessed_input/quoc_master_1st_1000_preprocessed/Giờ Mới Biết.mp3\n"
     ]
    },
    {
     "name": "stderr",
     "output_type": "stream",
     "text": [
      "100%|██████████████████████████████████████████████| 298.34999999999997/298.34999999999997 [00:07<00:00, 41.94seconds/s]\n"
     ]
    },
    {
     "name": "stdout",
     "output_type": "stream",
     "text": [
      "Separating track demucs_preprocessed_input/quoc_master_1st_1000_preprocessed/Hà Nội Những Đêm Không Ngủ.mp3\n"
     ]
    },
    {
     "name": "stderr",
     "output_type": "stream",
     "text": [
      "100%|██████████████████████████████████████████████████████████████████████| 274.95/274.95 [00:06<00:00, 41.54seconds/s]\n"
     ]
    },
    {
     "name": "stdout",
     "output_type": "stream",
     "text": [
      "Separating track demucs_preprocessed_input/quoc_master_1st_1000_preprocessed/Con Tim Em Đã Đổi Thay.mp3\n"
     ]
    },
    {
     "name": "stderr",
     "output_type": "stream",
     "text": [
      "100%|██████████████████████████████████████████████████████████████████████| 239.85/239.85 [00:05<00:00, 41.13seconds/s]\n"
     ]
    },
    {
     "name": "stdout",
     "output_type": "stream",
     "text": [
      "Separating track demucs_preprocessed_input/quoc_master_1st_1000_preprocessed/Em Vẫn Chờ.mp3\n"
     ]
    },
    {
     "name": "stderr",
     "output_type": "stream",
     "text": [
      "100%|██████████████████████████████████████████████| 310.04999999999995/310.04999999999995 [00:07<00:00, 41.27seconds/s]\n"
     ]
    },
    {
     "name": "stdout",
     "output_type": "stream",
     "text": [
      "Separating track demucs_preprocessed_input/quoc_master_1st_1000_preprocessed/Mối Tình Xa Xưa.mp3\n"
     ]
    },
    {
     "name": "stderr",
     "output_type": "stream",
     "text": [
      "100%|████████████████████████████████████████████████████████████████████████| 304.2/304.2 [00:07<00:00, 41.11seconds/s]\n"
     ]
    },
    {
     "name": "stdout",
     "output_type": "stream",
     "text": [
      "Separating track demucs_preprocessed_input/quoc_master_1st_1000_preprocessed/Canh Bạc Cuộc Đời.mp3\n"
     ]
    },
    {
     "name": "stderr",
     "output_type": "stream",
     "text": [
      "100%|██████████████████████████████████████████████████████████████████████| 204.75/204.75 [00:05<00:00, 40.95seconds/s]\n"
     ]
    },
    {
     "name": "stdout",
     "output_type": "stream",
     "text": [
      "Separating track demucs_preprocessed_input/quoc_master_1st_1000_preprocessed/Ai Cũng Yêu Chú Mèo.mp3\n"
     ]
    },
    {
     "name": "stderr",
     "output_type": "stream",
     "text": [
      "100%|██████████████████████████████████████████████████████████████████████| 181.35/181.35 [00:04<00:00, 41.03seconds/s]\n"
     ]
    },
    {
     "name": "stdout",
     "output_type": "stream",
     "text": [
      "Separating track demucs_preprocessed_input/quoc_master_1st_1000_preprocessed/Giấc Mơ Hiền.mp3\n"
     ]
    },
    {
     "name": "stderr",
     "output_type": "stream",
     "text": [
      "100%|██████████████████████████████████████████████████████████████████████| 204.75/204.75 [00:04<00:00, 41.01seconds/s]\n"
     ]
    },
    {
     "name": "stdout",
     "output_type": "stream",
     "text": [
      "Separating track demucs_preprocessed_input/quoc_master_1st_1000_preprocessed/Con Sông Tuổi Thơ Tôi.mp3\n"
     ]
    },
    {
     "name": "stderr",
     "output_type": "stream",
     "text": [
      "100%|██████████████████████████████████████████████| 298.34999999999997/298.34999999999997 [00:07<00:00, 41.42seconds/s]\n"
     ]
    },
    {
     "name": "stdout",
     "output_type": "stream",
     "text": [
      "Separating track demucs_preprocessed_input/quoc_master_1st_1000_preprocessed/Bên Anh Đêm Nay.mp3\n"
     ]
    },
    {
     "name": "stderr",
     "output_type": "stream",
     "text": [
      "100%|██████████████████████████████████████████████████████████████████████| 204.75/204.75 [00:05<00:00, 38.10seconds/s]\n"
     ]
    },
    {
     "name": "stdout",
     "output_type": "stream",
     "text": [
      "Separating track demucs_preprocessed_input/quoc_master_1st_1000_preprocessed/Bất Chợt Chiều Thứ Bảy.mp3\n"
     ]
    },
    {
     "name": "stderr",
     "output_type": "stream",
     "text": [
      "100%|████████████████████████████████████████████████████████████████████████| 245.7/245.7 [00:06<00:00, 40.43seconds/s]\n"
     ]
    },
    {
     "name": "stdout",
     "output_type": "stream",
     "text": [
      "Separating track demucs_preprocessed_input/quoc_master_1st_1000_preprocessed/Tình Ca Mùa Xuân.mp3\n"
     ]
    },
    {
     "name": "stderr",
     "output_type": "stream",
     "text": [
      "100%|██████████████████████████████████████████████████████████████████████| 263.25/263.25 [00:06<00:00, 40.10seconds/s]\n"
     ]
    },
    {
     "name": "stdout",
     "output_type": "stream",
     "text": [
      "Separating track demucs_preprocessed_input/quoc_master_1st_1000_preprocessed/Đọa Đày.mp3\n"
     ]
    },
    {
     "name": "stderr",
     "output_type": "stream",
     "text": [
      "100%|██████████████████████████████████████████████████████████████████████| 274.95/274.95 [00:06<00:00, 41.16seconds/s]\n"
     ]
    },
    {
     "name": "stdout",
     "output_type": "stream",
     "text": [
      "Separating track demucs_preprocessed_input/quoc_master_1st_1000_preprocessed/Tự Thân Nàng Cứu Độ Nàng.mp3\n"
     ]
    },
    {
     "name": "stderr",
     "output_type": "stream",
     "text": [
      "100%|██████████████████████████████████████████████| 251.54999999999998/251.54999999999998 [00:06<00:00, 40.40seconds/s]\n"
     ]
    },
    {
     "name": "stdout",
     "output_type": "stream",
     "text": [
      "Separating track demucs_preprocessed_input/quoc_master_1st_1000_preprocessed/Chia Tay Thôi Em (Locprox Remix).mp3\n"
     ]
    },
    {
     "name": "stderr",
     "output_type": "stream",
     "text": [
      "100%|████████████████████████████████████████████████████████████████████████| 210.6/210.6 [00:05<00:00, 40.86seconds/s]\n"
     ]
    },
    {
     "name": "stdout",
     "output_type": "stream",
     "text": [
      "Separating track demucs_preprocessed_input/quoc_master_1st_1000_preprocessed/Xuân Đẹp Làm Sao.mp3\n"
     ]
    },
    {
     "name": "stderr",
     "output_type": "stream",
     "text": [
      "100%|████████████████████████████████████████████████████████████████████████| 234.0/234.0 [00:05<00:00, 41.52seconds/s]\n"
     ]
    },
    {
     "name": "stdout",
     "output_type": "stream",
     "text": [
      "Separating track demucs_preprocessed_input/quoc_master_1st_1000_preprocessed/Đời Trai Lênh Đênh 2 (NMG REMIX).mp3\n"
     ]
    },
    {
     "name": "stderr",
     "output_type": "stream",
     "text": [
      "100%|████████████████████████████████████████████████████████████████████████| 245.7/245.7 [00:05<00:00, 41.02seconds/s]\n"
     ]
    },
    {
     "name": "stdout",
     "output_type": "stream",
     "text": [
      "Separating track demucs_preprocessed_input/quoc_master_1st_1000_preprocessed/Anh Cũng Như Vậy Thôi.mp3\n"
     ]
    },
    {
     "name": "stderr",
     "output_type": "stream",
     "text": [
      "100%|████████████████████████████████████████████████████████████████████████| 292.5/292.5 [00:07<00:00, 41.50seconds/s]\n"
     ]
    },
    {
     "name": "stdout",
     "output_type": "stream",
     "text": [
      "Separating track demucs_preprocessed_input/quoc_master_1st_1000_preprocessed/Giọt Mưa Thu (Album Tại Sao Là Không).mp3\n"
     ]
    },
    {
     "name": "stderr",
     "output_type": "stream",
     "text": [
      "100%|██████████████████████████████████████████████| 386.09999999999997/386.09999999999997 [00:09<00:00, 42.09seconds/s]\n"
     ]
    },
    {
     "name": "stdout",
     "output_type": "stream",
     "text": [
      "Separating track demucs_preprocessed_input/quoc_master_1st_1000_preprocessed/Bên Kia Đời Nhau.mp3\n"
     ]
    },
    {
     "name": "stderr",
     "output_type": "stream",
     "text": [
      "100%|██████████████████████████████████████████████████████████████████████| 274.95/274.95 [00:06<00:00, 40.72seconds/s]\n"
     ]
    },
    {
     "name": "stdout",
     "output_type": "stream",
     "text": [
      "Separating track demucs_preprocessed_input/quoc_master_1st_1000_preprocessed/Tại Ai.mp3\n"
     ]
    },
    {
     "name": "stderr",
     "output_type": "stream",
     "text": [
      "100%|██████████████████████████████████████████████████████████████████████| 286.65/286.65 [00:06<00:00, 41.93seconds/s]\n"
     ]
    },
    {
     "name": "stdout",
     "output_type": "stream",
     "text": [
      "Separating track demucs_preprocessed_input/quoc_master_1st_1000_preprocessed/Bể Cái Ly.mp3\n"
     ]
    },
    {
     "name": "stderr",
     "output_type": "stream",
     "text": [
      "100%|████████████████████████████████████████████████████████████████████████| 257.4/257.4 [00:06<00:00, 41.83seconds/s]\n"
     ]
    },
    {
     "name": "stdout",
     "output_type": "stream",
     "text": [
      "Separating track demucs_preprocessed_input/quoc_master_1st_1000_preprocessed/Dù Em Đã Xa.mp3\n"
     ]
    },
    {
     "name": "stderr",
     "output_type": "stream",
     "text": [
      "100%|██████████████████████████████████████████████████████████████████████| 286.65/286.65 [00:06<00:00, 41.48seconds/s]\n"
     ]
    },
    {
     "name": "stdout",
     "output_type": "stream",
     "text": [
      "Separating track demucs_preprocessed_input/quoc_master_1st_1000_preprocessed/Khoảng Trời Trong Mắt Ai.mp3\n"
     ]
    },
    {
     "name": "stderr",
     "output_type": "stream",
     "text": [
      "100%|██████████████████████████████████████████████| 228.14999999999998/228.14999999999998 [00:05<00:00, 40.44seconds/s]\n"
     ]
    },
    {
     "name": "stdout",
     "output_type": "stream",
     "text": [
      "Separating track demucs_preprocessed_input/quoc_master_1st_1000_preprocessed/Delilah - Tình Hận.mp3\n"
     ]
    },
    {
     "name": "stderr",
     "output_type": "stream",
     "text": [
      "100%|██████████████████████████████████████████████████████████████████████| 216.45/216.45 [00:05<00:00, 40.98seconds/s]\n"
     ]
    },
    {
     "name": "stdout",
     "output_type": "stream",
     "text": [
      "Separating track demucs_preprocessed_input/quoc_master_1st_1000_preprocessed/Em Có Từng Yêu.mp3\n"
     ]
    },
    {
     "name": "stderr",
     "output_type": "stream",
     "text": [
      "100%|██████████████████████████████████████████████| 310.04999999999995/310.04999999999995 [00:07<00:00, 41.80seconds/s]\n"
     ]
    },
    {
     "name": "stdout",
     "output_type": "stream",
     "text": [
      "Separating track demucs_preprocessed_input/quoc_master_1st_1000_preprocessed/Lan Và Điệp 1.mp3\n"
     ]
    },
    {
     "name": "stderr",
     "output_type": "stream",
     "text": [
      "100%|████████████████████████████████████████████████████████████████████████| 351.0/351.0 [00:08<00:00, 41.46seconds/s]\n"
     ]
    },
    {
     "name": "stdout",
     "output_type": "stream",
     "text": [
      "Separating track demucs_preprocessed_input/quoc_master_1st_1000_preprocessed/Tình Sầu.mp3\n"
     ]
    },
    {
     "name": "stderr",
     "output_type": "stream",
     "text": [
      "100%|██████████████████████████████████████████████████████████████████████| 122.85/122.85 [00:03<00:00, 38.54seconds/s]\n"
     ]
    },
    {
     "name": "stdout",
     "output_type": "stream",
     "text": [
      "Separating track demucs_preprocessed_input/quoc_master_1st_1000_preprocessed/Ánh Sáng Nơi Cuối Con Đường.mp3\n"
     ]
    },
    {
     "name": "stderr",
     "output_type": "stream",
     "text": [
      "100%|██████████████████████████████████████████████████████████████████████| 274.95/274.95 [00:06<00:00, 42.03seconds/s]\n"
     ]
    },
    {
     "name": "stdout",
     "output_type": "stream",
     "text": [
      "Separating track demucs_preprocessed_input/quoc_master_1st_1000_preprocessed/Rồi Em Sẽ Về.mp3\n"
     ]
    },
    {
     "name": "stderr",
     "output_type": "stream",
     "text": [
      "100%|██████████████████████████████████████████████| 222.29999999999998/222.29999999999998 [00:05<00:00, 40.91seconds/s]\n"
     ]
    },
    {
     "name": "stdout",
     "output_type": "stream",
     "text": [
      "Separating track demucs_preprocessed_input/quoc_master_1st_1000_preprocessed/Anh Sáu Về Quê.mp3\n"
     ]
    },
    {
     "name": "stderr",
     "output_type": "stream",
     "text": [
      "100%|██████████████████████████████████████████████| 269.09999999999997/269.09999999999997 [00:06<00:00, 41.94seconds/s]\n"
     ]
    },
    {
     "name": "stdout",
     "output_type": "stream",
     "text": [
      "Separating track demucs_preprocessed_input/quoc_master_1st_1000_preprocessed/Câu Chuyện Hoa Ngọc Lan.mp3\n"
     ]
    },
    {
     "name": "stderr",
     "output_type": "stream",
     "text": [
      "100%|████████████████████████████████████████████████████████████████████████| 315.9/315.9 [00:07<00:00, 41.46seconds/s]\n"
     ]
    },
    {
     "name": "stdout",
     "output_type": "stream",
     "text": [
      "Separating track demucs_preprocessed_input/quoc_master_1st_1000_preprocessed/Lý Tình Xuân.mp3\n"
     ]
    },
    {
     "name": "stderr",
     "output_type": "stream",
     "text": [
      "100%|████████████████████████████████████████████████████████████████████████| 175.5/175.5 [00:04<00:00, 39.99seconds/s]\n"
     ]
    },
    {
     "name": "stdout",
     "output_type": "stream",
     "text": [
      "Separating track demucs_preprocessed_input/quoc_master_1st_1000_preprocessed/LK Lẻ Bóng & Ai Cho Tôi Tình Yêu.mp3\n"
     ]
    },
    {
     "name": "stderr",
     "output_type": "stream",
     "text": [
      "100%|██████████████████████████████████████████████████████████████████████| 450.45/450.45 [00:10<00:00, 42.31seconds/s]\n"
     ]
    },
    {
     "name": "stdout",
     "output_type": "stream",
     "text": [
      "Separating track demucs_preprocessed_input/quoc_master_1st_1000_preprocessed/Lạc Trong Giấc Mơ.mp3\n"
     ]
    },
    {
     "name": "stderr",
     "output_type": "stream",
     "text": [
      "100%|████████████████████████████████████████████████████████████████████████| 210.6/210.6 [00:05<00:00, 40.93seconds/s]\n"
     ]
    },
    {
     "name": "stdout",
     "output_type": "stream",
     "text": [
      "Separating track demucs_preprocessed_input/quoc_master_1st_1000_preprocessed/Khoái Ăn Sang Sáng Ăn Khoai.mp3\n"
     ]
    },
    {
     "name": "stderr",
     "output_type": "stream",
     "text": [
      "100%|████████████████████████████████████████████████████████████████████████| 187.2/187.2 [00:04<00:00, 40.55seconds/s]\n"
     ]
    },
    {
     "name": "stdout",
     "output_type": "stream",
     "text": [
      "Separating track demucs_preprocessed_input/quoc_master_1st_1000_preprocessed/Cha Mãi Bên Con.mp3\n"
     ]
    },
    {
     "name": "stderr",
     "output_type": "stream",
     "text": [
      "100%|██████████████████████████████████████████████| 310.04999999999995/310.04999999999995 [00:07<00:00, 41.65seconds/s]\n"
     ]
    },
    {
     "name": "stdout",
     "output_type": "stream",
     "text": [
      "Separating track demucs_preprocessed_input/quoc_master_1st_1000_preprocessed/Cú Hích Trên Không.mp3\n"
     ]
    },
    {
     "name": "stderr",
     "output_type": "stream",
     "text": [
      "100%|██████████████████████████████████████████████| 228.14999999999998/228.14999999999998 [00:05<00:00, 41.48seconds/s]\n"
     ]
    },
    {
     "name": "stdout",
     "output_type": "stream",
     "text": [
      "Separating track demucs_preprocessed_input/quoc_master_1st_1000_preprocessed/Nếu Em Không Gặp May.mp3\n"
     ]
    },
    {
     "name": "stderr",
     "output_type": "stream",
     "text": [
      "100%|██████████████████████████████████████████████████████████████████████| 263.25/263.25 [00:06<00:00, 41.77seconds/s]\n"
     ]
    },
    {
     "name": "stdout",
     "output_type": "stream",
     "text": [
      "Separating track demucs_preprocessed_input/quoc_master_1st_1000_preprocessed/Không Một Lần Hỏi Han.mp3\n"
     ]
    },
    {
     "name": "stderr",
     "output_type": "stream",
     "text": [
      "100%|██████████████████████████████████████████████████████████████████████| 263.25/263.25 [00:06<00:00, 41.93seconds/s]\n"
     ]
    },
    {
     "name": "stdout",
     "output_type": "stream",
     "text": [
      "Separating track demucs_preprocessed_input/quoc_master_1st_1000_preprocessed/Đến Trong Mùa Xuân.mp3\n"
     ]
    },
    {
     "name": "stderr",
     "output_type": "stream",
     "text": [
      "100%|██████████████████████████████████████████████████████████████████████| 274.95/274.95 [00:06<00:00, 41.38seconds/s]\n"
     ]
    },
    {
     "name": "stdout",
     "output_type": "stream",
     "text": [
      "Separating track demucs_preprocessed_input/quoc_master_1st_1000_preprocessed/Bởi Vì Anh Yêu Em.mp3\n"
     ]
    },
    {
     "name": "stderr",
     "output_type": "stream",
     "text": [
      "100%|██████████████████████████████████████████████| 163.79999999999998/163.79999999999998 [00:04<00:00, 40.39seconds/s]\n"
     ]
    },
    {
     "name": "stdout",
     "output_type": "stream",
     "text": [
      "Separating track demucs_preprocessed_input/quoc_master_1st_1000_preprocessed/Một Ngày Mới.mp3\n"
     ]
    },
    {
     "name": "stderr",
     "output_type": "stream",
     "text": [
      "100%|████████████████████████████████████████████████████████████████████████| 210.6/210.6 [00:05<00:00, 41.15seconds/s]\n"
     ]
    },
    {
     "name": "stdout",
     "output_type": "stream",
     "text": [
      "Separating track demucs_preprocessed_input/quoc_master_1st_1000_preprocessed/Mùa Ly Bỏ Lại.mp3\n"
     ]
    },
    {
     "name": "stderr",
     "output_type": "stream",
     "text": [
      "100%|████████████████████████████████████████████████████████████████████████| 351.0/351.0 [00:08<00:00, 40.89seconds/s]\n"
     ]
    },
    {
     "name": "stdout",
     "output_type": "stream",
     "text": [
      "Separating track demucs_preprocessed_input/quoc_master_1st_1000_preprocessed/Đợi Đến Tháng 13.mp3\n"
     ]
    },
    {
     "name": "stderr",
     "output_type": "stream",
     "text": [
      "100%|████████████████████████████████████████████████████████████████████████| 187.2/187.2 [00:04<00:00, 40.64seconds/s]\n"
     ]
    },
    {
     "name": "stdout",
     "output_type": "stream",
     "text": [
      "Separating track demucs_preprocessed_input/quoc_master_1st_1000_preprocessed/Em Ơi (Beat).mp3\n"
     ]
    },
    {
     "name": "stderr",
     "output_type": "stream",
     "text": [
      "100%|████████████████████████████████████████████████████████████████████████| 210.6/210.6 [00:05<00:00, 40.65seconds/s]\n"
     ]
    },
    {
     "name": "stdout",
     "output_type": "stream",
     "text": [
      "Separating track demucs_preprocessed_input/quoc_master_1st_1000_preprocessed/Bao Ngày Nhớ Bao Ngày Đau.mp3\n"
     ]
    },
    {
     "name": "stderr",
     "output_type": "stream",
     "text": [
      "100%|██████████████████████████████████████████████| 280.79999999999995/280.79999999999995 [00:06<00:00, 41.05seconds/s]\n"
     ]
    },
    {
     "name": "stdout",
     "output_type": "stream",
     "text": [
      "Separating track demucs_preprocessed_input/quoc_master_1st_1000_preprocessed/Không Gian Chơi Vơi.mp3\n"
     ]
    },
    {
     "name": "stderr",
     "output_type": "stream",
     "text": [
      "100%|██████████████████████████████████████████████| 228.14999999999998/228.14999999999998 [00:05<00:00, 42.12seconds/s]\n"
     ]
    },
    {
     "name": "stdout",
     "output_type": "stream",
     "text": [
      "Separating track demucs_preprocessed_input/quoc_master_1st_1000_preprocessed/Chuyến Xe Miền Tây.mp3\n"
     ]
    },
    {
     "name": "stderr",
     "output_type": "stream",
     "text": [
      "100%|████████████████████████████████████████████████████████████████████████| 362.7/362.7 [00:08<00:00, 41.49seconds/s]\n"
     ]
    },
    {
     "name": "stdout",
     "output_type": "stream",
     "text": [
      "Separating track demucs_preprocessed_input/quoc_master_1st_1000_preprocessed/Áng Mây Vô Tình (Remix).mp3\n"
     ]
    },
    {
     "name": "stderr",
     "output_type": "stream",
     "text": [
      "100%|██████████████████████████████████████████████| 222.29999999999998/222.29999999999998 [00:05<00:00, 41.27seconds/s]\n"
     ]
    },
    {
     "name": "stdout",
     "output_type": "stream",
     "text": [
      "Separating track demucs_preprocessed_input/quoc_master_1st_1000_preprocessed/Vũ Điệu Tình Nồng.mp3\n"
     ]
    },
    {
     "name": "stderr",
     "output_type": "stream",
     "text": [
      "100%|██████████████████████████████████████████████████████████████████████| 274.95/274.95 [00:06<00:00, 42.03seconds/s]\n"
     ]
    },
    {
     "name": "stdout",
     "output_type": "stream",
     "text": [
      "Separating track demucs_preprocessed_input/quoc_master_1st_1000_preprocessed/Bản Tình Ca Tuyết Trắng.mp3\n"
     ]
    },
    {
     "name": "stderr",
     "output_type": "stream",
     "text": [
      "100%|██████████████████████████████████████████████████████████████████████| 286.65/286.65 [00:06<00:00, 41.94seconds/s]\n"
     ]
    },
    {
     "name": "stdout",
     "output_type": "stream",
     "text": [
      "Separating track demucs_preprocessed_input/quoc_master_1st_1000_preprocessed/Càng Trưởng Thành Càng Cô Đơn ⧸ Gửi Người Yêu Cũ (Live).mp3\n"
     ]
    },
    {
     "name": "stderr",
     "output_type": "stream",
     "text": [
      "100%|██████████████████████████████████████████████████████████████████████| 321.75/321.75 [00:07<00:00, 41.49seconds/s]\n"
     ]
    },
    {
     "name": "stdout",
     "output_type": "stream",
     "text": [
      "Separating track demucs_preprocessed_input/quoc_master_1st_1000_preprocessed/Cho Niềm Vui Lớn Mãi.mp3\n"
     ]
    },
    {
     "name": "stderr",
     "output_type": "stream",
     "text": [
      "100%|████████████████████████████████████████████████████████████████████████| 245.7/245.7 [00:05<00:00, 41.36seconds/s]\n"
     ]
    },
    {
     "name": "stdout",
     "output_type": "stream",
     "text": [
      "Separating track demucs_preprocessed_input/quoc_master_1st_1000_preprocessed/Tình Cũ Bao Giờ Cũng Tốt Hơn？ (Remix).mp3\n"
     ]
    },
    {
     "name": "stderr",
     "output_type": "stream",
     "text": [
      "100%|██████████████████████████████████████████████████████████████████████| 239.85/239.85 [00:05<00:00, 41.03seconds/s]\n"
     ]
    },
    {
     "name": "stdout",
     "output_type": "stream",
     "text": [
      "Separating track demucs_preprocessed_input/quoc_master_1st_1000_preprocessed/Người Ấy Sẽ Quên Em Thôi.mp3\n"
     ]
    },
    {
     "name": "stderr",
     "output_type": "stream",
     "text": [
      "100%|██████████████████████████████████████████████| 339.29999999999995/339.29999999999995 [00:08<00:00, 41.55seconds/s]\n"
     ]
    },
    {
     "name": "stdout",
     "output_type": "stream",
     "text": [
      "Separating track demucs_preprocessed_input/quoc_master_1st_1000_preprocessed/Hình Như Em Say.mp3\n"
     ]
    },
    {
     "name": "stderr",
     "output_type": "stream",
     "text": [
      "100%|████████████████████████████████████████████████████████████████████████| 210.6/210.6 [00:05<00:00, 41.89seconds/s]\n"
     ]
    },
    {
     "name": "stdout",
     "output_type": "stream",
     "text": [
      "Separating track demucs_preprocessed_input/quoc_master_1st_1000_preprocessed/Chàng Trai Hành Tây.mp3\n"
     ]
    },
    {
     "name": "stderr",
     "output_type": "stream",
     "text": [
      "100%|██████████████████████████████████████████████████████████████████████| 263.25/263.25 [00:06<00:00, 41.38seconds/s]\n"
     ]
    },
    {
     "name": "stdout",
     "output_type": "stream",
     "text": [
      "Separating track demucs_preprocessed_input/quoc_master_1st_1000_preprocessed/Em Sẽ Quên Người Ơi.mp3\n"
     ]
    },
    {
     "name": "stderr",
     "output_type": "stream",
     "text": [
      "100%|████████████████████████████████████████████████████████████████████████| 245.7/245.7 [00:05<00:00, 41.14seconds/s]\n"
     ]
    },
    {
     "name": "stdout",
     "output_type": "stream",
     "text": [
      "Separating track demucs_preprocessed_input/quoc_master_1st_1000_preprocessed/Khúc Hát Tặng Vợ Yêu.mp3\n"
     ]
    },
    {
     "name": "stderr",
     "output_type": "stream",
     "text": [
      "100%|██████████████████████████████████████████████████████████████████████| 274.95/274.95 [00:06<00:00, 41.74seconds/s]\n"
     ]
    },
    {
     "name": "stdout",
     "output_type": "stream",
     "text": [
      "Separating track demucs_preprocessed_input/quoc_master_1st_1000_preprocessed/Áo Ấm Yêu Thương.mp3\n"
     ]
    },
    {
     "name": "stderr",
     "output_type": "stream",
     "text": [
      "100%|██████████████████████████████████████████████████████████████████████| 263.25/263.25 [00:06<00:00, 42.17seconds/s]\n"
     ]
    },
    {
     "name": "stdout",
     "output_type": "stream",
     "text": [
      "Separating track demucs_preprocessed_input/quoc_master_1st_1000_preprocessed/Hãy Hứa Chờ Anh Em Nhé.mp3\n"
     ]
    },
    {
     "name": "stderr",
     "output_type": "stream",
     "text": [
      "100%|████████████████████████████████████████████████████████████████████████| 128.7/128.7 [00:03<00:00, 40.37seconds/s]\n"
     ]
    },
    {
     "name": "stdout",
     "output_type": "stream",
     "text": [
      "Separating track demucs_preprocessed_input/quoc_master_1st_1000_preprocessed/Ave Maria Trăng Từ Bi.mp3\n"
     ]
    },
    {
     "name": "stderr",
     "output_type": "stream",
     "text": [
      "100%|██████████████████████████████████████████████| 280.79999999999995/280.79999999999995 [00:06<00:00, 42.00seconds/s]\n"
     ]
    },
    {
     "name": "stdout",
     "output_type": "stream",
     "text": [
      "Separating track demucs_preprocessed_input/quoc_master_1st_1000_preprocessed/Ừ Thì Anh Sai.mp3\n"
     ]
    },
    {
     "name": "stderr",
     "output_type": "stream",
     "text": [
      "100%|██████████████████████████████████████████████████████████████████████| 321.75/321.75 [00:07<00:00, 42.12seconds/s]\n"
     ]
    },
    {
     "name": "stdout",
     "output_type": "stream",
     "text": [
      "Separating track demucs_preprocessed_input/quoc_master_1st_1000_preprocessed/Lệ Đắng Tình Yêu.mp3\n"
     ]
    },
    {
     "name": "stderr",
     "output_type": "stream",
     "text": [
      "100%|████████████████████████████████████████████████████████████████████████| 245.7/245.7 [00:05<00:00, 40.96seconds/s]\n"
     ]
    },
    {
     "name": "stdout",
     "output_type": "stream",
     "text": [
      "Separating track demucs_preprocessed_input/quoc_master_1st_1000_preprocessed/Tình Nghèo.mp3\n"
     ]
    },
    {
     "name": "stderr",
     "output_type": "stream",
     "text": [
      "100%|██████████████████████████████████████████████████████████████████████| 263.25/263.25 [00:06<00:00, 41.15seconds/s]\n"
     ]
    },
    {
     "name": "stdout",
     "output_type": "stream",
     "text": [
      "Separating track demucs_preprocessed_input/quoc_master_1st_1000_preprocessed/Gió Mùa Xuân Tới.mp3\n"
     ]
    },
    {
     "name": "stderr",
     "output_type": "stream",
     "text": [
      "100%|████████████████████████████████████████████████████████████████████████| 304.2/304.2 [00:07<00:00, 41.29seconds/s]\n"
     ]
    },
    {
     "name": "stdout",
     "output_type": "stream",
     "text": [
      "Separating track demucs_preprocessed_input/quoc_master_1st_1000_preprocessed/LK Kiếp Lang Thang (Remix).mp3\n"
     ]
    },
    {
     "name": "stderr",
     "output_type": "stream",
     "text": [
      "100%|████████████████████████████████████████████████████████████████████████| 526.5/526.5 [00:12<00:00, 42.11seconds/s]\n"
     ]
    },
    {
     "name": "stdout",
     "output_type": "stream",
     "text": [
      "Separating track demucs_preprocessed_input/quoc_master_1st_1000_preprocessed/Khi Tình Đã Xa.mp3\n"
     ]
    },
    {
     "name": "stderr",
     "output_type": "stream",
     "text": [
      "100%|████████████████████████████████████████████████████████████████████████| 257.4/257.4 [00:06<00:00, 40.36seconds/s]\n"
     ]
    },
    {
     "name": "stdout",
     "output_type": "stream",
     "text": [
      "Separating track demucs_preprocessed_input/quoc_master_1st_1000_preprocessed/Người Yêu Ơi.mp3\n"
     ]
    },
    {
     "name": "stderr",
     "output_type": "stream",
     "text": [
      "100%|██████████████████████████████████████████████████████████████████████| 263.25/263.25 [00:06<00:00, 41.54seconds/s]\n"
     ]
    },
    {
     "name": "stdout",
     "output_type": "stream",
     "text": [
      "Separating track demucs_preprocessed_input/quoc_master_1st_1000_preprocessed/Một Ngày Đẹp Trời.mp3\n"
     ]
    },
    {
     "name": "stderr",
     "output_type": "stream",
     "text": [
      "100%|████████████████████████████████████████████████████████████████████████| 175.5/175.5 [00:04<00:00, 41.05seconds/s]\n"
     ]
    },
    {
     "name": "stdout",
     "output_type": "stream",
     "text": [
      "Separating track demucs_preprocessed_input/quoc_master_1st_1000_preprocessed/Nhật Ký Biển.mp3\n"
     ]
    },
    {
     "name": "stderr",
     "output_type": "stream",
     "text": [
      "100%|██████████████████████████████████████████████████████████████████████| 239.85/239.85 [00:05<00:00, 41.65seconds/s]\n"
     ]
    },
    {
     "name": "stdout",
     "output_type": "stream",
     "text": [
      "Separating track demucs_preprocessed_input/quoc_master_1st_1000_preprocessed/Khi Con Tim Không Mang Đến Tình Yêu.mp3\n"
     ]
    },
    {
     "name": "stderr",
     "output_type": "stream",
     "text": [
      "100%|██████████████████████████████████████████████████████████████████████| 274.95/274.95 [00:06<00:00, 41.67seconds/s]\n"
     ]
    },
    {
     "name": "stdout",
     "output_type": "stream",
     "text": [
      "Separating track demucs_preprocessed_input/quoc_master_1st_1000_preprocessed/Kiếp Nào Có Yêu Nhau.mp3\n"
     ]
    },
    {
     "name": "stderr",
     "output_type": "stream",
     "text": [
      "100%|██████████████████████████████████████████████| 368.54999999999995/368.54999999999995 [00:08<00:00, 41.60seconds/s]\n"
     ]
    },
    {
     "name": "stdout",
     "output_type": "stream",
     "text": [
      "Separating track demucs_preprocessed_input/quoc_master_1st_1000_preprocessed/Còn Nhớ Không Em.mp3\n"
     ]
    },
    {
     "name": "stderr",
     "output_type": "stream",
     "text": [
      "100%|██████████████████████████████████████████████| 251.54999999999998/251.54999999999998 [00:06<00:00, 41.45seconds/s]\n"
     ]
    },
    {
     "name": "stdout",
     "output_type": "stream",
     "text": [
      "Separating track demucs_preprocessed_input/quoc_master_1st_1000_preprocessed/Chúng Con Bên Giấc Ngủ Của Người.mp3\n"
     ]
    },
    {
     "name": "stderr",
     "output_type": "stream",
     "text": [
      "100%|██████████████████████████████████████████████████████████████████████| 274.95/274.95 [00:06<00:00, 41.53seconds/s]\n"
     ]
    },
    {
     "name": "stdout",
     "output_type": "stream",
     "text": [
      "Separating track demucs_preprocessed_input/quoc_master_1st_1000_preprocessed/Anh Thế Nào？.mp3\n"
     ]
    },
    {
     "name": "stderr",
     "output_type": "stream",
     "text": [
      "100%|████████████████████████████████████████████████████████████████████████| 234.0/234.0 [00:05<00:00, 41.39seconds/s]\n"
     ]
    },
    {
     "name": "stdout",
     "output_type": "stream",
     "text": [
      "Separating track demucs_preprocessed_input/quoc_master_1st_1000_preprocessed/Anh Cứ Thử Quên Em.mp3\n"
     ]
    },
    {
     "name": "stderr",
     "output_type": "stream",
     "text": [
      "100%|██████████████████████████████████████████████| 198.89999999999998/198.89999999999998 [00:04<00:00, 40.55seconds/s]\n"
     ]
    },
    {
     "name": "stdout",
     "output_type": "stream",
     "text": [
      "Separating track demucs_preprocessed_input/quoc_master_1st_1000_preprocessed/Con Đê Buồn.mp3\n"
     ]
    },
    {
     "name": "stderr",
     "output_type": "stream",
     "text": [
      "100%|████████████████████████████████████████████████████████████████████████| 304.2/304.2 [00:07<00:00, 42.20seconds/s]\n"
     ]
    },
    {
     "name": "stdout",
     "output_type": "stream",
     "text": [
      "Separating track demucs_preprocessed_input/quoc_master_1st_1000_preprocessed/Cây Đa.mp3\n"
     ]
    },
    {
     "name": "stderr",
     "output_type": "stream",
     "text": [
      "100%|██████████████████████████████████████████████| 280.79999999999995/280.79999999999995 [00:06<00:00, 42.39seconds/s]\n"
     ]
    },
    {
     "name": "stdout",
     "output_type": "stream",
     "text": [
      "Separating track demucs_preprocessed_input/quoc_master_1st_1000_preprocessed/Em Không Như Anh Nghĩ.mp3\n"
     ]
    },
    {
     "name": "stderr",
     "output_type": "stream",
     "text": [
      "100%|████████████████████████████████████████████████████████████████████████| 234.0/234.0 [00:05<00:00, 41.52seconds/s]\n"
     ]
    },
    {
     "name": "stdout",
     "output_type": "stream",
     "text": [
      "Separating track demucs_preprocessed_input/quoc_master_1st_1000_preprocessed/Còn đâu lời anh hứa.mp3\n"
     ]
    },
    {
     "name": "stderr",
     "output_type": "stream",
     "text": [
      "100%|██████████████████████████████████████████████| 251.54999999999998/251.54999999999998 [00:06<00:00, 40.90seconds/s]\n"
     ]
    },
    {
     "name": "stdout",
     "output_type": "stream",
     "text": [
      "Separating track demucs_preprocessed_input/quoc_master_1st_1000_preprocessed/Tết Đến Rồi Sao Chẳng Thấy Em Đâu.mp3\n"
     ]
    },
    {
     "name": "stderr",
     "output_type": "stream",
     "text": [
      "100%|██████████████████████████████████████████████████████████████████████| 274.95/274.95 [00:06<00:00, 41.24seconds/s]\n"
     ]
    },
    {
     "name": "stdout",
     "output_type": "stream",
     "text": [
      "Separating track demucs_preprocessed_input/quoc_master_1st_1000_preprocessed/Cao Bằng Thân Yêu.mp3\n"
     ]
    },
    {
     "name": "stderr",
     "output_type": "stream",
     "text": [
      "100%|██████████████████████████████████████████████| 368.54999999999995/368.54999999999995 [00:08<00:00, 42.21seconds/s]\n"
     ]
    },
    {
     "name": "stdout",
     "output_type": "stream",
     "text": [
      "Separating track demucs_preprocessed_input/quoc_master_1st_1000_preprocessed/Aiii Chuyện Cũ Bán Hông？.mp3\n"
     ]
    },
    {
     "name": "stderr",
     "output_type": "stream",
     "text": [
      "100%|██████████████████████████████████████████████████████████████████████| 216.45/216.45 [00:05<00:00, 39.87seconds/s]\n"
     ]
    },
    {
     "name": "stdout",
     "output_type": "stream",
     "text": [
      "Separating track demucs_preprocessed_input/quoc_master_1st_1000_preprocessed/Chợt Nhận Ra.mp3\n"
     ]
    },
    {
     "name": "stderr",
     "output_type": "stream",
     "text": [
      "100%|██████████████████████████████████████████████| 298.34999999999997/298.34999999999997 [00:07<00:00, 40.91seconds/s]\n"
     ]
    },
    {
     "name": "stdout",
     "output_type": "stream",
     "text": [
      "Separating track demucs_preprocessed_input/quoc_master_1st_1000_preprocessed/Bình Minh Mùa Thu.mp3\n"
     ]
    },
    {
     "name": "stderr",
     "output_type": "stream",
     "text": [
      "100%|██████████████████████████████████████████████████████████████████████| 274.95/274.95 [00:06<00:00, 41.45seconds/s]\n"
     ]
    },
    {
     "name": "stdout",
     "output_type": "stream",
     "text": [
      "Separating track demucs_preprocessed_input/quoc_master_1st_1000_preprocessed/Đã Không Còn Yêu.mp3\n"
     ]
    },
    {
     "name": "stderr",
     "output_type": "stream",
     "text": [
      "100%|██████████████████████████████████████████████| 198.89999999999998/198.89999999999998 [00:04<00:00, 40.91seconds/s]\n"
     ]
    },
    {
     "name": "stdout",
     "output_type": "stream",
     "text": [
      "Separating track demucs_preprocessed_input/quoc_master_1st_1000_preprocessed/Liên Khúc Gió Về Miền Xuôi.mp3\n"
     ]
    },
    {
     "name": "stderr",
     "output_type": "stream",
     "text": [
      "100%|██████████████████████████████████████████████| 269.09999999999997/269.09999999999997 [00:06<00:00, 41.98seconds/s]\n"
     ]
    },
    {
     "name": "stdout",
     "output_type": "stream",
     "text": [
      "Separating track demucs_preprocessed_input/quoc_master_1st_1000_preprocessed/Da Nâu.mp3\n"
     ]
    },
    {
     "name": "stderr",
     "output_type": "stream",
     "text": [
      "100%|██████████████████████████████████████████████████████████████████████| 263.25/263.25 [00:06<00:00, 40.94seconds/s]\n"
     ]
    },
    {
     "name": "stdout",
     "output_type": "stream",
     "text": [
      "Separating track demucs_preprocessed_input/quoc_master_1st_1000_preprocessed/Thiên Hạ Hữu Tình.mp3\n"
     ]
    },
    {
     "name": "stderr",
     "output_type": "stream",
     "text": [
      "100%|██████████████████████████████████████████████| 298.34999999999997/298.34999999999997 [00:07<00:00, 41.70seconds/s]\n"
     ]
    },
    {
     "name": "stdout",
     "output_type": "stream",
     "text": [
      "Separating track demucs_preprocessed_input/quoc_master_1st_1000_preprocessed/Đừng Giận Lâu Con Gái Ơi.mp3\n"
     ]
    },
    {
     "name": "stderr",
     "output_type": "stream",
     "text": [
      "100%|██████████████████████████████████████████████████████████████████████| 181.35/181.35 [00:04<00:00, 40.95seconds/s]\n"
     ]
    },
    {
     "name": "stdout",
     "output_type": "stream",
     "text": [
      "Separating track demucs_preprocessed_input/quoc_master_1st_1000_preprocessed/Anh Mong Quay Về (Beat).mp3\n"
     ]
    },
    {
     "name": "stderr",
     "output_type": "stream",
     "text": [
      "100%|██████████████████████████████████████████████| 298.34999999999997/298.34999999999997 [00:07<00:00, 41.94seconds/s]\n"
     ]
    },
    {
     "name": "stdout",
     "output_type": "stream",
     "text": [
      "Separating track demucs_preprocessed_input/quoc_master_1st_1000_preprocessed/Liên Khúc Con Đường Xưa Em Đi.mp3\n"
     ]
    },
    {
     "name": "stderr",
     "output_type": "stream",
     "text": [
      "100%|████████████████████████████████████████████████████████████████████████| 374.4/374.4 [00:08<00:00, 41.96seconds/s]\n"
     ]
    },
    {
     "name": "stdout",
     "output_type": "stream",
     "text": [
      "Separating track demucs_preprocessed_input/quoc_master_1st_1000_preprocessed/Giấc Mơ Hòa Bình.mp3\n"
     ]
    },
    {
     "name": "stderr",
     "output_type": "stream",
     "text": [
      "100%|████████████████████████████████████████████████████████████████████████| 421.2/421.2 [00:10<00:00, 41.60seconds/s]\n"
     ]
    },
    {
     "name": "stdout",
     "output_type": "stream",
     "text": [
      "Separating track demucs_preprocessed_input/quoc_master_1st_1000_preprocessed/LK Top Hits ： Trả Nợ Tình Xa, Không Còn Mùa Thu, Trống Vắng, Giọt Sương Trên Mí Mắt, Mặt Trời Dịu Êm.mp3\n"
     ]
    },
    {
     "name": "stderr",
     "output_type": "stream",
     "text": [
      "100%|██████████████████████████████████████████████████████████████████████| 403.65/403.65 [00:09<00:00, 41.29seconds/s]\n"
     ]
    },
    {
     "name": "stdout",
     "output_type": "stream",
     "text": [
      "Separating track demucs_preprocessed_input/quoc_master_1st_1000_preprocessed/Ngày Em Đi.mp3\n"
     ]
    },
    {
     "name": "stderr",
     "output_type": "stream",
     "text": [
      "100%|██████████████████████████████████████████████████████████████████████| 286.65/286.65 [00:06<00:00, 41.41seconds/s]\n"
     ]
    },
    {
     "name": "stdout",
     "output_type": "stream",
     "text": [
      "Separating track demucs_preprocessed_input/quoc_master_1st_1000_preprocessed/Anh Sẽ.mp3\n"
     ]
    },
    {
     "name": "stderr",
     "output_type": "stream",
     "text": [
      "100%|████████████████████████████████████████████████████████████████████████| 257.4/257.4 [00:06<00:00, 41.71seconds/s]\n"
     ]
    },
    {
     "name": "stdout",
     "output_type": "stream",
     "text": [
      "Separating track demucs_preprocessed_input/quoc_master_1st_1000_preprocessed/Dù Biết.mp3\n"
     ]
    },
    {
     "name": "stderr",
     "output_type": "stream",
     "text": [
      "100%|██████████████████████████████████████████████| 222.29999999999998/222.29999999999998 [00:05<00:00, 41.81seconds/s]\n"
     ]
    },
    {
     "name": "stdout",
     "output_type": "stream",
     "text": [
      "Separating track demucs_preprocessed_input/quoc_master_1st_1000_preprocessed/Tình khúc buồn.mp3\n"
     ]
    },
    {
     "name": "stderr",
     "output_type": "stream",
     "text": [
      "100%|██████████████████████████████████████████████████████████████████████| 239.85/239.85 [00:05<00:00, 41.04seconds/s]\n"
     ]
    },
    {
     "name": "stdout",
     "output_type": "stream",
     "text": [
      "Separating track demucs_preprocessed_input/quoc_master_1st_1000_preprocessed/Dịu Ngọt Tình Yêu Thương.mp3\n"
     ]
    },
    {
     "name": "stderr",
     "output_type": "stream",
     "text": [
      "100%|██████████████████████████████████████████████| 269.09999999999997/269.09999999999997 [00:06<00:00, 40.86seconds/s]\n"
     ]
    },
    {
     "name": "stdout",
     "output_type": "stream",
     "text": [
      "Separating track demucs_preprocessed_input/quoc_master_1st_1000_preprocessed/Mãi Mãi Tình Say.mp3\n"
     ]
    },
    {
     "name": "stderr",
     "output_type": "stream",
     "text": [
      "100%|████████████████████████████████████████████████████████████████████████| 210.6/210.6 [00:05<00:00, 40.66seconds/s]\n"
     ]
    },
    {
     "name": "stdout",
     "output_type": "stream",
     "text": [
      "Separating track demucs_preprocessed_input/quoc_master_1st_1000_preprocessed/Tôi Đam Mê.mp3\n"
     ]
    },
    {
     "name": "stderr",
     "output_type": "stream",
     "text": [
      "100%|██████████████████████████████████████████████████████████████████████| 321.75/321.75 [00:07<00:00, 41.72seconds/s]\n"
     ]
    },
    {
     "name": "stdout",
     "output_type": "stream",
     "text": [
      "Separating track demucs_preprocessed_input/quoc_master_1st_1000_preprocessed/Biết Yêu Thật Nhiều.mp3\n"
     ]
    },
    {
     "name": "stderr",
     "output_type": "stream",
     "text": [
      "100%|████████████████████████████████████████████████████████████████████████| 210.6/210.6 [00:05<00:00, 39.16seconds/s]\n"
     ]
    },
    {
     "name": "stdout",
     "output_type": "stream",
     "text": [
      "Separating track demucs_preprocessed_input/quoc_master_1st_1000_preprocessed/Khi Em Ra Đi.mp3\n"
     ]
    },
    {
     "name": "stderr",
     "output_type": "stream",
     "text": [
      "100%|████████████████████████████████████████████████████████████████████████| 234.0/234.0 [00:05<00:00, 40.87seconds/s]\n"
     ]
    },
    {
     "name": "stdout",
     "output_type": "stream",
     "text": [
      "Separating track demucs_preprocessed_input/quoc_master_1st_1000_preprocessed/Phim Giả Tình Thật.mp3\n"
     ]
    },
    {
     "name": "stderr",
     "output_type": "stream",
     "text": [
      "100%|██████████████████████████████████████████████| 198.89999999999998/198.89999999999998 [00:04<00:00, 40.30seconds/s]\n"
     ]
    },
    {
     "name": "stdout",
     "output_type": "stream",
     "text": [
      "Separating track demucs_preprocessed_input/quoc_master_1st_1000_preprocessed/Tâm Sự Chiếc Áo Dòng (New Version).mp3\n"
     ]
    },
    {
     "name": "stderr",
     "output_type": "stream",
     "text": [
      "100%|██████████████████████████████████████████████| 280.79999999999995/280.79999999999995 [00:06<00:00, 41.39seconds/s]\n"
     ]
    },
    {
     "name": "stdout",
     "output_type": "stream",
     "text": [
      "Separating track demucs_preprocessed_input/quoc_master_1st_1000_preprocessed/Chúa Là Con Đường.mp3\n"
     ]
    },
    {
     "name": "stderr",
     "output_type": "stream",
     "text": [
      "100%|██████████████████████████████████████████████| 310.04999999999995/310.04999999999995 [00:07<00:00, 40.76seconds/s]\n"
     ]
    },
    {
     "name": "stdout",
     "output_type": "stream",
     "text": [
      "Separating track demucs_preprocessed_input/quoc_master_1st_1000_preprocessed/Liên Khúc Tình Nghèo Có Nhau - Ước Mộng Đôi Ta.mp3\n"
     ]
    },
    {
     "name": "stderr",
     "output_type": "stream",
     "text": [
      "100%|██████████████████████████████████████████████████████████████████████| 391.95/391.95 [00:09<00:00, 41.37seconds/s]\n"
     ]
    },
    {
     "name": "stdout",
     "output_type": "stream",
     "text": [
      "Separating track demucs_preprocessed_input/quoc_master_1st_1000_preprocessed/Khúc Tự Tình Mùa Xuân.mp3\n"
     ]
    },
    {
     "name": "stderr",
     "output_type": "stream",
     "text": [
      "100%|██████████████████████████████████████████████| 327.59999999999997/327.59999999999997 [00:08<00:00, 40.92seconds/s]\n"
     ]
    },
    {
     "name": "stdout",
     "output_type": "stream",
     "text": [
      "Separating track demucs_preprocessed_input/quoc_master_1st_1000_preprocessed/Anh, Em Và Đêm.mp3\n"
     ]
    },
    {
     "name": "stderr",
     "output_type": "stream",
     "text": [
      "100%|████████████████████████████████████████████████████████████████████████| 257.4/257.4 [00:06<00:00, 42.02seconds/s]\n"
     ]
    },
    {
     "name": "stdout",
     "output_type": "stream",
     "text": [
      "Separating track demucs_preprocessed_input/quoc_master_1st_1000_preprocessed/Yêu Anh Không.mp3\n"
     ]
    },
    {
     "name": "stderr",
     "output_type": "stream",
     "text": [
      "100%|██████████████████████████████████████████████| 228.14999999999998/228.14999999999998 [00:05<00:00, 42.22seconds/s]\n"
     ]
    },
    {
     "name": "stdout",
     "output_type": "stream",
     "text": [
      "Separating track demucs_preprocessed_input/quoc_master_1st_1000_preprocessed/Dòng Thời Gian.mp3\n"
     ]
    },
    {
     "name": "stderr",
     "output_type": "stream",
     "text": [
      "100%|██████████████████████████████████████████████| 140.39999999999998/140.39999999999998 [00:03<00:00, 40.28seconds/s]\n"
     ]
    },
    {
     "name": "stdout",
     "output_type": "stream",
     "text": [
      "Separating track demucs_preprocessed_input/quoc_master_1st_1000_preprocessed/Phút Giây Muộn Màng.mp3\n"
     ]
    },
    {
     "name": "stderr",
     "output_type": "stream",
     "text": [
      "100%|████████████████████████████████████████████████████████████████████████| 315.9/315.9 [00:07<00:00, 42.02seconds/s]\n"
     ]
    },
    {
     "name": "stdout",
     "output_type": "stream",
     "text": [
      "Separating track demucs_preprocessed_input/quoc_master_1st_1000_preprocessed/Anh Vẫn Cố Giả Vờ.mp3\n"
     ]
    },
    {
     "name": "stderr",
     "output_type": "stream",
     "text": [
      "100%|██████████████████████████████████████████████| 228.14999999999998/228.14999999999998 [00:05<00:00, 41.51seconds/s]\n"
     ]
    },
    {
     "name": "stdout",
     "output_type": "stream",
     "text": [
      "Separating track demucs_preprocessed_input/quoc_master_1st_1000_preprocessed/Phôi Pha.mp3\n"
     ]
    },
    {
     "name": "stderr",
     "output_type": "stream",
     "text": [
      "100%|████████████████████████████████████████████████████████████████████████| 304.2/304.2 [00:07<00:00, 41.12seconds/s]\n"
     ]
    },
    {
     "name": "stdout",
     "output_type": "stream",
     "text": [
      "Separating track demucs_preprocessed_input/quoc_master_1st_1000_preprocessed/Im Lặng Hơn Ngàn Lời Nói (Beat).mp3\n"
     ]
    },
    {
     "name": "stderr",
     "output_type": "stream",
     "text": [
      "100%|██████████████████████████████████████████████████████████████████████| 274.95/274.95 [00:06<00:00, 40.82seconds/s]\n"
     ]
    },
    {
     "name": "stdout",
     "output_type": "stream",
     "text": [
      "Separating track demucs_preprocessed_input/quoc_master_1st_1000_preprocessed/Vết Cắt.mp3\n"
     ]
    },
    {
     "name": "stderr",
     "output_type": "stream",
     "text": [
      "100%|████████████████████████████████████████████████████████████████████████| 234.0/234.0 [00:05<00:00, 41.32seconds/s]\n"
     ]
    },
    {
     "name": "stdout",
     "output_type": "stream",
     "text": [
      "Separating track demucs_preprocessed_input/quoc_master_1st_1000_preprocessed/Ngoại.mp3\n"
     ]
    },
    {
     "name": "stderr",
     "output_type": "stream",
     "text": [
      "100%|████████████████████████████████████████████████████████████████████████| 292.5/292.5 [00:07<00:00, 41.28seconds/s]\n"
     ]
    },
    {
     "name": "stdout",
     "output_type": "stream",
     "text": [
      "Separating track demucs_preprocessed_input/quoc_master_1st_1000_preprocessed/Bốn Năm Vợ Chồng.mp3\n"
     ]
    },
    {
     "name": "stderr",
     "output_type": "stream",
     "text": [
      "100%|████████████████████████████████████████████████████████████████████████| 292.5/292.5 [00:07<00:00, 41.39seconds/s]\n"
     ]
    },
    {
     "name": "stdout",
     "output_type": "stream",
     "text": [
      "Separating track demucs_preprocessed_input/quoc_master_1st_1000_preprocessed/Cõi Nhớ.mp3\n"
     ]
    },
    {
     "name": "stderr",
     "output_type": "stream",
     "text": [
      "100%|████████████████████████████████████████████████████████████████████████| 257.4/257.4 [00:06<00:00, 41.53seconds/s]\n"
     ]
    },
    {
     "name": "stdout",
     "output_type": "stream",
     "text": [
      "Separating track demucs_preprocessed_input/quoc_master_1st_1000_preprocessed/Ánh Nến Mong Manh.mp3\n"
     ]
    },
    {
     "name": "stderr",
     "output_type": "stream",
     "text": [
      "100%|██████████████████████████████████████████████| 140.39999999999998/140.39999999999998 [00:03<00:00, 40.89seconds/s]\n"
     ]
    },
    {
     "name": "stdout",
     "output_type": "stream",
     "text": [
      "Separating track demucs_preprocessed_input/quoc_master_1st_1000_preprocessed/Bên Em.mp3\n"
     ]
    },
    {
     "name": "stderr",
     "output_type": "stream",
     "text": [
      "100%|██████████████████████████████████████████████| 251.54999999999998/251.54999999999998 [00:06<00:00, 41.39seconds/s]\n"
     ]
    },
    {
     "name": "stdout",
     "output_type": "stream",
     "text": [
      "Separating track demucs_preprocessed_input/quoc_master_1st_1000_preprocessed/Dứt Khoát.mp3\n"
     ]
    },
    {
     "name": "stderr",
     "output_type": "stream",
     "text": [
      "100%|██████████████████████████████████████████████████████████████████████| 204.75/204.75 [00:04<00:00, 41.88seconds/s]\n"
     ]
    },
    {
     "name": "stdout",
     "output_type": "stream",
     "text": [
      "Separating track demucs_preprocessed_input/quoc_master_1st_1000_preprocessed/Tình Đã Phai.mp3\n"
     ]
    },
    {
     "name": "stderr",
     "output_type": "stream",
     "text": [
      "100%|██████████████████████████████████████████████| 222.29999999999998/222.29999999999998 [00:05<00:00, 41.62seconds/s]\n"
     ]
    },
    {
     "name": "stdout",
     "output_type": "stream",
     "text": [
      "Separating track demucs_preprocessed_input/quoc_master_1st_1000_preprocessed/Anh Muốn Quay Về.mp3\n"
     ]
    },
    {
     "name": "stderr",
     "output_type": "stream",
     "text": [
      "100%|██████████████████████████████████████████████████████████████████████| 263.25/263.25 [00:06<00:00, 41.94seconds/s]\n"
     ]
    },
    {
     "name": "stdout",
     "output_type": "stream",
     "text": [
      "Separating track demucs_preprocessed_input/quoc_master_1st_1000_preprocessed/Đời Tôi Chỉ Một Người.mp3\n"
     ]
    },
    {
     "name": "stderr",
     "output_type": "stream",
     "text": [
      "100%|██████████████████████████████████████████████| 310.04999999999995/310.04999999999995 [00:07<00:00, 41.24seconds/s]\n"
     ]
    },
    {
     "name": "stdout",
     "output_type": "stream",
     "text": [
      "Separating track demucs_preprocessed_input/quoc_master_1st_1000_preprocessed/Đừng Xa Em Người Ơi.mp3\n"
     ]
    },
    {
     "name": "stderr",
     "output_type": "stream",
     "text": [
      "100%|██████████████████████████████████████████████████████████████████████| 204.75/204.75 [00:04<00:00, 41.17seconds/s]\n"
     ]
    },
    {
     "name": "stdout",
     "output_type": "stream",
     "text": [
      "Separating track demucs_preprocessed_input/quoc_master_1st_1000_preprocessed/Lỡ Duyên Khó Gặp.mp3\n"
     ]
    },
    {
     "name": "stderr",
     "output_type": "stream",
     "text": [
      "100%|██████████████████████████████████████████████| 298.34999999999997/298.34999999999997 [00:07<00:00, 41.58seconds/s]\n"
     ]
    },
    {
     "name": "stdout",
     "output_type": "stream",
     "text": [
      "Separating track demucs_preprocessed_input/quoc_master_1st_1000_preprocessed/Tổn Thương Bằng Một Lời Nói.mp3\n"
     ]
    },
    {
     "name": "stderr",
     "output_type": "stream",
     "text": [
      "100%|██████████████████████████████████████████████████████████████████████| 286.65/286.65 [00:06<00:00, 41.85seconds/s]\n"
     ]
    },
    {
     "name": "stdout",
     "output_type": "stream",
     "text": [
      "Separating track demucs_preprocessed_input/quoc_master_1st_1000_preprocessed/Trong Vai Người Lạ.mp3\n"
     ]
    },
    {
     "name": "stderr",
     "output_type": "stream",
     "text": [
      "100%|████████████████████████████████████████████████████████████████████████| 315.9/315.9 [00:07<00:00, 42.18seconds/s]\n"
     ]
    },
    {
     "name": "stdout",
     "output_type": "stream",
     "text": [
      "Separating track demucs_preprocessed_input/quoc_master_1st_1000_preprocessed/Tu Hú Kêu Lạc Mùa.mp3\n"
     ]
    },
    {
     "name": "stderr",
     "output_type": "stream",
     "text": [
      "100%|██████████████████████████████████████████████| 339.29999999999995/339.29999999999995 [00:08<00:00, 41.45seconds/s]\n"
     ]
    },
    {
     "name": "stdout",
     "output_type": "stream",
     "text": [
      "Separating track demucs_preprocessed_input/quoc_master_1st_1000_preprocessed/Nỗi Buồn Không Tên.mp3\n"
     ]
    },
    {
     "name": "stderr",
     "output_type": "stream",
     "text": [
      "100%|██████████████████████████████████████████████████████████████████████| 333.45/333.45 [00:07<00:00, 42.12seconds/s]\n"
     ]
    },
    {
     "name": "stdout",
     "output_type": "stream",
     "text": [
      "Separating track demucs_preprocessed_input/quoc_master_1st_1000_preprocessed/Khi Yêu Trái Tim Yếu Mềm.mp3\n"
     ]
    },
    {
     "name": "stderr",
     "output_type": "stream",
     "text": [
      "100%|████████████████████████████████████████████████████████████████████████| 257.4/257.4 [00:06<00:00, 41.39seconds/s]\n"
     ]
    },
    {
     "name": "stdout",
     "output_type": "stream",
     "text": [
      "Separating track demucs_preprocessed_input/quoc_master_1st_1000_preprocessed/Cô Liêu (BLUE REMIX).mp3\n"
     ]
    },
    {
     "name": "stderr",
     "output_type": "stream",
     "text": [
      "100%|████████████████████████████████████████████████████████████████████████| 234.0/234.0 [00:05<00:00, 41.82seconds/s]\n"
     ]
    },
    {
     "name": "stdout",
     "output_type": "stream",
     "text": [
      "Separating track demucs_preprocessed_input/quoc_master_1st_1000_preprocessed/Cô Nàng Đỏng Đảnh.mp3\n"
     ]
    },
    {
     "name": "stderr",
     "output_type": "stream",
     "text": [
      "100%|██████████████████████████████████████████████| 269.09999999999997/269.09999999999997 [00:06<00:00, 41.20seconds/s]\n"
     ]
    },
    {
     "name": "stdout",
     "output_type": "stream",
     "text": [
      "Separating track demucs_preprocessed_input/quoc_master_1st_1000_preprocessed/3 Giây Nhớ 1 Đời Thương (Cover).mp3\n"
     ]
    },
    {
     "name": "stderr",
     "output_type": "stream",
     "text": [
      "100%|██████████████████████████████████████████████████████████████████████| 239.85/239.85 [00:05<00:00, 41.70seconds/s]\n"
     ]
    },
    {
     "name": "stdout",
     "output_type": "stream",
     "text": [
      "Separating track demucs_preprocessed_input/quoc_master_1st_1000_preprocessed/Cô Giáo Trẻ.mp3\n"
     ]
    },
    {
     "name": "stderr",
     "output_type": "stream",
     "text": [
      "100%|██████████████████████████████████████████████| 310.04999999999995/310.04999999999995 [00:07<00:00, 41.79seconds/s]\n"
     ]
    },
    {
     "name": "stdout",
     "output_type": "stream",
     "text": [
      "Separating track demucs_preprocessed_input/quoc_master_1st_1000_preprocessed/Nhớ Em Hơn Lúc Nào.mp3\n"
     ]
    },
    {
     "name": "stderr",
     "output_type": "stream",
     "text": [
      "100%|██████████████████████████████████████████████| 269.09999999999997/269.09999999999997 [00:06<00:00, 41.49seconds/s]\n"
     ]
    },
    {
     "name": "stdout",
     "output_type": "stream",
     "text": [
      "Separating track demucs_preprocessed_input/quoc_master_1st_1000_preprocessed/Lạ.mp3\n"
     ]
    },
    {
     "name": "stderr",
     "output_type": "stream",
     "text": [
      "100%|████████████████████████████████████████████████████████████████████████| 210.6/210.6 [00:05<00:00, 40.55seconds/s]\n"
     ]
    },
    {
     "name": "stdout",
     "output_type": "stream",
     "text": [
      "Separating track demucs_preprocessed_input/quoc_master_1st_1000_preprocessed/Bình Minh Trong Em (Like -Tình Yêu - Facebook - Khăn Rằn OST).mp3\n"
     ]
    },
    {
     "name": "stderr",
     "output_type": "stream",
     "text": [
      "100%|██████████████████████████████████████████████| 280.79999999999995/280.79999999999995 [00:06<00:00, 41.50seconds/s]\n"
     ]
    },
    {
     "name": "stdout",
     "output_type": "stream",
     "text": [
      "Separating track demucs_preprocessed_input/quoc_master_1st_1000_preprocessed/Nhiều Lúc Như Đôi Khi.mp3\n"
     ]
    },
    {
     "name": "stderr",
     "output_type": "stream",
     "text": [
      "100%|██████████████████████████████████████████████████████████████████████| 345.15/345.15 [00:08<00:00, 41.91seconds/s]\n"
     ]
    },
    {
     "name": "stdout",
     "output_type": "stream",
     "text": [
      "Separating track demucs_preprocessed_input/quoc_master_1st_1000_preprocessed/Anh Của Ngày Hôm Qua.mp3\n"
     ]
    },
    {
     "name": "stderr",
     "output_type": "stream",
     "text": [
      "100%|██████████████████████████████████████████████████████████████████████| 263.25/263.25 [00:06<00:00, 41.91seconds/s]\n"
     ]
    },
    {
     "name": "stdout",
     "output_type": "stream",
     "text": [
      "Separating track demucs_preprocessed_input/quoc_master_1st_1000_preprocessed/Hai Trái Tim Một Tấm Lòng.mp3\n"
     ]
    },
    {
     "name": "stderr",
     "output_type": "stream",
     "text": [
      "100%|██████████████████████████████████████████████████████████████████████| 321.75/321.75 [00:07<00:00, 41.55seconds/s]\n"
     ]
    },
    {
     "name": "stdout",
     "output_type": "stream",
     "text": [
      "Separating track demucs_preprocessed_input/quoc_master_1st_1000_preprocessed/Ta Lại Yêu Nhau.mp3\n"
     ]
    },
    {
     "name": "stderr",
     "output_type": "stream",
     "text": [
      "100%|████████████████████████████████████████████████████████████████████████| 304.2/304.2 [00:07<00:00, 42.44seconds/s]\n"
     ]
    },
    {
     "name": "stdout",
     "output_type": "stream",
     "text": [
      "Separating track demucs_preprocessed_input/quoc_master_1st_1000_preprocessed/Bốn Mùa.mp3\n"
     ]
    },
    {
     "name": "stderr",
     "output_type": "stream",
     "text": [
      "100%|████████████████████████████████████████████████████████████████████████| 245.7/245.7 [00:05<00:00, 41.57seconds/s]\n"
     ]
    },
    {
     "name": "stdout",
     "output_type": "stream",
     "text": [
      "Separating track demucs_preprocessed_input/quoc_master_1st_1000_preprocessed/Đêm Nghe Tiếng Mưa.mp3\n"
     ]
    },
    {
     "name": "stderr",
     "output_type": "stream",
     "text": [
      "100%|██████████████████████████████████████████████| 228.14999999999998/228.14999999999998 [00:05<00:00, 41.94seconds/s]\n"
     ]
    },
    {
     "name": "stdout",
     "output_type": "stream",
     "text": [
      "Separating track demucs_preprocessed_input/quoc_master_1st_1000_preprocessed/Con Sẽ Không Quên.mp3\n"
     ]
    },
    {
     "name": "stderr",
     "output_type": "stream",
     "text": [
      "100%|██████████████████████████████████████████████| 298.34999999999997/298.34999999999997 [00:07<00:00, 41.72seconds/s]\n"
     ]
    },
    {
     "name": "stdout",
     "output_type": "stream",
     "text": [
      "Separating track demucs_preprocessed_input/quoc_master_1st_1000_preprocessed/Chuyện Tình.mp3\n"
     ]
    },
    {
     "name": "stderr",
     "output_type": "stream",
     "text": [
      "100%|████████████████████████████████████████████████████████████████████████| 210.6/210.6 [00:05<00:00, 41.23seconds/s]\n"
     ]
    },
    {
     "name": "stdout",
     "output_type": "stream",
     "text": [
      "Separating track demucs_preprocessed_input/quoc_master_1st_1000_preprocessed/Đường Của Cha.mp3\n"
     ]
    },
    {
     "name": "stderr",
     "output_type": "stream",
     "text": [
      "100%|██████████████████████████████████████████████| 251.54999999999998/251.54999999999998 [00:06<00:00, 41.36seconds/s]\n"
     ]
    },
    {
     "name": "stdout",
     "output_type": "stream",
     "text": [
      "Separating track demucs_preprocessed_input/quoc_master_1st_1000_preprocessed/Nụ Cười 18 20 (Remix).mp3\n"
     ]
    },
    {
     "name": "stderr",
     "output_type": "stream",
     "text": [
      "100%|██████████████████████████████████████████████████████████████████████| 239.85/239.85 [00:05<00:00, 42.09seconds/s]\n"
     ]
    },
    {
     "name": "stdout",
     "output_type": "stream",
     "text": [
      "Separating track demucs_preprocessed_input/quoc_master_1st_1000_preprocessed/Bài Toán Tình Yêu.mp3\n"
     ]
    },
    {
     "name": "stderr",
     "output_type": "stream",
     "text": [
      "100%|██████████████████████████████████████████████████████████████████████| 239.85/239.85 [00:05<00:00, 40.74seconds/s]\n"
     ]
    },
    {
     "name": "stdout",
     "output_type": "stream",
     "text": [
      "Separating track demucs_preprocessed_input/quoc_master_1st_1000_preprocessed/Không Tiền Bậu Nói Ai Nghe.mp3\n"
     ]
    },
    {
     "name": "stderr",
     "output_type": "stream",
     "text": [
      "100%|██████████████████████████████████████████████████████████████████████| 286.65/286.65 [00:06<00:00, 41.43seconds/s]\n"
     ]
    },
    {
     "name": "stdout",
     "output_type": "stream",
     "text": [
      "Separating track demucs_preprocessed_input/quoc_master_1st_1000_preprocessed/Anh Từng Chờ Em.mp3\n"
     ]
    },
    {
     "name": "stderr",
     "output_type": "stream",
     "text": [
      "100%|██████████████████████████████████████████████| 280.79999999999995/280.79999999999995 [00:06<00:00, 41.12seconds/s]\n"
     ]
    },
    {
     "name": "stdout",
     "output_type": "stream",
     "text": [
      "Separating track demucs_preprocessed_input/quoc_master_1st_1000_preprocessed/Đẹp Tình ! Đẹp Quê.mp3\n"
     ]
    },
    {
     "name": "stderr",
     "output_type": "stream",
     "text": [
      "100%|██████████████████████████████████████████████| 298.34999999999997/298.34999999999997 [00:07<00:00, 41.31seconds/s]\n"
     ]
    },
    {
     "name": "stdout",
     "output_type": "stream",
     "text": [
      "Separating track demucs_preprocessed_input/quoc_master_1st_1000_preprocessed/Hương Vị Tình.mp3\n"
     ]
    },
    {
     "name": "stderr",
     "output_type": "stream",
     "text": [
      "100%|██████████████████████████████████████████████| 198.89999999999998/198.89999999999998 [00:04<00:00, 40.62seconds/s]\n"
     ]
    },
    {
     "name": "stdout",
     "output_type": "stream",
     "text": [
      "Separating track demucs_preprocessed_input/quoc_master_1st_1000_preprocessed/Buồn Nào Đẹp Như Thế - “Chuyện Của Anh”.mp3\n"
     ]
    },
    {
     "name": "stderr",
     "output_type": "stream",
     "text": [
      "100%|██████████████████████████████████████████████| 163.79999999999998/163.79999999999998 [00:04<00:00, 39.91seconds/s]\n"
     ]
    },
    {
     "name": "stdout",
     "output_type": "stream",
     "text": [
      "Separating track demucs_preprocessed_input/quoc_master_1st_1000_preprocessed/Tình Buồn Đêm Mưa.mp3\n"
     ]
    },
    {
     "name": "stderr",
     "output_type": "stream",
     "text": [
      "100%|██████████████████████████████████████████████| 327.59999999999997/327.59999999999997 [00:07<00:00, 41.15seconds/s]\n"
     ]
    },
    {
     "name": "stdout",
     "output_type": "stream",
     "text": [
      "Separating track demucs_preprocessed_input/quoc_master_1st_1000_preprocessed/Anh Em Sống Thế Đấy.mp3\n"
     ]
    },
    {
     "name": "stderr",
     "output_type": "stream",
     "text": [
      "100%|████████████████████████████████████████████████████████████████████████| 292.5/292.5 [00:07<00:00, 41.56seconds/s]\n"
     ]
    },
    {
     "name": "stdout",
     "output_type": "stream",
     "text": [
      "Separating track demucs_preprocessed_input/quoc_master_1st_1000_preprocessed/LK：Buồn - Ảo Ảnh.mp3\n"
     ]
    },
    {
     "name": "stderr",
     "output_type": "stream",
     "text": [
      "100%|██████████████████████████████████████████████| 298.34999999999997/298.34999999999997 [00:07<00:00, 41.22seconds/s]\n"
     ]
    },
    {
     "name": "stdout",
     "output_type": "stream",
     "text": [
      "Separating track demucs_preprocessed_input/quoc_master_1st_1000_preprocessed/Em Là Ai Em Là Mơ.mp3\n"
     ]
    },
    {
     "name": "stderr",
     "output_type": "stream",
     "text": [
      "100%|████████████████████████████████████████████████████████████████████████| 257.4/257.4 [00:06<00:00, 41.39seconds/s]\n"
     ]
    },
    {
     "name": "stdout",
     "output_type": "stream",
     "text": [
      "Separating track demucs_preprocessed_input/quoc_master_1st_1000_preprocessed/Vội Vàng Đến Bên Nhau.mp3\n"
     ]
    },
    {
     "name": "stderr",
     "output_type": "stream",
     "text": [
      "100%|██████████████████████████████████████████████████████████████████████| 286.65/286.65 [00:06<00:00, 42.35seconds/s]\n"
     ]
    },
    {
     "name": "stdout",
     "output_type": "stream",
     "text": [
      "Separating track demucs_preprocessed_input/quoc_master_1st_1000_preprocessed/Bà Năm.mp3\n"
     ]
    },
    {
     "name": "stderr",
     "output_type": "stream",
     "text": [
      "100%|████████████████████████████████████████████████████████████████████████| 292.5/292.5 [00:07<00:00, 41.73seconds/s]\n"
     ]
    },
    {
     "name": "stdout",
     "output_type": "stream",
     "text": [
      "Separating track demucs_preprocessed_input/quoc_master_1st_1000_preprocessed/Em Cứ Hiền Xinh Như Thế.mp3\n"
     ]
    },
    {
     "name": "stderr",
     "output_type": "stream",
     "text": [
      "100%|████████████████████████████████████████████████████████████████████████| 304.2/304.2 [00:07<00:00, 41.87seconds/s]\n"
     ]
    },
    {
     "name": "stdout",
     "output_type": "stream",
     "text": [
      "Separating track demucs_preprocessed_input/quoc_master_1st_1000_preprocessed/Tình Yêu Cũng Như Mảnh Giấy.mp3\n"
     ]
    },
    {
     "name": "stderr",
     "output_type": "stream",
     "text": [
      "100%|██████████████████████████████████████████████████████████████████████| 157.95/157.95 [00:03<00:00, 40.20seconds/s]\n"
     ]
    },
    {
     "name": "stdout",
     "output_type": "stream",
     "text": [
      "Separating track demucs_preprocessed_input/quoc_master_1st_1000_preprocessed/Bình Yên Từ Trái Tim Tôi.mp3\n"
     ]
    },
    {
     "name": "stderr",
     "output_type": "stream",
     "text": [
      "100%|████████████████████████████████████████████████████████████████████████| 292.5/292.5 [00:07<00:00, 41.10seconds/s]\n"
     ]
    },
    {
     "name": "stdout",
     "output_type": "stream",
     "text": [
      "Separating track demucs_preprocessed_input/quoc_master_1st_1000_preprocessed/Tình Si.mp3\n"
     ]
    },
    {
     "name": "stderr",
     "output_type": "stream",
     "text": [
      "100%|██████████████████████████████████████████████| 251.54999999999998/251.54999999999998 [00:06<00:00, 41.90seconds/s]\n"
     ]
    },
    {
     "name": "stdout",
     "output_type": "stream",
     "text": [
      "Separating track demucs_preprocessed_input/quoc_master_1st_1000_preprocessed/Cùng Một Chữ Tình.mp3\n"
     ]
    },
    {
     "name": "stderr",
     "output_type": "stream",
     "text": [
      "100%|████████████████████████████████████████████████████████████████████████| 292.5/292.5 [00:06<00:00, 42.13seconds/s]\n"
     ]
    },
    {
     "name": "stdout",
     "output_type": "stream",
     "text": [
      "Separating track demucs_preprocessed_input/quoc_master_1st_1000_preprocessed/Em Đã Từng Yêu.mp3\n"
     ]
    },
    {
     "name": "stderr",
     "output_type": "stream",
     "text": [
      "100%|██████████████████████████████████████████████████████████████████████| 263.25/263.25 [00:06<00:00, 40.89seconds/s]\n"
     ]
    },
    {
     "name": "stdout",
     "output_type": "stream",
     "text": [
      "Separating track demucs_preprocessed_input/quoc_master_1st_1000_preprocessed/Gửi Đến Em.mp3\n"
     ]
    },
    {
     "name": "stderr",
     "output_type": "stream",
     "text": [
      "100%|██████████████████████████████████████████████████████████████████████| 239.85/239.85 [00:05<00:00, 41.75seconds/s]\n"
     ]
    },
    {
     "name": "stdout",
     "output_type": "stream",
     "text": [
      "Separating track demucs_preprocessed_input/quoc_master_1st_1000_preprocessed/Cảm Giác Lạ.mp3\n"
     ]
    },
    {
     "name": "stderr",
     "output_type": "stream",
     "text": [
      "100%|██████████████████████████████████████████████████████████████████████| 274.95/274.95 [00:06<00:00, 41.24seconds/s]\n"
     ]
    },
    {
     "name": "stdout",
     "output_type": "stream",
     "text": [
      "Separating track demucs_preprocessed_input/quoc_master_1st_1000_preprocessed/Tình Anh Dại Khờ (Beat).mp3\n"
     ]
    },
    {
     "name": "stderr",
     "output_type": "stream",
     "text": [
      "100%|████████████████████████████████████████████████████████████████████████| 304.2/304.2 [00:07<00:00, 42.14seconds/s]\n"
     ]
    },
    {
     "name": "stdout",
     "output_type": "stream",
     "text": [
      "Separating track demucs_preprocessed_input/quoc_master_1st_1000_preprocessed/Bâng Khuâng Chiều Mưa.mp3\n"
     ]
    },
    {
     "name": "stderr",
     "output_type": "stream",
     "text": [
      "100%|██████████████████████████████████████████████| 251.54999999999998/251.54999999999998 [00:06<00:00, 41.54seconds/s]\n"
     ]
    },
    {
     "name": "stdout",
     "output_type": "stream",
     "text": [
      "Separating track demucs_preprocessed_input/quoc_master_1st_1000_preprocessed/Em Hứa Thế Nào (EDM).mp3\n"
     ]
    },
    {
     "name": "stderr",
     "output_type": "stream",
     "text": [
      "100%|██████████████████████████████████████████████| 193.04999999999998/193.04999999999998 [00:04<00:00, 41.13seconds/s]\n"
     ]
    },
    {
     "name": "stdout",
     "output_type": "stream",
     "text": [
      "Separating track demucs_preprocessed_input/quoc_master_1st_1000_preprocessed/Nơi Ta Hẹn Nhau.mp3\n"
     ]
    },
    {
     "name": "stderr",
     "output_type": "stream",
     "text": [
      "100%|████████████████████████████████████████████████████████████████████████| 245.7/245.7 [00:05<00:00, 41.22seconds/s]\n"
     ]
    },
    {
     "name": "stdout",
     "output_type": "stream",
     "text": [
      "Separating track demucs_preprocessed_input/quoc_master_1st_1000_preprocessed/Đừng Vì Một Người Mà Khóc.mp3\n"
     ]
    },
    {
     "name": "stderr",
     "output_type": "stream",
     "text": [
      "100%|██████████████████████████████████████████████| 169.64999999999998/169.64999999999998 [00:04<00:00, 41.46seconds/s]\n"
     ]
    },
    {
     "name": "stdout",
     "output_type": "stream",
     "text": [
      "Separating track demucs_preprocessed_input/quoc_master_1st_1000_preprocessed/Em Có Thể Làm Bạn Gái Anh Không Beat.mp3\n"
     ]
    },
    {
     "name": "stderr",
     "output_type": "stream",
     "text": [
      "100%|██████████████████████████████████████████████████████████████████████| 274.95/274.95 [00:06<00:00, 42.37seconds/s]\n"
     ]
    },
    {
     "name": "stdout",
     "output_type": "stream",
     "text": [
      "Separating track demucs_preprocessed_input/quoc_master_1st_1000_preprocessed/Cùng Một Kiếp Hoa.mp3\n"
     ]
    },
    {
     "name": "stderr",
     "output_type": "stream",
     "text": [
      "100%|██████████████████████████████████████████████| 280.79999999999995/280.79999999999995 [00:06<00:00, 40.82seconds/s]\n"
     ]
    },
    {
     "name": "stdout",
     "output_type": "stream",
     "text": [
      "Separating track demucs_preprocessed_input/quoc_master_1st_1000_preprocessed/Em mang giấc mơ anh về đâu.mp3\n"
     ]
    },
    {
     "name": "stderr",
     "output_type": "stream",
     "text": [
      "100%|████████████████████████████████████████████████████████████████████████| 257.4/257.4 [00:06<00:00, 42.26seconds/s]\n"
     ]
    }
   ],
   "source": [
    "separate(inp=in_path, outp=out_path)"
   ]
  },
  {
   "cell_type": "code",
   "execution_count": null,
   "metadata": {},
   "outputs": [],
   "source": []
  }
 ],
 "metadata": {
  "kernelspec": {
   "display_name": "demucs",
   "language": "python",
   "name": "python3"
  },
  "language_info": {
   "codemirror_mode": {
    "name": "ipython",
    "version": 3
   },
   "file_extension": ".py",
   "mimetype": "text/x-python",
   "name": "python",
   "nbconvert_exporter": "python",
   "pygments_lexer": "ipython3",
   "version": "3.9.20"
  }
 },
 "nbformat": 4,
 "nbformat_minor": 2
}
