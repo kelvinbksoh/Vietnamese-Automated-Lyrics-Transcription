{
 "cells": [
  {
   "cell_type": "code",
   "execution_count": 1,
   "metadata": {},
   "outputs": [],
   "source": [
    "import os\n",
    "from glob import glob\n",
    "import re\n",
    "import tqdm\n",
    "import unicodedata"
   ]
  },
  {
   "cell_type": "code",
   "execution_count": 4,
   "metadata": {},
   "outputs": [],
   "source": [
    "filepath = 'out/whisper-large-v2-100-output-test/Xóm Đêm.json'\n",
    "import json\n",
    "with open(filepath, 'r') as f:\n",
    "    file = json.load(f)  "
   ]
  },
  {
   "cell_type": "code",
   "execution_count": null,
   "metadata": {},
   "outputs": [],
   "source": [
    "import json\n",
    "\n",
    "# Load the JSON file with Unicode escape sequences\n",
    "input_file = \"out/whisper-large-v2-100-output-test/Xóm Đêm.json\"  # Replace with your file path\n",
    "output_file = \"out/whisper-large-v2-100-output-test/Xóm Đêm_utf.json\"  # Output path for the converted file\n",
    "\n",
    "import glob \n",
    "\n",
    "input_files = glob.glob(\"out/whisper-large-v2-100-output-test/*.json\")\n",
    "for input_file in input_files:\n",
    "    with open(input_file, \"r\", encoding=\"utf-8\") as file:\n",
    "        data = json.load(file)  # This loads and decodes the JSON\n",
    "\n",
    "    output_file = input_file.replace('whisper-large-v2-100-output-test', 'whisper-large-v2-100-output-test-utf')\n",
    "    # Re-save the JSON without Unicode escape sequences\n",
    "    with open(output_file, \"w\", encoding=\"utf-8\") as file:\n",
    "        json.dump(data, file, ensure_ascii=False, indent=4)  # `ensure_ascii=False` avoids escape sequences\n"
   ]
  },
  {
   "cell_type": "code",
   "execution_count": 3,
   "metadata": {},
   "outputs": [],
   "source": [
    "def normalize_VNmese(text):\n",
    "    return unicodedata.normalize('NFC', text)"
   ]
  },
  {
   "cell_type": "code",
   "execution_count": 5,
   "metadata": {},
   "outputs": [],
   "source": [
    "output_data_path = 'out/master_1st_100_preprocessed'\n",
    "os.makedirs(output_data_path, exist_ok=True)"
   ]
  },
  {
   "cell_type": "markdown",
   "metadata": {},
   "source": []
  },
  {
   "cell_type": "markdown",
   "metadata": {},
   "source": [
    "*Processing Lyrics*"
   ]
  },
  {
   "cell_type": "code",
   "execution_count": 6,
   "metadata": {},
   "outputs": [
    {
     "name": "stdout",
     "output_type": "stream",
     "text": [
      "100\n"
     ]
    }
   ],
   "source": [
    "data_path = 'out/master_1st_100'\n",
    "lyric_files = glob(data_path + '/*.origin.lrc')\n",
    "song_files = glob(data_path + '/*.mp3')\n",
    "print(len(lyric_files))\n",
    "\n",
    "lyric_files = [normalize_VNmese(x) for x in lyric_files]\n",
    "song_files = [normalize_VNmese(x) for x in song_files]"
   ]
  },
  {
   "cell_type": "code",
   "execution_count": 7,
   "metadata": {},
   "outputs": [],
   "source": [
    "'''\n",
    "Remove the prefix if it has the line about Ca sĩ: \n",
    "[00:00.00]Bài hát: 4 Phút 20 Giây\n",
    "[00:02.00]Ca sĩ: Hà Anh\n",
    "[00:04.00]\n",
    "'''\n",
    "IDENTIFIER = ']ca sĩ:'\n",
    "def remove_prefix(lyrics):\n",
    "\n",
    "    if IDENTIFIER in lyrics.lower():\n",
    "        lyrics = lyrics.split('\\n')\n",
    "        id_sent = [x for x in lyrics if IDENTIFIER in x.lower()][0]\n",
    "        \n",
    "        lyrics = lyrics[lyrics.index(id_sent)+1:]\n",
    "        lyrics = '\\n'.join(lyrics)\n",
    "    return lyrics\n",
    "\n",
    "'''\n",
    "Remove all timestamps without lyrics\n",
    "'''\n",
    "def remove_silence(lyrics):\n",
    "    lyrics = lyrics.strip().split('\\n')\n",
    "    lyrics = [x.strip() for x in lyrics]\n",
    "\n",
    "    for idx, line in enumerate(lyrics):\n",
    "        if line == '':\n",
    "            continue\n",
    "        if line[0]== '[' and line[-1] == ']':\n",
    "            lyrics[idx] = ''\n",
    "\n",
    "    lyrics = [x.strip() for x in lyrics if x != '']\n",
    "    return '\\n'.join(lyrics)\n",
    "\n",
    "'''\n",
    "Remove .... and redundant spaces\n",
    "'''\n",
    "\n",
    "def replace_punc(text):\n",
    "    lines = text.strip().split('\\n')\n",
    "    for i in range(len(lines)):\n",
    "        # Replace three or more dots with a single space\n",
    "        lines[i] = re.sub(r'\\.{2,}', ' ', lines[i])\n",
    "        # Replace two or more spaces with a single space\n",
    "        lines[i] = re.sub(r'\\s{2,}', ' ', lines[i])\n",
    "    return '\\n'.join(lines)\n",
    "\n"
   ]
  },
  {
   "cell_type": "code",
   "execution_count": 8,
   "metadata": {},
   "outputs": [
    {
     "name": "stderr",
     "output_type": "stream",
     "text": [
      "  0%|          | 0/100 [00:00<?, ?it/s]"
     ]
    },
    {
     "name": "stderr",
     "output_type": "stream",
     "text": [
      "100%|██████████| 100/100 [00:00<00:00, 727.53it/s]\n"
     ]
    }
   ],
   "source": [
    "with_prefix = 0\n",
    "for lyric_file in tqdm.tqdm(lyric_files):\n",
    "    \n",
    "    with open(lyric_file, 'r', encoding='utf-8-sig') as f:\n",
    "        text = f.read()\n",
    "    text = normalize_VNmese(text)\n",
    "\n",
    " \n",
    "    text = remove_prefix(lyrics=text)\n",
    "\n",
    "\n",
    "    text = replace_punc(text)  \n",
    "          \n",
    "    text = remove_silence(text)\n",
    "\n",
    "    \n",
    "    with open(os.path.join(output_data_path, os.path.basename(lyric_file)), 'w') as f:\n",
    "        f.write(text)\n"
   ]
  },
  {
   "cell_type": "markdown",
   "metadata": {},
   "source": [
    "*PROCESSING SONGS*"
   ]
  },
  {
   "cell_type": "code",
   "execution_count": 9,
   "metadata": {},
   "outputs": [],
   "source": [
    "import librosa\n",
    "import soundfile as sf\n",
    "\n",
    "'''\n",
    "Cut the audio file 5 seconds after the last timestamp\n",
    "'''\n",
    "\n",
    "def cut_postfix(audio_path,lyric_path, output_folder, extra_seconds=10):\n",
    "    #GET AUDIO\n",
    "    audio, sr = librosa.load(audio_path, sr=None)  # sr=None keeps the original sample rate\n",
    "    # Calculate the duration manually\n",
    "    song_duration = len(audio) / sr\n",
    "\n",
    "    #GET LYRICS\n",
    "    with open(lyric_path, 'r', encoding='utf-8-sig') as f:\n",
    "        text = f.readlines()\n",
    "    last_line = text[-1]\n",
    "    # Regular expression to extract content inside square brackets\n",
    "    match = re.search(r'\\[(.*?)\\]', last_line)\n",
    "\n",
    "    # Check if a match is found\n",
    "    if match:\n",
    "        time_str = match.group(1)  # Extract the content inside brackets\n",
    "    minute, seconds = [float(x) for x in time_str.split(':')]\n",
    "    lyrics_duration = minute*60 + seconds\n",
    "\n",
    "    if song_duration - lyrics_duration > 15:\n",
    "        print(audio_path)\n",
    "        print(song_duration, lyrics_duration)\n",
    "        # Cut off from lyric duration + 10 seconds\n",
    "        cutoff_sample = int((lyrics_duration+extra_seconds) * sr)\n",
    "        audio = audio[:cutoff_sample]\n",
    "    \n",
    "    sf.write(os.path.join(output_folder, os.path.basename(audio_path)), audio, sr)"
   ]
  },
  {
   "cell_type": "code",
   "execution_count": 10,
   "metadata": {},
   "outputs": [
    {
     "name": "stderr",
     "output_type": "stream",
     "text": [
      "  0%|          | 0/100 [00:00<?, ?it/s]"
     ]
    },
    {
     "name": "stdout",
     "output_type": "stream",
     "text": [
      "Em LÀ Ánh Dương\n",
      "out/master_1st_100/Em LÀ Ánh Dương.mp3\n",
      "247.11836734693878 220.11\n"
     ]
    },
    {
     "name": "stderr",
     "output_type": "stream",
     "text": [
      "  1%|          | 1/100 [00:34<56:29, 34.24s/it]"
     ]
    },
    {
     "name": "stdout",
     "output_type": "stream",
     "text": [
      "Tình Ca Mùa Xuân\n",
      "out/master_1st_100/Tình Ca Mùa Xuân.mp3\n",
      "273.1619727891156 251.8\n"
     ]
    },
    {
     "name": "stderr",
     "output_type": "stream",
     "text": [
      "  2%|▏         | 2/100 [00:45<33:35, 20.56s/it]"
     ]
    },
    {
     "name": "stdout",
     "output_type": "stream",
     "text": [
      "Biết Nói Thế Nào\n",
      "out/master_1st_100/Biết Nói Thế Nào.mp3\n",
      "311.012925170068 270.67\n"
     ]
    },
    {
     "name": "stderr",
     "output_type": "stream",
     "text": [
      "  3%|▎         | 3/100 [00:56<26:24, 16.33s/it]"
     ]
    },
    {
     "name": "stdout",
     "output_type": "stream",
     "text": [
      "Có Chó Nó Yêu Mày\n",
      "out/master_1st_100/Có Chó Nó Yêu Mày.mp3\n",
      "275.5689791666667 245.94\n"
     ]
    },
    {
     "name": "stderr",
     "output_type": "stream",
     "text": [
      "  4%|▍         | 4/100 [01:07<22:25, 14.02s/it]"
     ]
    },
    {
     "name": "stdout",
     "output_type": "stream",
     "text": [
      "Bỉ Ngạn\n",
      "out/master_1st_100/Bỉ Ngạn.mp3\n",
      "219.36097916666668 203.12\n"
     ]
    },
    {
     "name": "stderr",
     "output_type": "stream",
     "text": [
      "  5%|▌         | 5/100 [01:15<19:16, 12.18s/it]"
     ]
    },
    {
     "name": "stdout",
     "output_type": "stream",
     "text": [
      "Lệ Đắng Tình Yêu\n",
      "out/master_1st_100/Lệ Đắng Tình Yêu.mp3\n",
      "259.42204081632656 233.14\n"
     ]
    },
    {
     "name": "stderr",
     "output_type": "stream",
     "text": [
      "  6%|▌         | 6/100 [01:26<18:20, 11.71s/it]"
     ]
    },
    {
     "name": "stdout",
     "output_type": "stream",
     "text": [
      "Xin Em Thôi Làm Ngơ\n",
      "out/master_1st_100/Xin Em Thôi Làm Ngơ.mp3\n",
      "254.32816326530613 220.09\n"
     ]
    },
    {
     "name": "stderr",
     "output_type": "stream",
     "text": [
      "  7%|▋         | 7/100 [01:36<17:18, 11.16s/it]"
     ]
    },
    {
     "name": "stdout",
     "output_type": "stream",
     "text": [
      "Dân Ca DJ 2\n",
      "out/master_1st_100/Dân Ca DJ 2.mp3\n",
      "296.0781179138322 272.85\n"
     ]
    },
    {
     "name": "stderr",
     "output_type": "stream",
     "text": [
      "  8%|▊         | 8/100 [01:48<17:21, 11.32s/it]"
     ]
    },
    {
     "name": "stdout",
     "output_type": "stream",
     "text": [
      "Tổ Quốc Nhìn Từ Biển\n",
      "out/master_1st_100/Tổ Quốc Nhìn Từ Biển.mp3\n",
      "270.05387755102043 250.92\n"
     ]
    },
    {
     "name": "stderr",
     "output_type": "stream",
     "text": [
      "  9%|▉         | 9/100 [01:59<16:56, 11.17s/it]"
     ]
    },
    {
     "name": "stdout",
     "output_type": "stream",
     "text": [
      "4 Phút 20 Giây (Về Nhà Với Anh Đi)\n"
     ]
    },
    {
     "name": "stderr",
     "output_type": "stream",
     "text": [
      " 10%|█         | 10/100 [02:08<15:42, 10.47s/it]"
     ]
    },
    {
     "name": "stdout",
     "output_type": "stream",
     "text": [
      "Em Mang Tình Mình Trao Ai\n"
     ]
    },
    {
     "name": "stderr",
     "output_type": "stream",
     "text": [
      " 11%|█         | 11/100 [02:21<16:43, 11.27s/it]"
     ]
    },
    {
     "name": "stdout",
     "output_type": "stream",
     "text": [
      "Bé Đi Học\n",
      "out/master_1st_100/Bé Đi Học.mp3\n",
      "240.27428571428572 220.18\n"
     ]
    },
    {
     "name": "stderr",
     "output_type": "stream",
     "text": [
      " 12%|█▏        | 12/100 [02:30<15:45, 10.74s/it]"
     ]
    },
    {
     "name": "stdout",
     "output_type": "stream",
     "text": [
      "Bình Minh Mùa Thu\n",
      "out/master_1st_100/Bình Minh Mùa Thu.mp3\n",
      "294.97469387755103 259.63\n"
     ]
    },
    {
     "name": "stderr",
     "output_type": "stream",
     "text": [
      " 13%|█▎        | 13/100 [02:42<15:53, 10.96s/it]"
     ]
    },
    {
     "name": "stdout",
     "output_type": "stream",
     "text": [
      "Có Phải Anh Là (Beat)\n"
     ]
    },
    {
     "name": "stderr",
     "output_type": "stream",
     "text": [
      " 14%|█▍        | 14/100 [02:49<14:11,  9.90s/it]"
     ]
    },
    {
     "name": "stdout",
     "output_type": "stream",
     "text": [
      "Chuyện Tình Gió\n",
      "out/master_1st_100/Chuyện Tình Gió.mp3\n",
      "263.810612244898 236.03\n"
     ]
    },
    {
     "name": "stderr",
     "output_type": "stream",
     "text": [
      " 15%|█▌        | 15/100 [03:00<14:26, 10.20s/it]"
     ]
    },
    {
     "name": "stdout",
     "output_type": "stream",
     "text": [
      "Mưa Nước Mắt\n",
      "out/master_1st_100/Mưa Nước Mắt.mp3\n",
      "226.29877551020408 173.37\n"
     ]
    },
    {
     "name": "stderr",
     "output_type": "stream",
     "text": [
      " 16%|█▌        | 16/100 [03:08<13:22,  9.55s/it]"
     ]
    },
    {
     "name": "stdout",
     "output_type": "stream",
     "text": [
      "Em Thuộc Về Ai\n",
      "out/master_1st_100/Em Thuộc Về Ai.mp3\n",
      "211.984375 169.73\n"
     ]
    },
    {
     "name": "stderr",
     "output_type": "stream",
     "text": [
      " 17%|█▋        | 17/100 [03:16<12:19,  8.91s/it]"
     ]
    },
    {
     "name": "stdout",
     "output_type": "stream",
     "text": [
      "Tình Si\n"
     ]
    },
    {
     "name": "stderr",
     "output_type": "stream",
     "text": [
      " 18%|█▊        | 18/100 [03:26<12:40,  9.28s/it]"
     ]
    },
    {
     "name": "stdout",
     "output_type": "stream",
     "text": [
      "Ừ Thì Anh Sai\n",
      "out/master_1st_100/Ừ Thì Anh Sai.mp3\n",
      "336.278875 305.87\n"
     ]
    },
    {
     "name": "stderr",
     "output_type": "stream",
     "text": [
      " 19%|█▉        | 19/100 [03:39<14:14, 10.55s/it]"
     ]
    },
    {
     "name": "stdout",
     "output_type": "stream",
     "text": [
      "Bước Chân Con Trở Về\n",
      "out/master_1st_100/Bước Chân Con Trở Về.mp3\n",
      "298.0 261.09\n"
     ]
    },
    {
     "name": "stderr",
     "output_type": "stream",
     "text": [
      " 20%|██        | 20/100 [03:51<14:24, 10.81s/it]"
     ]
    },
    {
     "name": "stdout",
     "output_type": "stream",
     "text": [
      "Người Không Cần Yêu\n",
      "out/master_1st_100/Người Không Cần Yêu.mp3\n",
      "279.04 244.58\n"
     ]
    },
    {
     "name": "stderr",
     "output_type": "stream",
     "text": [
      " 21%|██        | 21/100 [04:01<14:10, 10.76s/it]"
     ]
    },
    {
     "name": "stdout",
     "output_type": "stream",
     "text": [
      "Tự Thân Nàng Cứu Độ Nàng\n"
     ]
    },
    {
     "name": "stderr",
     "output_type": "stream",
     "text": [
      " 22%|██▏       | 22/100 [04:11<13:38, 10.49s/it]"
     ]
    },
    {
     "name": "stdout",
     "output_type": "stream",
     "text": [
      "Đành Để Em Đi\n",
      "out/master_1st_100/Đành Để Em Đi.mp3\n",
      "231.56818594104308 204.34\n"
     ]
    },
    {
     "name": "stderr",
     "output_type": "stream",
     "text": [
      " 23%|██▎       | 23/100 [04:20<12:40,  9.88s/it]"
     ]
    },
    {
     "name": "stdout",
     "output_type": "stream",
     "text": [
      "Em Mong Chờ Anh\n",
      "out/master_1st_100/Em Mong Chờ Anh.mp3\n",
      "256.8892290249433 236.53\n"
     ]
    },
    {
     "name": "stderr",
     "output_type": "stream",
     "text": [
      " 24%|██▍       | 24/100 [04:29<12:19,  9.73s/it]"
     ]
    },
    {
     "name": "stdout",
     "output_type": "stream",
     "text": [
      "Chờ Ngày Cưới Em\n",
      "out/master_1st_100/Chờ Ngày Cưới Em.mp3\n",
      "263.45866666666666 224.87\n"
     ]
    },
    {
     "name": "stderr",
     "output_type": "stream",
     "text": [
      " 25%|██▌       | 25/100 [04:38<12:01,  9.63s/it]"
     ]
    },
    {
     "name": "stdout",
     "output_type": "stream",
     "text": [
      "Liên Khúc Đón Xuân\n",
      "out/master_1st_100/Liên Khúc Đón Xuân.mp3\n",
      "310.9089795918367 287.2\n"
     ]
    },
    {
     "name": "stderr",
     "output_type": "stream",
     "text": [
      " 26%|██▌       | 26/100 [04:50<12:40, 10.28s/it]"
     ]
    },
    {
     "name": "stdout",
     "output_type": "stream",
     "text": [
      "AY DA\n",
      "out/master_1st_100/AY DA.mp3\n",
      "224.88970833333335 202.25\n"
     ]
    },
    {
     "name": "stderr",
     "output_type": "stream",
     "text": [
      " 27%|██▋       | 27/100 [04:59<11:51,  9.75s/it]"
     ]
    },
    {
     "name": "stdout",
     "output_type": "stream",
     "text": [
      "Huyến Thoại Rượu\n"
     ]
    },
    {
     "name": "stderr",
     "output_type": "stream",
     "text": [
      " 28%|██▊       | 28/100 [05:01<09:02,  7.54s/it]"
     ]
    },
    {
     "name": "stdout",
     "output_type": "stream",
     "text": [
      "Đừng Nhìn Lên Em Ơi\n",
      "out/master_1st_100/Đừng Nhìn Lên Em Ơi.mp3\n",
      "256.8881632653061 228.65\n"
     ]
    },
    {
     "name": "stderr",
     "output_type": "stream",
     "text": [
      " 29%|██▉       | 29/100 [05:11<09:40,  8.18s/it]"
     ]
    },
    {
     "name": "stdout",
     "output_type": "stream",
     "text": [
      "Bạn Hay Bè\n",
      "out/master_1st_100/Bạn Hay Bè.mp3\n",
      "330.3444897959184 312.04\n"
     ]
    },
    {
     "name": "stderr",
     "output_type": "stream",
     "text": [
      " 30%|███       | 30/100 [05:23<11:07,  9.53s/it]"
     ]
    },
    {
     "name": "stdout",
     "output_type": "stream",
     "text": [
      "Tết Đến Rồi Sao Chẳng Thấy Em Đâu\n"
     ]
    },
    {
     "name": "stderr",
     "output_type": "stream",
     "text": [
      " 31%|███       | 31/100 [05:34<11:24,  9.92s/it]"
     ]
    },
    {
     "name": "stdout",
     "output_type": "stream",
     "text": [
      "Búp bê bị hư\n",
      "out/master_1st_100/Búp bê bị hư.mp3\n",
      "282.9322448979592 261.67\n"
     ]
    },
    {
     "name": "stderr",
     "output_type": "stream",
     "text": [
      " 32%|███▏      | 32/100 [05:44<11:06,  9.81s/it]"
     ]
    },
    {
     "name": "stdout",
     "output_type": "stream",
     "text": [
      "Anh, Em Và Đêm\n",
      "out/master_1st_100/Anh, Em Và Đêm.mp3\n",
      "269.87102040816325 243.12\n"
     ]
    },
    {
     "name": "stderr",
     "output_type": "stream",
     "text": [
      " 33%|███▎      | 33/100 [05:54<11:07,  9.97s/it]"
     ]
    },
    {
     "name": "stdout",
     "output_type": "stream",
     "text": [
      "Bất Nhiễm (Cover)\n"
     ]
    },
    {
     "name": "stderr",
     "output_type": "stream",
     "text": [
      " 34%|███▍      | 34/100 [06:04<11:01, 10.03s/it]"
     ]
    },
    {
     "name": "stdout",
     "output_type": "stream",
     "text": [
      "Liên Khúc Con Đường Xưa Em Đi\n",
      "out/master_1st_100/Liên Khúc Con Đường Xưa Em Đi.mp3\n",
      "378.6124489795918 359.0\n"
     ]
    },
    {
     "name": "stderr",
     "output_type": "stream",
     "text": [
      " 35%|███▌      | 35/100 [06:19<12:23, 11.43s/it]"
     ]
    },
    {
     "name": "stdout",
     "output_type": "stream",
     "text": [
      "Hôm Nay Anh Đang Làm Gì？ (Beat)\n"
     ]
    },
    {
     "name": "stderr",
     "output_type": "stream",
     "text": [
      " 36%|███▌      | 36/100 [06:30<12:03, 11.30s/it]"
     ]
    },
    {
     "name": "stdout",
     "output_type": "stream",
     "text": [
      "Đáng Thương\n"
     ]
    },
    {
     "name": "stderr",
     "output_type": "stream",
     "text": [
      " 37%|███▋      | 37/100 [06:40<11:24, 10.87s/it]"
     ]
    },
    {
     "name": "stdout",
     "output_type": "stream",
     "text": [
      "Chợt Nhận Ra\n",
      "out/master_1st_100/Chợt Nhận Ra.mp3\n",
      "307.8269387755102 284.45\n"
     ]
    },
    {
     "name": "stderr",
     "output_type": "stream",
     "text": [
      " 38%|███▊      | 38/100 [06:55<12:35, 12.19s/it]"
     ]
    },
    {
     "name": "stdout",
     "output_type": "stream",
     "text": [
      "Ba Mẹ Đi Xa\n"
     ]
    },
    {
     "name": "stderr",
     "output_type": "stream",
     "text": [
      " 39%|███▉      | 39/100 [07:04<11:13, 11.05s/it]"
     ]
    },
    {
     "name": "stdout",
     "output_type": "stream",
     "text": [
      "Con Tim Em Đã Đổi Thay\n",
      "out/master_1st_100/Con Tim Em Đã Đổi Thay.mp3\n",
      "255.3730612244898 224.29\n"
     ]
    },
    {
     "name": "stderr",
     "output_type": "stream",
     "text": [
      " 40%|████      | 40/100 [07:15<11:07, 11.12s/it]"
     ]
    },
    {
     "name": "stdout",
     "output_type": "stream",
     "text": [
      "Đồng Tiền Rẽ Lối (Parody)\n",
      "out/master_1st_100/Đồng Tiền Rẽ Lối (Parody).mp3\n",
      "238.88979591836735 220.75\n"
     ]
    },
    {
     "name": "stderr",
     "output_type": "stream",
     "text": [
      " 41%|████      | 41/100 [07:25<10:47, 10.97s/it]"
     ]
    },
    {
     "name": "stdout",
     "output_type": "stream",
     "text": [
      "Biết Yêu Thật Nhiều\n"
     ]
    },
    {
     "name": "stderr",
     "output_type": "stream",
     "text": [
      " 42%|████▏     | 42/100 [07:35<10:13, 10.58s/it]"
     ]
    },
    {
     "name": "stdout",
     "output_type": "stream",
     "text": [
      "Mùa Đông Tuyệt Vọng\n",
      "out/master_1st_100/Mùa Đông Tuyệt Vọng.mp3\n",
      "322.37714285714287 279.37\n"
     ]
    },
    {
     "name": "stderr",
     "output_type": "stream",
     "text": [
      " 43%|████▎     | 43/100 [07:48<10:45, 11.32s/it]"
     ]
    },
    {
     "name": "stdout",
     "output_type": "stream",
     "text": [
      "Ba Đứa Bạn Nghèo\n",
      "out/master_1st_100/Ba Đứa Bạn Nghèo.mp3\n",
      "221.62285714285716 205.71\n"
     ]
    },
    {
     "name": "stderr",
     "output_type": "stream",
     "text": [
      " 44%|████▍     | 44/100 [07:58<10:06, 10.83s/it]"
     ]
    },
    {
     "name": "stdout",
     "output_type": "stream",
     "text": [
      "Mùa Xuân Em Hát\n",
      "out/master_1st_100/Mùa Xuân Em Hát.mp3\n",
      "227.31754166666667 198.8\n"
     ]
    },
    {
     "name": "stderr",
     "output_type": "stream",
     "text": [
      " 45%|████▌     | 45/100 [08:07<09:33, 10.43s/it]"
     ]
    },
    {
     "name": "stdout",
     "output_type": "stream",
     "text": [
      "Mãi Mãi Bên Em\n",
      "out/master_1st_100/Mãi Mãi Bên Em.mp3\n",
      "318.24979591836734 302.13\n"
     ]
    },
    {
     "name": "stderr",
     "output_type": "stream",
     "text": [
      " 46%|████▌     | 46/100 [08:22<10:31, 11.70s/it]"
     ]
    },
    {
     "name": "stdout",
     "output_type": "stream",
     "text": [
      "Cào Cào Bay Trong Gió\n",
      "out/master_1st_100/Cào Cào Bay Trong Gió.mp3\n",
      "299.62666666666667 263.89\n"
     ]
    },
    {
     "name": "stderr",
     "output_type": "stream",
     "text": [
      " 47%|████▋     | 47/100 [08:35<10:42, 12.13s/it]"
     ]
    },
    {
     "name": "stdout",
     "output_type": "stream",
     "text": [
      "Rap Về Doraemon\n",
      "out/master_1st_100/Rap Về Doraemon.mp3\n",
      "173.79265306122448 154.41\n"
     ]
    },
    {
     "name": "stderr",
     "output_type": "stream",
     "text": [
      " 48%|████▊     | 48/100 [08:43<09:17, 10.73s/it]"
     ]
    },
    {
     "name": "stdout",
     "output_type": "stream",
     "text": [
      "Bài Toán Tình Yêu\n"
     ]
    },
    {
     "name": "stderr",
     "output_type": "stream",
     "text": [
      " 49%|████▉     | 49/100 [08:53<09:04, 10.67s/it]"
     ]
    },
    {
     "name": "stdout",
     "output_type": "stream",
     "text": [
      "Bước Tiến Bước\n",
      "out/master_1st_100/Bước Tiến Bước.mp3\n",
      "200.07916666666668 169.94\n"
     ]
    },
    {
     "name": "stderr",
     "output_type": "stream",
     "text": [
      " 50%|█████     | 50/100 [09:01<08:13,  9.87s/it]"
     ]
    },
    {
     "name": "stdout",
     "output_type": "stream",
     "text": [
      "Bé Mắt Nhung\n"
     ]
    },
    {
     "name": "stderr",
     "output_type": "stream",
     "text": [
      " 51%|█████     | 51/100 [09:10<07:43,  9.46s/it]"
     ]
    },
    {
     "name": "stdout",
     "output_type": "stream",
     "text": [
      "Tình Online Không Có Ngày Mai\n",
      "out/master_1st_100/Tình Online Không Có Ngày Mai.mp3\n",
      "247.24897959183673 216.2\n"
     ]
    },
    {
     "name": "stderr",
     "output_type": "stream",
     "text": [
      " 52%|█████▏    | 52/100 [09:19<07:37,  9.54s/it]"
     ]
    },
    {
     "name": "stdout",
     "output_type": "stream",
     "text": [
      "Ước Muốn Của Em (Acoustic Version)\n",
      "out/master_1st_100/Ước Muốn Của Em (Acoustic Version).mp3\n",
      "275.46122448979594 254.84\n"
     ]
    },
    {
     "name": "stderr",
     "output_type": "stream",
     "text": [
      " 53%|█████▎    | 53/100 [09:27<07:08,  9.12s/it]"
     ]
    },
    {
     "name": "stdout",
     "output_type": "stream",
     "text": [
      "Cảm Giác Em Là Sao (Remix)\n"
     ]
    },
    {
     "name": "stderr",
     "output_type": "stream",
     "text": [
      " 54%|█████▍    | 54/100 [09:35<06:39,  8.69s/it]"
     ]
    },
    {
     "name": "stdout",
     "output_type": "stream",
     "text": [
      "Hận Mình Tay Trắng (Yang Remix)\n",
      "out/master_1st_100/Hận Mình Tay Trắng (Yang Remix).mp3\n",
      "243.5491156462585 206.24\n"
     ]
    },
    {
     "name": "stderr",
     "output_type": "stream",
     "text": [
      " 55%|█████▌    | 55/100 [09:43<06:17,  8.39s/it]"
     ]
    },
    {
     "name": "stdout",
     "output_type": "stream",
     "text": [
      "Kết Thúc Như Vậy Sao\n",
      "out/master_1st_100/Kết Thúc Như Vậy Sao.mp3\n",
      "314.69714285714286 128.7\n"
     ]
    },
    {
     "name": "stderr",
     "output_type": "stream",
     "text": [
      " 56%|█████▌    | 56/100 [09:48<05:28,  7.47s/it]"
     ]
    },
    {
     "name": "stdout",
     "output_type": "stream",
     "text": [
      "Thương Em Miền Nước Lũ\n",
      "out/master_1st_100/Thương Em Miền Nước Lũ.mp3\n",
      "361.14285714285717 303.77\n"
     ]
    },
    {
     "name": "stderr",
     "output_type": "stream",
     "text": [
      " 57%|█████▋    | 57/100 [09:58<05:53,  8.22s/it]"
     ]
    },
    {
     "name": "stdout",
     "output_type": "stream",
     "text": [
      "Là Vì Ai (Another Version)\n",
      "out/master_1st_100/Là Vì Ai (Another Version).mp3\n",
      "273.9369791666667 252.71\n"
     ]
    },
    {
     "name": "stderr",
     "output_type": "stream",
     "text": [
      " 58%|█████▊    | 58/100 [10:06<05:40,  8.11s/it]"
     ]
    },
    {
     "name": "stdout",
     "output_type": "stream",
     "text": [
      "Bên Em\n",
      "out/master_1st_100/Bên Em.mp3\n",
      "257.985306122449 238.81\n"
     ]
    },
    {
     "name": "stderr",
     "output_type": "stream",
     "text": [
      " 59%|█████▉    | 59/100 [10:14<05:29,  8.04s/it]"
     ]
    },
    {
     "name": "stdout",
     "output_type": "stream",
     "text": [
      "Để Anh Được Yêu\n",
      "out/master_1st_100/Để Anh Được Yêu.mp3\n",
      "225.49004535147392 199.64\n"
     ]
    },
    {
     "name": "stderr",
     "output_type": "stream",
     "text": [
      " 60%|██████    | 60/100 [10:20<04:59,  7.48s/it]"
     ]
    },
    {
     "name": "stdout",
     "output_type": "stream",
     "text": [
      "365 Ngày Yêu (Remix)\n"
     ]
    },
    {
     "name": "stderr",
     "output_type": "stream",
     "text": [
      " 61%|██████    | 61/100 [10:27<04:40,  7.19s/it]"
     ]
    },
    {
     "name": "stdout",
     "output_type": "stream",
     "text": [
      "Chúng Ta Là Tri Kỉ\n",
      "out/master_1st_100/Chúng Ta Là Tri Kỉ.mp3\n",
      "309.56548752834465 283.22\n"
     ]
    },
    {
     "name": "stderr",
     "output_type": "stream",
     "text": [
      " 62%|██████▏   | 62/100 [10:35<04:47,  7.57s/it]"
     ]
    },
    {
     "name": "stdout",
     "output_type": "stream",
     "text": [
      "Càng Trưởng Thành Càng Cô Đơn ⧸ Gửi Người Yêu Cũ (Live)\n"
     ]
    },
    {
     "name": "stderr",
     "output_type": "stream",
     "text": [
      " 63%|██████▎   | 63/100 [10:45<05:03,  8.21s/it]"
     ]
    },
    {
     "name": "stdout",
     "output_type": "stream",
     "text": [
      "Phút Giây Muộn Màng\n",
      "out/master_1st_100/Phút Giây Muộn Màng.mp3\n",
      "336.0 301.39\n"
     ]
    },
    {
     "name": "stderr",
     "output_type": "stream",
     "text": [
      " 64%|██████▍   | 64/100 [10:54<05:07,  8.55s/it]"
     ]
    },
    {
     "name": "stdout",
     "output_type": "stream",
     "text": [
      "Giết Người Trong Mộng\n",
      "out/master_1st_100/Giết Người Trong Mộng.mp3\n",
      "309.47555555555556 280.40999999999997\n"
     ]
    },
    {
     "name": "stderr",
     "output_type": "stream",
     "text": [
      " 65%|██████▌   | 65/100 [11:04<05:11,  8.90s/it]"
     ]
    },
    {
     "name": "stdout",
     "output_type": "stream",
     "text": [
      "Hỷ Nộ Ái Ố Kiếp Người\n"
     ]
    },
    {
     "name": "stderr",
     "output_type": "stream",
     "text": [
      " 66%|██████▌   | 66/100 [11:14<05:16,  9.31s/it]"
     ]
    },
    {
     "name": "stdout",
     "output_type": "stream",
     "text": [
      "Cuộc Tình Trong Mơ\n"
     ]
    },
    {
     "name": "stderr",
     "output_type": "stream",
     "text": [
      " 67%|██████▋   | 67/100 [11:23<04:58,  9.05s/it]"
     ]
    },
    {
     "name": "stdout",
     "output_type": "stream",
     "text": [
      "Con Bướm Xuân (Beat)\n",
      "out/master_1st_100/Con Bướm Xuân (Beat).mp3\n",
      "270.33697916666665 235.88\n"
     ]
    },
    {
     "name": "stderr",
     "output_type": "stream",
     "text": [
      " 68%|██████▊   | 68/100 [11:32<04:50,  9.08s/it]"
     ]
    },
    {
     "name": "stdout",
     "output_type": "stream",
     "text": [
      "Bánh Trung Thu\n",
      "out/master_1st_100/Bánh Trung Thu.mp3\n",
      "112.14666666666666 94.94\n"
     ]
    },
    {
     "name": "stderr",
     "output_type": "stream",
     "text": [
      " 69%|██████▉   | 69/100 [11:35<03:48,  7.36s/it]"
     ]
    },
    {
     "name": "stdout",
     "output_type": "stream",
     "text": [
      "Cho Anh Quay Lại Nơi Bắt Đầu\n",
      "out/master_1st_100/Cho Anh Quay Lại Nơi Bắt Đầu.mp3\n",
      "274.39126984126983 249.33\n"
     ]
    },
    {
     "name": "stderr",
     "output_type": "stream",
     "text": [
      " 70%|███████   | 70/100 [11:43<03:48,  7.61s/it]"
     ]
    },
    {
     "name": "stdout",
     "output_type": "stream",
     "text": [
      "Lk Phải Lòng Con Gái Bến Tre Áo Mới Cà Mau\n",
      "out/master_1st_100/Lk Phải Lòng Con Gái Bến Tre Áo Mới Cà Mau.mp3\n",
      "519.1847392290249 499.89\n"
     ]
    },
    {
     "name": "stderr",
     "output_type": "stream",
     "text": [
      " 71%|███████   | 71/100 [12:02<05:17, 10.93s/it]"
     ]
    },
    {
     "name": "stdout",
     "output_type": "stream",
     "text": [
      "Chúng Ta Không Thể Yêu Thêm Lần Nữa (Prod. Vic)\n"
     ]
    },
    {
     "name": "stderr",
     "output_type": "stream",
     "text": [
      " 72%|███████▏  | 72/100 [12:08<04:24,  9.43s/it]"
     ]
    },
    {
     "name": "stdout",
     "output_type": "stream",
     "text": [
      "Tôi Xa Người Yêu\n"
     ]
    },
    {
     "name": "stderr",
     "output_type": "stream",
     "text": [
      " 73%|███████▎  | 73/100 [12:17<04:10,  9.28s/it]"
     ]
    },
    {
     "name": "stdout",
     "output_type": "stream",
     "text": [
      "Liên Khúc 13 Tỉnh Thành\n",
      "out/master_1st_100/Liên Khúc 13 Tỉnh Thành.mp3\n",
      "550.6980208333333 529.91\n"
     ]
    },
    {
     "name": "stderr",
     "output_type": "stream",
     "text": [
      " 74%|███████▍  | 74/100 [12:35<05:10, 11.94s/it]"
     ]
    },
    {
     "name": "stdout",
     "output_type": "stream",
     "text": [
      "Bỏ Lại\n"
     ]
    },
    {
     "name": "stderr",
     "output_type": "stream",
     "text": [
      " 75%|███████▌  | 75/100 [12:46<04:51, 11.64s/it]"
     ]
    },
    {
     "name": "stdout",
     "output_type": "stream",
     "text": [
      "Dù Một Mai\n",
      "out/master_1st_100/Dù Một Mai.mp3\n",
      "235.91183673469388 218.87\n"
     ]
    },
    {
     "name": "stderr",
     "output_type": "stream",
     "text": [
      " 76%|███████▌  | 76/100 [12:54<04:16, 10.68s/it]"
     ]
    },
    {
     "name": "stdout",
     "output_type": "stream",
     "text": [
      "Khói Sương\n",
      "out/master_1st_100/Khói Sương.mp3\n",
      "191.0980498866213 168.41\n"
     ]
    },
    {
     "name": "stderr",
     "output_type": "stream",
     "text": [
      " 77%|███████▋  | 77/100 [13:00<03:33,  9.27s/it]"
     ]
    },
    {
     "name": "stdout",
     "output_type": "stream",
     "text": [
      "Bờm Có Quạt Mo\n",
      "out/master_1st_100/Bờm Có Quạt Mo.mp3\n",
      "251.14625850340136 223.93\n"
     ]
    },
    {
     "name": "stderr",
     "output_type": "stream",
     "text": [
      " 78%|███████▊  | 78/100 [13:09<03:22,  9.21s/it]"
     ]
    },
    {
     "name": "stdout",
     "output_type": "stream",
     "text": [
      "Cả Một Đời Người Xin Mượn Một Đoạn Đường\n",
      "out/master_1st_100/Cả Một Đời Người Xin Mượn Một Đoạn Đường.mp3\n",
      "244.52060416666666 217.55\n"
     ]
    },
    {
     "name": "stderr",
     "output_type": "stream",
     "text": [
      " 79%|███████▉  | 79/100 [13:17<03:04,  8.79s/it]"
     ]
    },
    {
     "name": "stdout",
     "output_type": "stream",
     "text": [
      "Bạc Lòng\n"
     ]
    },
    {
     "name": "stderr",
     "output_type": "stream",
     "text": [
      " 80%|████████  | 80/100 [13:26<02:54,  8.72s/it]"
     ]
    },
    {
     "name": "stdout",
     "output_type": "stream",
     "text": [
      "Nói Với Anh Đôi Lời\n"
     ]
    },
    {
     "name": "stderr",
     "output_type": "stream",
     "text": [
      " 81%|████████  | 81/100 [13:31<02:27,  7.78s/it]"
     ]
    },
    {
     "name": "stdout",
     "output_type": "stream",
     "text": [
      "Khói Thuốc Đợi Chờ\n",
      "out/master_1st_100/Khói Thuốc Đợi Chờ.mp3\n",
      "304.46933333333334 285.15\n"
     ]
    },
    {
     "name": "stderr",
     "output_type": "stream",
     "text": [
      " 82%|████████▏ | 82/100 [13:41<02:31,  8.39s/it]"
     ]
    },
    {
     "name": "stdout",
     "output_type": "stream",
     "text": [
      "Anh Nói Yêu Em Được Không (Awriix Remix)\n",
      "out/master_1st_100/Anh Nói Yêu Em Được Không (Awriix Remix).mp3\n",
      "189.33333333333334 168.73\n"
     ]
    },
    {
     "name": "stderr",
     "output_type": "stream",
     "text": [
      " 83%|████████▎ | 83/100 [13:47<02:08,  7.54s/it]"
     ]
    },
    {
     "name": "stdout",
     "output_type": "stream",
     "text": [
      "Chạm Vào Hơi Thở\n",
      "out/master_1st_100/Chạm Vào Hơi Thở.mp3\n",
      "245.91673469387754 221.73\n"
     ]
    },
    {
     "name": "stderr",
     "output_type": "stream",
     "text": [
      " 84%|████████▍ | 84/100 [13:56<02:08,  8.04s/it]"
     ]
    },
    {
     "name": "stdout",
     "output_type": "stream",
     "text": [
      "Một Lần Về Với Biển\n",
      "out/master_1st_100/Một Lần Về Với Biển.mp3\n",
      "336.0889375 313.68\n"
     ]
    },
    {
     "name": "stderr",
     "output_type": "stream",
     "text": [
      " 85%|████████▌ | 85/100 [14:13<02:40, 10.71s/it]"
     ]
    },
    {
     "name": "stdout",
     "output_type": "stream",
     "text": [
      "Anh Em MaCau (SinKra remix)\n"
     ]
    },
    {
     "name": "stderr",
     "output_type": "stream",
     "text": [
      " 86%|████████▌ | 86/100 [14:20<02:13,  9.57s/it]"
     ]
    },
    {
     "name": "stdout",
     "output_type": "stream",
     "text": [
      "Canh Bạc Cuộc Đời\n",
      "out/master_1st_100/Canh Bạc Cuộc Đời.mp3\n",
      "210.535 188.68\n"
     ]
    },
    {
     "name": "stderr",
     "output_type": "stream",
     "text": [
      " 87%|████████▋ | 87/100 [14:32<02:13, 10.24s/it]"
     ]
    },
    {
     "name": "stdout",
     "output_type": "stream",
     "text": [
      "Chỉ Mong Em Bình An\n",
      "out/master_1st_100/Chỉ Mong Em Bình An.mp3\n",
      "319.50480725623584 241.35\n"
     ]
    },
    {
     "name": "stderr",
     "output_type": "stream",
     "text": [
      " 88%|████████▊ | 88/100 [14:41<01:58,  9.91s/it]"
     ]
    },
    {
     "name": "stdout",
     "output_type": "stream",
     "text": [
      "Tình Buồn Đêm Mưa\n",
      "out/master_1st_100/Tình Buồn Đêm Mưa.mp3\n",
      "333.1318594104308 315.19\n"
     ]
    },
    {
     "name": "stderr",
     "output_type": "stream",
     "text": [
      " 89%|████████▉ | 89/100 [14:54<01:59, 10.87s/it]"
     ]
    },
    {
     "name": "stdout",
     "output_type": "stream",
     "text": [
      "Đâu Ai Vì Nhau\n"
     ]
    },
    {
     "name": "stderr",
     "output_type": "stream",
     "text": [
      " 90%|█████████ | 90/100 [15:03<01:43, 10.38s/it]"
     ]
    },
    {
     "name": "stdout",
     "output_type": "stream",
     "text": [
      "Áo Dài Việt Nam\n",
      "out/master_1st_100/Áo Dài Việt Nam.mp3\n",
      "328.368 258.62\n"
     ]
    },
    {
     "name": "stderr",
     "output_type": "stream",
     "text": [
      " 91%|█████████ | 91/100 [15:15<01:37, 10.80s/it]"
     ]
    },
    {
     "name": "stdout",
     "output_type": "stream",
     "text": [
      "Chuỗi Ngày Vắng Em\n",
      "out/master_1st_100/Chuỗi Ngày Vắng Em.mp3\n",
      "290.1159183673469 263.78\n"
     ]
    },
    {
     "name": "stderr",
     "output_type": "stream",
     "text": [
      " 92%|█████████▏| 92/100 [15:25<01:25, 10.68s/it]"
     ]
    },
    {
     "name": "stdout",
     "output_type": "stream",
     "text": [
      "Tình Yêu Không Thể Từ Một Phía\n",
      "out/master_1st_100/Tình Yêu Không Thể Từ Một Phía.mp3\n",
      "266.37167800453517 242.09\n"
     ]
    },
    {
     "name": "stderr",
     "output_type": "stream",
     "text": [
      " 93%|█████████▎| 93/100 [15:33<01:09,  9.93s/it]"
     ]
    },
    {
     "name": "stdout",
     "output_type": "stream",
     "text": [
      "Từ Nay Không Phiền Anh Nữa (Remix)\n",
      "out/master_1st_100/Từ Nay Không Phiền Anh Nữa (Remix).mp3\n",
      "218.724125 196.37\n"
     ]
    },
    {
     "name": "stderr",
     "output_type": "stream",
     "text": [
      " 94%|█████████▍| 94/100 [15:40<00:53,  8.85s/it]"
     ]
    },
    {
     "name": "stdout",
     "output_type": "stream",
     "text": [
      "Màu Hoa Kỷ Niệm\n",
      "out/master_1st_100/Màu Hoa Kỷ Niệm.mp3\n",
      "327.3317006802721 305.89\n"
     ]
    },
    {
     "name": "stderr",
     "output_type": "stream",
     "text": [
      " 95%|█████████▌| 95/100 [15:50<00:45,  9.16s/it]"
     ]
    },
    {
     "name": "stdout",
     "output_type": "stream",
     "text": [
      "Em Rất Cô Đơn\n",
      "out/master_1st_100/Em Rất Cô Đơn.mp3\n",
      "252.60408163265305 234.82999999999998\n"
     ]
    },
    {
     "name": "stderr",
     "output_type": "stream",
     "text": [
      " 96%|█████████▌| 96/100 [15:59<00:37,  9.32s/it]"
     ]
    },
    {
     "name": "stdout",
     "output_type": "stream",
     "text": [
      "Anh Biết Không Anh\n"
     ]
    },
    {
     "name": "stderr",
     "output_type": "stream",
     "text": [
      " 97%|█████████▋| 97/100 [16:08<00:27,  9.29s/it]"
     ]
    },
    {
     "name": "stdout",
     "output_type": "stream",
     "text": [
      "Đừng Xa Em Người Ơi\n",
      "out/master_1st_100/Đừng Xa Em Người Ơi.mp3\n",
      "228.88489795918366 194.45\n"
     ]
    },
    {
     "name": "stderr",
     "output_type": "stream",
     "text": [
      " 98%|█████████▊| 98/100 [16:16<00:17,  8.87s/it]"
     ]
    },
    {
     "name": "stdout",
     "output_type": "stream",
     "text": [
      "Anh Không Làm Được\n",
      "out/master_1st_100/Anh Không Làm Được.mp3\n",
      "311.79755102040815 284.63\n"
     ]
    },
    {
     "name": "stderr",
     "output_type": "stream",
     "text": [
      " 99%|█████████▉| 99/100 [16:26<00:09,  9.23s/it]"
     ]
    },
    {
     "name": "stdout",
     "output_type": "stream",
     "text": [
      "Cả Một Đời Để Quên (Meme Lofi)\n"
     ]
    },
    {
     "name": "stderr",
     "output_type": "stream",
     "text": [
      "100%|██████████| 100/100 [16:38<00:00,  9.98s/it]\n"
     ]
    }
   ],
   "source": [
    "for audio_file in tqdm.tqdm(song_files):\n",
    "    songname = os.path.basename(audio_file).split('.mp3')[0]\n",
    "    print(songname)\n",
    "    lyric_file = os.path.join(output_data_path, songname + '.origin.lrc')\n",
    "    cut_postfix(audio_path=audio_file,lyric_path=lyric_file, output_folder=output_data_path)\n"
   ]
  },
  {
   "cell_type": "code",
   "execution_count": null,
   "metadata": {},
   "outputs": [],
   "source": []
  }
 ],
 "metadata": {
  "kernelspec": {
   "display_name": "base",
   "language": "python",
   "name": "python3"
  },
  "language_info": {
   "codemirror_mode": {
    "name": "ipython",
    "version": 3
   },
   "file_extension": ".py",
   "mimetype": "text/x-python",
   "name": "python",
   "nbconvert_exporter": "python",
   "pygments_lexer": "ipython3",
   "version": "3.12.2"
  }
 },
 "nbformat": 4,
 "nbformat_minor": 2
}
