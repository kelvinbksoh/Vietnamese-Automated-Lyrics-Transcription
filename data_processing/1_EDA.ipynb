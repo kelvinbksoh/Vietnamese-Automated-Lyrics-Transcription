{
 "cells": [
  {
   "cell_type": "code",
   "execution_count": 22,
   "metadata": {},
   "outputs": [],
   "source": [
    "import re\n",
    "import os\n",
    "import numpy as np\n",
    "import pandas as pd\n",
    "import matplotlib.pyplot as plt\n",
    "import seaborn as sns"
   ]
  },
  {
   "cell_type": "code",
   "execution_count": 5,
   "metadata": {},
   "outputs": [
    {
     "name": "stdout",
     "output_type": "stream",
     "text": [
      "(3745, 10)\n"
     ]
    },
    {
     "data": {
      "text/html": [
       "<div>\n",
       "<style scoped>\n",
       "    .dataframe tbody tr th:only-of-type {\n",
       "        vertical-align: middle;\n",
       "    }\n",
       "\n",
       "    .dataframe tbody tr th {\n",
       "        vertical-align: top;\n",
       "    }\n",
       "\n",
       "    .dataframe thead th {\n",
       "        text-align: right;\n",
       "    }\n",
       "</style>\n",
       "<table border=\"1\" class=\"dataframe\">\n",
       "  <thead>\n",
       "    <tr style=\"text-align: right;\">\n",
       "      <th></th>\n",
       "      <th>title</th>\n",
       "      <th>fulltitle</th>\n",
       "      <th>duration</th>\n",
       "      <th>artist</th>\n",
       "      <th>album</th>\n",
       "      <th>abr</th>\n",
       "      <th>vbr</th>\n",
       "      <th>tbr</th>\n",
       "      <th>release_year</th>\n",
       "      <th>filesize_approx</th>\n",
       "    </tr>\n",
       "  </thead>\n",
       "  <tbody>\n",
       "    <tr>\n",
       "      <th>0</th>\n",
       "      <td>Hạnh Phúc Buồn</td>\n",
       "      <td>Hạnh Phúc Buồn</td>\n",
       "      <td>280</td>\n",
       "      <td>Randy</td>\n",
       "      <td>Cộng Trừ Nhân Chia</td>\n",
       "      <td>128</td>\n",
       "      <td>0</td>\n",
       "      <td>128</td>\n",
       "      <td>NaN</td>\n",
       "      <td>4480000</td>\n",
       "    </tr>\n",
       "    <tr>\n",
       "      <th>1</th>\n",
       "      <td>Bất Nhiễm (Cover)</td>\n",
       "      <td>Bất Nhiễm (Cover)</td>\n",
       "      <td>250</td>\n",
       "      <td>Thủy Tiên</td>\n",
       "      <td>Bất Nhiễm (Cover) (Single)</td>\n",
       "      <td>128</td>\n",
       "      <td>0</td>\n",
       "      <td>128</td>\n",
       "      <td>NaN</td>\n",
       "      <td>4000000</td>\n",
       "    </tr>\n",
       "    <tr>\n",
       "      <th>2</th>\n",
       "      <td>LK Thất Tình</td>\n",
       "      <td>LK Thất Tình</td>\n",
       "      <td>303</td>\n",
       "      <td>Mạnh Đình, Trường Vũ, Mạnh Quỳnh</td>\n",
       "      <td>Việt Nam</td>\n",
       "      <td>128</td>\n",
       "      <td>0</td>\n",
       "      <td>128</td>\n",
       "      <td>NaN</td>\n",
       "      <td>4848000</td>\n",
       "    </tr>\n",
       "    <tr>\n",
       "      <th>3</th>\n",
       "      <td>Vẫn Mãi Thế Hệ Tụi Mình</td>\n",
       "      <td>Vẫn Mãi Thế Hệ Tụi Mình</td>\n",
       "      <td>227</td>\n",
       "      <td>Phạm Toàn Thắng</td>\n",
       "      <td>Vẽ</td>\n",
       "      <td>128</td>\n",
       "      <td>0</td>\n",
       "      <td>128</td>\n",
       "      <td>NaN</td>\n",
       "      <td>3632000</td>\n",
       "    </tr>\n",
       "    <tr>\n",
       "      <th>4</th>\n",
       "      <td>Chỉ Vì Giận Nhau</td>\n",
       "      <td>Chỉ Vì Giận Nhau</td>\n",
       "      <td>258</td>\n",
       "      <td>Tâm Minhon</td>\n",
       "      <td>Những Ngày Qua Hạnh Phúc</td>\n",
       "      <td>128</td>\n",
       "      <td>0</td>\n",
       "      <td>128</td>\n",
       "      <td>NaN</td>\n",
       "      <td>4128000</td>\n",
       "    </tr>\n",
       "    <tr>\n",
       "      <th>5</th>\n",
       "      <td>Chưa Vơi Câu Hò</td>\n",
       "      <td>Chưa Vơi Câu Hò</td>\n",
       "      <td>298</td>\n",
       "      <td>Đan Trường</td>\n",
       "      <td>Đến Một Lúc Nào Đó</td>\n",
       "      <td>128</td>\n",
       "      <td>0</td>\n",
       "      <td>128</td>\n",
       "      <td>NaN</td>\n",
       "      <td>4768000</td>\n",
       "    </tr>\n",
       "    <tr>\n",
       "      <th>6</th>\n",
       "      <td>Hai Quê Một Nỗi Niềm</td>\n",
       "      <td>Hai Quê Một Nỗi Niềm</td>\n",
       "      <td>316</td>\n",
       "      <td>Khưu Huy Vũ, Ngô Quốc Linh</td>\n",
       "      <td>Tình Quê Miền Tây</td>\n",
       "      <td>128</td>\n",
       "      <td>0</td>\n",
       "      <td>128</td>\n",
       "      <td>NaN</td>\n",
       "      <td>5056000</td>\n",
       "    </tr>\n",
       "    <tr>\n",
       "      <th>7</th>\n",
       "      <td>Anh Em Một Lòng Có Nhau (Remix)</td>\n",
       "      <td>Anh Em Một Lòng Có Nhau (Remix)</td>\n",
       "      <td>287</td>\n",
       "      <td>Dương Minh Kiệt, Trịnh Tuấn Vỹ</td>\n",
       "      <td>Anh Em Một Lòng Có Nhau (Remix) (Single)</td>\n",
       "      <td>128</td>\n",
       "      <td>0</td>\n",
       "      <td>128</td>\n",
       "      <td>NaN</td>\n",
       "      <td>4592000</td>\n",
       "    </tr>\n",
       "    <tr>\n",
       "      <th>8</th>\n",
       "      <td>Đợi Chờ Bóng Xuân</td>\n",
       "      <td>Đợi Chờ Bóng Xuân</td>\n",
       "      <td>335</td>\n",
       "      <td>Eric Toàn Nguyễn</td>\n",
       "      <td>Trách Duyên Bẽ Bàng</td>\n",
       "      <td>128</td>\n",
       "      <td>0</td>\n",
       "      <td>128</td>\n",
       "      <td>NaN</td>\n",
       "      <td>5360000</td>\n",
       "    </tr>\n",
       "    <tr>\n",
       "      <th>9</th>\n",
       "      <td>Chàng Là Tình Duyên Đẹp Nhất Đời Ta (Remix)</td>\n",
       "      <td>Chàng Là Tình Duyên Đẹp Nhất Đời Ta (Remix)</td>\n",
       "      <td>267</td>\n",
       "      <td>Oanh Tạ</td>\n",
       "      <td>Chàng Là Tình Duyên Đẹp Nhất Đời Ta (Single)</td>\n",
       "      <td>128</td>\n",
       "      <td>0</td>\n",
       "      <td>128</td>\n",
       "      <td>NaN</td>\n",
       "      <td>4272000</td>\n",
       "    </tr>\n",
       "  </tbody>\n",
       "</table>\n",
       "</div>"
      ],
      "text/plain": [
       "                                         title  \\\n",
       "0                               Hạnh Phúc Buồn   \n",
       "1                            Bất Nhiễm (Cover)   \n",
       "2                                 LK Thất Tình   \n",
       "3                      Vẫn Mãi Thế Hệ Tụi Mình   \n",
       "4                             Chỉ Vì Giận Nhau   \n",
       "5                              Chưa Vơi Câu Hò   \n",
       "6                         Hai Quê Một Nỗi Niềm   \n",
       "7              Anh Em Một Lòng Có Nhau (Remix)   \n",
       "8                            Đợi Chờ Bóng Xuân   \n",
       "9  Chàng Là Tình Duyên Đẹp Nhất Đời Ta (Remix)   \n",
       "\n",
       "                                     fulltitle  duration  \\\n",
       "0                               Hạnh Phúc Buồn       280   \n",
       "1                            Bất Nhiễm (Cover)       250   \n",
       "2                                 LK Thất Tình       303   \n",
       "3                      Vẫn Mãi Thế Hệ Tụi Mình       227   \n",
       "4                             Chỉ Vì Giận Nhau       258   \n",
       "5                              Chưa Vơi Câu Hò       298   \n",
       "6                         Hai Quê Một Nỗi Niềm       316   \n",
       "7              Anh Em Một Lòng Có Nhau (Remix)       287   \n",
       "8                            Đợi Chờ Bóng Xuân       335   \n",
       "9  Chàng Là Tình Duyên Đẹp Nhất Đời Ta (Remix)       267   \n",
       "\n",
       "                             artist  \\\n",
       "0                             Randy   \n",
       "1                         Thủy Tiên   \n",
       "2  Mạnh Đình, Trường Vũ, Mạnh Quỳnh   \n",
       "3                   Phạm Toàn Thắng   \n",
       "4                        Tâm Minhon   \n",
       "5                        Đan Trường   \n",
       "6        Khưu Huy Vũ, Ngô Quốc Linh   \n",
       "7    Dương Minh Kiệt, Trịnh Tuấn Vỹ   \n",
       "8                  Eric Toàn Nguyễn   \n",
       "9                           Oanh Tạ   \n",
       "\n",
       "                                          album  abr  vbr  tbr  release_year  \\\n",
       "0                            Cộng Trừ Nhân Chia  128    0  128           NaN   \n",
       "1                    Bất Nhiễm (Cover) (Single)  128    0  128           NaN   \n",
       "2                                      Việt Nam  128    0  128           NaN   \n",
       "3                                            Vẽ  128    0  128           NaN   \n",
       "4                      Những Ngày Qua Hạnh Phúc  128    0  128           NaN   \n",
       "5                            Đến Một Lúc Nào Đó  128    0  128           NaN   \n",
       "6                             Tình Quê Miền Tây  128    0  128           NaN   \n",
       "7      Anh Em Một Lòng Có Nhau (Remix) (Single)  128    0  128           NaN   \n",
       "8                           Trách Duyên Bẽ Bàng  128    0  128           NaN   \n",
       "9  Chàng Là Tình Duyên Đẹp Nhất Đời Ta (Single)  128    0  128           NaN   \n",
       "\n",
       "   filesize_approx  \n",
       "0          4480000  \n",
       "1          4000000  \n",
       "2          4848000  \n",
       "3          3632000  \n",
       "4          4128000  \n",
       "5          4768000  \n",
       "6          5056000  \n",
       "7          4592000  \n",
       "8          5360000  \n",
       "9          4272000  "
      ]
     },
     "execution_count": 5,
     "metadata": {},
     "output_type": "execute_result"
    }
   ],
   "source": [
    "metadata_raw = pd.read_csv('out/metadata.csv').drop_duplicates()\n",
    "print(metadata_raw.shape)\n",
    "metadata_raw.head(10)"
   ]
  },
  {
   "cell_type": "code",
   "execution_count": 6,
   "metadata": {},
   "outputs": [],
   "source": [
    "first_3000 = metadata_raw.head(3000)"
   ]
  },
  {
   "cell_type": "code",
   "execution_count": 7,
   "metadata": {},
   "outputs": [
    {
     "name": "stdout",
     "output_type": "stream",
     "text": [
      "1894\n",
      "2046\n"
     ]
    }
   ],
   "source": [
    "# number of albums/artists\n",
    "print(first_3000['artist'].drop_duplicates().count())\n",
    "print(first_3000['album'].drop_duplicates().count())"
   ]
  },
  {
   "cell_type": "code",
   "execution_count": 13,
   "metadata": {},
   "outputs": [
    {
     "name": "stderr",
     "output_type": "stream",
     "text": [
      "/home/bernard/miniconda3/envs/mlenv/lib/python3.10/site-packages/seaborn/axisgrid.py:118: UserWarning: The figure layout has changed to tight\n",
      "  self._figure.tight_layout(*args, **kwargs)\n"
     ]
    },
    {
     "data": {
      "image/png": "[encoded data removed]",
      "text/plain": [
       "<Figure size 500x500 with 1 Axes>"
      ]
     },
     "metadata": {},
     "output_type": "display_data"
    }
   ],
   "source": [
    "ax = sns.displot(first_3000, x=\"duration\", bins=80)\n",
    "ax.set(xlabel='Duration (seconds)', ylabel='Count', title='Distribution of song duration')\n",
    "plt.show()"
   ]
  },
  {
   "cell_type": "code",
   "execution_count": 14,
   "metadata": {},
   "outputs": [
    {
     "data": {
      "text/html": [
       "<div>\n",
       "<style scoped>\n",
       "    .dataframe tbody tr th:only-of-type {\n",
       "        vertical-align: middle;\n",
       "    }\n",
       "\n",
       "    .dataframe tbody tr th {\n",
       "        vertical-align: top;\n",
       "    }\n",
       "\n",
       "    .dataframe thead th {\n",
       "        text-align: right;\n",
       "    }\n",
       "</style>\n",
       "<table border=\"1\" class=\"dataframe\">\n",
       "  <thead>\n",
       "    <tr style=\"text-align: right;\">\n",
       "      <th></th>\n",
       "      <th>duration</th>\n",
       "      <th>abr</th>\n",
       "      <th>vbr</th>\n",
       "      <th>tbr</th>\n",
       "      <th>release_year</th>\n",
       "      <th>filesize_approx</th>\n",
       "    </tr>\n",
       "  </thead>\n",
       "  <tbody>\n",
       "    <tr>\n",
       "      <th>count</th>\n",
       "      <td>3000.000000</td>\n",
       "      <td>3000.0</td>\n",
       "      <td>3000.0</td>\n",
       "      <td>3000.0</td>\n",
       "      <td>0.0</td>\n",
       "      <td>3.000000e+03</td>\n",
       "    </tr>\n",
       "    <tr>\n",
       "      <th>mean</th>\n",
       "      <td>282.004333</td>\n",
       "      <td>128.0</td>\n",
       "      <td>0.0</td>\n",
       "      <td>128.0</td>\n",
       "      <td>NaN</td>\n",
       "      <td>4.512069e+06</td>\n",
       "    </tr>\n",
       "    <tr>\n",
       "      <th>std</th>\n",
       "      <td>158.966631</td>\n",
       "      <td>0.0</td>\n",
       "      <td>0.0</td>\n",
       "      <td>0.0</td>\n",
       "      <td>NaN</td>\n",
       "      <td>2.543466e+06</td>\n",
       "    </tr>\n",
       "    <tr>\n",
       "      <th>min</th>\n",
       "      <td>25.000000</td>\n",
       "      <td>128.0</td>\n",
       "      <td>0.0</td>\n",
       "      <td>128.0</td>\n",
       "      <td>NaN</td>\n",
       "      <td>4.000000e+05</td>\n",
       "    </tr>\n",
       "    <tr>\n",
       "      <th>25%</th>\n",
       "      <td>237.000000</td>\n",
       "      <td>128.0</td>\n",
       "      <td>0.0</td>\n",
       "      <td>128.0</td>\n",
       "      <td>NaN</td>\n",
       "      <td>3.792000e+06</td>\n",
       "    </tr>\n",
       "    <tr>\n",
       "      <th>50%</th>\n",
       "      <td>271.000000</td>\n",
       "      <td>128.0</td>\n",
       "      <td>0.0</td>\n",
       "      <td>128.0</td>\n",
       "      <td>NaN</td>\n",
       "      <td>4.336000e+06</td>\n",
       "    </tr>\n",
       "    <tr>\n",
       "      <th>75%</th>\n",
       "      <td>305.000000</td>\n",
       "      <td>128.0</td>\n",
       "      <td>0.0</td>\n",
       "      <td>128.0</td>\n",
       "      <td>NaN</td>\n",
       "      <td>4.880000e+06</td>\n",
       "    </tr>\n",
       "    <tr>\n",
       "      <th>max</th>\n",
       "      <td>3987.000000</td>\n",
       "      <td>128.0</td>\n",
       "      <td>0.0</td>\n",
       "      <td>128.0</td>\n",
       "      <td>NaN</td>\n",
       "      <td>6.379200e+07</td>\n",
       "    </tr>\n",
       "  </tbody>\n",
       "</table>\n",
       "</div>"
      ],
      "text/plain": [
       "          duration     abr     vbr     tbr  release_year  filesize_approx\n",
       "count  3000.000000  3000.0  3000.0  3000.0           0.0     3.000000e+03\n",
       "mean    282.004333   128.0     0.0   128.0           NaN     4.512069e+06\n",
       "std     158.966631     0.0     0.0     0.0           NaN     2.543466e+06\n",
       "min      25.000000   128.0     0.0   128.0           NaN     4.000000e+05\n",
       "25%     237.000000   128.0     0.0   128.0           NaN     3.792000e+06\n",
       "50%     271.000000   128.0     0.0   128.0           NaN     4.336000e+06\n",
       "75%     305.000000   128.0     0.0   128.0           NaN     4.880000e+06\n",
       "max    3987.000000   128.0     0.0   128.0           NaN     6.379200e+07"
      ]
     },
     "execution_count": 14,
     "metadata": {},
     "output_type": "execute_result"
    }
   ],
   "source": [
    "first_3000.describe()"
   ]
  },
  {
   "cell_type": "code",
   "execution_count": 15,
   "metadata": {},
   "outputs": [
    {
     "data": {
      "text/plain": [
       "271.0"
      ]
     },
     "execution_count": 15,
     "metadata": {},
     "output_type": "execute_result"
    }
   ],
   "source": [
    "first_3000['duration'].median()"
   ]
  },
  {
   "cell_type": "code",
   "execution_count": 23,
   "metadata": {},
   "outputs": [
    {
     "data": {
      "text/plain": [
       "295"
      ]
     },
     "execution_count": 23,
     "metadata": {},
     "output_type": "execute_result"
    }
   ],
   "source": [
    "def get_token_count(file_name:str):\n",
    "    token_count = 0\n",
    "    with open(file_name, 'r') as file:\n",
    "        # Read each line in the file\n",
    "        for line in file:\n",
    "            line = line.strip()\n",
    "            cleaned_string = re.sub(r'\\[.+\\]', '', line)\n",
    "            count = len(cleaned_string.split(' '))\n",
    "            token_count += count\n",
    "    return token_count\n",
    "\n",
    "get_token_count(os.path.join('./out',os.listdir('./out')[0]))"
   ]
  },
  {
   "cell_type": "code",
   "execution_count": 33,
   "metadata": {},
   "outputs": [
    {
     "name": "stderr",
     "output_type": "stream",
     "text": [
      "/tmp/ipykernel_394158/491965988.py:9: FutureWarning: Calling int on a single element Series is deprecated and will raise a TypeError in the future. Use int(ser.iloc[0]) instead\n",
      "  duration = int(first_3000.query(f'title==\"{file_name}\"')['duration'])\n"
     ]
    }
   ],
   "source": [
    "file_dir = './out'\n",
    "metadata_list = first_3000['title'].to_list()\n",
    "total_token_count = {}\n",
    "ave_token_per_min = {}\n",
    "for file in os.listdir(file_dir):\n",
    "    file_name = file.split('.')[0]\n",
    "    if file_name in metadata_list:\n",
    "        token_count = get_token_count(os.path.join(file_dir,file))\n",
    "        duration = int(first_3000.query(f'title==\"{file_name}\"')['duration'])\n",
    "        total_token_count[file_name] = token_count\n",
    "        ave_token_per_min[file_name] = (token_count / duration) * 60\n",
    "        "
   ]
  },
  {
   "cell_type": "code",
   "execution_count": 38,
   "metadata": {},
   "outputs": [
    {
     "data": {
      "text/html": [
       "<div>\n",
       "<style scoped>\n",
       "    .dataframe tbody tr th:only-of-type {\n",
       "        vertical-align: middle;\n",
       "    }\n",
       "\n",
       "    .dataframe tbody tr th {\n",
       "        vertical-align: top;\n",
       "    }\n",
       "\n",
       "    .dataframe thead th {\n",
       "        text-align: right;\n",
       "    }\n",
       "</style>\n",
       "<table border=\"1\" class=\"dataframe\">\n",
       "  <thead>\n",
       "    <tr style=\"text-align: right;\">\n",
       "      <th></th>\n",
       "      <th>Title</th>\n",
       "      <th>wpm</th>\n",
       "    </tr>\n",
       "  </thead>\n",
       "  <tbody>\n",
       "    <tr>\n",
       "      <th>0</th>\n",
       "      <td>Khi Chuyển Đông</td>\n",
       "      <td>68.871595</td>\n",
       "    </tr>\n",
       "    <tr>\n",
       "      <th>1</th>\n",
       "      <td>Anh Là Tất Cả</td>\n",
       "      <td>85.068493</td>\n",
       "    </tr>\n",
       "    <tr>\n",
       "      <th>2</th>\n",
       "      <td>Vá Víu Một Lời Hứa</td>\n",
       "      <td>96.338028</td>\n",
       "    </tr>\n",
       "    <tr>\n",
       "      <th>3</th>\n",
       "      <td>Chờ Ai Muôn Kiếp</td>\n",
       "      <td>52.313167</td>\n",
       "    </tr>\n",
       "    <tr>\n",
       "      <th>4</th>\n",
       "      <td>Lạc Trong Hồi Kết Buồn</td>\n",
       "      <td>112.566372</td>\n",
       "    </tr>\n",
       "  </tbody>\n",
       "</table>\n",
       "</div>"
      ],
      "text/plain": [
       "                    Title         wpm\n",
       "0         Khi Chuyển Đông   68.871595\n",
       "1           Anh Là Tất Cả   85.068493\n",
       "2      Vá Víu Một Lời Hứa   96.338028\n",
       "3        Chờ Ai Muôn Kiếp   52.313167\n",
       "4  Lạc Trong Hồi Kết Buồn  112.566372"
      ]
     },
     "execution_count": 38,
     "metadata": {},
     "output_type": "execute_result"
    }
   ],
   "source": [
    "wpm_df = pd.DataFrame.from_dict(ave_token_per_min, orient='index', columns=['wpm'])\\\n",
    "                    .reset_index()\\\n",
    "                    .rename(columns={\"index\": \"Title\"})\n",
    "wpm_df.head(5)"
   ]
  },
  {
   "cell_type": "code",
   "execution_count": 41,
   "metadata": {},
   "outputs": [
    {
     "data": {
      "text/html": [
       "<div>\n",
       "<style scoped>\n",
       "    .dataframe tbody tr th:only-of-type {\n",
       "        vertical-align: middle;\n",
       "    }\n",
       "\n",
       "    .dataframe tbody tr th {\n",
       "        vertical-align: top;\n",
       "    }\n",
       "\n",
       "    .dataframe thead th {\n",
       "        text-align: right;\n",
       "    }\n",
       "</style>\n",
       "<table border=\"1\" class=\"dataframe\">\n",
       "  <thead>\n",
       "    <tr style=\"text-align: right;\">\n",
       "      <th></th>\n",
       "      <th>wpm</th>\n",
       "    </tr>\n",
       "  </thead>\n",
       "  <tbody>\n",
       "    <tr>\n",
       "      <th>count</th>\n",
       "      <td>2814.000000</td>\n",
       "    </tr>\n",
       "    <tr>\n",
       "      <th>mean</th>\n",
       "      <td>90.703777</td>\n",
       "    </tr>\n",
       "    <tr>\n",
       "      <th>std</th>\n",
       "      <td>33.846349</td>\n",
       "    </tr>\n",
       "    <tr>\n",
       "      <th>min</th>\n",
       "      <td>20.304183</td>\n",
       "    </tr>\n",
       "    <tr>\n",
       "      <th>25%</th>\n",
       "      <td>69.069783</td>\n",
       "    </tr>\n",
       "    <tr>\n",
       "      <th>50%</th>\n",
       "      <td>84.867303</td>\n",
       "    </tr>\n",
       "    <tr>\n",
       "      <th>75%</th>\n",
       "      <td>102.881586</td>\n",
       "    </tr>\n",
       "    <tr>\n",
       "      <th>max</th>\n",
       "      <td>288.750000</td>\n",
       "    </tr>\n",
       "  </tbody>\n",
       "</table>\n",
       "</div>"
      ],
      "text/plain": [
       "               wpm\n",
       "count  2814.000000\n",
       "mean     90.703777\n",
       "std      33.846349\n",
       "min      20.304183\n",
       "25%      69.069783\n",
       "50%      84.867303\n",
       "75%     102.881586\n",
       "max     288.750000"
      ]
     },
     "execution_count": 41,
     "metadata": {},
     "output_type": "execute_result"
    }
   ],
   "source": [
    "wpm_df.describe()"
   ]
  },
  {
   "cell_type": "code",
   "execution_count": 42,
   "metadata": {},
   "outputs": [
    {
     "name": "stderr",
     "output_type": "stream",
     "text": [
      "/home/bernard/miniconda3/envs/mlenv/lib/python3.10/site-packages/seaborn/axisgrid.py:118: UserWarning: The figure layout has changed to tight\n",
      "  self._figure.tight_layout(*args, **kwargs)\n"
     ]
    },
    {
     "data": {
      "image/png": "[encoded data removed]",
      "text/plain": [
       "<Figure size 500x500 with 1 Axes>"
      ]
     },
     "metadata": {},
     "output_type": "display_data"
    }
   ],
   "source": [
    "ax = sns.displot(wpm_df, x=\"wpm\", bins=80)\n",
    "ax.set(xlabel='Words per minute', ylabel='Count', title='Distribution of WPM')\n",
    "plt.axvline(x=90, color='red', linestyle='--') # slow speech\n",
    "plt.axvline(x=190, color='green', linestyle='--') # average speech\n",
    "plt.show()"
   ]
  },
  {
   "cell_type": "code",
   "execution_count": null,
   "metadata": {},
   "outputs": [],
   "source": []
  },
  {
   "cell_type": "code",
   "execution_count": null,
   "metadata": {},
   "outputs": [],
   "source": []
  }
 ],
 "metadata": {
  "kernelspec": {
   "display_name": "mlenv",
   "language": "python",
   "name": "python3"
  },
  "language_info": {
   "codemirror_mode": {
    "name": "ipython",
    "version": 3
   },
   "file_extension": ".py",
   "mimetype": "text/x-python",
   "name": "python",
   "nbconvert_exporter": "python",
   "pygments_lexer": "ipython3",
   "version": "3.10.12"
  }
 },
 "nbformat": 4,
 "nbformat_minor": 2
}
